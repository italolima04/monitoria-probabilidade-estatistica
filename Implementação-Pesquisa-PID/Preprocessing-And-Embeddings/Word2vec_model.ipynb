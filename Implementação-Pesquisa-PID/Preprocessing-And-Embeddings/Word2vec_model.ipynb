{
  "nbformat": 4,
  "nbformat_minor": 0,
  "metadata": {
    "colab": {
      "name": "Word2vec_model.ipynb",
      "provenance": [],
      "collapsed_sections": [],
      "authorship_tag": "ABX9TyOHDSmxyaMHbyS0HxdvyMAu",
      "include_colab_link": true
    },
    "kernelspec": {
      "name": "python3",
      "display_name": "Python 3"
    }
  },
  "cells": [
    {
      "cell_type": "markdown",
      "metadata": {
        "id": "view-in-github",
        "colab_type": "text"
      },
      "source": [
        "<a href=\"https://colab.research.google.com/github/italolima04/monitoria-probabilidade-estatistica/blob/master/Implementa%C3%A7%C3%A3o-Pesquisa-PID/Preprocessing-And-Embeddings/Word2vec_model.ipynb\" target=\"_parent\"><img src=\"https://colab.research.google.com/assets/colab-badge.svg\" alt=\"Open In Colab\"/></a>"
      ]
    },
    {
      "cell_type": "code",
      "metadata": {
        "id": "JoYBoaSIl4ZB"
      },
      "source": [
        "#Importando biblioteca e módulo do Gensim, para a implementação do Word2VEC.\n",
        "import multiprocessing\n",
        "\n",
        "from gensim.models import Word2Vec"
      ],
      "execution_count": null,
      "outputs": []
    },
    {
      "cell_type": "code",
      "metadata": {
        "id": "3Fq89FR4oq2o"
      },
      "source": [
        "#Função que conta o número de cores da máquina.\n",
        "cores = multiprocessing.cpu_count()"
      ],
      "execution_count": null,
      "outputs": []
    },
    {
      "cell_type": "code",
      "metadata": {
        "id": "UkS_Ofefok0j"
      },
      "source": [
        "#Instanciando modelo Word2VEC a partir dos mesmos parâmetros estabelecidos pelo artigo.\n",
        "w2v_model = Word2Vec(min_count=3,\n",
        "                     window=4,\n",
        "                     size=300,\n",
        "                     sample=1e-5, \n",
        "                     alpha=0.06, \n",
        "                     min_alpha=0.0001, \n",
        "                     negative=10,\n",
        "                     workers=multiprocessing.cpu_count()-1)"
      ],
      "execution_count": null,
      "outputs": []
    },
    {
      "cell_type": "code",
      "metadata": {
        "id": "nPcSopbConnQ",
        "outputId": "4ba3b887-94a2-4aa4-d402-ab84b0b74886",
        "colab": {
          "base_uri": "https://localhost:8080/",
          "height": 374
        }
      },
      "source": [
        "#Construindo vocabulário a partir das sentenças.\n",
        "w2v_model.build_vocab(sentences, progress_per=10000)"
      ],
      "execution_count": null,
      "outputs": [
        {
          "output_type": "stream",
          "text": [
            "INFO - 07:10:05: collecting all words and their counts\n",
            "INFO - 07:10:05: PROGRESS: at sentence #0, processed 0 words, keeping 0 word types\n",
            "INFO - 07:10:06: PROGRESS: at sentence #10000, processed 79538 words, keeping 33671 word types\n",
            "INFO - 07:10:06: PROGRESS: at sentence #20000, processed 159336 words, keeping 55361 word types\n",
            "INFO - 07:10:06: PROGRESS: at sentence #30000, processed 239201 words, keeping 72863 word types\n",
            "INFO - 07:10:07: PROGRESS: at sentence #40000, processed 319041 words, keeping 87697 word types\n",
            "INFO - 07:10:07: PROGRESS: at sentence #50000, processed 398672 words, keeping 100465 word types\n",
            "INFO - 07:10:07: PROGRESS: at sentence #60000, processed 478267 words, keeping 111899 word types\n",
            "INFO - 07:10:08: PROGRESS: at sentence #70000, processed 557356 words, keeping 122282 word types\n",
            "INFO - 07:10:08: PROGRESS: at sentence #80000, processed 637048 words, keeping 131724 word types\n",
            "INFO - 07:10:08: PROGRESS: at sentence #90000, processed 716638 words, keeping 140292 word types\n",
            "INFO - 07:10:09: PROGRESS: at sentence #100000, processed 796146 words, keeping 147907 word types\n",
            "INFO - 07:10:09: collected 150293 word types from a corpus of 822962 raw words and 103364 sentences\n",
            "INFO - 07:10:09: Loading a fresh vocabulary\n",
            "INFO - 07:10:09: effective_min_count=3 retains 42507 unique words (28% of original 150293, drops 107786)\n",
            "INFO - 07:10:09: effective_min_count=3 leaves 680828 word corpus (82% of original 822962, drops 142134)\n",
            "INFO - 07:10:09: deleting the raw counts dictionary of 150293 items\n",
            "INFO - 07:10:09: sample=1e-05 downsamples 5608 most-common words\n",
            "INFO - 07:10:09: downsampling leaves estimated 354366 word corpus (52.0% of prior 680828)\n",
            "INFO - 07:10:09: estimated required memory for 42507 words and 300 dimensions: 123270300 bytes\n",
            "INFO - 07:10:09: resetting layer weights\n"
          ],
          "name": "stderr"
        }
      ]
    },
    {
      "cell_type": "code",
      "metadata": {
        "id": "elb-e0LpoulX",
        "outputId": "26770a73-2b3d-450b-a6c7-9b18c1ab9e18",
        "colab": {
          "base_uri": "https://localhost:8080/"
        }
      },
      "source": [
        "#Treiando modelo Word2VEC.\n",
        "w2v_model.train(sentences, total_examples=w2v_model.corpus_count, epochs=10, report_delay=1)"
      ],
      "execution_count": null,
      "outputs": [
        {
          "output_type": "stream",
          "text": [
            "INFO - 07:10:18: training model with 1 workers on 42507 vocabulary and 300 features, using sg=0 hs=0 sample=1e-05 negative=10 window=6\n",
            "INFO - 07:10:19: EPOCH 1 - PROGRESS: at 20.64% examples, 70151 words/s, in_qsize 0, out_qsize 0\n",
            "INFO - 07:10:20: EPOCH 1 - PROGRESS: at 42.43% examples, 71668 words/s, in_qsize 0, out_qsize 0\n",
            "INFO - 07:10:21: EPOCH 1 - PROGRESS: at 63.12% examples, 71855 words/s, in_qsize 0, out_qsize 0\n",
            "INFO - 07:10:22: EPOCH 1 - PROGRESS: at 83.79% examples, 71505 words/s, in_qsize 0, out_qsize 0\n",
            "INFO - 07:10:22: worker thread finished; awaiting finish of 0 more threads\n",
            "INFO - 07:10:22: EPOCH - 1 : training on 822962 raw words (354198 effective words) took 4.9s, 72461 effective words/s\n",
            "INFO - 07:10:23: EPOCH 2 - PROGRESS: at 19.42% examples, 68271 words/s, in_qsize 1, out_qsize 0\n",
            "INFO - 07:10:24: EPOCH 2 - PROGRESS: at 40.00% examples, 69638 words/s, in_qsize 1, out_qsize 0\n",
            "INFO - 07:10:26: EPOCH 2 - PROGRESS: at 60.66% examples, 70517 words/s, in_qsize 1, out_qsize 0\n",
            "INFO - 07:10:27: EPOCH 2 - PROGRESS: at 81.38% examples, 70973 words/s, in_qsize 1, out_qsize 0\n",
            "INFO - 07:10:27: worker thread finished; awaiting finish of 0 more threads\n",
            "INFO - 07:10:27: EPOCH - 2 : training on 822962 raw words (354539 effective words) took 4.9s, 72409 effective words/s\n",
            "INFO - 07:10:28: EPOCH 3 - PROGRESS: at 20.64% examples, 69271 words/s, in_qsize 1, out_qsize 0\n",
            "INFO - 07:10:29: EPOCH 3 - PROGRESS: at 41.24% examples, 69948 words/s, in_qsize 1, out_qsize 0\n",
            "INFO - 07:10:30: EPOCH 3 - PROGRESS: at 61.89% examples, 70208 words/s, in_qsize 1, out_qsize 0\n",
            "INFO - 07:10:32: EPOCH 3 - PROGRESS: at 82.60% examples, 70697 words/s, in_qsize 1, out_qsize 0\n",
            "INFO - 07:10:32: worker thread finished; awaiting finish of 0 more threads\n",
            "INFO - 07:10:32: EPOCH - 3 : training on 822962 raw words (354442 effective words) took 4.9s, 72249 effective words/s\n",
            "INFO - 07:10:33: EPOCH 4 - PROGRESS: at 17.02% examples, 54760 words/s, in_qsize 0, out_qsize 0\n",
            "INFO - 07:10:34: EPOCH 4 - PROGRESS: at 37.61% examples, 62739 words/s, in_qsize 0, out_qsize 0\n",
            "INFO - 07:10:35: EPOCH 4 - PROGRESS: at 59.45% examples, 66249 words/s, in_qsize 0, out_qsize 0\n",
            "INFO - 07:10:36: EPOCH 4 - PROGRESS: at 80.18% examples, 67588 words/s, in_qsize 1, out_qsize 0\n",
            "INFO - 07:10:37: worker thread finished; awaiting finish of 0 more threads\n",
            "INFO - 07:10:37: EPOCH - 4 : training on 822962 raw words (354388 effective words) took 5.1s, 69191 effective words/s\n",
            "INFO - 07:10:38: EPOCH 5 - PROGRESS: at 19.42% examples, 68572 words/s, in_qsize 1, out_qsize 0\n",
            "INFO - 07:10:39: EPOCH 5 - PROGRESS: at 40.00% examples, 70150 words/s, in_qsize 1, out_qsize 0\n",
            "INFO - 07:10:40: EPOCH 5 - PROGRESS: at 60.66% examples, 70757 words/s, in_qsize 2, out_qsize 0\n",
            "INFO - 07:10:41: EPOCH 5 - PROGRESS: at 81.38% examples, 71182 words/s, in_qsize 1, out_qsize 0\n",
            "INFO - 07:10:42: worker thread finished; awaiting finish of 0 more threads\n",
            "INFO - 07:10:42: EPOCH - 5 : training on 822962 raw words (354887 effective words) took 4.9s, 72780 effective words/s\n",
            "INFO - 07:10:43: EPOCH 6 - PROGRESS: at 19.42% examples, 67442 words/s, in_qsize 1, out_qsize 0\n",
            "INFO - 07:10:44: EPOCH 6 - PROGRESS: at 40.00% examples, 69879 words/s, in_qsize 1, out_qsize 0\n",
            "INFO - 07:10:45: EPOCH 6 - PROGRESS: at 61.89% examples, 71298 words/s, in_qsize 0, out_qsize 0\n",
            "INFO - 07:10:46: EPOCH 6 - PROGRESS: at 82.60% examples, 71567 words/s, in_qsize 0, out_qsize 0\n",
            "INFO - 07:10:47: worker thread finished; awaiting finish of 0 more threads\n",
            "INFO - 07:10:47: EPOCH - 6 : training on 822962 raw words (354374 effective words) took 4.9s, 72695 effective words/s\n",
            "INFO - 07:10:48: EPOCH 7 - PROGRESS: at 20.64% examples, 69654 words/s, in_qsize 0, out_qsize 0\n",
            "INFO - 07:10:49: EPOCH 7 - PROGRESS: at 41.24% examples, 71232 words/s, in_qsize 0, out_qsize 0\n",
            "INFO - 07:10:50: EPOCH 7 - PROGRESS: at 61.89% examples, 71393 words/s, in_qsize 0, out_qsize 0\n",
            "INFO - 07:10:51: EPOCH 7 - PROGRESS: at 82.60% examples, 71592 words/s, in_qsize 1, out_qsize 0\n",
            "INFO - 07:10:52: worker thread finished; awaiting finish of 0 more threads\n",
            "INFO - 07:10:52: EPOCH - 7 : training on 822962 raw words (354615 effective words) took 4.9s, 72814 effective words/s\n",
            "INFO - 07:10:53: EPOCH 8 - PROGRESS: at 20.64% examples, 70251 words/s, in_qsize 0, out_qsize 0\n",
            "INFO - 07:10:54: EPOCH 8 - PROGRESS: at 41.24% examples, 69614 words/s, in_qsize 1, out_qsize 0\n",
            "INFO - 07:10:55: EPOCH 8 - PROGRESS: at 61.89% examples, 70180 words/s, in_qsize 1, out_qsize 0\n",
            "INFO - 07:10:56: EPOCH 8 - PROGRESS: at 83.79% examples, 70913 words/s, in_qsize 1, out_qsize 0\n",
            "INFO - 07:10:57: worker thread finished; awaiting finish of 0 more threads\n",
            "INFO - 07:10:57: EPOCH - 8 : training on 822962 raw words (354483 effective words) took 4.9s, 72379 effective words/s\n",
            "INFO - 07:10:58: EPOCH 9 - PROGRESS: at 20.64% examples, 69837 words/s, in_qsize 0, out_qsize 0\n",
            "INFO - 07:10:59: EPOCH 9 - PROGRESS: at 41.24% examples, 71112 words/s, in_qsize 1, out_qsize 0\n",
            "INFO - 07:11:00: EPOCH 9 - PROGRESS: at 61.89% examples, 71101 words/s, in_qsize 1, out_qsize 0\n",
            "INFO - 07:11:01: EPOCH 9 - PROGRESS: at 82.60% examples, 71315 words/s, in_qsize 2, out_qsize 0\n",
            "INFO - 07:11:02: worker thread finished; awaiting finish of 0 more threads\n",
            "INFO - 07:11:02: EPOCH - 9 : training on 822962 raw words (354415 effective words) took 4.9s, 72853 effective words/s\n",
            "INFO - 07:11:03: EPOCH 10 - PROGRESS: at 20.64% examples, 70203 words/s, in_qsize 0, out_qsize 0\n",
            "INFO - 07:11:04: EPOCH 10 - PROGRESS: at 41.24% examples, 70917 words/s, in_qsize 0, out_qsize 0\n",
            "INFO - 07:11:05: EPOCH 10 - PROGRESS: at 61.89% examples, 70974 words/s, in_qsize 0, out_qsize 0\n",
            "INFO - 07:11:06: EPOCH 10 - PROGRESS: at 78.96% examples, 67616 words/s, in_qsize 0, out_qsize 0\n",
            "INFO - 07:11:07: worker thread finished; awaiting finish of 0 more threads\n",
            "INFO - 07:11:07: EPOCH - 10 : training on 822962 raw words (354537 effective words) took 5.1s, 69378 effective words/s\n",
            "INFO - 07:11:07: training on a 8229620 raw words (3544878 effective words) took 49.4s, 71738 effective words/s\n"
          ],
          "name": "stderr"
        },
        {
          "output_type": "execute_result",
          "data": {
            "text/plain": [
              "(3544878, 8229620)"
            ]
          },
          "metadata": {
            "tags": []
          },
          "execution_count": 139
        }
      ]
    },
    {
      "cell_type": "code",
      "metadata": {
        "id": "s4aa0DVvow3R",
        "outputId": "ffcc50bf-aba6-48d5-e278-0c3fa0e78097",
        "colab": {
          "base_uri": "https://localhost:8080/"
        }
      },
      "source": [
        "#Tornando o modelo mais eficiente em questões de uso de memória.\n",
        "w2v_model.init_sims(replace=True)"
      ],
      "execution_count": null,
      "outputs": [
        {
          "output_type": "stream",
          "text": [
            "INFO - 07:11:07: precomputing L2-norms of word weight vectors\n"
          ],
          "name": "stderr"
        }
      ]
    },
    {
      "cell_type": "markdown",
      "metadata": {
        "id": "TIx1hEook3Uc"
      },
      "source": [
        "**Verificando os Resultados do Modelo Word2vec.**"
      ]
    },
    {
      "cell_type": "code",
      "metadata": {
        "id": "nG8WLQdaqJpZ",
        "outputId": "81f64933-21c5-491c-f015-c576ded92c6c",
        "colab": {
          "base_uri": "https://localhost:8080/",
          "height": 275
        }
      },
      "source": [
        "w2v_model.wv.most_similar([\"vacina\"])"
      ],
      "execution_count": null,
      "outputs": [
        {
          "output_type": "stream",
          "text": [
            "/usr/local/lib/python3.6/dist-packages/gensim/matutils.py:737: FutureWarning:\n",
            "\n",
            "Conversion of the second argument of issubdtype from `int` to `np.signedinteger` is deprecated. In future, it will be treated as `np.int64 == np.dtype(int).type`.\n",
            "\n"
          ],
          "name": "stderr"
        },
        {
          "output_type": "execute_result",
          "data": {
            "text/plain": [
              "[('sabe', 0.9994816780090332),\n",
              " ('ir', 0.9993855953216553),\n",
              " ('nesse', 0.9993827939033508),\n",
              " ('tao', 0.9993709325790405),\n",
              " ('coronavirus?', 0.9993623495101929),\n",
              " ('sei', 0.999362051486969),\n",
              " ('alem', 0.9993584156036377),\n",
              " ('acho', 0.9993548393249512),\n",
              " ('cara', 0.9993538856506348),\n",
              " ('oq', 0.999351978302002)]"
            ]
          },
          "metadata": {
            "tags": []
          },
          "execution_count": 143
        }
      ]
    },
    {
      "cell_type": "code",
      "metadata": {
        "id": "OsZeL1qQ62sP",
        "outputId": "020c6472-d84d-4dea-e080-37e4e9fb2a99",
        "colab": {
          "base_uri": "https://localhost:8080/",
          "height": 275
        }
      },
      "source": [
        "w2v_model.wv.most_similar([\"recuperados\"])"
      ],
      "execution_count": null,
      "outputs": [
        {
          "output_type": "stream",
          "text": [
            "/usr/local/lib/python3.6/dist-packages/gensim/matutils.py:737: FutureWarning:\n",
            "\n",
            "Conversion of the second argument of issubdtype from `int` to `np.signedinteger` is deprecated. In future, it will be treated as `np.int64 == np.dtype(int).type`.\n",
            "\n"
          ],
          "name": "stderr"
        },
        {
          "output_type": "execute_result",
          "data": {
            "text/plain": [
              "[('38', 0.9997211694717407),\n",
              " ('registrados', 0.9997202157974243),\n",
              " ('ultrapassa', 0.9997178316116333),\n",
              " ('ultimas_24h', 0.9997121691703796),\n",
              " ('12', 0.9996973872184753),\n",
              " ('registrou', 0.9996886849403381),\n",
              " ('11_novos', 0.9996812343597412),\n",
              " ('registra', 0.999677300453186),\n",
              " ('confirmadas', 0.9996765851974487),\n",
              " ('recorde_diario', 0.9996734857559204)]"
            ]
          },
          "metadata": {
            "tags": []
          },
          "execution_count": 144
        }
      ]
    },
    {
      "cell_type": "code",
      "metadata": {
        "id": "rduVJL697A28",
        "outputId": "eea20bfc-adb1-4e42-8d50-c1d29c74c546",
        "colab": {
          "base_uri": "https://localhost:8080/",
          "height": 275
        }
      },
      "source": [
        "w2v_model.wv.most_similar([\"mortes\"])"
      ],
      "execution_count": null,
      "outputs": [
        {
          "output_type": "stream",
          "text": [
            "/usr/local/lib/python3.6/dist-packages/gensim/matutils.py:737: FutureWarning:\n",
            "\n",
            "Conversion of the second argument of issubdtype from `int` to `np.signedinteger` is deprecated. In future, it will be treated as `np.int64 == np.dtype(int).type`.\n",
            "\n"
          ],
          "name": "stderr"
        },
        {
          "output_type": "execute_result",
          "data": {
            "text/plain": [
              "[('casos', 0.9889805912971497),\n",
              " ('ministro_titular', 0.9889141321182251),\n",
              " ('51_dias,', 0.9886177778244019),\n",
              " ('covid19', 0.9881117343902588),\n",
              " ('redes', 0.9880651235580444),\n",
              " ('pasta_saude', 0.9880368709564209),\n",
              " ('@ig', 0.9879945516586304),\n",
              " ('uol_noticias', 0.9879501461982727),\n",
              " ('redes,', 0.9878573417663574),\n",
              " ('imprensa...', 0.9878156185150146)]"
            ]
          },
          "metadata": {
            "tags": []
          },
          "execution_count": 145
        }
      ]
    },
    {
      "cell_type": "code",
      "metadata": {
        "id": "TSZ3e0qeqR0F",
        "outputId": "e4902a69-ea4f-481d-f6a5-5d67ec7c2f11",
        "colab": {
          "base_uri": "https://localhost:8080/",
          "height": 122
        }
      },
      "source": [
        "w2v_model.wv.similarity(\"coronavirus\", \"mortes\")"
      ],
      "execution_count": null,
      "outputs": [
        {
          "output_type": "stream",
          "text": [
            "/usr/local/lib/python3.6/dist-packages/gensim/matutils.py:737: FutureWarning:\n",
            "\n",
            "Conversion of the second argument of issubdtype from `int` to `np.signedinteger` is deprecated. In future, it will be treated as `np.int64 == np.dtype(int).type`.\n",
            "\n"
          ],
          "name": "stderr"
        },
        {
          "output_type": "execute_result",
          "data": {
            "text/plain": [
              "0.9735343"
            ]
          },
          "metadata": {
            "tags": []
          },
          "execution_count": 146
        }
      ]
    },
    {
      "cell_type": "code",
      "metadata": {
        "id": "XvNPRqVGWIEN",
        "outputId": "19bf8781-4e94-447c-9a22-a6eaed330596",
        "colab": {
          "base_uri": "https://localhost:8080/",
          "height": 122
        }
      },
      "source": [
        "w2v_model.wv.similarity(\"covid19\", \"mortes\")"
      ],
      "execution_count": null,
      "outputs": [
        {
          "output_type": "stream",
          "text": [
            "/usr/local/lib/python3.6/dist-packages/gensim/matutils.py:737: FutureWarning:\n",
            "\n",
            "Conversion of the second argument of issubdtype from `int` to `np.signedinteger` is deprecated. In future, it will be treated as `np.int64 == np.dtype(int).type`.\n",
            "\n"
          ],
          "name": "stderr"
        },
        {
          "output_type": "execute_result",
          "data": {
            "text/plain": [
              "0.98811173"
            ]
          },
          "metadata": {
            "tags": []
          },
          "execution_count": 147
        }
      ]
    },
    {
      "cell_type": "code",
      "metadata": {
        "id": "0VCyMaa1WLEy",
        "outputId": "079c4a2a-b690-4d69-b31a-614f94f845d1",
        "colab": {
          "base_uri": "https://localhost:8080/",
          "height": 122
        }
      },
      "source": [
        "w2v_model.wv.similarity(\"covid19\", \"china\")"
      ],
      "execution_count": null,
      "outputs": [
        {
          "output_type": "stream",
          "text": [
            "/usr/local/lib/python3.6/dist-packages/gensim/matutils.py:737: FutureWarning:\n",
            "\n",
            "Conversion of the second argument of issubdtype from `int` to `np.signedinteger` is deprecated. In future, it will be treated as `np.int64 == np.dtype(int).type`.\n",
            "\n"
          ],
          "name": "stderr"
        },
        {
          "output_type": "execute_result",
          "data": {
            "text/plain": [
              "0.99378383"
            ]
          },
          "metadata": {
            "tags": []
          },
          "execution_count": 148
        }
      ]
    },
    {
      "cell_type": "code",
      "metadata": {
        "id": "bNOuLotAqZuy",
        "outputId": "7e8af1e5-9a23-4086-a7c1-d600bfa336a2",
        "colab": {
          "base_uri": "https://localhost:8080/",
          "height": 122
        }
      },
      "source": [
        "w2v_model.wv.similarity(\"coronavirus\", \"casos\")"
      ],
      "execution_count": null,
      "outputs": [
        {
          "output_type": "stream",
          "text": [
            "/usr/local/lib/python3.6/dist-packages/gensim/matutils.py:737: FutureWarning:\n",
            "\n",
            "Conversion of the second argument of issubdtype from `int` to `np.signedinteger` is deprecated. In future, it will be treated as `np.int64 == np.dtype(int).type`.\n",
            "\n"
          ],
          "name": "stderr"
        },
        {
          "output_type": "execute_result",
          "data": {
            "text/plain": [
              "0.9832615"
            ]
          },
          "metadata": {
            "tags": []
          },
          "execution_count": 149
        }
      ]
    },
    {
      "cell_type": "code",
      "metadata": {
        "id": "knHqwpefWUHP",
        "outputId": "0dd0e070-cf5d-457c-a072-5d0210dd45c9",
        "colab": {
          "base_uri": "https://localhost:8080/",
          "height": 122
        }
      },
      "source": [
        "w2v_model.wv.similarity(\"pandemia\", \"oms\")"
      ],
      "execution_count": null,
      "outputs": [
        {
          "output_type": "stream",
          "text": [
            "/usr/local/lib/python3.6/dist-packages/gensim/matutils.py:737: FutureWarning:\n",
            "\n",
            "Conversion of the second argument of issubdtype from `int` to `np.signedinteger` is deprecated. In future, it will be treated as `np.int64 == np.dtype(int).type`.\n",
            "\n"
          ],
          "name": "stderr"
        },
        {
          "output_type": "execute_result",
          "data": {
            "text/plain": [
              "0.93346685"
            ]
          },
          "metadata": {
            "tags": []
          },
          "execution_count": 150
        }
      ]
    },
    {
      "cell_type": "code",
      "metadata": {
        "id": "BPGIwf79m_Td",
        "outputId": "2aea1ea4-c8f3-468c-e9a8-a2de74ea02de",
        "colab": {
          "base_uri": "https://localhost:8080/",
          "height": 191
        }
      },
      "source": [
        "w2v_model.wv.doesnt_match([\"mortes\", \"alegria\", \"casos\"])"
      ],
      "execution_count": null,
      "outputs": [
        {
          "output_type": "stream",
          "text": [
            "/usr/local/lib/python3.6/dist-packages/gensim/models/keyedvectors.py:895: FutureWarning:\n",
            "\n",
            "arrays to stack must be passed as a \"sequence\" type such as list or tuple. Support for non-sequence iterables such as generators is deprecated as of NumPy 1.16 and will raise an error in the future.\n",
            "\n",
            "/usr/local/lib/python3.6/dist-packages/gensim/matutils.py:737: FutureWarning:\n",
            "\n",
            "Conversion of the second argument of issubdtype from `int` to `np.signedinteger` is deprecated. In future, it will be treated as `np.int64 == np.dtype(int).type`.\n",
            "\n"
          ],
          "name": "stderr"
        },
        {
          "output_type": "execute_result",
          "data": {
            "application/vnd.google.colaboratory.intrinsic+json": {
              "type": "string"
            },
            "text/plain": [
              "'mortes'"
            ]
          },
          "metadata": {
            "tags": []
          },
          "execution_count": 151
        }
      ]
    }
  ]
}