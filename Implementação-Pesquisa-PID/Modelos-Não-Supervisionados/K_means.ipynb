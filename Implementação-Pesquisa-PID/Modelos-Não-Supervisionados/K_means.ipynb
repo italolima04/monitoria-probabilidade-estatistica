{
  "nbformat": 4,
  "nbformat_minor": 0,
  "metadata": {
    "colab": {
      "name": "K-means.ipynb",
      "provenance": [],
      "collapsed_sections": [],
      "authorship_tag": "ABX9TyMzUaLh4uynu7z1I9Xm6Pz9",
      "include_colab_link": true
    },
    "kernelspec": {
      "name": "python3",
      "display_name": "Python 3"
    }
  },
  "cells": [
    {
      "cell_type": "markdown",
      "metadata": {
        "id": "view-in-github",
        "colab_type": "text"
      },
      "source": [
        "<a href=\"https://colab.research.google.com/github/italolima04/monitoria-probabilidade-estatistica/blob/master/Implementa%C3%A7%C3%A3o-Pesquisa-PID/Modelos-N%C3%A3o-Supervisionados/K_means.ipynb\" target=\"_parent\"><img src=\"https://colab.research.google.com/assets/colab-badge.svg\" alt=\"Open In Colab\"/></a>"
      ]
    },
    {
      "cell_type": "code",
      "metadata": {
        "id": "2r9qksJG9-Wp"
      },
      "source": [
        "#Importando algoritmo KMeans da biblioteca Sklearn.\n",
        "from sklearn.cluster import KMeans"
      ],
      "execution_count": null,
      "outputs": []
    },
    {
      "cell_type": "code",
      "metadata": {
        "id": "jnjRhOa0XRzZ"
      },
      "source": [
        "#Carregando modelo Word2VEC.\n",
        "word_vectors = w2v_model.wv\n",
        "#Criando instância do algoritmo K-Means e passando como entrada os vetores originados pelo Word2VEC.\n",
        "#n_clusters=2, max_iter=1000, random_state=True, n_init=50\n",
        "model = KMeans(n_clusters=2, init='k-means++', max_iter=2000, random_state=True, n_init=50).fit(X=word_vectors.vectors)"
      ],
      "execution_count": null,
      "outputs": []
    },
    {
      "cell_type": "code",
      "metadata": {
        "id": "AIpDjbcQxa0I"
      },
      "source": [
        "negative_cluster_center = model.cluster_centers_[1]\n",
        "positive_cluster_center = model.cluster_centers_[0]"
      ],
      "execution_count": null,
      "outputs": []
    },
    {
      "cell_type": "code",
      "metadata": {
        "id": "FqR8eQhEXbCm"
      },
      "source": [
        "#Verificando os vetores que foram entradas para o algoritmo, criados pelo modelo Word2VEC.\n",
        "word_vectors.vectors"
      ],
      "execution_count": null,
      "outputs": []
    },
    {
      "cell_type": "code",
      "metadata": {
        "id": "4KqEfIOPXKbb"
      },
      "source": [
        "model.cluster_centers_"
      ],
      "execution_count": null,
      "outputs": []
    },
    {
      "cell_type": "code",
      "metadata": {
        "id": "a3s-6VbD8Bcj"
      },
      "source": [
        "#Calculando a distância de cada ponto de dado para o centroide correspondente.\n",
        "distance = model.fit_transform(X=word_vectors.vectors)"
      ],
      "execution_count": null,
      "outputs": []
    },
    {
      "cell_type": "code",
      "metadata": {
        "id": "zZ9J4-weBSPZ"
      },
      "source": [
        "distance"
      ],
      "execution_count": null,
      "outputs": []
    },
    {
      "cell_type": "code",
      "metadata": {
        "id": "iRQpEqHj_BEc"
      },
      "source": [
        "len(model.labels_)"
      ],
      "execution_count": null,
      "outputs": []
    },
    {
      "cell_type": "code",
      "metadata": {
        "id": "ScCYPYk0XnoI"
      },
      "source": [
        "#Verificando os labels originados pelo modelo.\n",
        "labels = model.labels_\n",
        "labels"
      ],
      "execution_count": null,
      "outputs": []
    },
    {
      "cell_type": "code",
      "metadata": {
        "id": "uqLT1tBQXrkx"
      },
      "source": [
        "#Criando DataFrame com as classificações para os tweets.\n",
        "df_kmeans = pd.DataFrame(data=model.labels_, columns=['Cluster'])"
      ],
      "execution_count": null,
      "outputs": []
    },
    {
      "cell_type": "code",
      "metadata": {
        "id": "DzwCr24tXyWZ"
      },
      "source": [
        "#Visualizando o novo DataFrame criado.\n",
        "df_kmeans"
      ],
      "execution_count": null,
      "outputs": []
    },
    {
      "cell_type": "code",
      "metadata": {
        "id": "e9nS7aCbZuJ4"
      },
      "source": [
        "#Distruibuição das sentenças nos clusters pelo algoritmo K-Means.\n",
        "df_kmeans['Cluster'].value_counts()"
      ],
      "execution_count": null,
      "outputs": []
    },
    {
      "cell_type": "code",
      "metadata": {
        "id": "8pPCQMzx63bX"
      },
      "source": [
        "#Porcentagem que representa a distribuição das sentenças nos clusters pelo algoritmo K-Means.\n",
        "df_kmeans['Cluster'].value_counts(normalize=True)"
      ],
      "execution_count": null,
      "outputs": []
    },
    {
      "cell_type": "code",
      "metadata": {
        "id": "zk4DL2n0kS14"
      },
      "source": [
        "#Configurando os parâmetros da Figura.\n",
        "plt.figure(figsize=(16, 8))\n",
        "\n",
        "\n",
        "#Plotando Gráfico com Matplotlib.\n",
        "df_kmeans['Cluster'].value_counts().plot(kind='bar', color=['blue', 'red'],  alpha=0.8, width=0.2)\n",
        "\n",
        "\n",
        "#Plotando Gráfico com Searborn.\n",
        "\n",
        "#Configurações para as fontes dos textos.\n",
        "font = {'family': 'serif',\n",
        "        'weight': 'bold',\n",
        "        'size': 16,\n",
        "        }\n",
        "plt.title('Gráfico para distribuição de Classes - Clusters', fontdict=font, color='white', size=30)\n",
        "\n",
        "#Configurando título, labels e ticks\n",
        "plt.xlabel('Meses de Coleta', fontdict=font, color='white', size=30)\n",
        "plt.ylabel('Tweets Coletados', fontdict=font, color='white', size=30)\n",
        "\n",
        "#Configuração de exibição dos ticks.\n",
        "plt.xticks(rotation=45, size=25, color='black', weight=\"bold\")\n",
        "plt.yticks(size=25, color='black', weight=\"bold\")\n",
        "\n",
        "#Exibindo a figura.\n",
        "plt.savefig('grafico.png', format='png', quality=100)\n",
        "plt.show()"
      ],
      "execution_count": null,
      "outputs": []
    },
    {
      "cell_type": "code",
      "metadata": {
        "id": "CkmCimHTaxyy"
      },
      "source": [
        "#Verificando os clusters únicos.\n",
        "df_kmeans['Cluster'].unique()"
      ],
      "execution_count": null,
      "outputs": []
    },
    {
      "cell_type": "code",
      "metadata": {
        "id": "mSMHnyZg6rgd"
      },
      "source": [
        "#Criando Vocabulário em formato de Dicionário para o sentimento das palavras.\n",
        "words = pd.DataFrame(word_vectors.vocab.keys())\n",
        "#Nomeando a coluna do DataFrame.\n",
        "words.columns = ['words']\n",
        "#Atribuindo as palavras a classe positiva ou negativa, de acordo com a clusterização.\n",
        "words['vectors'] = words.words.apply(lambda x: word_vectors.wv[f'{x}'])\n",
        "words['cluster'] = words.vectors.apply(lambda x: model.predict([np.array(x)]))\n",
        "words.cluster = words.cluster.apply(lambda x: x[0])"
      ],
      "execution_count": null,
      "outputs": []
    },
    {
      "cell_type": "code",
      "metadata": {
        "id": "exlvF0Qd6ulu"
      },
      "source": [
        "#Para o cluster 0 atribuiu-se o sentimento como positivo e para o outro cluster atribuiu-se o sentimento negativo.\n",
        "words['cluster_value'] = [1 if i==0 else -1 for i in words.cluster]\n",
        "words['closeness_score'] = words.apply(lambda x: 1/(model.transform([x.vectors]).min()), axis=1)\n",
        "words['sentiment_coeff'] = words.closeness_score * words.cluster_value"
      ],
      "execution_count": null,
      "outputs": []
    },
    {
      "cell_type": "code",
      "metadata": {
        "id": "HamQZYMm6v56"
      },
      "source": [
        "#Visualizando as 5 primeiras linhas.\n",
        "words.head(5)"
      ],
      "execution_count": null,
      "outputs": []
    },
    {
      "cell_type": "code",
      "metadata": {
        "id": "YIGr2DYq7DQd"
      },
      "source": [
        "#Filtrando os dados atribuídos como negativo.\n",
        "negativas = words.loc[words.sentiment_coeff < 0, ['words', 'cluster', 'sentiment_coeff']]\n",
        "negativas"
      ],
      "execution_count": null,
      "outputs": []
    },
    {
      "cell_type": "code",
      "metadata": {
        "id": "edmiBCXr7YjM"
      },
      "source": [
        "#Filtrando os dados atribuídos como positivo.\n",
        "positivas = words.loc[words.sentiment_coeff > 0, ['words', 'cluster', 'sentiment_coeff']]\n",
        "positivas"
      ],
      "execution_count": null,
      "outputs": []
    },
    {
      "cell_type": "code",
      "metadata": {
        "id": "Rj1gMCxnwDP0"
      },
      "source": [
        "#Verificando a estrutura do DataFrame.\n",
        "words.shape"
      ],
      "execution_count": null,
      "outputs": []
    },
    {
      "cell_type": "code",
      "metadata": {
        "id": "M9_7DCkIl-gc"
      },
      "source": [
        "#Descrevendo estatisticamente os valores associados ao Coeficiente de Sentimento.\n",
        "words.describe()['sentiment_coeff']"
      ],
      "execution_count": null,
      "outputs": []
    },
    {
      "cell_type": "code",
      "metadata": {
        "id": "XTwU1yjqnKWd"
      },
      "source": [
        "#Importando Módulo da biblioteca Plotly,\n",
        "import plotly.graph_objects as go\n",
        "\n",
        "#Instanciando uma figura.\n",
        "fig = go.Figure()\n",
        "\n",
        "#Configurando e criando a exibição do gráfico.\n",
        "fig.add_trace(go.Box(y=words['sentiment_coeff'], name='Score de Sentimento', marker_color = 'black'))\n",
        "\n",
        "#Configurando o Layout a ser exibido.\n",
        "fig.update_layout(width=700, height=700)\n",
        "\n",
        "#Exibindo imagem.\n",
        "fig.show()"
      ],
      "execution_count": null,
      "outputs": []
    },
    {
      "cell_type": "code",
      "metadata": {
        "id": "F3uHRA4m6xbZ"
      },
      "source": [
        "#Exportando o dicionário de sentimentos criados, no formato CSV.\n",
        "words[['words', 'sentiment_coeff']].to_csv('dicionario_sentimentos.csv', index=False)"
      ],
      "execution_count": null,
      "outputs": []
    },
    {
      "cell_type": "markdown",
      "metadata": {
        "id": "Bms_8fPEiZFQ"
      },
      "source": [
        "**Implementando Métricas e Visualizando Graficamente os índices.**"
      ]
    },
    {
      "cell_type": "code",
      "metadata": {
        "id": "Y1Rd66HIDwLu"
      },
      "source": [
        "from sklearn import metrics\n",
        "from sklearn.metrics import silhouette_score \n",
        "from sklearn.metrics import davies_bouldin_score"
      ],
      "execution_count": null,
      "outputs": []
    },
    {
      "cell_type": "code",
      "metadata": {
        "id": "-vqF8wzPDwLz"
      },
      "source": [
        "silhouette_score(word_vectors.vectors, model.labels_)"
      ],
      "execution_count": null,
      "outputs": []
    },
    {
      "cell_type": "code",
      "metadata": {
        "id": "pjJrBUD-Fxdz"
      },
      "source": [
        "metrics.calinski_harabasz_score(word_vectors.vectors, labels)"
      ],
      "execution_count": null,
      "outputs": []
    },
    {
      "cell_type": "code",
      "metadata": {
        "id": "ydpQyg8FFYu-"
      },
      "source": [
        "davies_bouldin_score(word_vectors.vectors, labels)"
      ],
      "execution_count": null,
      "outputs": []
    },
    {
      "cell_type": "code",
      "metadata": {
        "id": "T_qMQ4wVCSiC"
      },
      "source": [
        "word_vectors = w2v_model.wv"
      ],
      "execution_count": null,
      "outputs": []
    },
    {
      "cell_type": "code",
      "metadata": {
        "id": "D3Ouf2yDVNNW"
      },
      "source": [
        "from yellowbrick.cluster import SilhouetteVisualizer\n",
        "\n",
        "model = KMeans(2, random_state=42)\n",
        "visualizer = SilhouetteVisualizer(model, colors='yellowbrick')\n",
        "visualizer.fit(word_vectors.vectors)        "
      ],
      "execution_count": null,
      "outputs": []
    },
    {
      "cell_type": "code",
      "metadata": {
        "id": "9r7-7zIXYB6C"
      },
      "source": [
        "from yellowbrick.cluster import SilhouetteVisualizer\n",
        "from yellowbrick.cluster import KElbowVisualizer\n",
        "model = KMeans()\n",
        "visualizer = KElbowVisualizer(model, k=(2,11), metric='silhouette', timings=False)\n",
        "visualizer.fit(word_vectors.vectors);  "
      ],
      "execution_count": null,
      "outputs": []
    },
    {
      "cell_type": "code",
      "metadata": {
        "id": "nUamTF5BV0j_"
      },
      "source": [
        "from yellowbrick.cluster import SilhouetteVisualizer\n",
        "from yellowbrick.cluster import KElbowVisualizer\n",
        "model = KMeans()\n",
        "visualizer = KElbowVisualizer(model, k=(2,11), metric='calinski_harabaz', timings=False)\n",
        "visualizer.fit(word_vectors.vectors);        "
      ],
      "execution_count": null,
      "outputs": []
    },
    {
      "cell_type": "code",
      "metadata": {
        "id": "B6IZme3AKv0I"
      },
      "source": [
        "from sklearn.feature_extraction.text import TfidfVectorizer\n",
        "\n",
        "from yellowbrick.text import TSNEVisualizer\n",
        "\n",
        "tfidf = TfidfVectorizer()\n",
        "\n",
        "X = tfidf.fit_transform(words)\n",
        "y = words['cluster']\n",
        "\n",
        "tsne = TSNEVisualizer()\n",
        "tsne.fit(X, y)\n",
        "tsne.show()"
      ],
      "execution_count": null,
      "outputs": []
    }
  ]
}