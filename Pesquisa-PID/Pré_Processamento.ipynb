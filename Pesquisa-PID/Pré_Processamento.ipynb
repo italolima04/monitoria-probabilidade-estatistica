{
  "nbformat": 4,
  "nbformat_minor": 0,
  "metadata": {
    "colab": {
      "name": "Pré-Processamento.ipynb",
      "provenance": [],
      "collapsed_sections": [],
      "authorship_tag": "ABX9TyOg00ja/t03Rg4fXHWJ+iG0",
      "include_colab_link": true
    },
    "kernelspec": {
      "name": "python3",
      "display_name": "Python 3"
    }
  },
  "cells": [
    {
      "cell_type": "markdown",
      "metadata": {
        "id": "view-in-github",
        "colab_type": "text"
      },
      "source": [
        "<a href=\"https://colab.research.google.com/github/italolima04/monitoria-probabilidade-estatistica/blob/master/Pesquisa-PID/Pr%C3%A9_Processamento.ipynb\" target=\"_parent\"><img src=\"https://colab.research.google.com/assets/colab-badge.svg\" alt=\"Open In Colab\"/></a>"
      ]
    },
    {
      "cell_type": "markdown",
      "metadata": {
        "id": "zk3KGReTUj3D",
        "colab_type": "text"
      },
      "source": [
        "**Importando Bibliotecas e Módulos**"
      ]
    },
    {
      "cell_type": "code",
      "metadata": {
        "id": "G0YsbdZkQ2NN",
        "colab_type": "code",
        "colab": {
          "base_uri": "https://localhost:8080/",
          "height": 54
        },
        "outputId": "f040ef44-86ad-4e7b-d95d-c2e9fb4288f5"
      },
      "source": [
        "import pandas as pd\n",
        "import numpy as np\n",
        "import nltk\n",
        "nltk.download('stopwords')\n",
        "import re\n",
        "from sklearn.feature_extraction.text import CountVectorizer"
      ],
      "execution_count": null,
      "outputs": [
        {
          "output_type": "stream",
          "text": [
            "[nltk_data] Downloading package stopwords to /root/nltk_data...\n",
            "[nltk_data]   Unzipping corpora/stopwords.zip.\n"
          ],
          "name": "stdout"
        }
      ]
    },
    {
      "cell_type": "markdown",
      "metadata": {
        "id": "PKiE_qvoSD2O",
        "colab_type": "text"
      },
      "source": [
        "**Stop words são palavras que podem ser consideradas irrelevantes para o conjunto de resultados.**\n",
        "\n",
        "Exemplos: as, os, um, uma, com, de, da, para, etc."
      ]
    },
    {
      "cell_type": "code",
      "metadata": {
        "id": "8fLpcz3rQ9Ml",
        "colab_type": "code",
        "colab": {}
      },
      "source": [
        "def Remove_stopWords(instancia):\n",
        "  #Utiliza os recursos da biblioteca NLTK para verificar as Stopwords para o Português.\n",
        "  stopwords = set(nltk.corpus.stopwords.words('portuguese'))\n",
        "  #Cria uma lista com as palavras restantes (Não Stopwords)\n",
        "  palavras = [i for i in instancia.split() if i not i in stopwords]\n",
        "  #Retorna a lista de palavras em formato de string.\n",
        "  return(\"\".join(palavras))"
      ],
      "execution_count": null,
      "outputs": []
    },
    {
      "cell_type": "markdown",
      "metadata": {
        "id": "Iss45lb0TH7Q",
        "colab_type": "text"
      },
      "source": [
        "**Stemming é a técnica de reduzir uma palavra para o seu radical. Radical é um morfema básico , indivisível e comum a uma série de palavras.**\n",
        "\n",
        "Exemplo: O radical de Livro é: Livr"
      ]
    },
    {
      "cell_type": "code",
      "metadata": {
        "id": "KAK6xI1RS1AF",
        "colab_type": "code",
        "colab": {}
      },
      "source": [
        "def Aplica_stemming(instancia):\n",
        "  #Criando uma instância de um Stemmer da biblioteca NLTK.\n",
        "  stemmer = nltk.stem.RSLPStemmer()\n",
        "  palavras = []\n",
        "  #Quebrando a sentença e percorrendo todas as palavras.\n",
        "  for i in instancia.split():\n",
        "    #Aplicando a técnica de Stemming nas palavras e as colocando na lista.\n",
        "    palavras.append(stemmer.stem(i))\n",
        "  return (\"\".join(palavras))"
      ],
      "execution_count": null,
      "outputs": []
    },
    {
      "cell_type": "markdown",
      "metadata": {
        "id": "UA0Wonn8UvJZ",
        "colab_type": "text"
      },
      "source": [
        "**Além desses processos, há a comum aplicação de uma limpeza nos dados, padronizando-as e tratando o texto.**"
      ]
    },
    {
      "cell_type": "code",
      "metadata": {
        "id": "LHFZtz2BUnlE",
        "colab_type": "code",
        "colab": {}
      },
      "source": [
        "def Limpa_dados(instancia):\n",
        "  #Remoção de sinais de pontuação e links, padronização do texto (Letras Minúsculas) através da biblioteca de Expressões Regulares.\n",
        "  instancia = re.sub(r\"http\\S+\", \"\", instancia).lower().replace('.','').replace(';','').replace('-','').replace(':','').replace(')','')\n",
        "  return(instancia)"
      ],
      "execution_count": null,
      "outputs": []
    }
  ]
}