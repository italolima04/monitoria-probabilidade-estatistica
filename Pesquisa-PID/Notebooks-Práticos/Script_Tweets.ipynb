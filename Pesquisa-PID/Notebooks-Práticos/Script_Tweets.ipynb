{
  "nbformat": 4,
  "nbformat_minor": 0,
  "metadata": {
    "colab": {
      "name": "Script_Tweets.ipynb",
      "provenance": [],
      "collapsed_sections": [],
      "authorship_tag": "ABX9TyMiiePdt+49ujtOysbNs3/8",
      "include_colab_link": true
    },
    "kernelspec": {
      "name": "python3",
      "display_name": "Python 3"
    }
  },
  "cells": [
    {
      "cell_type": "markdown",
      "metadata": {
        "id": "view-in-github",
        "colab_type": "text"
      },
      "source": [
        "<a href=\"https://colab.research.google.com/github/italolima04/monitoria-probabilidade-estatistica/blob/master/Pesquisa-PID/Script_Tweets.ipynb\" target=\"_parent\"><img src=\"https://colab.research.google.com/assets/colab-badge.svg\" alt=\"Open In Colab\"/></a>"
      ]
    },
    {
      "cell_type": "markdown",
      "metadata": {
        "id": "8aEuQwH8moll",
        "colab_type": "text"
      },
      "source": [
        "# Criando Script para Coletar Dados"
      ]
    },
    {
      "cell_type": "code",
      "metadata": {
        "id": "kW1DrGpOhSFG",
        "colab_type": "code",
        "colab": {}
      },
      "source": [
        "#Instalando biblioteca Tweepy através do gerenciador pip\n",
        "#pip install tweepy"
      ],
      "execution_count": null,
      "outputs": []
    },
    {
      "cell_type": "code",
      "metadata": {
        "id": "XLc84ZzDhd5B",
        "colab_type": "code",
        "colab": {}
      },
      "source": [
        "#Importando a biblioteca Tweepy e Pandas\n",
        "import tweepy as tp\n",
        "import pandas as pd"
      ],
      "execution_count": null,
      "outputs": []
    },
    {
      "cell_type": "code",
      "metadata": {
        "id": "_BLT-ZI2hnIm",
        "colab_type": "code",
        "colab": {}
      },
      "source": [
        "#Manipulando arquivos em Python para leitura de um documento local que contém as 4 chaves de acesso\n",
        "#Atribuindo cada chave a uma variável\n",
        "with open ('twitter_tokens_2.txt', 'r') as dados:\n",
        "  chave_consumidor = dados.readline().strip('\\n')\n",
        "  segredo_consumidor = dados.readline().strip('\\n')\n",
        "  token_acesso = dados.readline().strip('\\n')\n",
        "  token_acesso_segredo = dados.readline().strip('\\n')"
      ],
      "execution_count": null,
      "outputs": []
    },
    {
      "cell_type": "code",
      "metadata": {
        "id": "CWRtDtcuiZ0L",
        "colab_type": "code",
        "colab": {}
      },
      "source": [
        "#Autenticar com os dados do consumidor. Analogia ao Login\n",
        "autenticacao = tp.OAuthHandler(chave_consumidor, segredo_consumidor)"
      ],
      "execution_count": null,
      "outputs": []
    },
    {
      "cell_type": "code",
      "metadata": {
        "id": "reY-XlZCi_CO",
        "colab_type": "code",
        "colab": {}
      },
      "source": [
        "#Preencher os tokens de acesso. Analogia a senha\n",
        "autenticacao.set_access_token(token_acesso, token_acesso_segredo)"
      ],
      "execution_count": null,
      "outputs": []
    },
    {
      "cell_type": "code",
      "metadata": {
        "id": "54x-Gd7WjDG7",
        "colab_type": "code",
        "colab": {}
      },
      "source": [
        "#Concluindo o Processo de Autenticação e criando instância da API\n",
        "twitter = tp.API(autenticacao)"
      ],
      "execution_count": null,
      "outputs": []
    },
    {
      "cell_type": "code",
      "metadata": {
        "id": "G8dDuapSkEN-",
        "colab_type": "code",
        "colab": {}
      },
      "source": [
        "#Método para buscar os tweets públicos que estão na Timeline\n",
        "#tweets_publicos = tp.home_timeline()"
      ],
      "execution_count": null,
      "outputs": []
    },
    {
      "cell_type": "markdown",
      "metadata": {
        "id": "0O79aDecod1Y",
        "colab_type": "text"
      },
      "source": [
        "**Configurando Exibição dos Dados.**"
      ]
    },
    {
      "cell_type": "code",
      "metadata": {
        "id": "a22DBIv7jan7",
        "colab_type": "code",
        "colab": {
          "base_uri": "https://localhost:8080/",
          "height": 492
        },
        "outputId": "d227562f-1158-46a9-b421-e701c0b19e4a"
      },
      "source": [
        "#Utilizando o método de busca, e passando o q(query) como parâmetro. O \"q\" se deseja buscar.\n",
        "#Percorrendo os tweets buscados e exibindo as informações desejadas: Nome e texto publicado (tweet)\n",
        "#tweets = twitter.search(q='covid').items(100) Delimitar a quantidade de Tweets.\n",
        "#tweets = twitter.search(q='coronavirus')\n",
        "#for tweet in tweets:\n",
        "#  print(f'Usuário: {tweet.user.screen_name} - Tweet: {tweet.text}')"
      ],
      "execution_count": null,
      "outputs": [
        {
          "output_type": "stream",
          "text": [
            "Usuário: LucianoRomeo9 - Tweet: RT @Virus1979C: #coronavirus Centro Rai Saxa Rubra, 5 positivi: tamponi per tutti i dipendenti.\n",
            "Usuário: kuantancurls - Tweet: RT @theSNP: 📺 Watch live: First Minister @NicolaSturgeon's daily press conference on #coronavirus (#COVIDー19).\n",
            " \n",
            "Joining the First Minister…\n",
            "Usuário: ImThe_pRESIDENT - Tweet: RT @ewarren: Remember: Steve Mnuchin is refusing to disclose which companies received more than $500 billion in taxpayer funds. Americans d…\n",
            "Usuário: ngelPrez26 - Tweet: RT @CNNEE: Denuncian muertes de trabajadores de la salud por coronavirus en Nicaragua, pero Ortega no las reconoce https://t.co/NnFygAx18Z\n",
            "Usuário: IlDeutschItalia - Tweet: RT @IlDeutschItalia: In Italia, è tempo di #StatiGenerali per decidere come ripartire dopo l'emergenza sanitaria da #coronavirus.\n",
            "\n",
            "Ma quali…\n",
            "Usuário: dlhampton - Tweet: RT @585Mentalhealth: The #coronavirus has created a crisis with physical and #mentalhealth. One third of employees in the work force have b…\n",
            "Usuário: telugubullet - Tweet: The impact of COVID-19 on Indian Wedding Industry https://t.co/qwaui14wks #coronavirus #covid19… https://t.co/NDF5zcr0i7\n",
            "Usuário: smashytashy1 - Tweet: RT @bhcitynews: #Brighton and #Hove council chiefs said they had not had time to look into who was behind costly chaos inflicted on vulnera…\n",
            "Usuário: akhileshpRSS - Tweet: RT @AshwiniKChoubey: Committed to Fight Against Coronavirus.\n",
            "@MoHFW_INDIA @PMOIndia\n",
            "@narendramodi_in @CovidIndiaSeva @BJP4India\n",
            "\n",
            "#IndiaFigh…\n",
            "Usuário: 14Trianero - Tweet: RT @el_pais: La probabilidad de sufrir una infección grave por coronavirus se incrementa en un 44% en las personas con sobrepeso y casi se…\n",
            "Usuário: ronysbane - Tweet: RT @MichelReuters: Macron tonight: “I will be very clear tonight, compatriots: the Republic won’t erase any name from its history. It will…\n",
            "Usuário: timmins316 - Tweet: Questions raised by Canada U.S. land-border closures as citizens fly into the U.S. https://t.co/KnlVzv8Dek\n",
            "Usuário: Carlos_VarelaCT - Tweet: RT @aquinaband: Você confia nas estatísticas brasileiras de mortos e infectados pelo coronavírus? \n",
            "\n",
            "#AquiNaBand\n",
            "Usuário: EurAlmanac - Tweet: Turkey’s governors warn against complacency as COVID-19 cases increase again https://t.co/Rbfx51Fke4 [@Ahval_en]\n",
            "Usuário: mpavia1 - Tweet: RT @MarketWatch: “We are not kidding around with this. You’re talking about jeopardizing people’s lives,” Cuomo says of people flouting cor…\n"
          ],
          "name": "stdout"
        }
      ]
    },
    {
      "cell_type": "markdown",
      "metadata": {
        "id": "n5gKuiDbmtb1",
        "colab_type": "text"
      },
      "source": [
        "# Filtrando os Dados"
      ]
    },
    {
      "cell_type": "code",
      "metadata": {
        "id": "jp0J0rDRnd-T",
        "colab_type": "code",
        "colab": {
          "base_uri": "https://localhost:8080/",
          "height": 1000
        },
        "outputId": "9d105d0e-8337-4110-a198-bbfc2157b07f"
      },
      "source": [
        "#Visualizando as propriedades que um tweet contém\n",
        "tweet._json"
      ],
      "execution_count": null,
      "outputs": [
        {
          "output_type": "execute_result",
          "data": {
            "text/plain": [
              "{'contributors': None,\n",
              " 'coordinates': None,\n",
              " 'created_at': 'Mon May 18 17:54:47 +0000 2020',\n",
              " 'entities': {'hashtags': [],\n",
              "  'symbols': [],\n",
              "  'urls': [],\n",
              "  'user_mentions': [{'id': 19651284,\n",
              "    'id_str': '19651284',\n",
              "    'indices': [3, 15],\n",
              "    'name': 'stonewalluk',\n",
              "    'screen_name': 'stonewalluk'}]},\n",
              " 'favorite_count': 0,\n",
              " 'favorited': False,\n",
              " 'geo': None,\n",
              " 'id': 1262441517739884544,\n",
              " 'id_str': '1262441517739884544',\n",
              " 'in_reply_to_screen_name': None,\n",
              " 'in_reply_to_status_id': None,\n",
              " 'in_reply_to_status_id_str': None,\n",
              " 'in_reply_to_user_id': None,\n",
              " 'in_reply_to_user_id_str': None,\n",
              " 'is_quote_status': False,\n",
              " 'lang': 'en',\n",
              " 'metadata': {'iso_language_code': 'en', 'result_type': 'recent'},\n",
              " 'place': None,\n",
              " 'retweet_count': 1,\n",
              " 'retweeted': False,\n",
              " 'retweeted_status': {'contributors': None,\n",
              "  'coordinates': None,\n",
              "  'created_at': 'Mon May 18 10:02:30 +0000 2020',\n",
              "  'entities': {'hashtags': [],\n",
              "   'symbols': [],\n",
              "   'urls': [{'display_url': 'twitter.com/i/web/status/1…',\n",
              "     'expanded_url': 'https://twitter.com/i/web/status/1262322665387372545',\n",
              "     'indices': [116, 139],\n",
              "     'url': 'https://t.co/5OJaE1WnBZ'}],\n",
              "   'user_mentions': []},\n",
              "  'favorite_count': 13,\n",
              "  'favorited': False,\n",
              "  'geo': None,\n",
              "  'id': 1262322665387372545,\n",
              "  'id_str': '1262322665387372545',\n",
              "  'in_reply_to_screen_name': 'stonewalluk',\n",
              "  'in_reply_to_status_id': 1262322662744956928,\n",
              "  'in_reply_to_status_id_str': '1262322662744956928',\n",
              "  'in_reply_to_user_id': 19651284,\n",
              "  'in_reply_to_user_id_str': '19651284',\n",
              "  'is_quote_status': False,\n",
              "  'lang': 'en',\n",
              "  'metadata': {'iso_language_code': 'en', 'result_type': 'recent'},\n",
              "  'place': None,\n",
              "  'retweet_count': 1,\n",
              "  'retweeted': False,\n",
              "  'source': '<a href=\"https://mobile.twitter.com\" rel=\"nofollow\">Twitter Web App</a>',\n",
              "  'text': 'The aim of the Statement is to set out a number of broader human rights concerns related to the COVID-19 pandemic,… https://t.co/5OJaE1WnBZ',\n",
              "  'truncated': True,\n",
              "  'user': {'contributors_enabled': False,\n",
              "   'created_at': 'Wed Jan 28 13:31:00 +0000 2009',\n",
              "   'default_profile': False,\n",
              "   'default_profile_image': False,\n",
              "   'description': 'We campaign for the equality of lesbian, gay, bi and trans people across Britain and abroad. Acceptance without exception. 🌈 #StayInForLGBT',\n",
              "   'entities': {'description': {'urls': []},\n",
              "    'url': {'urls': [{'display_url': 'stonewall.org.uk',\n",
              "       'expanded_url': 'https://www.stonewall.org.uk/',\n",
              "       'indices': [0, 23],\n",
              "       'url': 'https://t.co/8acBhEVknD'}]}},\n",
              "   'favourites_count': 16110,\n",
              "   'follow_request_sent': False,\n",
              "   'followers_count': 202045,\n",
              "   'following': False,\n",
              "   'friends_count': 1766,\n",
              "   'geo_enabled': True,\n",
              "   'has_extended_profile': True,\n",
              "   'id': 19651284,\n",
              "   'id_str': '19651284',\n",
              "   'is_translation_enabled': True,\n",
              "   'is_translator': False,\n",
              "   'lang': None,\n",
              "   'listed_count': 1581,\n",
              "   'location': 'London',\n",
              "   'name': 'stonewalluk',\n",
              "   'notifications': False,\n",
              "   'profile_background_color': '9AE4E8',\n",
              "   'profile_background_image_url': 'http://abs.twimg.com/images/themes/theme1/bg.png',\n",
              "   'profile_background_image_url_https': 'https://abs.twimg.com/images/themes/theme1/bg.png',\n",
              "   'profile_background_tile': True,\n",
              "   'profile_banner_url': 'https://pbs.twimg.com/profile_banners/19651284/1586869799',\n",
              "   'profile_image_url': 'http://pbs.twimg.com/profile_images/1190293776423669761/j_6IQ2JZ_normal.jpg',\n",
              "   'profile_image_url_https': 'https://pbs.twimg.com/profile_images/1190293776423669761/j_6IQ2JZ_normal.jpg',\n",
              "   'profile_link_color': 'E81C4F',\n",
              "   'profile_sidebar_border_color': 'FFFFFF',\n",
              "   'profile_sidebar_fill_color': 'FBF6FD',\n",
              "   'profile_text_color': '333333',\n",
              "   'profile_use_background_image': True,\n",
              "   'protected': False,\n",
              "   'screen_name': 'stonewalluk',\n",
              "   'statuses_count': 41546,\n",
              "   'time_zone': None,\n",
              "   'translator_type': 'none',\n",
              "   'url': 'https://t.co/8acBhEVknD',\n",
              "   'utc_offset': None,\n",
              "   'verified': True}},\n",
              " 'source': '<a href=\"http://twitter.com/download/iphone\" rel=\"nofollow\">Twitter for iPhone</a>',\n",
              " 'text': 'RT @stonewalluk: The aim of the Statement is to set out a number of broader human rights concerns related to the COVID-19 pandemic, and to…',\n",
              " 'truncated': False,\n",
              " 'user': {'contributors_enabled': False,\n",
              "  'created_at': 'Mon Dec 26 01:40:41 +0000 2011',\n",
              "  'default_profile': False,\n",
              "  'default_profile_image': False,\n",
              "  'description': \"out of everything I've lost, I miss my mind the most. (she/her)\",\n",
              "  'entities': {'description': {'urls': []}},\n",
              "  'favourites_count': 87087,\n",
              "  'follow_request_sent': False,\n",
              "  'followers_count': 640,\n",
              "  'following': False,\n",
              "  'friends_count': 742,\n",
              "  'geo_enabled': False,\n",
              "  'has_extended_profile': True,\n",
              "  'id': 446682274,\n",
              "  'id_str': '446682274',\n",
              "  'is_translation_enabled': False,\n",
              "  'is_translator': False,\n",
              "  'lang': None,\n",
              "  'listed_count': 22,\n",
              "  'location': 'probably asleep.',\n",
              "  'name': 'ruth',\n",
              "  'notifications': False,\n",
              "  'profile_background_color': 'ACDED6',\n",
              "  'profile_background_image_url': 'http://abs.twimg.com/images/themes/theme18/bg.gif',\n",
              "  'profile_background_image_url_https': 'https://abs.twimg.com/images/themes/theme18/bg.gif',\n",
              "  'profile_background_tile': True,\n",
              "  'profile_banner_url': 'https://pbs.twimg.com/profile_banners/446682274/1554069640',\n",
              "  'profile_image_url': 'http://pbs.twimg.com/profile_images/1211451546552209408/y0yKy7NU_normal.jpg',\n",
              "  'profile_image_url_https': 'https://pbs.twimg.com/profile_images/1211451546552209408/y0yKy7NU_normal.jpg',\n",
              "  'profile_link_color': '19CF86',\n",
              "  'profile_sidebar_border_color': 'FFFFFF',\n",
              "  'profile_sidebar_fill_color': 'F6F6F6',\n",
              "  'profile_text_color': '333333',\n",
              "  'profile_use_background_image': True,\n",
              "  'protected': False,\n",
              "  'screen_name': 'ruth_walshe',\n",
              "  'statuses_count': 85945,\n",
              "  'time_zone': None,\n",
              "  'translator_type': 'none',\n",
              "  'url': None,\n",
              "  'utc_offset': None,\n",
              "  'verified': False}}"
            ]
          },
          "metadata": {
            "tags": []
          },
          "execution_count": 138
        }
      ]
    },
    {
      "cell_type": "markdown",
      "metadata": {
        "id": "weAXkqX0oiHB",
        "colab_type": "text"
      },
      "source": [
        "**Processo de Criação da Query de Busca e do Cursor.**"
      ]
    },
    {
      "cell_type": "code",
      "metadata": {
        "id": "KRhClx25ocTl",
        "colab_type": "code",
        "colab": {}
      },
      "source": [
        "#Definindo query de busca.\n",
        "#query_busca = \"#coronavirus\" + \"-filter:retweets\""
      ],
      "execution_count": null,
      "outputs": []
    },
    {
      "cell_type": "code",
      "metadata": {
        "id": "s9W-EZ79nxxq",
        "colab_type": "code",
        "colab": {}
      },
      "source": [
        "#Criando Cursor para a busca\n",
        "#cursor_tweets = tp.Cursor(twitter.search, q=query_busca).items(100)"
      ],
      "execution_count": null,
      "outputs": []
    },
    {
      "cell_type": "code",
      "metadata": {
        "id": "0KFKXGbhoimI",
        "colab_type": "code",
        "colab": {
          "base_uri": "https://localhost:8080/",
          "height": 1000
        },
        "outputId": "4cc5761f-281b-41e1-b881-d039912164b8"
      },
      "source": [
        "#for tweet in cursor_tweets:\n",
        "#  print(f'Usuário: {tweet.user.screen_name}')\n",
        "#  print(f'Tweet: {tweet.text}')\n",
        "#  print(f'Data: {tweet.created_at}')"
      ],
      "execution_count": null,
      "outputs": [
        {
          "output_type": "stream",
          "text": [
            "Usuário: Covid19RioNegro\n",
            "Tweet: COVID-19 Río Negro: Novedades Zona Andina al 14/06/2020 20:00 hs.\n",
            "#coronavirus #covid19 #RioNegro #Viedma #Bariloche https://t.co/5hdIZ9rSLT\n",
            "Data: 2020-06-15 13:01:28\n",
            "Usuário: BOLNETWORK\n",
            "Tweet: ایسے لیڈر کو چھوڑ دیں جو بیمار پڑنے پر باہر جا کر بیٹھ جاۓ \n",
            "اسد عمر کا قومی اسمبلی کے اجلاس میں اظہار خیال… https://t.co/9NvHLGvz9B\n",
            "Data: 2020-06-15 13:01:27\n",
            "Usuário: zahid00110\n",
            "Tweet: বাংলাদেশের করোনা ভাইরাস আপডেট জানতে \n",
            "নিচের লিংকে ক্লিক করুন \n",
            "https://t.co/6uY0EzQJCp\n",
            "#coronavirus \n",
            "#Bangladesh https://t.co/3Nzb9XkTxt\n",
            "Data: 2020-06-15 13:01:27\n",
            "Usuário: EC3Legal\n",
            "Tweet: The @TheFCA has updated its #businessinterruption webpage. The first Case Management Conference before a Judge is n… https://t.co/8llGNpCdWq\n",
            "Data: 2020-06-15 13:01:27\n",
            "Usuário: LAVOZcomar\n",
            "Tweet: #Coronavirus\n",
            "\n",
            "Informan otras 9 víctimas y se acerca a 10.000 el número de recuperados en la Argentina\n",
            "\n",
            "👉Ya son 842… https://t.co/en4kuZuGYY\n",
            "Data: 2020-06-15 13:01:26\n",
            "Usuário: xnetpics\n",
            "Tweet: @businessinsider #coronavirus https://t.co/Dorwu7imMx\n",
            "Data: 2020-06-15 13:01:26\n",
            "Usuário: INALIMEXICO\n",
            "Tweet: #Entérate\n",
            "\n",
            "La Secretaría de Pueblos y Barrios Originarios y Comunidades Indígenas Residentes (SEPI) con la asesoría… https://t.co/G9OMwWpVU2\n",
            "Data: 2020-06-15 13:01:25\n",
            "Usuário: McLovin_Foge\n",
            "Tweet: UNA VACUNA PARA GOBERNARLOS A TODOS... \n",
            "\n",
            "#Covid_19 \n",
            "#coronavirus https://t.co/bGiqX2PO8v\n",
            "Data: 2020-06-15 13:01:25\n",
            "Usuário: vigilantepoliti\n",
            "Tweet: Espaço acolhe população de rua de BH durante pandemia do coronavírus. Sediado na Serraria Souza Pinto, projeto tem… https://t.co/3CNCUzmvYf\n",
            "Data: 2020-06-15 13:01:24\n",
            "Usuário: AlexisAshi\n",
            "Tweet: #Oil ⬇️ falls on growing fears of #coronavirus second wave..\n",
            "#crude #wti #brent #oott \n",
            "https://t.co/kbls0s15VL https://t.co/bNOG1l9qLV\n",
            "Data: 2020-06-15 13:01:22\n",
            "Usuário: suvarnanewstv\n",
            "Tweet: ವೆಂಟಿಲೇಟರ್ ಬಳಿಕ ಕೊರೋನಾ ಹೋರಾಟಕ್ಕೆ ಮಹೀಂದ್ರ ಆ್ಯಂಬುಲೆನ್ಸ್!\n",
            "@MahindraRise #Coronavirus #Ambulance #Maharastra\n",
            "https://t.co/PUXb6N3sCD\n",
            "Data: 2020-06-15 13:01:21\n",
            "Usuário: BurgosDeporte\n",
            "Tweet: Burgos no ha registrado por décimo sexta jornada consecutiva ningún nuevo caso por PCR positivo con síntomas por Co… https://t.co/RUm6nYjHSP\n",
            "Data: 2020-06-15 13:01:20\n",
            "Usuário: mobbiemobes\n",
            "Tweet: MPs are braced for a rise in #Islamophobia as #mosques start to reopen across #England, after a rise in racism and… https://t.co/mM9yjbL0y3\n",
            "Data: 2020-06-15 13:01:19\n",
            "Usuário: MercySales3\n",
            "Tweet: https://t.co/ViVqkvGMzT\n",
            "#dontleavemechallange #depression #daterush #Qatar2022 #WaiguruFaceOfBBI #TachaPrenuer… https://t.co/OGIskuY9vN\n",
            "Data: 2020-06-15 13:01:19\n",
            "Usuário: OneindiaBengali\n",
            "Tweet: তামিলনাড়ুতে হতে চলেছে লকডাউন\n",
            "#tamilnadu #lockdown #EdappadiPalaniswami #coronavirus\n",
            "https://t.co/ZyQfCMaaJx\n",
            "Data: 2020-06-15 13:01:17\n",
            "Usuário: AlianzaProgress\n",
            "Tweet: La actualización del sábado del departamento de salud en #Florida marcó el mayor número de casos reportados en un d… https://t.co/dY8rZX1lMM\n",
            "Data: 2020-06-15 13:01:17\n",
            "Usuário: DEAN_Knows_Tech\n",
            "Tweet: Tips for Protecting People Against the Coronavirus During an Open House\n",
            "\n",
            "Read the full article: Tips for Holding an… https://t.co/4zsXRuKBum\n",
            "Data: 2020-06-15 13:01:15\n",
            "Usuário: midiariozulia\n",
            "Tweet: Peloteros afirman que negociaciones con Grandes Ligas son inútiles y piden fecha de inicio #midiariozulia… https://t.co/jjFTH2si0T\n",
            "Data: 2020-06-15 13:01:15\n",
            "Usuário: TheJesuitPost\n",
            "Tweet: The #coronavirus #pandemic has broken our habits of consumption. Now is a time to reassess so that we can create an… https://t.co/nBK0Bc4VG0\n",
            "Data: 2020-06-15 13:01:15\n",
            "Usuário: FcsSecurity\n",
            "Tweet: As the world has been impacted by #Coronavirus - Security guards &amp; services are being viewed as more vital than bef… https://t.co/0ibUZ16Rw4\n",
            "Data: 2020-06-15 13:01:14\n",
            "Usuário: MeghanMBiro\n",
            "Tweet: #AI, #VR, and the Internal Communication Revolution via @TalentCulture #coronavirus https://t.co/fn277RXY7U\n",
            "Data: 2020-06-15 13:01:14\n",
            "Usuário: ICEXKazajstan\n",
            "Tweet: #Kazajstán construye una fábrica dedicada a la producción de vacunas contra el #coronavirus, entre otras. https://t.co/l0Ur0vphGk\n",
            "Data: 2020-06-15 13:01:13\n",
            "Usuário: usdealsofficial\n",
            "Tweet: Make America Great Again #MAGA [ Multipurpose UV Face Shields ] Dust &amp; Windproof #COVID19 #coronavirus ➡️ SHOP NOW : https://t.co/1GEGrb7Xdg\n",
            "Data: 2020-06-15 13:01:12\n",
            "Usuário: ghmayares\n",
            "Tweet: #Neuquén El #domingo hubo ocho nuevos casos confirmados de #coronavirus en la provincia https://t.co/TA2wFSUkoh\n",
            "Data: 2020-06-15 13:01:12\n",
            "Usuário: TheDailyPioneer\n",
            "Tweet: #COVID19: Govt receives over 1 lakh #COVID-19 related grievances; @DrJitendraSingh  launches feedback call centres.… https://t.co/dvgKfayo6v\n",
            "Data: 2020-06-15 13:01:11\n",
            "Usuário: supplymgmt\n",
            "Tweet: Please take our short #coronavirus poll and tell us how you're currently reacting to the outbreak.… https://t.co/ivm2PDUyG4\n",
            "Data: 2020-06-15 13:01:11\n",
            "Usuário: pr23ma\n",
            "Tweet: Una pequeñita fiesta... Vamos a ver que son para los Alemanes \"pequeñitas fiestas\" #Covid_19 #coronavirus\n",
            "Data: 2020-06-15 13:01:10\n",
            "Usuário: pereznoesraton\n",
            "Tweet: Ahora es el momento de no bajar la guardia - Consejos para evitar el #contagio por #coronavirus - Qué hacer si debe… https://t.co/jq9QeCS6mX\n",
            "Data: 2020-06-15 13:01:10\n",
            "Usuário: HowardKennedy\n",
            "Tweet: What impact is the #coronavirus pandemic due to have on #BuyToLet investors? Pervaze Ahmed comments in @FTAdviser o… https://t.co/HGouLBb0uk\n",
            "Data: 2020-06-15 13:01:09\n",
            "Usuário: ZorgkaartNed\n",
            "Tweet: De #zorgverlening bij besmetting met het #coronavirus wordt op @ZorgkaartNed gewaardeerd met gemiddeld een 9,1! 👍… https://t.co/zt9qFayYEp\n",
            "Data: 2020-06-15 13:01:09\n",
            "Usuário: therealarod1984\n",
            "Tweet: US Airline Passenger Count for Sunday, June 14 (via TSA).  Doubling every 4 weeks continues.  Over 20% YOY for the… https://t.co/SaiS9XiBMe\n",
            "Data: 2020-06-15 13:01:08\n",
            "Usuário: jtrullols102828\n",
            "Tweet: #RD 15/06/2020. Futuros de #WallStreet y bolsas de valores a nivel mundial 🌐 se encuentran en terreno negativo debi… https://t.co/xGjhsV03YF\n",
            "Data: 2020-06-15 13:01:07\n",
            "Usuário: TiempoDCanarias\n",
            "Tweet: 🔴 IMPORTANTE 🔴\n",
            "\n",
            "🇮🇨 #Canarias prepara plan B para hacer test en destino si no se hacen en origen\n",
            "\n",
            "#Covid_19… https://t.co/zDq5usF8tU\n",
            "Data: 2020-06-15 13:01:07\n",
            "Usuário: buzz_corona\n",
            "Tweet: Coronavirus: Blood clots targeted in treatment trial (BBC) - https://t.co/9XSeLISHNe #coronavirus #research #publichealth\n",
            "Data: 2020-06-15 13:01:06\n",
            "Usuário: GreatGameIndia\n",
            "Tweet: EXCLUSIVE\n",
            "\n",
            "Newly released docs confirm what @GreatGameIndia reported in January. Chinese scientists smuggled deadly… https://t.co/nGexj9NxpF\n",
            "Data: 2020-06-15 13:01:05\n",
            "Usuário: isanidad\n",
            "Tweet: #Entrevista_iSanidad a la Dra. Calvo: “Ni Kawasaki ni shock, el cuadro inflamatorio en niños podría ser una reacció… https://t.co/dD4oLNDLS9\n",
            "Data: 2020-06-15 13:01:04\n",
            "Usuário: aufeminin\n",
            "Tweet: #coronavirus  Une deuxième vague d'épidémie affole la Chine https://t.co/GO7xHWUaRn https://t.co/tbiJPuGAb2\n",
            "Data: 2020-06-15 13:01:03\n",
            "Usuário: TenSommer\n",
            "Tweet: @pumpkinpaw Sorry to burge this but I am a single mother who was laid off due to #coronavirus.and is short of food… https://t.co/xMjvdO3aMG\n",
            "Data: 2020-06-15 13:01:03\n",
            "Usuário: Steve_Rosenbush\n",
            "Tweet: Coronavirus Privacy Bills Hit Roadblocks in Congress ⁦@DavidUberti⁩ #coronavirus #privacy #cio #data  https://t.co/7DMU0vspDo\n",
            "Data: 2020-06-15 13:01:02\n",
            "Usuário: LeVif\n",
            "Tweet: #BrusselsAirport: un passager refoulé car il présentait des symptômes du #coronavirus https://t.co/UodbgA9lFc\n",
            "Data: 2020-06-15 13:01:02\n",
            "Usuário: BDO_Canada\n",
            "Tweet: How can #retailers start to #recover from #COVID19? We offer 5 strategies. #retail #coronavirus https://t.co/VurqJ0cvXn\n",
            "Data: 2020-06-15 13:01:01\n",
            "Usuário: 1stIndiaNews\n",
            "Tweet: #Jaipur : कोरोना में लापरवाही बन सकती बड़ा खतरा !\n",
            "\n",
            "चिकित्सा मंत्री @RaghusharmaINC का बयान,कहा-'कुछ लोग कर रहे लापर… https://t.co/VWNsQQ6GEC\n",
            "Data: 2020-06-15 13:01:01\n",
            "Usuário: OLIO_ex\n",
            "Tweet: Humanity will be “finished” if we fail to drastically change our food systems in response to the #coronavirus pande… https://t.co/toNEUIdS7x\n",
            "Data: 2020-06-15 13:01:00\n",
            "Usuário: Covid_Africa\n",
            "Tweet: If policy decisions are made without women's input, the result, @GwenKYoung writes, \"will be that the needs of the… https://t.co/9Qondb0kpJ\n",
            "Data: 2020-06-15 13:01:00\n",
            "Usuário: PrivacyWallOrg\n",
            "Tweet: 🇺🇸The #JHU #COVID19 Dashboard by @JohnsHopkins is a great resource to track #coronavirus cases\n",
            "\n",
            "🏆 Total Confirmed… https://t.co/J4GcOxeysC\n",
            "Data: 2020-06-15 13:01:00\n",
            "Usuário: NotGip\n",
            "Tweet: 🏖️ [Gipuzkoa. #Coronavirus] @ZarauzkoUdala activa el sistema de control de aforo de la playa.… https://t.co/7e94QN1ypa\n",
            "Data: 2020-06-15 13:01:00\n",
            "Usuário: KSBY\n",
            "Tweet: Months into the outbreak, no one really knows how well many of the #coronavirus screening tests work, and experts a… https://t.co/i3xzckh6KW\n",
            "Data: 2020-06-15 13:01:00\n",
            "Usuário: techjunkiejh\n",
            "Tweet: Opinion | No, Coronavirus Isn’t Proof We Need Socialism https://t.co/UbY5eM09Wb #coronavirus #CoronaVtj… https://t.co/Nw1rdhwEsA\n",
            "Data: 2020-06-15 13:00:59\n",
            "Usuário: IOMGovernment\n",
            "Tweet: Today's #coronavirus briefing takes place at 4pm the Chief Minister, Howard Quayle MHK and Department for Enterpris… https://t.co/H3GBzir9QV\n",
            "Data: 2020-06-15 13:00:54\n",
            "Usuário: amg9847\n",
            "Tweet: #Chile reportó este domingo #14Jun, récord de 6938 contagios de #Coronavirus en 24 horas.\n",
            "Data: 2020-06-15 13:00:54\n",
            "Usuário: GlobalNewsBeast\n",
            "Tweet: Taser-wielding NYPD cop punches bystander during #SocialDistancingBust #cops #Covid19 #CoronaVirus #GeorgeFloyd… https://t.co/lyhIzrIEey\n",
            "Data: 2020-06-15 13:00:52\n",
            "Usuário: rionegrocomar\n",
            "Tweet: 🛑 #CORONAVIRUS en #Roca: En una semana se registraron 41 nuevos casos y hubo 22 personas curadas. Dos pacientes fal… https://t.co/z2nTMCBW1r\n",
            "Data: 2020-06-15 13:00:49\n",
            "Usuário: AktionDHilft\n",
            "Tweet: Das #Coronavirus macht auch vor den #Philippinen nicht halt. Die Auswirkungen der #Pandemie sind für die Bewohner d… https://t.co/X3Js7ixTFT\n",
            "Data: 2020-06-15 13:00:49\n",
            "Usuário: deia_eus\n",
            "Tweet: 😷¿Cuándo comenzará la \"nueva normalidad\" en Euskadi? \n",
            "\n",
            "#Desescalada #coronavirus #PositivosEnCoronavirus \n",
            "\n",
            "https://t.co/E1dLZGYaEi\n",
            "Data: 2020-06-15 13:00:49\n",
            "Usuário: bitcoinconnect\n",
            "Tweet: ‘Absolutely Suffocating’: Hot Temperatures Complicate Coronavirus Face Mask Safety INSTOCK HERE ==&gt;… https://t.co/F8nKUXMuMB\n",
            "Data: 2020-06-15 13:00:49\n",
            "Usuário: midiariozulia\n",
            "Tweet: Encuentran sin vida al actor indio Sushant Singh Rajput #midiariozulia #midiariooficial #QuedateEnCasa #Covid_19… https://t.co/nk83p4jgAg\n",
            "Data: 2020-06-15 13:00:49\n",
            "Usuário: BTCityNewsCGY\n",
            "Tweet: #ICYMI: Alberta is reporting 50 new COVID-19 cases this afternoon, leaving 422 active cases across the province.… https://t.co/ZOhVWpYzxF\n",
            "Data: 2020-06-15 13:00:47\n",
            "Usuário: maalaimalar\n",
            "Tweet: பொதுமுடக்கம்- டாஸ்மாக் கடைகளை மூட உத்தரவு\n",
            "\n",
            "https://t.co/kgPW67OtUx\n",
            "\n",
            "#Coronavirus #tasmacshops\n",
            "Data: 2020-06-15 13:00:46\n",
            "Usuário: BioBiomedical\n",
            "Tweet: Para el transporte de muestras del coronavirus, es de obligado cumplimiento utilizar unos embalajes validados y hom… https://t.co/oSVznyZ4Za\n",
            "Data: 2020-06-15 13:00:45\n",
            "Usuário: 660NEWS\n",
            "Tweet: #ICYMI: Alberta is reporting 50 new COVID-19 cases this afternoon, leaving 422 active cases across the province.… https://t.co/9Hh8kLS9FP\n",
            "Data: 2020-06-15 13:00:45\n",
            "Usuário: judognu\n",
            "Tweet: 👊💪🥋\n",
            "#judognuemcasa\n",
            "#coronavirus\n",
            "#fiqueemcasa\n",
            "#esporteeoquenosune\n",
            "#judognu\n",
            "#familiajudognu\n",
            "#juntoscontraovirus… https://t.co/tu1D6XDGGP\n",
            "Data: 2020-06-15 13:00:44\n",
            "Usuário: BobMongeluzzi\n",
            "Tweet: Guidance for #Agriculture Workers and Employers - #CoronaVirus #KeepWorkersSafe https://t.co/IBGm8hm93a https://t.co/lqTsgVSlTu\n",
            "Data: 2020-06-15 13:00:44\n",
            "Usuário: merehut\n",
            "Tweet: This is the predictable result of opening the economy too soon. #coronavirus #Covid_19 #Arizona #Florida https://t.co/n4TBOETB2m\n",
            "Data: 2020-06-15 13:00:43\n",
            "Usuário: SMBBlaw\n",
            "Tweet: Guidance for #Agriculture Workers and Employers - #CoronaVirus #CDC\n",
            " https://t.co/utvozfbhrA https://t.co/nsqK5crmip\n",
            "Data: 2020-06-15 13:00:43\n",
            "Usuário: Petro_online\n",
            "Tweet: The need for greater lab #automation &amp; less human contact after #COVID__19 could be a necessary reality for… https://t.co/FpzfHIj08U\n",
            "Data: 2020-06-15 13:00:43\n",
            "Usuário: VozdeRosario\n",
            "Tweet: #LaPlata: Una mujer con #coronavirus😷 dio a luz a gemelos\n",
            "#LaVozdeRosario \n",
            "\n",
            "https://t.co/yfSlcMJvYn\n",
            "Data: 2020-06-15 13:00:41\n",
            "Usuário: Davey_Law\n",
            "Tweet: This week is #LonlinessAwarenessWeek. There are 1.4m chronically lonely older people in the UK, but not only older… https://t.co/pQB89h8pKk\n",
            "Data: 2020-06-15 13:00:40\n",
            "Usuário: eqsnotas\n",
            "Tweet: #Coronavirus: suman 842 los muertos en Argentina y 9891 los recuperados https://t.co/5YxUIob3r0\n",
            "Data: 2020-06-15 13:00:36\n",
            "Usuário: TelemundoNews\n",
            "Tweet: 📣 Un trasplante doble de pulmón salvó a una joven hispana del #coronavirus: la cirugía es la primera que se realiza… https://t.co/zf96hRiyTr\n",
            "Data: 2020-06-15 13:00:36\n",
            "Usuário: elpatagonico\n",
            "Tweet: #Coronavirus #Argentina\n",
            "Hubo 9 muertes en las últimas 12 horas y ya son 842\n",
            "\n",
            "https://t.co/fDfCY1FIS9\n",
            "Data: 2020-06-15 13:00:33\n",
            "Usuário: bray_ie\n",
            "Tweet: Just a reminder that @Wicklowcoco's Community Call Team are now available from 8am until 5pm daily #COVID19… https://t.co/ZI4XYbbHqL\n",
            "Data: 2020-06-15 13:00:33\n",
            "Usuário: mayawiley\n",
            "Tweet: This may not be what anyone wants to read Monday morning amid fears around #Coronavirus reopenings &amp; the fight for… https://t.co/XPOGprvtUV\n",
            "Data: 2020-06-15 13:00:32\n",
            "Usuário: imjvithu\n",
            "Tweet: நாட்டில் மேலும் ஒரு கடற்படை வீரருக்கு கொரோனா வைரஸ், (இன்றுமட்டும் 13 பேர்) மொத்த நோயாளிகளின் எண்ணிக்கை 1,902 ஆக அதி… https://t.co/iEFvxzPKbv\n",
            "Data: 2020-06-15 13:00:30\n",
            "Usuário: ianbremmer\n",
            "Tweet: TODAY: Sign up for our Signal newsletter and you'll receive our new Monday special edition exploring how… https://t.co/iX5SpyMuzE\n",
            "Data: 2020-06-15 13:00:30\n",
            "Usuário: EURACTIVBerlin\n",
            "Tweet: #COVID19 Updates\n",
            "\n",
            "🇩🇪  Bürger sollen neue #CoronaApp ab Dienstag nutzen können\n",
            "🇨🇳  Weitere zehn Wohngebiete in Pekin… https://t.co/nSrIIYKGDQ\n",
            "Data: 2020-06-15 13:00:29\n",
            "Usuário: gzeromedia\n",
            "Tweet: TODAY: Sign up for our Signal newsletter and you'll receive our new Monday special edition exploring how… https://t.co/7vizjUJbgs\n",
            "Data: 2020-06-15 13:00:29\n",
            "Usuário: chadbensonshow\n",
            "Tweet: Happy Monday who is ready for another CRAZY week of who knows what?\n",
            "#MondayMorning #coronavirus #COVID19 #protests… https://t.co/HR9BJlxqTp\n",
            "Data: 2020-06-15 13:00:28\n",
            "Usuário: PresshubU\n",
            "Tweet: [chicagotribune]  #Coronavirus in Illinois updates: Here’s what’s happening Monday with  #COVID-19 in the Chicago a… https://t.co/XR4YBkxXFv\n",
            "Data: 2020-06-15 13:00:28\n",
            "Usuário: ciltuk\n",
            "Tweet: Don’t miss this week’s FREE event by @PTRC_UK about the lasting impacts #COVID19 will have on public #transport. Is… https://t.co/E2f9KRxU31\n",
            "Data: 2020-06-15 13:00:28\n",
            "Usuário: LarryBendesky\n",
            "Tweet: Guidance for #Agriculture Workers and Employers - #CoronaVirus #WorkplaceSafety https://t.co/B4Z9SzfWcb https://t.co/qvaigbH8qM\n",
            "Data: 2020-06-15 13:00:27\n",
            "Usuário: InstituteDFA\n",
            "Tweet: How a divorce could prepare you for the COVID-19 crisis.\n",
            "\n",
            "https://t.co/ewdkOoT5ZF \n",
            "\n",
            "#Divorce #Coronavirus #Prepare #Finance #Plan\n",
            "Data: 2020-06-15 13:00:27\n",
            "Usuário: Yer_Wells\n",
            "Tweet: Que sí, que ya estamos casi en la nueva normalidad, pero... no me parece normal las fiestas que os montáis algunos… https://t.co/QLDRnhoXSh\n",
            "Data: 2020-06-15 13:00:27\n",
            "Usuário: HongKongFP\n",
            "Tweet: [Recap] Coronavirus: How crowdfunding helped a live music venue survive Hong Kong’s shutdown… https://t.co/n7AH0zZpXp\n",
            "Data: 2020-06-15 13:00:27\n",
            "Usuário: UpbmAsso\n",
            "Tweet: Les responsables chinois ne savent pas comment l'énorme marché de gros de Xinfandi (80% des légumes et de la viande… https://t.co/fPFkkDg9BJ\n",
            "Data: 2020-06-15 13:00:27\n",
            "Usuário: fixedbyvonnie\n",
            "Tweet: New Blog Post is LIVE! Get instant access to your step-by-step game plan for building your #onlinebusiness during t… https://t.co/dImk9CVARQ\n",
            "Data: 2020-06-15 13:00:26\n",
            "Usuário: JujuyalMomento\n",
            "Tweet: #Coronavirus 🧪│#BioquímicosJujeños se desempeñan en tareas de diagnóstico, seguimiento y prevención\n",
            "\n",
            "👉 En lo que re… https://t.co/SKYMFrRx35\n",
            "Data: 2020-06-15 13:00:26\n",
            "Usuário: ETF_Strategist\n",
            "Tweet: Was it the #Shutdown or the #coronavirus that caused the recession?  Will a #SecondWave prompt shutdown?  Not likely\n",
            "Data: 2020-06-15 13:00:25\n",
            "Usuário: Covid19RioNegro\n",
            "Tweet: COVID-19 Río Negro: Novedades Zona Valle Medio al 14/06/2020 20:00 hs.\n",
            "#coronavirus #covid19 #RioNegro #Viedma… https://t.co/GqmabMtavg\n",
            "Data: 2020-06-15 13:00:25\n",
            "Usuário: thedextazlab\n",
            "Tweet: COVID-19 Updates (globally)\n",
            "\n",
            "Total cases: 8,024,914 \n",
            "Dead: 436,218 \n",
            "Recovered: 4,144,947 \n",
            "Last updated: June 15, 20… https://t.co/C6Ue3YNyOW\n",
            "Data: 2020-06-15 13:00:25\n",
            "Usuário: armadalefarm\n",
            "Tweet: Lots happening online this week showcasing all that’s great about the @ScotlandRHShow . Making the best of… https://t.co/J5HkjxAr5R\n",
            "Data: 2020-06-15 13:00:25\n",
            "Usuário: Chalkbeat\n",
            "Tweet: You may remember Sarah Alli-Brown, the 16-year-old student juggling SAT prep, college classes, learning to drive, a… https://t.co/Ap1nYQc9Ds\n",
            "Data: 2020-06-15 13:00:25\n",
            "Usuário: sunglass20131\n",
            "Tweet: 🎼\n",
            "【作業用BGM】music for side job\n",
            "\n",
            "NieR ~ Jazz | NES Mix\n",
            "\n",
            "NieR ~OST~Original Soundtrack~\n",
            "\n",
            "NieR Gestalt &amp; Replicant ~OST~… https://t.co/F4yvcoKJfR\n",
            "Data: 2020-06-15 13:00:24\n",
            "Usuário: LinkMeUp_UK\n",
            "Tweet: Don't forget: from today, it's compulsory to wear a face mask on public transport across the country\n",
            "\n",
            "There's no ne… https://t.co/whGEqLg1yJ\n",
            "Data: 2020-06-15 13:00:24\n",
            "Usuário: RaboWholesale\n",
            "Tweet: The renewables market is expected to bounce back quickly from the #coronavirus pandemic. The U.S. was recently rank… https://t.co/xIYRK3Q01D\n",
            "Data: 2020-06-15 13:00:22\n",
            "Usuário: chanivito\n",
            "Tweet: #Hidroxicloroquina, ¿sí o no? / #Hydroxychloroquine, yes or not? | https://t.co/mXf0u0hYiX https://t.co/WDBSJs3ffs… https://t.co/DSwLrCt2KW\n",
            "Data: 2020-06-15 13:00:22\n",
            "Usuário: asianet_telugu\n",
            "Tweet: కరోనా కలకలం: పేట్లబురుజు ఆసుపత్రిలో 32 మందికి కరోనా\n",
            "\n",
            "#coronavirus #telanganagovernment #hyderabad\n",
            "\n",
            "https://t.co/hPpJa0ioZb\n",
            "Data: 2020-06-15 13:00:20\n",
            "Usuário: CovidData2\n",
            "Tweet: New COVID-19 Data at 2020-06-15 09:00:00 am EDT #Coronavirus #COVID19 https://t.co/ucsl3hn7Lh\n",
            "Data: 2020-06-15 13:00:19\n",
            "Usuário: BlessingSales\n",
            "Tweet: https://t.co/h4Mu3pXbhs\n",
            "#dontleavemechallange #depression #daterush #Qatar2022 #WaiguruFaceOfBBI #TachaPrenuer… https://t.co/yaYNqVf5d3\n",
            "Data: 2020-06-15 13:00:19\n",
            "Usuário: thandoratimes\n",
            "Tweet: #Beijing shuts market after #coronavirus found on salmon chopping board\n",
            "\n",
            "#China #WuhanVirus #Beijing #Market… https://t.co/dfO4hQzj0x\n",
            "Data: 2020-06-15 13:00:19\n",
            "Usuário: RamchandaniGP\n",
            "Tweet: Do not kill innocent, helpless creatures for food, flavour, feather, fashion, festival, fur or fun. Be 100% Vegetar… https://t.co/h44oMgSscJ\n",
            "Data: 2020-06-15 13:00:18\n"
          ],
          "name": "stdout"
        }
      ]
    },
    {
      "cell_type": "markdown",
      "metadata": {
        "id": "-oSpb1Aymxfj",
        "colab_type": "text"
      },
      "source": [
        "# Armazenando os Dados em um Data Frame"
      ]
    },
    {
      "cell_type": "code",
      "metadata": {
        "id": "w4XBLZcAqbY9",
        "colab_type": "code",
        "colab": {
          "base_uri": "https://localhost:8080/",
          "height": 55
        },
        "outputId": "26ea714c-1790-4b4e-9bbd-7d1de0079a5f"
      },
      "source": [
        "#Visualizando as propriedades de um Tweet\n",
        "tweet._json.keys()"
      ],
      "execution_count": null,
      "outputs": [
        {
          "output_type": "execute_result",
          "data": {
            "text/plain": [
              "dict_keys(['created_at', 'id', 'id_str', 'text', 'truncated', 'entities', 'metadata', 'source', 'in_reply_to_status_id', 'in_reply_to_status_id_str', 'in_reply_to_user_id', 'in_reply_to_user_id_str', 'in_reply_to_screen_name', 'user', 'geo', 'coordinates', 'place', 'contributors', 'is_quote_status', 'retweet_count', 'favorite_count', 'favorited', 'retweeted', 'possibly_sensitive', 'lang'])"
            ]
          },
          "metadata": {
            "tags": []
          },
          "execution_count": 13
        }
      ]
    },
    {
      "cell_type": "code",
      "metadata": {
        "id": "-8Yjj_NKq1KA",
        "colab_type": "code",
        "colab": {}
      },
      "source": [
        "tweets_dict = {}\n",
        "tweets_dict = tweets_dict.fromkeys(['created_at', 'id', 'text', 'user', 'lang'])"
      ],
      "execution_count": null,
      "outputs": []
    },
    {
      "cell_type": "code",
      "metadata": {
        "id": "gZXhZm2vq4tI",
        "colab_type": "code",
        "colab": {
          "base_uri": "https://localhost:8080/",
          "height": 35
        },
        "outputId": "2857f207-6472-4bf3-84eb-8f35b970ea70"
      },
      "source": [
        "tweets_dict"
      ],
      "execution_count": null,
      "outputs": [
        {
          "output_type": "execute_result",
          "data": {
            "text/plain": [
              "{'created_at': None, 'id': None, 'lang': None, 'text': None, 'user': None}"
            ]
          },
          "metadata": {
            "tags": []
          },
          "execution_count": 15
        }
      ]
    },
    {
      "cell_type": "code",
      "metadata": {
        "id": "VqNV8Ew8ulvh",
        "colab_type": "code",
        "colab": {}
      },
      "source": [
        "#Definindo query de busca\n",
        "query_busca = \"#covid\" + \"-filter:retweets\""
      ],
      "execution_count": null,
      "outputs": []
    },
    {
      "cell_type": "code",
      "metadata": {
        "id": "I2oHfGuMumUN",
        "colab_type": "code",
        "colab": {}
      },
      "source": [
        "#Armazenando os tweets que resultaram da busca\n",
        "cursor_tweets = tp.Cursor(twitter.search, q=query_busca, lang='pt').items(2000)"
      ],
      "execution_count": null,
      "outputs": []
    },
    {
      "cell_type": "code",
      "metadata": {
        "id": "jNYZeIxVrbDj",
        "colab_type": "code",
        "colab": {}
      },
      "source": [
        "#Percorrer as chaves do meu tweet, para a lista de tweets e capturar os valores.\n",
        "#Tratamento de exceções para valores vazios (nulos)\n",
        "for tweet in cursor_tweets:\n",
        "    for key in tweets_dict.keys():\n",
        "        try:\n",
        "            twvalue = tweet._json[key]\n",
        "            tweets_dict[key].append(twvalue)\n",
        "        except KeyError:\n",
        "            twvalue = \"\"\n",
        "            if(tweets_dict[key] is None):\n",
        "                tweets_dict[key] = [twvalue]\n",
        "            else:\n",
        "                tweets_dict[key].append(twvalue)\n",
        "        except:\n",
        "            tweets_dict[key] = [twvalue]"
      ],
      "execution_count": null,
      "outputs": []
    },
    {
      "cell_type": "code",
      "metadata": {
        "id": "O_ucwRNk2Fs1",
        "colab_type": "code",
        "colab": {}
      },
      "source": [
        "df = pd.DataFrame()"
      ],
      "execution_count": null,
      "outputs": []
    },
    {
      "cell_type": "code",
      "metadata": {
        "id": "k__P3Krxsa6z",
        "colab_type": "code",
        "colab": {}
      },
      "source": [
        "#Método Pandas para criar Data Frame a partir de um Dicionário\n",
        "df = pd.DataFrame.from_dict(tweets_dict)"
      ],
      "execution_count": null,
      "outputs": []
    },
    {
      "cell_type": "code",
      "metadata": {
        "id": "CXWh-QpBsrFO",
        "colab_type": "code",
        "colab": {
          "base_uri": "https://localhost:8080/",
          "height": 529
        },
        "outputId": "1ee66606-4d9b-44b8-adfa-55d56732422c"
      },
      "source": [
        "#Visualizando os dados \n",
        "df.head(10)"
      ],
      "execution_count": null,
      "outputs": [
        {
          "output_type": "execute_result",
          "data": {
            "text/html": [
              "<div>\n",
              "<style scoped>\n",
              "    .dataframe tbody tr th:only-of-type {\n",
              "        vertical-align: middle;\n",
              "    }\n",
              "\n",
              "    .dataframe tbody tr th {\n",
              "        vertical-align: top;\n",
              "    }\n",
              "\n",
              "    .dataframe thead th {\n",
              "        text-align: right;\n",
              "    }\n",
              "</style>\n",
              "<table border=\"1\" class=\"dataframe\">\n",
              "  <thead>\n",
              "    <tr style=\"text-align: right;\">\n",
              "      <th></th>\n",
              "      <th>created_at</th>\n",
              "      <th>id</th>\n",
              "      <th>text</th>\n",
              "      <th>user</th>\n",
              "      <th>lang</th>\n",
              "    </tr>\n",
              "  </thead>\n",
              "  <tbody>\n",
              "    <tr>\n",
              "      <th>0</th>\n",
              "      <td>Mon May 18 17:53:01 +0000 2020</td>\n",
              "      <td>1262441074133544960</td>\n",
              "      <td>Tudo mudou na nossa forma de trabalhar, mas na...</td>\n",
              "      <td>{'id': 162431125, 'id_str': '162431125', 'name...</td>\n",
              "      <td>pt</td>\n",
              "    </tr>\n",
              "    <tr>\n",
              "      <th>1</th>\n",
              "      <td>Mon May 18 17:52:17 +0000 2020</td>\n",
              "      <td>1262440889932222464</td>\n",
              "      <td>McDonald’s já reabriu lojas ao público https:/...</td>\n",
              "      <td>{'id': 3070303182, 'id_str': '3070303182', 'na...</td>\n",
              "      <td>pt</td>\n",
              "    </tr>\n",
              "    <tr>\n",
              "      <th>2</th>\n",
              "      <td>Mon May 18 17:50:40 +0000 2020</td>\n",
              "      <td>1262440481708965889</td>\n",
              "      <td>Sindicato, está atento em tudo o que envolve s...</td>\n",
              "      <td>{'id': 4018807829, 'id_str': '4018807829', 'na...</td>\n",
              "      <td>pt</td>\n",
              "    </tr>\n",
              "    <tr>\n",
              "      <th>3</th>\n",
              "      <td>Mon May 18 17:49:17 +0000 2020</td>\n",
              "      <td>1262440134869483522</td>\n",
              "      <td>Nossos problemas da saúde definitivamente acab...</td>\n",
              "      <td>{'id': 421474549, 'id_str': '421474549', 'name...</td>\n",
              "      <td>pt</td>\n",
              "    </tr>\n",
              "    <tr>\n",
              "      <th>4</th>\n",
              "      <td>Mon May 18 17:49:06 +0000 2020</td>\n",
              "      <td>1262440088258166787</td>\n",
              "      <td>Fábricas de todo o mundo se viram obrigadas a ...</td>\n",
              "      <td>{'id': 1239557650167275527, 'id_str': '1239557...</td>\n",
              "      <td>pt</td>\n",
              "    </tr>\n",
              "    <tr>\n",
              "      <th>5</th>\n",
              "      <td>Mon May 18 17:47:10 +0000 2020</td>\n",
              "      <td>1262439600502554625</td>\n",
              "      <td>@g1 @RedeGlobo @jornalhoje o governo de @jairb...</td>\n",
              "      <td>{'id': 2648811254, 'id_str': '2648811254', 'na...</td>\n",
              "      <td>pt</td>\n",
              "    </tr>\n",
              "    <tr>\n",
              "      <th>6</th>\n",
              "      <td>Mon May 18 17:44:57 +0000 2020</td>\n",
              "      <td>1262439042064490497</td>\n",
              "      <td>Lei N° 6666, nos #EUA, que pretende traçar e i...</td>\n",
              "      <td>{'id': 1185223843658502144, 'id_str': '1185223...</td>\n",
              "      <td>pt</td>\n",
              "    </tr>\n",
              "    <tr>\n",
              "      <th>7</th>\n",
              "      <td>Mon May 18 17:40:51 +0000 2020</td>\n",
              "      <td>1262438012639760391</td>\n",
              "      <td>https://t.co/mcftUwJr5F o governo precisa ser ...</td>\n",
              "      <td>{'id': 89487658, 'id_str': '89487658', 'name':...</td>\n",
              "      <td>pt</td>\n",
              "    </tr>\n",
              "    <tr>\n",
              "      <th>8</th>\n",
              "      <td>Mon May 18 17:40:12 +0000 2020</td>\n",
              "      <td>1262437846138474496</td>\n",
              "      <td>Blockchain: a tecnologia que popularizou o #bi...</td>\n",
              "      <td>{'id': 3460886313, 'id_str': '3460886313', 'na...</td>\n",
              "      <td>pt</td>\n",
              "    </tr>\n",
              "    <tr>\n",
              "      <th>9</th>\n",
              "      <td>Mon May 18 17:36:44 +0000 2020</td>\n",
              "      <td>1262436975627436033</td>\n",
              "      <td>VOCÊS CONHECEM ALGUM PAÍS ALÉM DO BRASIL QUE T...</td>\n",
              "      <td>{'id': 53591817, 'id_str': '53591817', 'name':...</td>\n",
              "      <td>pt</td>\n",
              "    </tr>\n",
              "  </tbody>\n",
              "</table>\n",
              "</div>"
            ],
            "text/plain": [
              "                       created_at  ...  lang\n",
              "0  Mon May 18 17:53:01 +0000 2020  ...    pt\n",
              "1  Mon May 18 17:52:17 +0000 2020  ...    pt\n",
              "2  Mon May 18 17:50:40 +0000 2020  ...    pt\n",
              "3  Mon May 18 17:49:17 +0000 2020  ...    pt\n",
              "4  Mon May 18 17:49:06 +0000 2020  ...    pt\n",
              "5  Mon May 18 17:47:10 +0000 2020  ...    pt\n",
              "6  Mon May 18 17:44:57 +0000 2020  ...    pt\n",
              "7  Mon May 18 17:40:51 +0000 2020  ...    pt\n",
              "8  Mon May 18 17:40:12 +0000 2020  ...    pt\n",
              "9  Mon May 18 17:36:44 +0000 2020  ...    pt\n",
              "\n",
              "[10 rows x 5 columns]"
            ]
          },
          "metadata": {
            "tags": []
          },
          "execution_count": 150
        }
      ]
    },
    {
      "cell_type": "code",
      "metadata": {
        "id": "cKAdeGqCu5dz",
        "colab_type": "code",
        "colab": {
          "base_uri": "https://localhost:8080/",
          "height": 34
        },
        "outputId": "40d175de-5ef2-4577-bb0b-13d62aec04f3"
      },
      "source": [
        "#Visualizando a estrutura do DataFrame\n",
        "df.shape"
      ],
      "execution_count": null,
      "outputs": [
        {
          "output_type": "execute_result",
          "data": {
            "text/plain": [
              "(2000, 5)"
            ]
          },
          "metadata": {
            "tags": []
          },
          "execution_count": 151
        }
      ]
    },
    {
      "cell_type": "code",
      "metadata": {
        "id": "1vneBE1QvaYe",
        "colab_type": "code",
        "colab": {}
      },
      "source": [
        "#Filtrando tweets em inglês\n",
        "tweets_en = df.loc[df.lang == 'en', :]"
      ],
      "execution_count": null,
      "outputs": []
    },
    {
      "cell_type": "code",
      "metadata": {
        "id": "ReKQgRXcvlKL",
        "colab_type": "code",
        "colab": {}
      },
      "source": [
        "#Filtrando tweets em português\n",
        "tweets_pt = df.loc[df.lang == 'pt', :]"
      ],
      "execution_count": null,
      "outputs": []
    },
    {
      "cell_type": "code",
      "metadata": {
        "id": "-HWh5aHIwF1s",
        "colab_type": "code",
        "colab": {
          "base_uri": "https://localhost:8080/",
          "height": 34
        },
        "outputId": "a886ef77-fee4-4518-cb63-e780ed083205"
      },
      "source": [
        "#Verificando a quantidade de tweets em inglês\n",
        "tweets_en['lang'].value_counts()"
      ],
      "execution_count": null,
      "outputs": [
        {
          "output_type": "execute_result",
          "data": {
            "text/plain": [
              "Series([], Name: lang, dtype: int64)"
            ]
          },
          "metadata": {
            "tags": []
          },
          "execution_count": 154
        }
      ]
    },
    {
      "cell_type": "code",
      "metadata": {
        "id": "q1IDN5C3wJTN",
        "colab_type": "code",
        "colab": {
          "base_uri": "https://localhost:8080/",
          "height": 51
        },
        "outputId": "e5c8d2a8-3686-4c14-e8ac-8984cfc338ac"
      },
      "source": [
        "#Verificando a quantidade de tweets em português\n",
        "tweets_pt['lang'].value_counts()"
      ],
      "execution_count": null,
      "outputs": [
        {
          "output_type": "execute_result",
          "data": {
            "text/plain": [
              "pt    2000\n",
              "Name: lang, dtype: int64"
            ]
          },
          "metadata": {
            "tags": []
          },
          "execution_count": 155
        }
      ]
    },
    {
      "cell_type": "code",
      "metadata": {
        "id": "2W8iJELY7NQE",
        "colab_type": "code",
        "colab": {}
      },
      "source": [
        "#Criando Arquivo CSV a partir desses dados.\n",
        "df.to_csv('tweets_pt.csv')"
      ],
      "execution_count": null,
      "outputs": []
    }
  ]
}
