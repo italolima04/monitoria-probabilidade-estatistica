{
  "nbformat": 4,
  "nbformat_minor": 0,
  "metadata": {
    "colab": {
      "name": "Apresentação-PID-Implementação.ipynb",
      "provenance": [],
      "collapsed_sections": [
        "gkC8_WYKbZzk",
        "ODGTbFZojcmE",
        "AyJflrkppvx-",
        "g2mUr55up03T",
        "__2Ai0mV4Su7",
        "s1veSZon3rmW"
      ],
      "authorship_tag": "ABX9TyN4BVgk6SueatBSFZrbHfSk",
      "include_colab_link": true
    },
    "kernelspec": {
      "name": "python3",
      "display_name": "Python 3"
    }
  },
  "cells": [
    {
      "cell_type": "markdown",
      "metadata": {
        "id": "view-in-github",
        "colab_type": "text"
      },
      "source": [
        "<a href=\"https://colab.research.google.com/github/italolima04/monitoria-probabilidade-estatistica/blob/master/Pesquisa-PID/Implementa%C3%A7%C3%A3o-Algoritmos/Apresenta%C3%A7%C3%A3o_PID_Implementa%C3%A7%C3%A3o.ipynb\" target=\"_parent\"><img src=\"https://colab.research.google.com/assets/colab-badge.svg\" alt=\"Open In Colab\"/></a>"
      ]
    },
    {
      "cell_type": "markdown",
      "metadata": {
        "id": "gkC8_WYKbZzk",
        "colab_type": "text"
      },
      "source": [
        "# Importando Bibliotecas, Módulos e Dados"
      ]
    },
    {
      "cell_type": "code",
      "metadata": {
        "id": "EslyX3HlbG4v",
        "colab_type": "code",
        "colab": {
          "base_uri": "https://localhost:8080/",
          "height": 51
        },
        "outputId": "3dc6f11c-a2e9-4c85-f1b4-e2b67accef5c"
      },
      "source": [
        "import pandas as pd\n",
        "import numpy as np\n",
        "import nltk\n",
        "nltk.download('stopwords')\n",
        "import re\n",
        "from sklearn.feature_extraction.text import CountVectorizer"
      ],
      "execution_count": 14,
      "outputs": [
        {
          "output_type": "stream",
          "text": [
            "[nltk_data] Downloading package stopwords to /root/nltk_data...\n",
            "[nltk_data]   Package stopwords is already up-to-date!\n"
          ],
          "name": "stdout"
        }
      ]
    },
    {
      "cell_type": "code",
      "metadata": {
        "id": "JXYfvKDAbeZC",
        "colab_type": "code",
        "colab": {}
      },
      "source": [
        "#Criando Data Frame a partir dos dados.\n",
        "data = pd.read_csv('dados-pesquisa.csv')"
      ],
      "execution_count": 15,
      "outputs": []
    },
    {
      "cell_type": "markdown",
      "metadata": {
        "id": "ODGTbFZojcmE",
        "colab_type": "text"
      },
      "source": [
        "# Visualizando e Explorando Dados"
      ]
    },
    {
      "cell_type": "code",
      "metadata": {
        "id": "DrcjQhYxjqS0",
        "colab_type": "code",
        "colab": {
          "base_uri": "https://localhost:8080/",
          "height": 204
        },
        "outputId": "8ff2b673-e8f9-4eae-c7ee-95f0a59e95cd"
      },
      "source": [
        "#Visualizando as 5 primeiras linhas.\n",
        "data.head()"
      ],
      "execution_count": 16,
      "outputs": [
        {
          "output_type": "execute_result",
          "data": {
            "text/html": [
              "<div>\n",
              "<style scoped>\n",
              "    .dataframe tbody tr th:only-of-type {\n",
              "        vertical-align: middle;\n",
              "    }\n",
              "\n",
              "    .dataframe tbody tr th {\n",
              "        vertical-align: top;\n",
              "    }\n",
              "\n",
              "    .dataframe thead th {\n",
              "        text-align: right;\n",
              "    }\n",
              "</style>\n",
              "<table border=\"1\" class=\"dataframe\">\n",
              "  <thead>\n",
              "    <tr style=\"text-align: right;\">\n",
              "      <th></th>\n",
              "      <th>Unnamed: 0</th>\n",
              "      <th>created_at</th>\n",
              "      <th>id</th>\n",
              "      <th>text</th>\n",
              "      <th>user</th>\n",
              "      <th>lang</th>\n",
              "    </tr>\n",
              "  </thead>\n",
              "  <tbody>\n",
              "    <tr>\n",
              "      <th>0</th>\n",
              "      <td>0</td>\n",
              "      <td>Mon May 18 17:53:01 +0000 2020</td>\n",
              "      <td>NaN</td>\n",
              "      <td>Tudo mudou na nossa forma de trabalhar, mas na...</td>\n",
              "      <td>NaN</td>\n",
              "      <td>pt</td>\n",
              "    </tr>\n",
              "    <tr>\n",
              "      <th>1</th>\n",
              "      <td>1</td>\n",
              "      <td>Mon May 18 17:52:17 +0000 2020</td>\n",
              "      <td>NaN</td>\n",
              "      <td>McDonald’s já reabriu lojas ao público https:/...</td>\n",
              "      <td>NaN</td>\n",
              "      <td>pt</td>\n",
              "    </tr>\n",
              "    <tr>\n",
              "      <th>2</th>\n",
              "      <td>2</td>\n",
              "      <td>Mon May 18 17:50:40 +0000 2020</td>\n",
              "      <td>NaN</td>\n",
              "      <td>Sindicato, está atento em tudo o que envolve s...</td>\n",
              "      <td>NaN</td>\n",
              "      <td>pt</td>\n",
              "    </tr>\n",
              "    <tr>\n",
              "      <th>3</th>\n",
              "      <td>3</td>\n",
              "      <td>Mon May 18 17:49:17 +0000 2020</td>\n",
              "      <td>NaN</td>\n",
              "      <td>Nossos problemas da saúde definitivamente acab...</td>\n",
              "      <td>NaN</td>\n",
              "      <td>pt</td>\n",
              "    </tr>\n",
              "    <tr>\n",
              "      <th>4</th>\n",
              "      <td>4</td>\n",
              "      <td>Mon May 18 17:49:06 +0000 2020</td>\n",
              "      <td>NaN</td>\n",
              "      <td>Fábricas de todo o mundo se viram obrigadas a ...</td>\n",
              "      <td>NaN</td>\n",
              "      <td>pt</td>\n",
              "    </tr>\n",
              "  </tbody>\n",
              "</table>\n",
              "</div>"
            ],
            "text/plain": [
              "   Unnamed: 0                      created_at  ...  user lang\n",
              "0           0  Mon May 18 17:53:01 +0000 2020  ...   NaN   pt\n",
              "1           1  Mon May 18 17:52:17 +0000 2020  ...   NaN   pt\n",
              "2           2  Mon May 18 17:50:40 +0000 2020  ...   NaN   pt\n",
              "3           3  Mon May 18 17:49:17 +0000 2020  ...   NaN   pt\n",
              "4           4  Mon May 18 17:49:06 +0000 2020  ...   NaN   pt\n",
              "\n",
              "[5 rows x 6 columns]"
            ]
          },
          "metadata": {
            "tags": []
          },
          "execution_count": 16
        }
      ]
    },
    {
      "cell_type": "code",
      "metadata": {
        "id": "MH2O2KSKj6q-",
        "colab_type": "code",
        "colab": {
          "base_uri": "https://localhost:8080/",
          "height": 204
        },
        "outputId": "e4d82388-f855-4628-b587-0d184102d3b9"
      },
      "source": [
        "#Visualizando as 5 últimas linhas.\n",
        "data.tail()"
      ],
      "execution_count": 17,
      "outputs": [
        {
          "output_type": "execute_result",
          "data": {
            "text/html": [
              "<div>\n",
              "<style scoped>\n",
              "    .dataframe tbody tr th:only-of-type {\n",
              "        vertical-align: middle;\n",
              "    }\n",
              "\n",
              "    .dataframe tbody tr th {\n",
              "        vertical-align: top;\n",
              "    }\n",
              "\n",
              "    .dataframe thead th {\n",
              "        text-align: right;\n",
              "    }\n",
              "</style>\n",
              "<table border=\"1\" class=\"dataframe\">\n",
              "  <thead>\n",
              "    <tr style=\"text-align: right;\">\n",
              "      <th></th>\n",
              "      <th>Unnamed: 0</th>\n",
              "      <th>created_at</th>\n",
              "      <th>id</th>\n",
              "      <th>text</th>\n",
              "      <th>user</th>\n",
              "      <th>lang</th>\n",
              "    </tr>\n",
              "  </thead>\n",
              "  <tbody>\n",
              "    <tr>\n",
              "      <th>109959</th>\n",
              "      <td>109959</td>\n",
              "      <td>Mon Jul 20 15:04:14 +0000 2020</td>\n",
              "      <td>1.285229e+18</td>\n",
              "      <td>porto alegre perigando a entrar em lockdown e ...</td>\n",
              "      <td>{'id': 1245313171, 'id_str': '1245313171', 'na...</td>\n",
              "      <td>pt</td>\n",
              "    </tr>\n",
              "    <tr>\n",
              "      <th>109960</th>\n",
              "      <td>109960</td>\n",
              "      <td>Mon Jul 20 15:03:35 +0000 2020</td>\n",
              "      <td>1.285229e+18</td>\n",
              "      <td>Nunca que a Mídia vai falar isso!\\nAMB, CFM e ...</td>\n",
              "      <td>{'id': 40697641, 'id_str': '40697641', 'name':...</td>\n",
              "      <td>pt</td>\n",
              "    </tr>\n",
              "    <tr>\n",
              "      <th>109961</th>\n",
              "      <td>109961</td>\n",
              "      <td>Mon Jul 20 15:03:33 +0000 2020</td>\n",
              "      <td>1.285229e+18</td>\n",
              "      <td>@joaopiresrj Eu não sou cientista mas esse LOC...</td>\n",
              "      <td>{'id': 942176977, 'id_str': '942176977', 'name...</td>\n",
              "      <td>pt</td>\n",
              "    </tr>\n",
              "    <tr>\n",
              "      <th>109962</th>\n",
              "      <td>109962</td>\n",
              "      <td>Mon Jul 20 15:01:54 +0000 2020</td>\n",
              "      <td>1.285228e+18</td>\n",
              "      <td>Q&amp;amp;A - Recessão ou Lockdown. O que é pior? ...</td>\n",
              "      <td>{'id': 1136982345137958912, 'id_str': '1136982...</td>\n",
              "      <td>pt</td>\n",
              "    </tr>\n",
              "    <tr>\n",
              "      <th>109963</th>\n",
              "      <td>109963</td>\n",
              "      <td>Mon Jul 20 15:01:38 +0000 2020</td>\n",
              "      <td>1.285228e+18</td>\n",
              "      <td>O prefeito de Los Angeles está preste a decret...</td>\n",
              "      <td>{'id': 494366716, 'id_str': '494366716', 'name...</td>\n",
              "      <td>pt</td>\n",
              "    </tr>\n",
              "  </tbody>\n",
              "</table>\n",
              "</div>"
            ],
            "text/plain": [
              "        Unnamed: 0  ... lang\n",
              "109959      109959  ...   pt\n",
              "109960      109960  ...   pt\n",
              "109961      109961  ...   pt\n",
              "109962      109962  ...   pt\n",
              "109963      109963  ...   pt\n",
              "\n",
              "[5 rows x 6 columns]"
            ]
          },
          "metadata": {
            "tags": []
          },
          "execution_count": 17
        }
      ]
    },
    {
      "cell_type": "code",
      "metadata": {
        "id": "65DcCYvPjbmk",
        "colab_type": "code",
        "colab": {
          "base_uri": "https://localhost:8080/",
          "height": 34
        },
        "outputId": "ae76b9cc-2127-4a41-d70a-9c91a9b5f154"
      },
      "source": [
        "#Verificando a estrutura inicial dos dados.\n",
        "data.shape"
      ],
      "execution_count": 18,
      "outputs": [
        {
          "output_type": "execute_result",
          "data": {
            "text/plain": [
              "(109964, 6)"
            ]
          },
          "metadata": {
            "tags": []
          },
          "execution_count": 18
        }
      ]
    },
    {
      "cell_type": "markdown",
      "metadata": {
        "id": "PL74IZlBjrv9",
        "colab_type": "text"
      },
      "source": [
        "**Podemos observar aproximadamente 110 mil linhas e 6 colunas.**"
      ]
    },
    {
      "cell_type": "markdown",
      "metadata": {
        "id": "AyJflrkppvx-",
        "colab_type": "text"
      },
      "source": [
        "# Tratando os Dados"
      ]
    },
    {
      "cell_type": "code",
      "metadata": {
        "id": "ntMjmA1hj_pB",
        "colab_type": "code",
        "colab": {}
      },
      "source": [
        "#Removendo dados duplicados na coluna de Texto e substituindo dentro do próprio Data Frame.\n",
        "data.drop_duplicates(['text'], inplace=True)"
      ],
      "execution_count": 19,
      "outputs": []
    },
    {
      "cell_type": "code",
      "metadata": {
        "id": "DyhrarbekOUJ",
        "colab_type": "code",
        "colab": {
          "base_uri": "https://localhost:8080/",
          "height": 34
        },
        "outputId": "b2b61989-5eff-4421-fc68-bddef211493a"
      },
      "source": [
        "#Verificando novamente a estrutura dos dados para observar a quantidade de dados únicos.\n",
        "data.shape"
      ],
      "execution_count": 20,
      "outputs": [
        {
          "output_type": "execute_result",
          "data": {
            "text/plain": [
              "(103364, 6)"
            ]
          },
          "metadata": {
            "tags": []
          },
          "execution_count": 20
        }
      ]
    },
    {
      "cell_type": "markdown",
      "metadata": {
        "id": "Gh3k65gwlje8",
        "colab_type": "text"
      },
      "source": [
        "6600 linhas foram removidas."
      ]
    },
    {
      "cell_type": "markdown",
      "metadata": {
        "id": "PJlkTrKzktJl",
        "colab_type": "text"
      },
      "source": [
        "**Iremos trabalhar com os Dados de Texto, por isso, selecionaremos apenas a coluna associada ao conteúdo dos tweets.**"
      ]
    },
    {
      "cell_type": "code",
      "metadata": {
        "id": "bQyFyq6Bk29W",
        "colab_type": "code",
        "colab": {}
      },
      "source": [
        "#Utilizando notação comum em estudos de Aprendizado de Máquina.\n",
        "X = data['text']"
      ],
      "execution_count": 21,
      "outputs": []
    },
    {
      "cell_type": "code",
      "metadata": {
        "id": "6bKpOB7-k-JH",
        "colab_type": "code",
        "colab": {
          "base_uri": "https://localhost:8080/",
          "height": 289
        },
        "outputId": "a8e65e71-a5f0-412f-f372-5979f732ba65"
      },
      "source": [
        "#Visualizando as 15 primeiras linhas. \n",
        "X[:15]"
      ],
      "execution_count": 22,
      "outputs": [
        {
          "output_type": "execute_result",
          "data": {
            "text/plain": [
              "0     Tudo mudou na nossa forma de trabalhar, mas na...\n",
              "1     McDonald’s já reabriu lojas ao público https:/...\n",
              "2     Sindicato, está atento em tudo o que envolve s...\n",
              "3     Nossos problemas da saúde definitivamente acab...\n",
              "4     Fábricas de todo o mundo se viram obrigadas a ...\n",
              "5     @g1 @RedeGlobo @jornalhoje o governo de @jairb...\n",
              "6     Lei N° 6666, nos #EUA, que pretende traçar e i...\n",
              "7     https://t.co/mcftUwJr5F o governo precisa ser ...\n",
              "8     Blockchain: a tecnologia que popularizou o #bi...\n",
              "9     VOCÊS CONHECEM ALGUM PAÍS ALÉM DO BRASIL QUE T...\n",
              "10    Itajuípe recebe o Centro Municipal de Isolamen...\n",
              "11    📣 NOTÍCIA / NEWS / NOUVELLES \\n\\n🇵🇹 Manual de ...\n",
              "12    Enquanto o governo Bolsonaro permanecer Irresp...\n",
              "13    Faça a diferença! Seja um doador sem fronteira...\n",
              "14    Manaus, maio de 2020. Reportagem sobre o colap...\n",
              "Name: text, dtype: object"
            ]
          },
          "metadata": {
            "tags": []
          },
          "execution_count": 22
        }
      ]
    },
    {
      "cell_type": "markdown",
      "metadata": {
        "id": "NdsZzO1uiR3E",
        "colab_type": "text"
      },
      "source": [
        "**Devido ao fato de os dados serem proveninentes de uma rede social, se faz necessária uma etapa de pré-processamento nos mesmos.**"
      ]
    },
    {
      "cell_type": "code",
      "metadata": {
        "id": "qDt6G21ntIhw",
        "colab_type": "code",
        "colab": {}
      },
      "source": [
        "def Preprocessing_data(instance):\n",
        "      instance = re.sub(r\"http\\S+\", \"\", instance).lower().replace('.', '').replace(';','').replace('-','').replace(':', '').replace(')', '')\n",
        "      stopwords = set(nltk.corpus.stopwords.words('portuguese'))\n",
        "      words = [i for i in instance.split() if not i in stopwords]\n",
        "      return (\" \".join(words))"
      ],
      "execution_count": 23,
      "outputs": []
    },
    {
      "cell_type": "markdown",
      "metadata": {
        "id": "b0mXGAG5isR0",
        "colab_type": "text"
      },
      "source": [
        "**Função que remove links, urls, sinais de pontuação, padroniza os caracteres como minúsculos e remove as stopwords através de um dos módulos da biblioteca NLTK.**"
      ]
    },
    {
      "cell_type": "code",
      "metadata": {
        "id": "Yqm7JgNUmsVM",
        "colab_type": "code",
        "colab": {}
      },
      "source": [
        "#Aplicando a função na nossa base de dados.\n",
        "X = [Preprocessing_data(i) for i in X]"
      ],
      "execution_count": 24,
      "outputs": []
    },
    {
      "cell_type": "code",
      "metadata": {
        "id": "suoFiiJ2mzaR",
        "colab_type": "code",
        "colab": {
          "base_uri": "https://localhost:8080/",
          "height": 272
        },
        "outputId": "a0c0666d-6837-463a-ebf8-241d5a506368"
      },
      "source": [
        "#Visualizando novamente as 15 primeiras linhas, agora após o pré-processamento.\n",
        "X[:15]"
      ],
      "execution_count": 25,
      "outputs": [
        {
          "output_type": "execute_result",
          "data": {
            "text/plain": [
              "['tudo mudou forma trabalhar, nada mudou objetivo informar #jornalismo #imprensa…',\n",
              " 'mcdonald’s reabriu lojas público #comida #covid19 #mcdonalds',\n",
              " 'sindicato, atento tudo envolve saúde condições trabalho nessa pandemia #covid @spbancarios',\n",
              " 'problemas saúde definitivamente acabaram #saude #forabolsonaro #covid',\n",
              " 'fábricas todo mundo viram obrigadas dispensarem funcionários decorrência #covid19 antes m…',\n",
              " '@g1 @redeglobo @jornalhoje governo @jairbolsonaro vai socorrer ninguém vai enrolar! pois minto quer r…',\n",
              " 'lei n° 6666, #eua, pretende traçar investigar percurso pessoas tivestes contatos, usand…',\n",
              " 'governo precisa ser responsabilizado #covid #covid19',\n",
              " 'blockchain tecnologia popularizou #bitcoin sendo testada combate #covid19 sistema capaz de…',\n",
              " 'conhecem algum país além brasil torcida organizada coronavirus???? #covid #covid19',\n",
              " 'itajuípe recebe centro municipal isolamento covid19 #covid19 #isolamentosocial #covid @rctitajuipe',\n",
              " '📣 notícia / news / nouvelles 🇵🇹 manual boas práticas – algarve clean &amp safe 🇬🇧 good practice guide algarve c…',\n",
              " 'enquanto governo bolsonaro permanecer irresponsável, povo paga vida #calabocabolsonaro #covid…',\n",
              " 'faça diferença! doador fronteiras sou! #covid #covid19 @msf_brasil',\n",
              " 'manaus, maio 2020 reportagem sobre colapso sus @veja dessa semana, mostra situação pacientes em…']"
            ]
          },
          "metadata": {
            "tags": []
          },
          "execution_count": 25
        }
      ]
    },
    {
      "cell_type": "markdown",
      "metadata": {
        "id": "g2mUr55up03T",
        "colab_type": "text"
      },
      "source": [
        "# Aplicando Tokenização e Vetorização nos Dados de Texto "
      ]
    },
    {
      "cell_type": "markdown",
      "metadata": {
        "id": "iFqofkXTnYPV",
        "colab_type": "text"
      },
      "source": [
        "**Iremos agora Tokenizar e depois Vetorizar esses dados de Texto, tornando-os uma matriz numérica.**\n"
      ]
    },
    {
      "cell_type": "code",
      "metadata": {
        "id": "P9uGpxVmm79l",
        "colab_type": "code",
        "colab": {
          "base_uri": "https://localhost:8080/",
          "height": 34
        },
        "outputId": "7b45d782-09ff-4dca-fd64-0005a115a6cd"
      },
      "source": [
        "#A partir da biblioteca Keras instanciando o Tokenizer e definindo que serão utilizada as 20000 palavras mais comuns. \n",
        "from keras.preprocessing.text import Tokenizer\n",
        "tokenizer = Tokenizer(num_words=20000)"
      ],
      "execution_count": 26,
      "outputs": [
        {
          "output_type": "stream",
          "text": [
            "Using TensorFlow backend.\n"
          ],
          "name": "stderr"
        }
      ]
    },
    {
      "cell_type": "code",
      "metadata": {
        "id": "1DdaNuoRnrZR",
        "colab_type": "code",
        "colab": {}
      },
      "source": [
        "#Aplicando a Tokenização nos dados.\n",
        "tokenizer.fit_on_texts(X)"
      ],
      "execution_count": 27,
      "outputs": []
    },
    {
      "cell_type": "code",
      "metadata": {
        "id": "xMSeFrVEn9ru",
        "colab_type": "code",
        "colab": {}
      },
      "source": [
        "sequences = tokenizer.texts_to_sequences(X)"
      ],
      "execution_count": 28,
      "outputs": []
    },
    {
      "cell_type": "markdown",
      "metadata": {
        "id": "cZe4t3fIk5I1",
        "colab_type": "text"
      },
      "source": [
        "**É atribuído um número para cada palavra encontrada na base de dados.**"
      ]
    },
    {
      "cell_type": "code",
      "metadata": {
        "id": "MELV9pj9oH0n",
        "colab_type": "code",
        "colab": {
          "base_uri": "https://localhost:8080/",
          "height": 510
        },
        "outputId": "6caf91f7-59a5-4257-b173-b456642ecb07"
      },
      "source": [
        "#As frases agora são constituídas por uma sequência numérica.\n",
        "sequences[:15]"
      ],
      "execution_count": 29,
      "outputs": [
        {
          "output_type": "execute_result",
          "data": {
            "text/plain": [
              "[[49, 1692, 424, 478, 105, 1692, 908, 2352, 2631, 4130],\n",
              " [5261, 940, 342, 2506, 2],\n",
              " [2134, 4316, 49, 6256, 16, 1212, 181, 327, 7, 14],\n",
              " [840, 16, 1474, 4317, 1426, 1075, 14],\n",
              " [17414, 51, 24, 3222, 13445, 850, 1213, 2, 95, 343],\n",
              " [130, 3154, 5800, 30, 126, 11, 8887, 276, 11, 297, 15121, 112, 1054],\n",
              " [482, 6026, 93, 4131, 13446, 2170, 17415, 19, 7120],\n",
              " [30, 309, 22, 7510, 14, 2],\n",
              " [1523, 4426, 156, 914, 39, 2, 313, 810, 146],\n",
              " [7121, 757, 54, 392, 6, 1891, 3844, 4, 14, 2],\n",
              " [714, 490, 486, 99, 2, 2, 4824, 14],\n",
              " [12036,\n",
              "  236,\n",
              "  265,\n",
              "  13447,\n",
              "  10182,\n",
              "  1116,\n",
              "  4672,\n",
              "  249,\n",
              "  2553,\n",
              "  549,\n",
              "  15122,\n",
              "  8348,\n",
              "  7511,\n",
              "  2553,\n",
              "  159],\n",
              " [195, 30, 21, 6027, 2469, 107, 1671, 113, 686],\n",
              " [567, 1427, 2507, 7122, 14, 2, 13448, 6],\n",
              " [1428, 537, 53, 994, 13, 748, 1023, 164, 399, 62, 219, 212, 98, 452]]"
            ]
          },
          "metadata": {
            "tags": []
          },
          "execution_count": 29
        }
      ]
    },
    {
      "cell_type": "markdown",
      "metadata": {
        "id": "WVR4py6EoYXL",
        "colab_type": "text"
      },
      "source": [
        "Observando acima o novo formato para as 15 primeiras linhas."
      ]
    },
    {
      "cell_type": "code",
      "metadata": {
        "id": "_8yNaW2-RJSy",
        "colab_type": "code",
        "colab": {}
      },
      "source": [
        "#Importando Módulo do Keras.\n",
        "from keras import preprocessing"
      ],
      "execution_count": 30,
      "outputs": []
    },
    {
      "cell_type": "markdown",
      "metadata": {
        "id": "2-DEP25Ionb9",
        "colab_type": "text"
      },
      "source": [
        "**Precisamos transformar esses dados em uma Matriz 2D.**"
      ]
    },
    {
      "cell_type": "code",
      "metadata": {
        "id": "gul8fmlMVSNM",
        "colab_type": "code",
        "colab": {}
      },
      "source": [
        "#Tornando-os uma matriz através de um método do módulo preprocessing.\n",
        "sequences = preprocessing.sequence.pad_sequences(sequences)"
      ],
      "execution_count": 31,
      "outputs": []
    },
    {
      "cell_type": "code",
      "metadata": {
        "id": "lb46vMRlVTJY",
        "colab_type": "code",
        "colab": {
          "base_uri": "https://localhost:8080/",
          "height": 1000
        },
        "outputId": "2a03ce97-6483-4ff8-d8e0-c7cc24ee19f0"
      },
      "source": [
        "#Visualizando o novo formato para as 15 primeiras linhas.\n",
        "sequences[:15]"
      ],
      "execution_count": 32,
      "outputs": [
        {
          "output_type": "execute_result",
          "data": {
            "text/plain": [
              "array([[    0,     0,     0,     0,     0,     0,     0,     0,     0,\n",
              "            0,     0,     0,     0,     0,     0,     0,     0,     0,\n",
              "            0,     0,     0,     0,     0,     0,     0,     0,     0,\n",
              "            0,    49,  1692,   424,   478,   105,  1692,   908,  2352,\n",
              "         2631,  4130],\n",
              "       [    0,     0,     0,     0,     0,     0,     0,     0,     0,\n",
              "            0,     0,     0,     0,     0,     0,     0,     0,     0,\n",
              "            0,     0,     0,     0,     0,     0,     0,     0,     0,\n",
              "            0,     0,     0,     0,     0,     0,  5261,   940,   342,\n",
              "         2506,     2],\n",
              "       [    0,     0,     0,     0,     0,     0,     0,     0,     0,\n",
              "            0,     0,     0,     0,     0,     0,     0,     0,     0,\n",
              "            0,     0,     0,     0,     0,     0,     0,     0,     0,\n",
              "            0,  2134,  4316,    49,  6256,    16,  1212,   181,   327,\n",
              "            7,    14],\n",
              "       [    0,     0,     0,     0,     0,     0,     0,     0,     0,\n",
              "            0,     0,     0,     0,     0,     0,     0,     0,     0,\n",
              "            0,     0,     0,     0,     0,     0,     0,     0,     0,\n",
              "            0,     0,     0,     0,   840,    16,  1474,  4317,  1426,\n",
              "         1075,    14],\n",
              "       [    0,     0,     0,     0,     0,     0,     0,     0,     0,\n",
              "            0,     0,     0,     0,     0,     0,     0,     0,     0,\n",
              "            0,     0,     0,     0,     0,     0,     0,     0,     0,\n",
              "            0, 17414,    51,    24,  3222, 13445,   850,  1213,     2,\n",
              "           95,   343],\n",
              "       [    0,     0,     0,     0,     0,     0,     0,     0,     0,\n",
              "            0,     0,     0,     0,     0,     0,     0,     0,     0,\n",
              "            0,     0,     0,     0,     0,     0,     0,   130,  3154,\n",
              "         5800,    30,   126,    11,  8887,   276,    11,   297, 15121,\n",
              "          112,  1054],\n",
              "       [    0,     0,     0,     0,     0,     0,     0,     0,     0,\n",
              "            0,     0,     0,     0,     0,     0,     0,     0,     0,\n",
              "            0,     0,     0,     0,     0,     0,     0,     0,     0,\n",
              "            0,     0,   482,  6026,    93,  4131, 13446,  2170, 17415,\n",
              "           19,  7120],\n",
              "       [    0,     0,     0,     0,     0,     0,     0,     0,     0,\n",
              "            0,     0,     0,     0,     0,     0,     0,     0,     0,\n",
              "            0,     0,     0,     0,     0,     0,     0,     0,     0,\n",
              "            0,     0,     0,     0,     0,    30,   309,    22,  7510,\n",
              "           14,     2],\n",
              "       [    0,     0,     0,     0,     0,     0,     0,     0,     0,\n",
              "            0,     0,     0,     0,     0,     0,     0,     0,     0,\n",
              "            0,     0,     0,     0,     0,     0,     0,     0,     0,\n",
              "            0,     0,  1523,  4426,   156,   914,    39,     2,   313,\n",
              "          810,   146],\n",
              "       [    0,     0,     0,     0,     0,     0,     0,     0,     0,\n",
              "            0,     0,     0,     0,     0,     0,     0,     0,     0,\n",
              "            0,     0,     0,     0,     0,     0,     0,     0,     0,\n",
              "            0,  7121,   757,    54,   392,     6,  1891,  3844,     4,\n",
              "           14,     2],\n",
              "       [    0,     0,     0,     0,     0,     0,     0,     0,     0,\n",
              "            0,     0,     0,     0,     0,     0,     0,     0,     0,\n",
              "            0,     0,     0,     0,     0,     0,     0,     0,     0,\n",
              "            0,     0,     0,   714,   490,   486,    99,     2,     2,\n",
              "         4824,    14],\n",
              "       [    0,     0,     0,     0,     0,     0,     0,     0,     0,\n",
              "            0,     0,     0,     0,     0,     0,     0,     0,     0,\n",
              "            0,     0,     0,     0,     0, 12036,   236,   265, 13447,\n",
              "        10182,  1116,  4672,   249,  2553,   549, 15122,  8348,  7511,\n",
              "         2553,   159],\n",
              "       [    0,     0,     0,     0,     0,     0,     0,     0,     0,\n",
              "            0,     0,     0,     0,     0,     0,     0,     0,     0,\n",
              "            0,     0,     0,     0,     0,     0,     0,     0,     0,\n",
              "            0,     0,   195,    30,    21,  6027,  2469,   107,  1671,\n",
              "          113,   686],\n",
              "       [    0,     0,     0,     0,     0,     0,     0,     0,     0,\n",
              "            0,     0,     0,     0,     0,     0,     0,     0,     0,\n",
              "            0,     0,     0,     0,     0,     0,     0,     0,     0,\n",
              "            0,     0,     0,   567,  1427,  2507,  7122,    14,     2,\n",
              "        13448,     6],\n",
              "       [    0,     0,     0,     0,     0,     0,     0,     0,     0,\n",
              "            0,     0,     0,     0,     0,     0,     0,     0,     0,\n",
              "            0,     0,     0,     0,     0,     0,  1428,   537,    53,\n",
              "          994,    13,   748,  1023,   164,   399,    62,   219,   212,\n",
              "           98,   452]], dtype=int32)"
            ]
          },
          "metadata": {
            "tags": []
          },
          "execution_count": 32
        }
      ]
    },
    {
      "cell_type": "markdown",
      "metadata": {
        "id": "__2Ai0mV4Su7",
        "colab_type": "text"
      },
      "source": [
        "# Aplicando Algoritmos"
      ]
    },
    {
      "cell_type": "code",
      "metadata": {
        "id": "3EHHHZ_uEUhG",
        "colab_type": "code",
        "colab": {}
      },
      "source": [
        "#Importando algoritmo KMeans da biblioteca Sklearn.\n",
        "from sklearn.cluster import KMeans"
      ],
      "execution_count": 33,
      "outputs": []
    },
    {
      "cell_type": "code",
      "metadata": {
        "id": "AKzJTiLMEhrm",
        "colab_type": "code",
        "colab": {}
      },
      "source": [
        "#Instanciando objeto kmeans, definindo o número de clusters e definindo a quantidade máxima de iterações.\n",
        "kmeans = KMeans(n_clusters=3, init='k-means++', max_iter=100, n_init=1)"
      ],
      "execution_count": 34,
      "outputs": []
    },
    {
      "cell_type": "code",
      "metadata": {
        "id": "hEnHYSBoEvQN",
        "colab_type": "code",
        "colab": {
          "base_uri": "https://localhost:8080/",
          "height": 68
        },
        "outputId": "00faafd9-345b-48b8-848d-4bdde08c261d"
      },
      "source": [
        "#Treinando o Modelo.\n",
        "kmeans.fit(sequences)"
      ],
      "execution_count": 36,
      "outputs": [
        {
          "output_type": "execute_result",
          "data": {
            "text/plain": [
              "KMeans(algorithm='auto', copy_x=True, init='k-means++', max_iter=100,\n",
              "       n_clusters=3, n_init=1, n_jobs=None, precompute_distances='auto',\n",
              "       random_state=None, tol=0.0001, verbose=0)"
            ]
          },
          "metadata": {
            "tags": []
          },
          "execution_count": 36
        }
      ]
    },
    {
      "cell_type": "code",
      "metadata": {
        "id": "xpgJ4zzZtXB8",
        "colab_type": "code",
        "colab": {
          "base_uri": "https://localhost:8080/",
          "height": 34
        },
        "outputId": "213f7e6e-9cbb-458b-a0cb-0315d6db65d0"
      },
      "source": [
        "#Verificando labels originados.\n",
        "kmeans.labels_"
      ],
      "execution_count": 37,
      "outputs": [
        {
          "output_type": "execute_result",
          "data": {
            "text/plain": [
              "array([1, 1, 1, ..., 1, 1, 2], dtype=int32)"
            ]
          },
          "metadata": {
            "tags": []
          },
          "execution_count": 37
        }
      ]
    },
    {
      "cell_type": "code",
      "metadata": {
        "id": "27tZFEtvtcGn",
        "colab_type": "code",
        "colab": {}
      },
      "source": [
        "#Criando uma nova coluna no Data Frame. Associando cada tweet ao seu respectivo agrupamento feito pelo algoritmo.\n",
        "data['Kclasses'] = kmeans.labels_"
      ],
      "execution_count": 38,
      "outputs": []
    },
    {
      "cell_type": "code",
      "metadata": {
        "id": "T3MUAdnrtsil",
        "colab_type": "code",
        "colab": {
          "base_uri": "https://localhost:8080/",
          "height": 34
        },
        "outputId": "07ee096e-5128-4360-bbf9-c177580c255b"
      },
      "source": [
        "#Visualizando tipos únicos para a coluna.\n",
        "data['Kclasses'].unique()"
      ],
      "execution_count": 39,
      "outputs": [
        {
          "output_type": "execute_result",
          "data": {
            "text/plain": [
              "array([1, 2, 0], dtype=int32)"
            ]
          },
          "metadata": {
            "tags": []
          },
          "execution_count": 39
        }
      ]
    },
    {
      "cell_type": "code",
      "metadata": {
        "id": "Xjh8r6TB5EPD",
        "colab_type": "code",
        "colab": {}
      },
      "source": [
        "#Criando novo Data Frame com as colunas de interesse para visualização. O contéudo do Tweet (text) e o respectivo agrupamento.\n",
        "df = data [['text', 'Kclasses']]"
      ],
      "execution_count": 40,
      "outputs": []
    },
    {
      "cell_type": "code",
      "metadata": {
        "id": "HX49jEOctiIz",
        "colab_type": "code",
        "colab": {
          "base_uri": "https://localhost:8080/",
          "height": 204
        },
        "outputId": "89500f8c-cdf3-4dab-8f03-732d2357ca79"
      },
      "source": [
        "#Visualizando as 5 primeiras linhas do Data Frame.\n",
        "df.head()"
      ],
      "execution_count": 41,
      "outputs": [
        {
          "output_type": "execute_result",
          "data": {
            "text/html": [
              "<div>\n",
              "<style scoped>\n",
              "    .dataframe tbody tr th:only-of-type {\n",
              "        vertical-align: middle;\n",
              "    }\n",
              "\n",
              "    .dataframe tbody tr th {\n",
              "        vertical-align: top;\n",
              "    }\n",
              "\n",
              "    .dataframe thead th {\n",
              "        text-align: right;\n",
              "    }\n",
              "</style>\n",
              "<table border=\"1\" class=\"dataframe\">\n",
              "  <thead>\n",
              "    <tr style=\"text-align: right;\">\n",
              "      <th></th>\n",
              "      <th>text</th>\n",
              "      <th>Kclasses</th>\n",
              "    </tr>\n",
              "  </thead>\n",
              "  <tbody>\n",
              "    <tr>\n",
              "      <th>0</th>\n",
              "      <td>Tudo mudou na nossa forma de trabalhar, mas na...</td>\n",
              "      <td>1</td>\n",
              "    </tr>\n",
              "    <tr>\n",
              "      <th>1</th>\n",
              "      <td>McDonald’s já reabriu lojas ao público https:/...</td>\n",
              "      <td>1</td>\n",
              "    </tr>\n",
              "    <tr>\n",
              "      <th>2</th>\n",
              "      <td>Sindicato, está atento em tudo o que envolve s...</td>\n",
              "      <td>1</td>\n",
              "    </tr>\n",
              "    <tr>\n",
              "      <th>3</th>\n",
              "      <td>Nossos problemas da saúde definitivamente acab...</td>\n",
              "      <td>1</td>\n",
              "    </tr>\n",
              "    <tr>\n",
              "      <th>4</th>\n",
              "      <td>Fábricas de todo o mundo se viram obrigadas a ...</td>\n",
              "      <td>2</td>\n",
              "    </tr>\n",
              "  </tbody>\n",
              "</table>\n",
              "</div>"
            ],
            "text/plain": [
              "                                                text  Kclasses\n",
              "0  Tudo mudou na nossa forma de trabalhar, mas na...         1\n",
              "1  McDonald’s já reabriu lojas ao público https:/...         1\n",
              "2  Sindicato, está atento em tudo o que envolve s...         1\n",
              "3  Nossos problemas da saúde definitivamente acab...         1\n",
              "4  Fábricas de todo o mundo se viram obrigadas a ...         2"
            ]
          },
          "metadata": {
            "tags": []
          },
          "execution_count": 41
        }
      ]
    },
    {
      "cell_type": "code",
      "metadata": {
        "id": "hdTpzXh9w3by",
        "colab_type": "code",
        "colab": {
          "base_uri": "https://localhost:8080/",
          "height": 85
        },
        "outputId": "1b93b9d6-d13f-4d1c-a7e6-aebf12d6f189"
      },
      "source": [
        "  df['Kclasses'].value_counts()"
      ],
      "execution_count": 42,
      "outputs": [
        {
          "output_type": "execute_result",
          "data": {
            "text/plain": [
              "1    63064\n",
              "2    24370\n",
              "0    15930\n",
              "Name: Kclasses, dtype: int64"
            ]
          },
          "metadata": {
            "tags": []
          },
          "execution_count": 42
        }
      ]
    },
    {
      "cell_type": "code",
      "metadata": {
        "id": "SW8lEqnKlgIV",
        "colab_type": "code",
        "colab": {
          "base_uri": "https://localhost:8080/",
          "height": 359
        },
        "outputId": "81aaf25c-01b5-4423-e745-4f086ca73a96"
      },
      "source": [
        "#Visualizando tweets agrupados na Classe 0, originada a partir do algoritmo.\n",
        "classe_0 = df.loc[df.Kclasses == 0,]\n",
        "classe_0.head(10)"
      ],
      "execution_count": 43,
      "outputs": [
        {
          "output_type": "execute_result",
          "data": {
            "text/html": [
              "<div>\n",
              "<style scoped>\n",
              "    .dataframe tbody tr th:only-of-type {\n",
              "        vertical-align: middle;\n",
              "    }\n",
              "\n",
              "    .dataframe tbody tr th {\n",
              "        vertical-align: top;\n",
              "    }\n",
              "\n",
              "    .dataframe thead th {\n",
              "        text-align: right;\n",
              "    }\n",
              "</style>\n",
              "<table border=\"1\" class=\"dataframe\">\n",
              "  <thead>\n",
              "    <tr style=\"text-align: right;\">\n",
              "      <th></th>\n",
              "      <th>text</th>\n",
              "      <th>Kclasses</th>\n",
              "    </tr>\n",
              "  </thead>\n",
              "  <tbody>\n",
              "    <tr>\n",
              "      <th>22</th>\n",
              "      <td>Hotelaria da Galiza quer que portugueses façam...</td>\n",
              "      <td>0</td>\n",
              "    </tr>\n",
              "    <tr>\n",
              "      <th>23</th>\n",
              "      <td>Qual é o tamanho do grupo de risco para #covid...</td>\n",
              "      <td>0</td>\n",
              "    </tr>\n",
              "    <tr>\n",
              "      <th>28</th>\n",
              "      <td>Cara se você deseja ter estabilidade financeir...</td>\n",
              "      <td>0</td>\n",
              "    </tr>\n",
              "    <tr>\n",
              "      <th>30</th>\n",
              "      <td>#12emPonto98: saiba tudo sobre o pagamento da ...</td>\n",
              "      <td>0</td>\n",
              "    </tr>\n",
              "    <tr>\n",
              "      <th>37</th>\n",
              "      <td>Maioria da população não tem anticorpos contra...</td>\n",
              "      <td>0</td>\n",
              "    </tr>\n",
              "    <tr>\n",
              "      <th>42</th>\n",
              "      <td>Idosa cadeirante ganha festa de 82 dentro de c...</td>\n",
              "      <td>0</td>\n",
              "    </tr>\n",
              "    <tr>\n",
              "      <th>45</th>\n",
              "      <td>Não se preocupe com seus pensamentos durante a...</td>\n",
              "      <td>0</td>\n",
              "    </tr>\n",
              "    <tr>\n",
              "      <th>46</th>\n",
              "      <td>#Covid-19 diminui estoque de leite materno no ...</td>\n",
              "      <td>0</td>\n",
              "    </tr>\n",
              "    <tr>\n",
              "      <th>50</th>\n",
              "      <td>#covid #coronavírus\\n\\nPor um lado, os nazista...</td>\n",
              "      <td>0</td>\n",
              "    </tr>\n",
              "    <tr>\n",
              "      <th>63</th>\n",
              "      <td>@NataliaBTeles @MmipexRenata @DFDanielFreitas ...</td>\n",
              "      <td>0</td>\n",
              "    </tr>\n",
              "  </tbody>\n",
              "</table>\n",
              "</div>"
            ],
            "text/plain": [
              "                                                 text  Kclasses\n",
              "22  Hotelaria da Galiza quer que portugueses façam...         0\n",
              "23  Qual é o tamanho do grupo de risco para #covid...         0\n",
              "28  Cara se você deseja ter estabilidade financeir...         0\n",
              "30  #12emPonto98: saiba tudo sobre o pagamento da ...         0\n",
              "37  Maioria da população não tem anticorpos contra...         0\n",
              "42  Idosa cadeirante ganha festa de 82 dentro de c...         0\n",
              "45  Não se preocupe com seus pensamentos durante a...         0\n",
              "46  #Covid-19 diminui estoque de leite materno no ...         0\n",
              "50  #covid #coronavírus\\n\\nPor um lado, os nazista...         0\n",
              "63  @NataliaBTeles @MmipexRenata @DFDanielFreitas ...         0"
            ]
          },
          "metadata": {
            "tags": []
          },
          "execution_count": 43
        }
      ]
    },
    {
      "cell_type": "code",
      "metadata": {
        "id": "hAJs4nJ8kfUx",
        "colab_type": "code",
        "colab": {
          "base_uri": "https://localhost:8080/",
          "height": 359
        },
        "outputId": "069ee701-44ff-4383-e801-6d6c703c959e"
      },
      "source": [
        "#Visualizando tweets agrupados na Classe 1, originada a partir do algoritmo.\n",
        "classe_1 = df.loc[df.Kclasses == 1,]\n",
        "classe_1.head(10)"
      ],
      "execution_count": 44,
      "outputs": [
        {
          "output_type": "execute_result",
          "data": {
            "text/html": [
              "<div>\n",
              "<style scoped>\n",
              "    .dataframe tbody tr th:only-of-type {\n",
              "        vertical-align: middle;\n",
              "    }\n",
              "\n",
              "    .dataframe tbody tr th {\n",
              "        vertical-align: top;\n",
              "    }\n",
              "\n",
              "    .dataframe thead th {\n",
              "        text-align: right;\n",
              "    }\n",
              "</style>\n",
              "<table border=\"1\" class=\"dataframe\">\n",
              "  <thead>\n",
              "    <tr style=\"text-align: right;\">\n",
              "      <th></th>\n",
              "      <th>text</th>\n",
              "      <th>Kclasses</th>\n",
              "    </tr>\n",
              "  </thead>\n",
              "  <tbody>\n",
              "    <tr>\n",
              "      <th>0</th>\n",
              "      <td>Tudo mudou na nossa forma de trabalhar, mas na...</td>\n",
              "      <td>1</td>\n",
              "    </tr>\n",
              "    <tr>\n",
              "      <th>1</th>\n",
              "      <td>McDonald’s já reabriu lojas ao público https:/...</td>\n",
              "      <td>1</td>\n",
              "    </tr>\n",
              "    <tr>\n",
              "      <th>2</th>\n",
              "      <td>Sindicato, está atento em tudo o que envolve s...</td>\n",
              "      <td>1</td>\n",
              "    </tr>\n",
              "    <tr>\n",
              "      <th>3</th>\n",
              "      <td>Nossos problemas da saúde definitivamente acab...</td>\n",
              "      <td>1</td>\n",
              "    </tr>\n",
              "    <tr>\n",
              "      <th>7</th>\n",
              "      <td>https://t.co/mcftUwJr5F o governo precisa ser ...</td>\n",
              "      <td>1</td>\n",
              "    </tr>\n",
              "    <tr>\n",
              "      <th>8</th>\n",
              "      <td>Blockchain: a tecnologia que popularizou o #bi...</td>\n",
              "      <td>1</td>\n",
              "    </tr>\n",
              "    <tr>\n",
              "      <th>9</th>\n",
              "      <td>VOCÊS CONHECEM ALGUM PAÍS ALÉM DO BRASIL QUE T...</td>\n",
              "      <td>1</td>\n",
              "    </tr>\n",
              "    <tr>\n",
              "      <th>10</th>\n",
              "      <td>Itajuípe recebe o Centro Municipal de Isolamen...</td>\n",
              "      <td>1</td>\n",
              "    </tr>\n",
              "    <tr>\n",
              "      <th>12</th>\n",
              "      <td>Enquanto o governo Bolsonaro permanecer Irresp...</td>\n",
              "      <td>1</td>\n",
              "    </tr>\n",
              "    <tr>\n",
              "      <th>14</th>\n",
              "      <td>Manaus, maio de 2020. Reportagem sobre o colap...</td>\n",
              "      <td>1</td>\n",
              "    </tr>\n",
              "  </tbody>\n",
              "</table>\n",
              "</div>"
            ],
            "text/plain": [
              "                                                 text  Kclasses\n",
              "0   Tudo mudou na nossa forma de trabalhar, mas na...         1\n",
              "1   McDonald’s já reabriu lojas ao público https:/...         1\n",
              "2   Sindicato, está atento em tudo o que envolve s...         1\n",
              "3   Nossos problemas da saúde definitivamente acab...         1\n",
              "7   https://t.co/mcftUwJr5F o governo precisa ser ...         1\n",
              "8   Blockchain: a tecnologia que popularizou o #bi...         1\n",
              "9   VOCÊS CONHECEM ALGUM PAÍS ALÉM DO BRASIL QUE T...         1\n",
              "10  Itajuípe recebe o Centro Municipal de Isolamen...         1\n",
              "12  Enquanto o governo Bolsonaro permanecer Irresp...         1\n",
              "14  Manaus, maio de 2020. Reportagem sobre o colap...         1"
            ]
          },
          "metadata": {
            "tags": []
          },
          "execution_count": 44
        }
      ]
    },
    {
      "cell_type": "code",
      "metadata": {
        "id": "Q-IxOuTakoRG",
        "colab_type": "code",
        "colab": {
          "base_uri": "https://localhost:8080/",
          "height": 359
        },
        "outputId": "95f77add-581b-4507-e9b9-810fa24345c6"
      },
      "source": [
        "#Visualizando tweets agrupados na Classe 0, originada a partir do algoritmo.\n",
        "classe_2 = df.loc[df.Kclasses == 2,]\n",
        "classe_2.head(10)"
      ],
      "execution_count": 45,
      "outputs": [
        {
          "output_type": "execute_result",
          "data": {
            "text/html": [
              "<div>\n",
              "<style scoped>\n",
              "    .dataframe tbody tr th:only-of-type {\n",
              "        vertical-align: middle;\n",
              "    }\n",
              "\n",
              "    .dataframe tbody tr th {\n",
              "        vertical-align: top;\n",
              "    }\n",
              "\n",
              "    .dataframe thead th {\n",
              "        text-align: right;\n",
              "    }\n",
              "</style>\n",
              "<table border=\"1\" class=\"dataframe\">\n",
              "  <thead>\n",
              "    <tr style=\"text-align: right;\">\n",
              "      <th></th>\n",
              "      <th>text</th>\n",
              "      <th>Kclasses</th>\n",
              "    </tr>\n",
              "  </thead>\n",
              "  <tbody>\n",
              "    <tr>\n",
              "      <th>4</th>\n",
              "      <td>Fábricas de todo o mundo se viram obrigadas a ...</td>\n",
              "      <td>2</td>\n",
              "    </tr>\n",
              "    <tr>\n",
              "      <th>5</th>\n",
              "      <td>@g1 @RedeGlobo @jornalhoje o governo de @jairb...</td>\n",
              "      <td>2</td>\n",
              "    </tr>\n",
              "    <tr>\n",
              "      <th>6</th>\n",
              "      <td>Lei N° 6666, nos #EUA, que pretende traçar e i...</td>\n",
              "      <td>2</td>\n",
              "    </tr>\n",
              "    <tr>\n",
              "      <th>11</th>\n",
              "      <td>📣 NOTÍCIA / NEWS / NOUVELLES \\n\\n🇵🇹 Manual de ...</td>\n",
              "      <td>2</td>\n",
              "    </tr>\n",
              "    <tr>\n",
              "      <th>13</th>\n",
              "      <td>Faça a diferença! Seja um doador sem fronteira...</td>\n",
              "      <td>2</td>\n",
              "    </tr>\n",
              "    <tr>\n",
              "      <th>16</th>\n",
              "      <td>#covid #coronavírus \\nAgrava-se o problema da ...</td>\n",
              "      <td>2</td>\n",
              "    </tr>\n",
              "    <tr>\n",
              "      <th>18</th>\n",
              "      <td>Médico alerta para os riscos da hipertensão ar...</td>\n",
              "      <td>2</td>\n",
              "    </tr>\n",
              "    <tr>\n",
              "      <th>20</th>\n",
              "      <td>A melhor lembrança do @Flamengo na #Libertador...</td>\n",
              "      <td>2</td>\n",
              "    </tr>\n",
              "    <tr>\n",
              "      <th>29</th>\n",
              "      <td>Esqueça seu passado, se perdoe e recomece.) \\n...</td>\n",
              "      <td>2</td>\n",
              "    </tr>\n",
              "    <tr>\n",
              "      <th>32</th>\n",
              "      <td>Conheça as melhores práticas para a prevenção ...</td>\n",
              "      <td>2</td>\n",
              "    </tr>\n",
              "  </tbody>\n",
              "</table>\n",
              "</div>"
            ],
            "text/plain": [
              "                                                 text  Kclasses\n",
              "4   Fábricas de todo o mundo se viram obrigadas a ...         2\n",
              "5   @g1 @RedeGlobo @jornalhoje o governo de @jairb...         2\n",
              "6   Lei N° 6666, nos #EUA, que pretende traçar e i...         2\n",
              "11  📣 NOTÍCIA / NEWS / NOUVELLES \\n\\n🇵🇹 Manual de ...         2\n",
              "13  Faça a diferença! Seja um doador sem fronteira...         2\n",
              "16  #covid #coronavírus \\nAgrava-se o problema da ...         2\n",
              "18  Médico alerta para os riscos da hipertensão ar...         2\n",
              "20  A melhor lembrança do @Flamengo na #Libertador...         2\n",
              "29  Esqueça seu passado, se perdoe e recomece.) \\n...         2\n",
              "32  Conheça as melhores práticas para a prevenção ...         2"
            ]
          },
          "metadata": {
            "tags": []
          },
          "execution_count": 45
        }
      ]
    },
    {
      "cell_type": "markdown",
      "metadata": {
        "id": "s1veSZon3rmW",
        "colab_type": "text"
      },
      "source": [
        "# Aplicando algoritmos com o modelo TF-IDF"
      ]
    },
    {
      "cell_type": "markdown",
      "metadata": {
        "id": "NYIPP6-A6WD3",
        "colab_type": "text"
      },
      "source": [
        "**Primeiramente, iremos \"resetar\" o X, atribuindo-o novamente aos dados da coluna text**"
      ]
    },
    {
      "cell_type": "code",
      "metadata": {
        "colab_type": "code",
        "id": "T0Z0YnIG6UJe",
        "colab": {}
      },
      "source": [
        "#Utilizando notação comum em estudos de Aprendizado de Máquina.\n",
        "X = data['text']"
      ],
      "execution_count": 47,
      "outputs": []
    },
    {
      "cell_type": "code",
      "metadata": {
        "colab_type": "code",
        "id": "AwUI6eh46UJm",
        "colab": {
          "base_uri": "https://localhost:8080/",
          "height": 289
        },
        "outputId": "78033008-a836-403a-fbab-be223231a0bf"
      },
      "source": [
        "#Visualizando as 15 primeiras linhas. \n",
        "X[:15]"
      ],
      "execution_count": 48,
      "outputs": [
        {
          "output_type": "execute_result",
          "data": {
            "text/plain": [
              "0     Tudo mudou na nossa forma de trabalhar, mas na...\n",
              "1     McDonald’s já reabriu lojas ao público https:/...\n",
              "2     Sindicato, está atento em tudo o que envolve s...\n",
              "3     Nossos problemas da saúde definitivamente acab...\n",
              "4     Fábricas de todo o mundo se viram obrigadas a ...\n",
              "5     @g1 @RedeGlobo @jornalhoje o governo de @jairb...\n",
              "6     Lei N° 6666, nos #EUA, que pretende traçar e i...\n",
              "7     https://t.co/mcftUwJr5F o governo precisa ser ...\n",
              "8     Blockchain: a tecnologia que popularizou o #bi...\n",
              "9     VOCÊS CONHECEM ALGUM PAÍS ALÉM DO BRASIL QUE T...\n",
              "10    Itajuípe recebe o Centro Municipal de Isolamen...\n",
              "11    📣 NOTÍCIA / NEWS / NOUVELLES \\n\\n🇵🇹 Manual de ...\n",
              "12    Enquanto o governo Bolsonaro permanecer Irresp...\n",
              "13    Faça a diferença! Seja um doador sem fronteira...\n",
              "14    Manaus, maio de 2020. Reportagem sobre o colap...\n",
              "Name: text, dtype: object"
            ]
          },
          "metadata": {
            "tags": []
          },
          "execution_count": 48
        }
      ]
    },
    {
      "cell_type": "code",
      "metadata": {
        "colab_type": "code",
        "id": "thTro6kD6UJq",
        "colab": {}
      },
      "source": [
        "def Preprocessing_data(instance):\n",
        "      instance = re.sub(r\"http\\S+\", \"\", instance).lower().replace('.', '').replace(';','').replace('-','').replace(':', '').replace(')', '')\n",
        "      stopwords = set(nltk.corpus.stopwords.words('portuguese'))\n",
        "      words = [i for i in instance.split() if not i in stopwords]\n",
        "      return (\" \".join(words))"
      ],
      "execution_count": 49,
      "outputs": []
    },
    {
      "cell_type": "code",
      "metadata": {
        "colab_type": "code",
        "id": "stZ9KUew6UJv",
        "colab": {}
      },
      "source": [
        "#Aplicando a função na nossa base de dados.\n",
        "X = [Preprocessing_data(i) for i in X]"
      ],
      "execution_count": 50,
      "outputs": []
    },
    {
      "cell_type": "code",
      "metadata": {
        "colab_type": "code",
        "id": "Z2jSyWj16UJz",
        "colab": {
          "base_uri": "https://localhost:8080/",
          "height": 272
        },
        "outputId": "17719b6b-8835-48df-d244-71cf38821182"
      },
      "source": [
        "#Visualizando novamente as 15 primeiras linhas, agora após o pré-processamento.\n",
        "X[:15]"
      ],
      "execution_count": 51,
      "outputs": [
        {
          "output_type": "execute_result",
          "data": {
            "text/plain": [
              "['tudo mudou forma trabalhar, nada mudou objetivo informar #jornalismo #imprensa…',\n",
              " 'mcdonald’s reabriu lojas público #comida #covid19 #mcdonalds',\n",
              " 'sindicato, atento tudo envolve saúde condições trabalho nessa pandemia #covid @spbancarios',\n",
              " 'problemas saúde definitivamente acabaram #saude #forabolsonaro #covid',\n",
              " 'fábricas todo mundo viram obrigadas dispensarem funcionários decorrência #covid19 antes m…',\n",
              " '@g1 @redeglobo @jornalhoje governo @jairbolsonaro vai socorrer ninguém vai enrolar! pois minto quer r…',\n",
              " 'lei n° 6666, #eua, pretende traçar investigar percurso pessoas tivestes contatos, usand…',\n",
              " 'governo precisa ser responsabilizado #covid #covid19',\n",
              " 'blockchain tecnologia popularizou #bitcoin sendo testada combate #covid19 sistema capaz de…',\n",
              " 'conhecem algum país além brasil torcida organizada coronavirus???? #covid #covid19',\n",
              " 'itajuípe recebe centro municipal isolamento covid19 #covid19 #isolamentosocial #covid @rctitajuipe',\n",
              " '📣 notícia / news / nouvelles 🇵🇹 manual boas práticas – algarve clean &amp safe 🇬🇧 good practice guide algarve c…',\n",
              " 'enquanto governo bolsonaro permanecer irresponsável, povo paga vida #calabocabolsonaro #covid…',\n",
              " 'faça diferença! doador fronteiras sou! #covid #covid19 @msf_brasil',\n",
              " 'manaus, maio 2020 reportagem sobre colapso sus @veja dessa semana, mostra situação pacientes em…']"
            ]
          },
          "metadata": {
            "tags": []
          },
          "execution_count": 51
        }
      ]
    },
    {
      "cell_type": "code",
      "metadata": {
        "id": "a1DTZ0iz3wRO",
        "colab_type": "code",
        "colab": {}
      },
      "source": [
        "#Importando módulo que contém o modelo, da biblioteca Sklearn.\n",
        "from sklearn.feature_extraction.text import TfidfVectorizer"
      ],
      "execution_count": 52,
      "outputs": []
    },
    {
      "cell_type": "code",
      "metadata": {
        "id": "1RX25rD636kq",
        "colab_type": "code",
        "colab": {}
      },
      "source": [
        "#Criando instância do Modelo.\n",
        "vectorizer = TfidfVectorizer()"
      ],
      "execution_count": 53,
      "outputs": []
    },
    {
      "cell_type": "code",
      "metadata": {
        "id": "MkFADutD4DS3",
        "colab_type": "code",
        "colab": {}
      },
      "source": [
        "#Aplicando modelo nos dados.\n",
        "X = vectorizer.fit_transform(X)"
      ],
      "execution_count": 54,
      "outputs": []
    },
    {
      "cell_type": "code",
      "metadata": {
        "id": "GdUBbMAJ4ANf",
        "colab_type": "code",
        "colab": {
          "base_uri": "https://localhost:8080/",
          "height": 51
        },
        "outputId": "b32039b7-f6d2-4fc5-f2b0-39203298c274"
      },
      "source": [
        "#Visualizando instância criada.\n",
        "X"
      ],
      "execution_count": 55,
      "outputs": [
        {
          "output_type": "execute_result",
          "data": {
            "text/plain": [
              "<103364x78504 sparse matrix of type '<class 'numpy.float64'>'\n",
              "\twith 998982 stored elements in Compressed Sparse Row format>"
            ]
          },
          "metadata": {
            "tags": []
          },
          "execution_count": 55
        }
      ]
    },
    {
      "cell_type": "code",
      "metadata": {
        "colab_type": "code",
        "id": "sFMwfLeS6JIJ",
        "colab": {}
      },
      "source": [
        "#Importando algoritmo KMeans da biblioteca Sklearn.\n",
        "from sklearn.cluster import KMeans"
      ],
      "execution_count": 56,
      "outputs": []
    },
    {
      "cell_type": "code",
      "metadata": {
        "colab_type": "code",
        "id": "hBg7ZVKI6JIZ",
        "colab": {}
      },
      "source": [
        "#Instanciando objeto kmeans, definindo o número de clusters e definindo a quantidade máxima de iterações.\n",
        "true_k = 3\n",
        "kmeans = KMeans(n_clusters=true_k, init='k-means++', max_iter=100, n_init=1)"
      ],
      "execution_count": 70,
      "outputs": []
    },
    {
      "cell_type": "code",
      "metadata": {
        "colab_type": "code",
        "id": "u1BFgJkO6JIj",
        "colab": {
          "base_uri": "https://localhost:8080/",
          "height": 68
        },
        "outputId": "46d0accf-5128-4ae3-f7fc-30a339fdbdca"
      },
      "source": [
        "#Treinando o Modelo.\n",
        "kmeans.fit(X)"
      ],
      "execution_count": 71,
      "outputs": [
        {
          "output_type": "execute_result",
          "data": {
            "text/plain": [
              "KMeans(algorithm='auto', copy_x=True, init='k-means++', max_iter=100,\n",
              "       n_clusters=3, n_init=1, n_jobs=None, precompute_distances='auto',\n",
              "       random_state=None, tol=0.0001, verbose=0)"
            ]
          },
          "metadata": {
            "tags": []
          },
          "execution_count": 71
        }
      ]
    },
    {
      "cell_type": "code",
      "metadata": {
        "colab_type": "code",
        "id": "FLsdm53s6JIq",
        "colab": {
          "base_uri": "https://localhost:8080/",
          "height": 34
        },
        "outputId": "139a55b2-7d1b-4322-8e67-8ef185f48065"
      },
      "source": [
        "#Verificando labels originados.\n",
        "kmeans.labels_"
      ],
      "execution_count": 72,
      "outputs": [
        {
          "output_type": "execute_result",
          "data": {
            "text/plain": [
              "array([0, 0, 0, ..., 1, 1, 1], dtype=int32)"
            ]
          },
          "metadata": {
            "tags": []
          },
          "execution_count": 72
        }
      ]
    },
    {
      "cell_type": "code",
      "metadata": {
        "colab_type": "code",
        "id": "pCqbOsmO6JIv",
        "colab": {}
      },
      "source": [
        "#Criando uma nova coluna no Data Frame. Associando cada tweet ao seu respectivo agrupamento feito pelo algoritmo.\n",
        "data['Kclasses'] = kmeans.labels_"
      ],
      "execution_count": 73,
      "outputs": []
    },
    {
      "cell_type": "code",
      "metadata": {
        "colab_type": "code",
        "id": "7uksZyU56JI1",
        "colab": {
          "base_uri": "https://localhost:8080/",
          "height": 34
        },
        "outputId": "dbae4eac-804f-45c2-d0e3-492367497fea"
      },
      "source": [
        "#Visualizando tipos únicos para a coluna.\n",
        "data['Kclasses'].unique()"
      ],
      "execution_count": 74,
      "outputs": [
        {
          "output_type": "execute_result",
          "data": {
            "text/plain": [
              "array([0, 2, 1], dtype=int32)"
            ]
          },
          "metadata": {
            "tags": []
          },
          "execution_count": 74
        }
      ]
    },
    {
      "cell_type": "code",
      "metadata": {
        "colab_type": "code",
        "id": "1IncZrrx6JI4",
        "colab": {}
      },
      "source": [
        "#Criando novo Data Frame com as colunas de interesse para visualização. O contéudo do Tweet (text) e o respectivo agrupamento.\n",
        "df = data [['text', 'Kclasses']]"
      ],
      "execution_count": 75,
      "outputs": []
    },
    {
      "cell_type": "code",
      "metadata": {
        "colab_type": "code",
        "id": "hSK2Ms0a6JI8",
        "colab": {
          "base_uri": "https://localhost:8080/",
          "height": 204
        },
        "outputId": "8957088e-5f41-4b31-c816-b8e77c38bcd1"
      },
      "source": [
        "#Visualizando as 5 primeiras linhas do Data Frame.\n",
        "df.head()"
      ],
      "execution_count": 76,
      "outputs": [
        {
          "output_type": "execute_result",
          "data": {
            "text/html": [
              "<div>\n",
              "<style scoped>\n",
              "    .dataframe tbody tr th:only-of-type {\n",
              "        vertical-align: middle;\n",
              "    }\n",
              "\n",
              "    .dataframe tbody tr th {\n",
              "        vertical-align: top;\n",
              "    }\n",
              "\n",
              "    .dataframe thead th {\n",
              "        text-align: right;\n",
              "    }\n",
              "</style>\n",
              "<table border=\"1\" class=\"dataframe\">\n",
              "  <thead>\n",
              "    <tr style=\"text-align: right;\">\n",
              "      <th></th>\n",
              "      <th>text</th>\n",
              "      <th>Kclasses</th>\n",
              "    </tr>\n",
              "  </thead>\n",
              "  <tbody>\n",
              "    <tr>\n",
              "      <th>0</th>\n",
              "      <td>Tudo mudou na nossa forma de trabalhar, mas na...</td>\n",
              "      <td>0</td>\n",
              "    </tr>\n",
              "    <tr>\n",
              "      <th>1</th>\n",
              "      <td>McDonald’s já reabriu lojas ao público https:/...</td>\n",
              "      <td>0</td>\n",
              "    </tr>\n",
              "    <tr>\n",
              "      <th>2</th>\n",
              "      <td>Sindicato, está atento em tudo o que envolve s...</td>\n",
              "      <td>0</td>\n",
              "    </tr>\n",
              "    <tr>\n",
              "      <th>3</th>\n",
              "      <td>Nossos problemas da saúde definitivamente acab...</td>\n",
              "      <td>0</td>\n",
              "    </tr>\n",
              "    <tr>\n",
              "      <th>4</th>\n",
              "      <td>Fábricas de todo o mundo se viram obrigadas a ...</td>\n",
              "      <td>0</td>\n",
              "    </tr>\n",
              "  </tbody>\n",
              "</table>\n",
              "</div>"
            ],
            "text/plain": [
              "                                                text  Kclasses\n",
              "0  Tudo mudou na nossa forma de trabalhar, mas na...         0\n",
              "1  McDonald’s já reabriu lojas ao público https:/...         0\n",
              "2  Sindicato, está atento em tudo o que envolve s...         0\n",
              "3  Nossos problemas da saúde definitivamente acab...         0\n",
              "4  Fábricas de todo o mundo se viram obrigadas a ...         0"
            ]
          },
          "metadata": {
            "tags": []
          },
          "execution_count": 76
        }
      ]
    },
    {
      "cell_type": "code",
      "metadata": {
        "colab_type": "code",
        "id": "RRe4oGXE6JI_",
        "colab": {
          "base_uri": "https://localhost:8080/",
          "height": 85
        },
        "outputId": "cd619982-506d-4e03-e42b-edf56e6278a9"
      },
      "source": [
        "  df['Kclasses'].value_counts()"
      ],
      "execution_count": 77,
      "outputs": [
        {
          "output_type": "execute_result",
          "data": {
            "text/plain": [
              "0    80988\n",
              "1    12046\n",
              "2    10330\n",
              "Name: Kclasses, dtype: int64"
            ]
          },
          "metadata": {
            "tags": []
          },
          "execution_count": 77
        }
      ]
    },
    {
      "cell_type": "code",
      "metadata": {
        "colab_type": "code",
        "id": "r3Z6faQF6JJC",
        "colab": {
          "base_uri": "https://localhost:8080/",
          "height": 359
        },
        "outputId": "bc64d779-6a0c-4eee-a371-59a0b5b155e0"
      },
      "source": [
        "#Visualizando tweets agrupados na Classe 0, originada a partir do algoritmo.\n",
        "classe_0 = df.loc[df.Kclasses == 0,]\n",
        "classe_0.head(10)"
      ],
      "execution_count": 78,
      "outputs": [
        {
          "output_type": "execute_result",
          "data": {
            "text/html": [
              "<div>\n",
              "<style scoped>\n",
              "    .dataframe tbody tr th:only-of-type {\n",
              "        vertical-align: middle;\n",
              "    }\n",
              "\n",
              "    .dataframe tbody tr th {\n",
              "        vertical-align: top;\n",
              "    }\n",
              "\n",
              "    .dataframe thead th {\n",
              "        text-align: right;\n",
              "    }\n",
              "</style>\n",
              "<table border=\"1\" class=\"dataframe\">\n",
              "  <thead>\n",
              "    <tr style=\"text-align: right;\">\n",
              "      <th></th>\n",
              "      <th>text</th>\n",
              "      <th>Kclasses</th>\n",
              "    </tr>\n",
              "  </thead>\n",
              "  <tbody>\n",
              "    <tr>\n",
              "      <th>0</th>\n",
              "      <td>Tudo mudou na nossa forma de trabalhar, mas na...</td>\n",
              "      <td>0</td>\n",
              "    </tr>\n",
              "    <tr>\n",
              "      <th>1</th>\n",
              "      <td>McDonald’s já reabriu lojas ao público https:/...</td>\n",
              "      <td>0</td>\n",
              "    </tr>\n",
              "    <tr>\n",
              "      <th>2</th>\n",
              "      <td>Sindicato, está atento em tudo o que envolve s...</td>\n",
              "      <td>0</td>\n",
              "    </tr>\n",
              "    <tr>\n",
              "      <th>3</th>\n",
              "      <td>Nossos problemas da saúde definitivamente acab...</td>\n",
              "      <td>0</td>\n",
              "    </tr>\n",
              "    <tr>\n",
              "      <th>4</th>\n",
              "      <td>Fábricas de todo o mundo se viram obrigadas a ...</td>\n",
              "      <td>0</td>\n",
              "    </tr>\n",
              "    <tr>\n",
              "      <th>5</th>\n",
              "      <td>@g1 @RedeGlobo @jornalhoje o governo de @jairb...</td>\n",
              "      <td>0</td>\n",
              "    </tr>\n",
              "    <tr>\n",
              "      <th>6</th>\n",
              "      <td>Lei N° 6666, nos #EUA, que pretende traçar e i...</td>\n",
              "      <td>0</td>\n",
              "    </tr>\n",
              "    <tr>\n",
              "      <th>7</th>\n",
              "      <td>https://t.co/mcftUwJr5F o governo precisa ser ...</td>\n",
              "      <td>0</td>\n",
              "    </tr>\n",
              "    <tr>\n",
              "      <th>8</th>\n",
              "      <td>Blockchain: a tecnologia que popularizou o #bi...</td>\n",
              "      <td>0</td>\n",
              "    </tr>\n",
              "    <tr>\n",
              "      <th>9</th>\n",
              "      <td>VOCÊS CONHECEM ALGUM PAÍS ALÉM DO BRASIL QUE T...</td>\n",
              "      <td>0</td>\n",
              "    </tr>\n",
              "  </tbody>\n",
              "</table>\n",
              "</div>"
            ],
            "text/plain": [
              "                                                text  Kclasses\n",
              "0  Tudo mudou na nossa forma de trabalhar, mas na...         0\n",
              "1  McDonald’s já reabriu lojas ao público https:/...         0\n",
              "2  Sindicato, está atento em tudo o que envolve s...         0\n",
              "3  Nossos problemas da saúde definitivamente acab...         0\n",
              "4  Fábricas de todo o mundo se viram obrigadas a ...         0\n",
              "5  @g1 @RedeGlobo @jornalhoje o governo de @jairb...         0\n",
              "6  Lei N° 6666, nos #EUA, que pretende traçar e i...         0\n",
              "7  https://t.co/mcftUwJr5F o governo precisa ser ...         0\n",
              "8  Blockchain: a tecnologia que popularizou o #bi...         0\n",
              "9  VOCÊS CONHECEM ALGUM PAÍS ALÉM DO BRASIL QUE T...         0"
            ]
          },
          "metadata": {
            "tags": []
          },
          "execution_count": 78
        }
      ]
    },
    {
      "cell_type": "code",
      "metadata": {
        "colab_type": "code",
        "id": "_OiwgWOf6JJG",
        "colab": {
          "base_uri": "https://localhost:8080/",
          "height": 359
        },
        "outputId": "6cd551aa-0aa6-4c73-e830-16ab4a68b299"
      },
      "source": [
        "#Visualizando tweets agrupados na Classe 1, originada a partir do algoritmo.\n",
        "classe_1 = df.loc[df.Kclasses == 1,]\n",
        "classe_1.head(10)"
      ],
      "execution_count": 79,
      "outputs": [
        {
          "output_type": "execute_result",
          "data": {
            "text/html": [
              "<div>\n",
              "<style scoped>\n",
              "    .dataframe tbody tr th:only-of-type {\n",
              "        vertical-align: middle;\n",
              "    }\n",
              "\n",
              "    .dataframe tbody tr th {\n",
              "        vertical-align: top;\n",
              "    }\n",
              "\n",
              "    .dataframe thead th {\n",
              "        text-align: right;\n",
              "    }\n",
              "</style>\n",
              "<table border=\"1\" class=\"dataframe\">\n",
              "  <thead>\n",
              "    <tr style=\"text-align: right;\">\n",
              "      <th></th>\n",
              "      <th>text</th>\n",
              "      <th>Kclasses</th>\n",
              "    </tr>\n",
              "  </thead>\n",
              "  <tbody>\n",
              "    <tr>\n",
              "      <th>115</th>\n",
              "      <td>Tocantins decreta lockdown após reabrir comérc...</td>\n",
              "      <td>1</td>\n",
              "    </tr>\n",
              "    <tr>\n",
              "      <th>118</th>\n",
              "      <td>Dilemas e alternativas em tempos de Covid-19 h...</td>\n",
              "      <td>1</td>\n",
              "    </tr>\n",
              "    <tr>\n",
              "      <th>125</th>\n",
              "      <td>#saopaulo #COVID19 #COVIDー19  #lockdown #rushh...</td>\n",
              "      <td>1</td>\n",
              "    </tr>\n",
              "    <tr>\n",
              "      <th>233</th>\n",
              "      <td>O TERROR DO LOCKDOWN E AS ESTRATÉGIAS DOS GOVE...</td>\n",
              "      <td>1</td>\n",
              "    </tr>\n",
              "    <tr>\n",
              "      <th>298</th>\n",
              "      <td>Covas diz que saúde de SP está perto do colaps...</td>\n",
              "      <td>1</td>\n",
              "    </tr>\n",
              "    <tr>\n",
              "      <th>350</th>\n",
              "      <td>Sobre a #Covid no Brasil 😷 🦠\\n.\\n📌 #SP continu...</td>\n",
              "      <td>1</td>\n",
              "    </tr>\n",
              "    <tr>\n",
              "      <th>444</th>\n",
              "      <td>Um covarde, assassino, criminoso.\\n#impeachmen...</td>\n",
              "      <td>1</td>\n",
              "    </tr>\n",
              "    <tr>\n",
              "      <th>463</th>\n",
              "      <td>Supermercados em Wuhan na. 2ª quinzena de jane...</td>\n",
              "      <td>1</td>\n",
              "    </tr>\n",
              "    <tr>\n",
              "      <th>847</th>\n",
              "      <td>Amanhã o  Estado de Pernambuco estará em lockd...</td>\n",
              "      <td>1</td>\n",
              "    </tr>\n",
              "    <tr>\n",
              "      <th>867</th>\n",
              "      <td>Notícias do dia! #lockdown prorrogado no Pará!...</td>\n",
              "      <td>1</td>\n",
              "    </tr>\n",
              "  </tbody>\n",
              "</table>\n",
              "</div>"
            ],
            "text/plain": [
              "                                                  text  Kclasses\n",
              "115  Tocantins decreta lockdown após reabrir comérc...         1\n",
              "118  Dilemas e alternativas em tempos de Covid-19 h...         1\n",
              "125  #saopaulo #COVID19 #COVIDー19  #lockdown #rushh...         1\n",
              "233  O TERROR DO LOCKDOWN E AS ESTRATÉGIAS DOS GOVE...         1\n",
              "298  Covas diz que saúde de SP está perto do colaps...         1\n",
              "350  Sobre a #Covid no Brasil 😷 🦠\\n.\\n📌 #SP continu...         1\n",
              "444  Um covarde, assassino, criminoso.\\n#impeachmen...         1\n",
              "463  Supermercados em Wuhan na. 2ª quinzena de jane...         1\n",
              "847  Amanhã o  Estado de Pernambuco estará em lockd...         1\n",
              "867  Notícias do dia! #lockdown prorrogado no Pará!...         1"
            ]
          },
          "metadata": {
            "tags": []
          },
          "execution_count": 79
        }
      ]
    },
    {
      "cell_type": "code",
      "metadata": {
        "colab_type": "code",
        "id": "xV__xbG56JJJ",
        "colab": {
          "base_uri": "https://localhost:8080/",
          "height": 359
        },
        "outputId": "d91db2e9-5f0e-4b64-f91d-1c42422ffade"
      },
      "source": [
        "#Visualizando tweets agrupados na Classe 0, originada a partir do algoritmo.\n",
        "classe_2 = df.loc[df.Kclasses == 2,]\n",
        "classe_2.head(10)"
      ],
      "execution_count": 80,
      "outputs": [
        {
          "output_type": "execute_result",
          "data": {
            "text/html": [
              "<div>\n",
              "<style scoped>\n",
              "    .dataframe tbody tr th:only-of-type {\n",
              "        vertical-align: middle;\n",
              "    }\n",
              "\n",
              "    .dataframe tbody tr th {\n",
              "        vertical-align: top;\n",
              "    }\n",
              "\n",
              "    .dataframe thead th {\n",
              "        text-align: right;\n",
              "    }\n",
              "</style>\n",
              "<table border=\"1\" class=\"dataframe\">\n",
              "  <thead>\n",
              "    <tr style=\"text-align: right;\">\n",
              "      <th></th>\n",
              "      <th>text</th>\n",
              "      <th>Kclasses</th>\n",
              "    </tr>\n",
              "  </thead>\n",
              "  <tbody>\n",
              "    <tr>\n",
              "      <th>24</th>\n",
              "      <td>Articulação dos Povos Indígenas do Brasil - AP...</td>\n",
              "      <td>2</td>\n",
              "    </tr>\n",
              "    <tr>\n",
              "      <th>27</th>\n",
              "      <td>Rapaziada fiquem espertos! Existem umas minas ...</td>\n",
              "      <td>2</td>\n",
              "    </tr>\n",
              "    <tr>\n",
              "      <th>55</th>\n",
              "      <td>Atualização #COVID19 Mundo\\n\\nAtualização: 18/...</td>\n",
              "      <td>2</td>\n",
              "    </tr>\n",
              "    <tr>\n",
              "      <th>97</th>\n",
              "      <td>Já passa de 1,5 milhão o número de recuperados...</td>\n",
              "      <td>2</td>\n",
              "    </tr>\n",
              "    <tr>\n",
              "      <th>111</th>\n",
              "      <td>Rio de Janeiro tem 2,7 mil mortes por covid-19...</td>\n",
              "      <td>2</td>\n",
              "    </tr>\n",
              "    <tr>\n",
              "      <th>113</th>\n",
              "      <td>Covid-19: Concelho da Maia volta a ter casos d...</td>\n",
              "      <td>2</td>\n",
              "    </tr>\n",
              "    <tr>\n",
              "      <th>130</th>\n",
              "      <td>A Comunidade Intermunicipal (CIM) Região de Co...</td>\n",
              "      <td>2</td>\n",
              "    </tr>\n",
              "    <tr>\n",
              "      <th>132</th>\n",
              "      <td>Atualização #COVID19 Mundo\\n\\nAtualização: 18/...</td>\n",
              "      <td>2</td>\n",
              "    </tr>\n",
              "    <tr>\n",
              "      <th>141</th>\n",
              "      <td>Comunidade cigana em Barcelos sem novos casos ...</td>\n",
              "      <td>2</td>\n",
              "    </tr>\n",
              "    <tr>\n",
              "      <th>165</th>\n",
              "      <td>O #Brasil atinge 16.118 mortes por #Coronavíru...</td>\n",
              "      <td>2</td>\n",
              "    </tr>\n",
              "  </tbody>\n",
              "</table>\n",
              "</div>"
            ],
            "text/plain": [
              "                                                  text  Kclasses\n",
              "24   Articulação dos Povos Indígenas do Brasil - AP...         2\n",
              "27   Rapaziada fiquem espertos! Existem umas minas ...         2\n",
              "55   Atualização #COVID19 Mundo\\n\\nAtualização: 18/...         2\n",
              "97   Já passa de 1,5 milhão o número de recuperados...         2\n",
              "111  Rio de Janeiro tem 2,7 mil mortes por covid-19...         2\n",
              "113  Covid-19: Concelho da Maia volta a ter casos d...         2\n",
              "130  A Comunidade Intermunicipal (CIM) Região de Co...         2\n",
              "132  Atualização #COVID19 Mundo\\n\\nAtualização: 18/...         2\n",
              "141  Comunidade cigana em Barcelos sem novos casos ...         2\n",
              "165  O #Brasil atinge 16.118 mortes por #Coronavíru...         2"
            ]
          },
          "metadata": {
            "tags": []
          },
          "execution_count": 80
        }
      ]
    },
    {
      "cell_type": "markdown",
      "metadata": {
        "colab_type": "text",
        "id": "vm8SIwRB6JJM"
      },
      "source": [
        "**Iremos agora verificar a divisão dos principais termos entre as classes.**"
      ]
    },
    {
      "cell_type": "code",
      "metadata": {
        "colab_type": "code",
        "id": "yQdqCQFd6JJN",
        "colab": {}
      },
      "source": [
        "centroids = kmeans.cluster_centers_.argsort()[:, ::-1]\n",
        "terms = vectorizer.get_feature_names()"
      ],
      "execution_count": 81,
      "outputs": []
    },
    {
      "cell_type": "code",
      "metadata": {
        "colab_type": "code",
        "id": "Y2z44lQ16JJQ",
        "colab": {
          "base_uri": "https://localhost:8080/",
          "height": 578
        },
        "outputId": "e6dfcbf0-2ad3-4d2d-b9d4-df177dd1fe57"
      },
      "source": [
        "for i in range(true_k):\n",
        "    print(\"Cluster %d:\" % i),\n",
        "    for ind in centroids[i, :10]:\n",
        "      print(' %s' % terms[ind])"
      ],
      "execution_count": 86,
      "outputs": [
        {
          "output_type": "stream",
          "text": [
            "Cluster 0:\n",
            " coronavírus\n",
            " covid19\n",
            " coronavirus\n",
            " contra\n",
            " pandemia\n",
            " novo\n",
            " vacina\n",
            " sobre\n",
            " pra\n",
            " bolsonaro\n",
            "Cluster 1:\n",
            " lockdown\n",
            " vai\n",
            " pra\n",
            " ter\n",
            " aqui\n",
            " curitiba\n",
            " dias\n",
            " tá\n",
            " cidade\n",
            " goiás\n",
            "Cluster 2:\n",
            " casos\n",
            " mortes\n",
            " brasil\n",
            " covid19\n",
            " coronavírus\n",
            " mil\n",
            " novos\n",
            " confirmados\n",
            " registra\n",
            " óbitos\n"
          ],
          "name": "stdout"
        }
      ]
    }
  ]
}