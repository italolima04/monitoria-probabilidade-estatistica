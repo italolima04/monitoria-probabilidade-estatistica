{
  "nbformat": 4,
  "nbformat_minor": 0,
  "metadata": {
    "colab": {
      "name": "Apresentação-PID-Implementação.ipynb",
      "provenance": [],
      "collapsed_sections": [
        "QrMuIDhZdOVm",
        "4IM7NpH3gWma",
        "gkC8_WYKbZzk",
        "ODGTbFZojcmE",
        "AyJflrkppvx-",
        "s1veSZon3rmW",
        "eg6Us2Tp9NwJ",
        "5hijG7kfuwr-",
        "VoP-8qZmnNzB"
      ],
      "authorship_tag": "ABX9TyNCL6Iglp9EnxbWEvoYJAB+",
      "include_colab_link": true
    },
    "kernelspec": {
      "name": "python3",
      "display_name": "Python 3"
    }
  },
  "cells": [
    {
      "cell_type": "markdown",
      "metadata": {
        "id": "view-in-github",
        "colab_type": "text"
      },
      "source": [
        "<a href=\"https://colab.research.google.com/github/italolima04/monitoria-probabilidade-estatistica/blob/master/Pesquisa-PID/Implementa%C3%A7%C3%A3o-Algoritmos/Apresenta%C3%A7%C3%A3o_PID_Implementa%C3%A7%C3%A3o.ipynb\" target=\"_parent\"><img src=\"https://colab.research.google.com/assets/colab-badge.svg\" alt=\"Open In Colab\"/></a>"
      ]
    },
    {
      "cell_type": "markdown",
      "metadata": {
        "id": "QrMuIDhZdOVm",
        "colab_type": "text"
      },
      "source": [
        "# Aprendizado Não-Supervisionado"
      ]
    },
    {
      "cell_type": "markdown",
      "metadata": {
        "id": "zHF3ifAbiTD1",
        "colab_type": "text"
      },
      "source": [
        "\"*O aprendizado não supervisionado é um ramo do Machine Learning que aprende com dados de teste que não foram rotulados, classificados ou categorizados previamente. Em vez de responder à programação de um operador, o aprendizado não supervisionado identifica semelhanças nos dados e reage com base na presença ou ausência de tais semelhanças em cada novo dado*"
      ]
    },
    {
      "cell_type": "markdown",
      "metadata": {
        "id": "4NZFkvCagZCO",
        "colab_type": "text"
      },
      "source": [
        "**Essa abordagem de Aprendizado de Máquina é útil quando não possuímos rótulos (Labels) para os nossos dados. Isto é importante pelo fato de que em muitos contexos possuir esses dados pode ser difícil e/ou custoso.**\n"
      ]
    },
    {
      "cell_type": "markdown",
      "metadata": {
        "id": "Q9U4habTh8Ii",
        "colab_type": "text"
      },
      "source": [
        "Nesse caso de estudo, pelo fato da base de dados ser atual, real e ter sido coletada em um contexto de uma rede social, não se faz possível possuir rótulos para a classificação de textos. Dessa forma, objetiva-se agrupar os dados de forma não supervisionada."
      ]
    },
    {
      "cell_type": "markdown",
      "metadata": {
        "id": "4IM7NpH3gWma",
        "colab_type": "text"
      },
      "source": [
        "# Clustering"
      ]
    },
    {
      "cell_type": "markdown",
      "metadata": {
        "id": "U6tuGZLwdTQZ",
        "colab_type": "text"
      },
      "source": [
        "**Clustering é uma técnica de Aprendizado de Máquina que envolve o agrupamento de pontos de dados.**\n",
        "\n",
        "Utiliza-se algoritmos de clustering para agrupar pontos de dados em grupos específicos, cujos, na teoria devem possuir propriedades/características semelhantes."
      ]
    },
    {
      "cell_type": "markdown",
      "metadata": {
        "id": "T9j8dXGwdqlI",
        "colab_type": "text"
      },
      "source": [
        "**K-Means**\n",
        "\n",
        "K-Means é um método de Clustering que tem como objetivo o particionamento de n observações dentre k grupos, onde cada observação pertence ao grupo mais próximo da média.\n",
        "\n",
        "\n",
        "A execução do K-Means segue um conjunto de passos, descritos abaixo:\n",
        "\n",
        "1. Selecionar um número de classes/grupos para utilizar e inicializarmos aleatoriamente seus respectivos pontos centrais (Centróides). Esses grupos podem ser definidos de acordo com a regra do negócio ou a perspectiva do problema.\n",
        "2. Cada de ponto de dados é classificado, baseando-se na distância entre esse ponto e o centro do grupo.\n",
        "3. Com base nos pontos classificados, recalcula-se o centróide, a partir da média das distâncias de todos os vetores do grupo.  \n",
        "\n",
        "Esses dois últimos passos são repetidos, até que o limite de iterações pré-determinado seja atingido, ou quando os centróides não sofrerem alterações significantes de uma iteração para outra.\n",
        "\n"
      ]
    },
    {
      "cell_type": "markdown",
      "metadata": {
        "id": "gfIbkTePfrSh",
        "colab_type": "text"
      },
      "source": [
        "**Vantagens:**\n",
        "\n",
        "- É rápido, visto que o que é feito é somente calcular as distâncias entre os pontos e os centróides do grupo. Possui então complexidade linear O(n). \n",
        "\n",
        "- É simples de aplicar e se mostra eficiente.\n",
        "\n",
        "**Desvantagens:**\n",
        "\n",
        "- Dificuldade para determinar a quantidade de clusters (Dependendo do Objetivo).\n",
        "\n",
        "- Pode ser inconsistente, a depende do conjunto de dados."
      ]
    },
    {
      "cell_type": "markdown",
      "metadata": {
        "id": "gkC8_WYKbZzk",
        "colab_type": "text"
      },
      "source": [
        "# Importando Bibliotecas, Módulos e Dados"
      ]
    },
    {
      "cell_type": "code",
      "metadata": {
        "id": "EslyX3HlbG4v",
        "colab_type": "code",
        "colab": {
          "base_uri": "https://localhost:8080/"
        },
        "outputId": "d6ae1d3b-36a2-4684-85a2-3908df079686"
      },
      "source": [
        "import pandas as pd\n",
        "import numpy as np\n",
        "import matplotlib.pyplot as plt\n",
        "import nltk\n",
        "nltk.download('stopwords')\n",
        "import re\n",
        "from sklearn.feature_extraction.text import CountVectorizer"
      ],
      "execution_count": null,
      "outputs": [
        {
          "output_type": "stream",
          "text": [
            "[nltk_data] Downloading package stopwords to /root/nltk_data...\n",
            "[nltk_data]   Package stopwords is already up-to-date!\n"
          ],
          "name": "stdout"
        }
      ]
    },
    {
      "cell_type": "code",
      "metadata": {
        "id": "JXYfvKDAbeZC",
        "colab_type": "code",
        "colab": {}
      },
      "source": [
        "#Criando Data Frame a partir dos dados.\n",
        "data = pd.read_csv('dados-pesquisa.csv')"
      ],
      "execution_count": null,
      "outputs": []
    },
    {
      "cell_type": "markdown",
      "metadata": {
        "id": "ODGTbFZojcmE",
        "colab_type": "text"
      },
      "source": [
        "# Visualizando e Explorando os dados"
      ]
    },
    {
      "cell_type": "code",
      "metadata": {
        "id": "DrcjQhYxjqS0",
        "colab_type": "code",
        "colab": {
          "base_uri": "https://localhost:8080/"
        },
        "outputId": "b0ad0a91-36e9-4a9e-b26e-a3a84338700d"
      },
      "source": [
        "#Visualizando as 5 primeiras linhas.\n",
        "data.head()"
      ],
      "execution_count": null,
      "outputs": [
        {
          "output_type": "execute_result",
          "data": {
            "text/html": [
              "<div>\n",
              "<style scoped>\n",
              "    .dataframe tbody tr th:only-of-type {\n",
              "        vertical-align: middle;\n",
              "    }\n",
              "\n",
              "    .dataframe tbody tr th {\n",
              "        vertical-align: top;\n",
              "    }\n",
              "\n",
              "    .dataframe thead th {\n",
              "        text-align: right;\n",
              "    }\n",
              "</style>\n",
              "<table border=\"1\" class=\"dataframe\">\n",
              "  <thead>\n",
              "    <tr style=\"text-align: right;\">\n",
              "      <th></th>\n",
              "      <th>Unnamed: 0</th>\n",
              "      <th>created_at</th>\n",
              "      <th>id</th>\n",
              "      <th>text</th>\n",
              "      <th>user</th>\n",
              "      <th>lang</th>\n",
              "    </tr>\n",
              "  </thead>\n",
              "  <tbody>\n",
              "    <tr>\n",
              "      <th>0</th>\n",
              "      <td>0</td>\n",
              "      <td>Mon May 18 17:53:01 +0000 2020</td>\n",
              "      <td>NaN</td>\n",
              "      <td>Tudo mudou na nossa forma de trabalhar, mas na...</td>\n",
              "      <td>NaN</td>\n",
              "      <td>pt</td>\n",
              "    </tr>\n",
              "    <tr>\n",
              "      <th>1</th>\n",
              "      <td>1</td>\n",
              "      <td>Mon May 18 17:52:17 +0000 2020</td>\n",
              "      <td>NaN</td>\n",
              "      <td>McDonald’s já reabriu lojas ao público https:/...</td>\n",
              "      <td>NaN</td>\n",
              "      <td>pt</td>\n",
              "    </tr>\n",
              "    <tr>\n",
              "      <th>2</th>\n",
              "      <td>2</td>\n",
              "      <td>Mon May 18 17:50:40 +0000 2020</td>\n",
              "      <td>NaN</td>\n",
              "      <td>Sindicato, está atento em tudo o que envolve s...</td>\n",
              "      <td>NaN</td>\n",
              "      <td>pt</td>\n",
              "    </tr>\n",
              "    <tr>\n",
              "      <th>3</th>\n",
              "      <td>3</td>\n",
              "      <td>Mon May 18 17:49:17 +0000 2020</td>\n",
              "      <td>NaN</td>\n",
              "      <td>Nossos problemas da saúde definitivamente acab...</td>\n",
              "      <td>NaN</td>\n",
              "      <td>pt</td>\n",
              "    </tr>\n",
              "    <tr>\n",
              "      <th>4</th>\n",
              "      <td>4</td>\n",
              "      <td>Mon May 18 17:49:06 +0000 2020</td>\n",
              "      <td>NaN</td>\n",
              "      <td>Fábricas de todo o mundo se viram obrigadas a ...</td>\n",
              "      <td>NaN</td>\n",
              "      <td>pt</td>\n",
              "    </tr>\n",
              "  </tbody>\n",
              "</table>\n",
              "</div>"
            ],
            "text/plain": [
              "   Unnamed: 0                      created_at  ...  user lang\n",
              "0           0  Mon May 18 17:53:01 +0000 2020  ...   NaN   pt\n",
              "1           1  Mon May 18 17:52:17 +0000 2020  ...   NaN   pt\n",
              "2           2  Mon May 18 17:50:40 +0000 2020  ...   NaN   pt\n",
              "3           3  Mon May 18 17:49:17 +0000 2020  ...   NaN   pt\n",
              "4           4  Mon May 18 17:49:06 +0000 2020  ...   NaN   pt\n",
              "\n",
              "[5 rows x 6 columns]"
            ]
          },
          "metadata": {
            "tags": []
          },
          "execution_count": 3
        }
      ]
    },
    {
      "cell_type": "code",
      "metadata": {
        "id": "MH2O2KSKj6q-",
        "colab_type": "code",
        "colab": {
          "base_uri": "https://localhost:8080/"
        },
        "outputId": "249d37df-1b61-445c-ce9d-42762ef1ad5f"
      },
      "source": [
        "#Visualizando as 5 últimas linhas.\n",
        "data.tail()"
      ],
      "execution_count": null,
      "outputs": [
        {
          "output_type": "execute_result",
          "data": {
            "text/html": [
              "<div>\n",
              "<style scoped>\n",
              "    .dataframe tbody tr th:only-of-type {\n",
              "        vertical-align: middle;\n",
              "    }\n",
              "\n",
              "    .dataframe tbody tr th {\n",
              "        vertical-align: top;\n",
              "    }\n",
              "\n",
              "    .dataframe thead th {\n",
              "        text-align: right;\n",
              "    }\n",
              "</style>\n",
              "<table border=\"1\" class=\"dataframe\">\n",
              "  <thead>\n",
              "    <tr style=\"text-align: right;\">\n",
              "      <th></th>\n",
              "      <th>Unnamed: 0</th>\n",
              "      <th>created_at</th>\n",
              "      <th>id</th>\n",
              "      <th>text</th>\n",
              "      <th>user</th>\n",
              "      <th>lang</th>\n",
              "    </tr>\n",
              "  </thead>\n",
              "  <tbody>\n",
              "    <tr>\n",
              "      <th>109959</th>\n",
              "      <td>109959</td>\n",
              "      <td>Mon Jul 20 15:04:14 +0000 2020</td>\n",
              "      <td>1.285229e+18</td>\n",
              "      <td>porto alegre perigando a entrar em lockdown e ...</td>\n",
              "      <td>{'id': 1245313171, 'id_str': '1245313171', 'na...</td>\n",
              "      <td>pt</td>\n",
              "    </tr>\n",
              "    <tr>\n",
              "      <th>109960</th>\n",
              "      <td>109960</td>\n",
              "      <td>Mon Jul 20 15:03:35 +0000 2020</td>\n",
              "      <td>1.285229e+18</td>\n",
              "      <td>Nunca que a Mídia vai falar isso!\\nAMB, CFM e ...</td>\n",
              "      <td>{'id': 40697641, 'id_str': '40697641', 'name':...</td>\n",
              "      <td>pt</td>\n",
              "    </tr>\n",
              "    <tr>\n",
              "      <th>109961</th>\n",
              "      <td>109961</td>\n",
              "      <td>Mon Jul 20 15:03:33 +0000 2020</td>\n",
              "      <td>1.285229e+18</td>\n",
              "      <td>@joaopiresrj Eu não sou cientista mas esse LOC...</td>\n",
              "      <td>{'id': 942176977, 'id_str': '942176977', 'name...</td>\n",
              "      <td>pt</td>\n",
              "    </tr>\n",
              "    <tr>\n",
              "      <th>109962</th>\n",
              "      <td>109962</td>\n",
              "      <td>Mon Jul 20 15:01:54 +0000 2020</td>\n",
              "      <td>1.285228e+18</td>\n",
              "      <td>Q&amp;amp;A - Recessão ou Lockdown. O que é pior? ...</td>\n",
              "      <td>{'id': 1136982345137958912, 'id_str': '1136982...</td>\n",
              "      <td>pt</td>\n",
              "    </tr>\n",
              "    <tr>\n",
              "      <th>109963</th>\n",
              "      <td>109963</td>\n",
              "      <td>Mon Jul 20 15:01:38 +0000 2020</td>\n",
              "      <td>1.285228e+18</td>\n",
              "      <td>O prefeito de Los Angeles está preste a decret...</td>\n",
              "      <td>{'id': 494366716, 'id_str': '494366716', 'name...</td>\n",
              "      <td>pt</td>\n",
              "    </tr>\n",
              "  </tbody>\n",
              "</table>\n",
              "</div>"
            ],
            "text/plain": [
              "        Unnamed: 0  ... lang\n",
              "109959      109959  ...   pt\n",
              "109960      109960  ...   pt\n",
              "109961      109961  ...   pt\n",
              "109962      109962  ...   pt\n",
              "109963      109963  ...   pt\n",
              "\n",
              "[5 rows x 6 columns]"
            ]
          },
          "metadata": {
            "tags": []
          },
          "execution_count": 4
        }
      ]
    },
    {
      "cell_type": "code",
      "metadata": {
        "id": "65DcCYvPjbmk",
        "colab_type": "code",
        "colab": {
          "base_uri": "https://localhost:8080/"
        },
        "outputId": "79dff6f1-21ad-4a76-b5e0-452ec1e2fa2d"
      },
      "source": [
        "#Verificando a estrutura inicial dos dados.\n",
        "data.shape"
      ],
      "execution_count": null,
      "outputs": [
        {
          "output_type": "execute_result",
          "data": {
            "text/plain": [
              "(109964, 6)"
            ]
          },
          "metadata": {
            "tags": []
          },
          "execution_count": 5
        }
      ]
    },
    {
      "cell_type": "markdown",
      "metadata": {
        "id": "PL74IZlBjrv9",
        "colab_type": "text"
      },
      "source": [
        "**Podemos observar aproximadamente 110 mil linhas e 6 colunas.**"
      ]
    },
    {
      "cell_type": "markdown",
      "metadata": {
        "id": "AyJflrkppvx-",
        "colab_type": "text"
      },
      "source": [
        "# Tratando os dados"
      ]
    },
    {
      "cell_type": "code",
      "metadata": {
        "id": "ntMjmA1hj_pB",
        "colab_type": "code",
        "colab": {}
      },
      "source": [
        "#Removendo dados duplicados na coluna de Texto e substituindo dentro do próprio Data Frame.\n",
        "data.drop_duplicates(['text'], inplace=True)"
      ],
      "execution_count": null,
      "outputs": []
    },
    {
      "cell_type": "code",
      "metadata": {
        "id": "DyhrarbekOUJ",
        "colab_type": "code",
        "colab": {
          "base_uri": "https://localhost:8080/"
        },
        "outputId": "f958066e-66ee-4bfc-b7f5-32e966259246"
      },
      "source": [
        "#Verificando novamente a estrutura dos dados para observar a quantidade de dados únicos.\n",
        "data.shape"
      ],
      "execution_count": null,
      "outputs": [
        {
          "output_type": "execute_result",
          "data": {
            "text/plain": [
              "(103364, 6)"
            ]
          },
          "metadata": {
            "tags": []
          },
          "execution_count": 7
        }
      ]
    },
    {
      "cell_type": "markdown",
      "metadata": {
        "id": "Gh3k65gwlje8",
        "colab_type": "text"
      },
      "source": [
        "6600 linhas foram removidas."
      ]
    },
    {
      "cell_type": "markdown",
      "metadata": {
        "id": "PJlkTrKzktJl",
        "colab_type": "text"
      },
      "source": [
        "**Iremos trabalhar com os Dados de Texto, por isso, selecionaremos apenas a coluna associada ao conteúdo dos tweets.**"
      ]
    },
    {
      "cell_type": "code",
      "metadata": {
        "id": "bQyFyq6Bk29W",
        "colab_type": "code",
        "colab": {}
      },
      "source": [
        "#Utilizando notação comum em estudos de Aprendizado de Máquina.\n",
        "X = data['text']"
      ],
      "execution_count": null,
      "outputs": []
    },
    {
      "cell_type": "code",
      "metadata": {
        "id": "6bKpOB7-k-JH",
        "colab_type": "code",
        "colab": {
          "base_uri": "https://localhost:8080/"
        },
        "outputId": "9bce12e7-b351-4634-d7f9-f4e0ddb2e993"
      },
      "source": [
        "#Visualizando as 15 primeiras linhas. \n",
        "X[:15]"
      ],
      "execution_count": null,
      "outputs": [
        {
          "output_type": "execute_result",
          "data": {
            "text/plain": [
              "0     Tudo mudou na nossa forma de trabalhar, mas na...\n",
              "1     McDonald’s já reabriu lojas ao público https:/...\n",
              "2     Sindicato, está atento em tudo o que envolve s...\n",
              "3     Nossos problemas da saúde definitivamente acab...\n",
              "4     Fábricas de todo o mundo se viram obrigadas a ...\n",
              "5     @g1 @RedeGlobo @jornalhoje o governo de @jairb...\n",
              "6     Lei N° 6666, nos #EUA, que pretende traçar e i...\n",
              "7     https://t.co/mcftUwJr5F o governo precisa ser ...\n",
              "8     Blockchain: a tecnologia que popularizou o #bi...\n",
              "9     VOCÊS CONHECEM ALGUM PAÍS ALÉM DO BRASIL QUE T...\n",
              "10    Itajuípe recebe o Centro Municipal de Isolamen...\n",
              "11    📣 NOTÍCIA / NEWS / NOUVELLES \\n\\n🇵🇹 Manual de ...\n",
              "12    Enquanto o governo Bolsonaro permanecer Irresp...\n",
              "13    Faça a diferença! Seja um doador sem fronteira...\n",
              "14    Manaus, maio de 2020. Reportagem sobre o colap...\n",
              "Name: text, dtype: object"
            ]
          },
          "metadata": {
            "tags": []
          },
          "execution_count": 9
        }
      ]
    },
    {
      "cell_type": "markdown",
      "metadata": {
        "id": "NdsZzO1uiR3E",
        "colab_type": "text"
      },
      "source": [
        "**Devido ao fato de os dados serem proveninentes de uma rede social, se faz necessária uma etapa de pré-processamento nos mesmos.**"
      ]
    },
    {
      "cell_type": "code",
      "metadata": {
        "id": "qDt6G21ntIhw",
        "colab_type": "code",
        "colab": {}
      },
      "source": [
        "def Preprocessing_data(instance):\n",
        "      instance = re.sub(r\"http\\S+\", \"\", instance).lower().replace('.', '').replace(';','').replace('-','').replace(':', '').replace(')', '')\n",
        "      stopwords = set(nltk.corpus.stopwords.words('portuguese'))\n",
        "      words = [i for i in instance.split() if not i in stopwords]\n",
        "      return (\" \".join(words))"
      ],
      "execution_count": null,
      "outputs": []
    },
    {
      "cell_type": "markdown",
      "metadata": {
        "id": "b0mXGAG5isR0",
        "colab_type": "text"
      },
      "source": [
        "**Função que remove links, urls, sinais de pontuação, padroniza os caracteres como minúsculos e remove as stopwords através de um dos módulos da biblioteca NLTK.**"
      ]
    },
    {
      "cell_type": "code",
      "metadata": {
        "id": "Yqm7JgNUmsVM",
        "colab_type": "code",
        "colab": {}
      },
      "source": [
        "#Aplicando a função na nossa base de dados.\n",
        "X = [Preprocessing_data(i) for i in X]"
      ],
      "execution_count": null,
      "outputs": []
    },
    {
      "cell_type": "code",
      "metadata": {
        "id": "suoFiiJ2mzaR",
        "colab_type": "code",
        "colab": {
          "base_uri": "https://localhost:8080/"
        },
        "outputId": "1a98c251-bfc0-4ab9-91cf-c576e7fdb298"
      },
      "source": [
        "#Visualizando novamente as 15 primeiras linhas, agora após o pré-processamento.\n",
        "X[:15]"
      ],
      "execution_count": null,
      "outputs": [
        {
          "output_type": "execute_result",
          "data": {
            "text/plain": [
              "['tudo mudou forma trabalhar, nada mudou objetivo informar #jornalismo #imprensa…',\n",
              " 'mcdonald’s reabriu lojas público #comida #covid19 #mcdonalds',\n",
              " 'sindicato, atento tudo envolve saúde condições trabalho nessa pandemia #covid @spbancarios',\n",
              " 'problemas saúde definitivamente acabaram #saude #forabolsonaro #covid',\n",
              " 'fábricas todo mundo viram obrigadas dispensarem funcionários decorrência #covid19 antes m…',\n",
              " '@g1 @redeglobo @jornalhoje governo @jairbolsonaro vai socorrer ninguém vai enrolar! pois minto quer r…',\n",
              " 'lei n° 6666, #eua, pretende traçar investigar percurso pessoas tivestes contatos, usand…',\n",
              " 'governo precisa ser responsabilizado #covid #covid19',\n",
              " 'blockchain tecnologia popularizou #bitcoin sendo testada combate #covid19 sistema capaz de…',\n",
              " 'conhecem algum país além brasil torcida organizada coronavirus???? #covid #covid19',\n",
              " 'itajuípe recebe centro municipal isolamento covid19 #covid19 #isolamentosocial #covid @rctitajuipe',\n",
              " '📣 notícia / news / nouvelles 🇵🇹 manual boas práticas – algarve clean &amp safe 🇬🇧 good practice guide algarve c…',\n",
              " 'enquanto governo bolsonaro permanecer irresponsável, povo paga vida #calabocabolsonaro #covid…',\n",
              " 'faça diferença! doador fronteiras sou! #covid #covid19 @msf_brasil',\n",
              " 'manaus, maio 2020 reportagem sobre colapso sus @veja dessa semana, mostra situação pacientes em…']"
            ]
          },
          "metadata": {
            "tags": []
          },
          "execution_count": 12
        }
      ]
    },
    {
      "cell_type": "markdown",
      "metadata": {
        "id": "cZe4t3fIk5I1",
        "colab_type": "text"
      },
      "source": [
        "**É atribuído um número para cada palavra encontrada na base de dados.**"
      ]
    },
    {
      "cell_type": "markdown",
      "metadata": {
        "id": "s1veSZon3rmW",
        "colab_type": "text"
      },
      "source": [
        "# Transformando os Dados com o modelo TF-IDF"
      ]
    },
    {
      "cell_type": "markdown",
      "metadata": {
        "id": "NYIPP6-A6WD3",
        "colab_type": "text"
      },
      "source": [
        "**Primeiramente, iremos \"resetar\" o X, atribuindo-o novamente aos dados da coluna text**"
      ]
    },
    {
      "cell_type": "code",
      "metadata": {
        "colab_type": "code",
        "id": "T0Z0YnIG6UJe",
        "colab": {}
      },
      "source": [
        "#Utilizando notação comum em estudos de Aprendizado de Máquina.\n",
        "X = data['text']"
      ],
      "execution_count": null,
      "outputs": []
    },
    {
      "cell_type": "code",
      "metadata": {
        "colab_type": "code",
        "id": "AwUI6eh46UJm",
        "colab": {
          "base_uri": "https://localhost:8080/"
        },
        "outputId": "1f21f8d1-a65f-4481-c97a-70583e6b1504"
      },
      "source": [
        "#Visualizando as 15 primeiras linhas. \n",
        "X[:15]"
      ],
      "execution_count": null,
      "outputs": [
        {
          "output_type": "execute_result",
          "data": {
            "text/plain": [
              "0     Tudo mudou na nossa forma de trabalhar, mas na...\n",
              "1     McDonald’s já reabriu lojas ao público https:/...\n",
              "2     Sindicato, está atento em tudo o que envolve s...\n",
              "3     Nossos problemas da saúde definitivamente acab...\n",
              "4     Fábricas de todo o mundo se viram obrigadas a ...\n",
              "5     @g1 @RedeGlobo @jornalhoje o governo de @jairb...\n",
              "6     Lei N° 6666, nos #EUA, que pretende traçar e i...\n",
              "7     https://t.co/mcftUwJr5F o governo precisa ser ...\n",
              "8     Blockchain: a tecnologia que popularizou o #bi...\n",
              "9     VOCÊS CONHECEM ALGUM PAÍS ALÉM DO BRASIL QUE T...\n",
              "10    Itajuípe recebe o Centro Municipal de Isolamen...\n",
              "11    📣 NOTÍCIA / NEWS / NOUVELLES \\n\\n🇵🇹 Manual de ...\n",
              "12    Enquanto o governo Bolsonaro permanecer Irresp...\n",
              "13    Faça a diferença! Seja um doador sem fronteira...\n",
              "14    Manaus, maio de 2020. Reportagem sobre o colap...\n",
              "Name: text, dtype: object"
            ]
          },
          "metadata": {
            "tags": []
          },
          "execution_count": 14
        }
      ]
    },
    {
      "cell_type": "code",
      "metadata": {
        "colab_type": "code",
        "id": "thTro6kD6UJq",
        "colab": {}
      },
      "source": [
        "def Preprocessing_data(instance):\n",
        "      instance = re.sub(r\"http\\S+\", \"\", instance).lower().replace('.', '').replace(';','').replace('-','').replace(':', '').replace(')', '')\n",
        "      stopwords = set(nltk.corpus.stopwords.words('portuguese'))\n",
        "      words = [i for i in instance.split() if not i in stopwords]\n",
        "      return (\" \".join(words))"
      ],
      "execution_count": null,
      "outputs": []
    },
    {
      "cell_type": "code",
      "metadata": {
        "colab_type": "code",
        "id": "stZ9KUew6UJv",
        "colab": {}
      },
      "source": [
        "#Aplicando a função na nossa base de dados.\n",
        "X = [Preprocessing_data(i) for i in X]"
      ],
      "execution_count": null,
      "outputs": []
    },
    {
      "cell_type": "code",
      "metadata": {
        "colab_type": "code",
        "id": "Z2jSyWj16UJz",
        "colab": {
          "base_uri": "https://localhost:8080/"
        },
        "outputId": "2f189226-0fbb-42a4-ee2a-6b48dee97ba8"
      },
      "source": [
        "#Visualizando novamente as 15 primeiras linhas, agora após o pré-processamento.\n",
        "X[:15]"
      ],
      "execution_count": null,
      "outputs": [
        {
          "output_type": "execute_result",
          "data": {
            "text/plain": [
              "['tudo mudou forma trabalhar, nada mudou objetivo informar #jornalismo #imprensa…',\n",
              " 'mcdonald’s reabriu lojas público #comida #covid19 #mcdonalds',\n",
              " 'sindicato, atento tudo envolve saúde condições trabalho nessa pandemia #covid @spbancarios',\n",
              " 'problemas saúde definitivamente acabaram #saude #forabolsonaro #covid',\n",
              " 'fábricas todo mundo viram obrigadas dispensarem funcionários decorrência #covid19 antes m…',\n",
              " '@g1 @redeglobo @jornalhoje governo @jairbolsonaro vai socorrer ninguém vai enrolar! pois minto quer r…',\n",
              " 'lei n° 6666, #eua, pretende traçar investigar percurso pessoas tivestes contatos, usand…',\n",
              " 'governo precisa ser responsabilizado #covid #covid19',\n",
              " 'blockchain tecnologia popularizou #bitcoin sendo testada combate #covid19 sistema capaz de…',\n",
              " 'conhecem algum país além brasil torcida organizada coronavirus???? #covid #covid19',\n",
              " 'itajuípe recebe centro municipal isolamento covid19 #covid19 #isolamentosocial #covid @rctitajuipe',\n",
              " '📣 notícia / news / nouvelles 🇵🇹 manual boas práticas – algarve clean &amp safe 🇬🇧 good practice guide algarve c…',\n",
              " 'enquanto governo bolsonaro permanecer irresponsável, povo paga vida #calabocabolsonaro #covid…',\n",
              " 'faça diferença! doador fronteiras sou! #covid #covid19 @msf_brasil',\n",
              " 'manaus, maio 2020 reportagem sobre colapso sus @veja dessa semana, mostra situação pacientes em…']"
            ]
          },
          "metadata": {
            "tags": []
          },
          "execution_count": 17
        }
      ]
    },
    {
      "cell_type": "code",
      "metadata": {
        "id": "a1DTZ0iz3wRO",
        "colab_type": "code",
        "colab": {}
      },
      "source": [
        "#Importando módulo que contém o modelo, da biblioteca Sklearn.\n",
        "from sklearn.feature_extraction.text import TfidfVectorizer"
      ],
      "execution_count": null,
      "outputs": []
    },
    {
      "cell_type": "code",
      "metadata": {
        "id": "1RX25rD636kq",
        "colab_type": "code",
        "colab": {}
      },
      "source": [
        "#Criando instância do Modelo.\n",
        "vectorizer = TfidfVectorizer()"
      ],
      "execution_count": null,
      "outputs": []
    },
    {
      "cell_type": "code",
      "metadata": {
        "id": "MkFADutD4DS3",
        "colab_type": "code",
        "colab": {}
      },
      "source": [
        "#Aplicando modelo nos dados.\n",
        "X = vectorizer.fit_transform(X)"
      ],
      "execution_count": null,
      "outputs": []
    },
    {
      "cell_type": "code",
      "metadata": {
        "id": "GdUBbMAJ4ANf",
        "colab_type": "code",
        "colab": {
          "base_uri": "https://localhost:8080/"
        },
        "outputId": "cedcd0bd-687d-41bb-cf11-598d7c999bd4"
      },
      "source": [
        "#Visualizando instância criada.\n",
        "X"
      ],
      "execution_count": null,
      "outputs": [
        {
          "output_type": "execute_result",
          "data": {
            "text/plain": [
              "<103364x78504 sparse matrix of type '<class 'numpy.float64'>'\n",
              "\twith 998982 stored elements in Compressed Sparse Row format>"
            ]
          },
          "metadata": {
            "tags": []
          },
          "execution_count": 21
        }
      ]
    },
    {
      "cell_type": "markdown",
      "metadata": {
        "id": "eg6Us2Tp9NwJ",
        "colab_type": "text"
      },
      "source": [
        "# Aplicando K-Means"
      ]
    },
    {
      "cell_type": "code",
      "metadata": {
        "id": "2r9qksJG9-Wp",
        "colab_type": "code",
        "colab": {}
      },
      "source": [
        "#Importando algoritmo KMeans da biblioteca Sklearn.\n",
        "from sklearn.cluster import KMeans"
      ],
      "execution_count": null,
      "outputs": []
    },
    {
      "cell_type": "code",
      "metadata": {
        "id": "jnjRhOa0XRzZ",
        "colab_type": "code",
        "colab": {}
      },
      "source": [
        "#Carregando modelo Word2VEC.\n",
        "word_vectors = w2v_model.wv\n",
        "#Criando instância do algoritmo K-Means e passando como entrada os vetores originados pelo Word2VEC.\n",
        "model = KMeans(n_clusters=2, init='k-means++', max_iter=1000, n_init=50).fit(X=word_vectors.vectors)"
      ],
      "execution_count": null,
      "outputs": []
    },
    {
      "cell_type": "code",
      "metadata": {
        "id": "Kj7oNOz4xZVl",
        "colab_type": "code",
        "colab": {
          "base_uri": "https://localhost:8080/",
          "height": 241
        },
        "outputId": "5b8eea6f-2ee4-47d9-d95d-e997a157a7c4"
      },
      "source": [
        "word_vectors.similar_by_vector(model.cluster_centers_[0], topn=10, restrict_vocab=None)"
      ],
      "execution_count": null,
      "outputs": [
        {
          "output_type": "stream",
          "text": [
            "/usr/local/lib/python3.6/dist-packages/gensim/matutils.py:737: FutureWarning: Conversion of the second argument of issubdtype from `int` to `np.signedinteger` is deprecated. In future, it will be treated as `np.int64 == np.dtype(int).type`.\n",
            "  if np.issubdtype(vec.dtype, np.int):\n"
          ],
          "name": "stderr"
        },
        {
          "output_type": "execute_result",
          "data": {
            "text/plain": [
              "[('@guicidade', 0.9998173713684082),\n",
              " ('padaria,', 0.9998025894165039),\n",
              " ('@maumeirelles', 0.9997973442077637),\n",
              " ('antibiotico', 0.9997907876968384),\n",
              " ('critico', 0.9997900724411011),\n",
              " ('otaku', 0.9997895956039429),\n",
              " ('@prudmin', 0.9997768998146057),\n",
              " ('banaliza', 0.9997758865356445),\n",
              " ('influenza,', 0.9997735023498535),\n",
              " ('fatos,', 0.9997729063034058)]"
            ]
          },
          "metadata": {
            "tags": []
          },
          "execution_count": 407
        }
      ]
    },
    {
      "cell_type": "code",
      "metadata": {
        "id": "DFWaDlYYxtoT",
        "colab_type": "code",
        "colab": {
          "base_uri": "https://localhost:8080/",
          "height": 241
        },
        "outputId": "8e1b4fcc-7c4a-4e5e-9a78-7e5c8142f911"
      },
      "source": [
        "word_vectors.similar_by_vector(model.cluster_centers_[1], topn=10, restrict_vocab=None)"
      ],
      "execution_count": null,
      "outputs": [
        {
          "output_type": "stream",
          "text": [
            "/usr/local/lib/python3.6/dist-packages/gensim/matutils.py:737: FutureWarning: Conversion of the second argument of issubdtype from `int` to `np.signedinteger` is deprecated. In future, it will be treated as `np.int64 == np.dtype(int).type`.\n",
            "  if np.issubdtype(vec.dtype, np.int):\n"
          ],
          "name": "stderr"
        },
        {
          "output_type": "execute_result",
          "data": {
            "text/plain": [
              "[('6,5', 0.9983620643615723),\n",
              " ('#cbnlondrina', 0.9981963634490967),\n",
              " ('280', 0.9977450370788574),\n",
              " ('atu…', 0.9976952075958252),\n",
              " ('ajuste', 0.9976508617401123),\n",
              " ('mantémse', 0.9975696802139282),\n",
              " ('divulgou,', 0.9974309206008911),\n",
              " ('vilhena', 0.9974086284637451),\n",
              " ('veranópolis', 0.9972860813140869),\n",
              " ('concentra', 0.9972808361053467)]"
            ]
          },
          "metadata": {
            "tags": []
          },
          "execution_count": 408
        }
      ]
    },
    {
      "cell_type": "code",
      "metadata": {
        "id": "xL-MDRTTx0G6",
        "colab_type": "code",
        "colab": {}
      },
      "source": [
        "#word_vectors.similar_by_vector(model.cluster_centers_[2], topn=10, restrict_vocab=None)"
      ],
      "execution_count": null,
      "outputs": []
    },
    {
      "cell_type": "code",
      "metadata": {
        "id": "AIpDjbcQxa0I",
        "colab_type": "code",
        "colab": {}
      },
      "source": [
        "positive_cluster_center = model.cluster_centers_[0]\n",
        "negative_cluster_center = model.cluster_centers_[1]\n",
        "#neutral_cluster_center = model.cluster_centers_[2]"
      ],
      "execution_count": null,
      "outputs": []
    },
    {
      "cell_type": "code",
      "metadata": {
        "id": "FqR8eQhEXbCm",
        "colab_type": "code",
        "colab": {
          "base_uri": "https://localhost:8080/",
          "height": 238
        },
        "outputId": "39e94bf2-3504-4895-96cd-abc3406732b2"
      },
      "source": [
        "#Verificando os vetores que foram entradas para o algoritmo, criados pelo modelo Word2VEC.\n",
        "word_vectors.vectors"
      ],
      "execution_count": null,
      "outputs": [
        {
          "output_type": "execute_result",
          "data": {
            "text/plain": [
              "array([[-0.04830528, -0.0888536 ,  0.0121821 , ...,  0.02902986,\n",
              "        -0.06335721, -0.04157186],\n",
              "       [-0.01620184, -0.08371107, -0.02201089, ...,  0.00480282,\n",
              "        -0.02898812, -0.00793971],\n",
              "       [-0.03907719, -0.04570566,  0.07377318, ..., -0.06223137,\n",
              "        -0.10727366,  0.07251507],\n",
              "       ...,\n",
              "       [-0.07516849, -0.02846682,  0.05661228, ..., -0.04819285,\n",
              "        -0.09105309,  0.01191978],\n",
              "       [-0.07529917, -0.02962228,  0.068182  , ..., -0.05000691,\n",
              "        -0.10008409,  0.02093332],\n",
              "       [-0.0758184 , -0.02824306,  0.06028139, ..., -0.04901572,\n",
              "        -0.08991348,  0.01396022]], dtype=float32)"
            ]
          },
          "metadata": {
            "tags": []
          },
          "execution_count": 411
        }
      ]
    },
    {
      "cell_type": "code",
      "metadata": {
        "id": "4KqEfIOPXKbb",
        "colab_type": "code",
        "colab": {
          "base_uri": "https://localhost:8080/",
          "height": 1000
        },
        "outputId": "0a28bef9-3859-4a84-faef-752b0a5ecf64"
      },
      "source": [
        "model.cluster_centers_"
      ],
      "execution_count": null,
      "outputs": [
        {
          "output_type": "execute_result",
          "data": {
            "text/plain": [
              "array([[-7.21572861e-02, -2.74464209e-02,  6.33466169e-02,\n",
              "         1.63704399e-02,  7.07888529e-02, -2.70095584e-03,\n",
              "        -5.42753004e-02, -1.25905806e-02,  3.67578156e-02,\n",
              "        -5.69887226e-03,  7.08400533e-02, -7.03297630e-02,\n",
              "         9.57227312e-05, -6.25459924e-02,  5.14166765e-02,\n",
              "         2.14814395e-02, -4.90327254e-02, -1.23748612e-02,\n",
              "        -1.67479794e-02,  1.23052765e-02, -3.51850837e-02,\n",
              "        -3.25769209e-03,  3.64111364e-02, -3.41699198e-02,\n",
              "         1.56835943e-01,  8.15555975e-02, -1.29096329e-01,\n",
              "         8.46559182e-02, -8.70009661e-02,  3.61581706e-02,\n",
              "        -8.24830905e-02, -6.15216792e-02,  2.83797793e-02,\n",
              "        -1.47375241e-01,  1.36916647e-02, -7.47230202e-02,\n",
              "        -8.03454220e-02,  5.34621328e-02,  5.24857454e-02,\n",
              "        -3.83956591e-03, -4.94446270e-02, -8.64642411e-02,\n",
              "         2.88445177e-03, -7.58034214e-02,  5.08014001e-02,\n",
              "         1.43853566e-02, -5.76101467e-02,  2.54720971e-02,\n",
              "         2.34782360e-02,  3.54748368e-02,  1.42947969e-03,\n",
              "         1.04011893e-01, -8.28602910e-03, -1.93013214e-02,\n",
              "         6.40942156e-02, -1.46711050e-02,  6.58455044e-02,\n",
              "        -4.12345938e-02, -5.82106374e-02, -1.16652764e-01,\n",
              "         4.88477610e-02, -6.07246980e-02,  8.43724832e-02,\n",
              "         2.60330290e-02, -2.86692921e-02,  2.53315587e-02,\n",
              "        -3.99613380e-02,  1.93672515e-02,  9.31292698e-02,\n",
              "        -1.99596509e-02, -8.23679268e-02,  7.36695305e-02,\n",
              "         1.50754191e-02,  4.47510295e-02, -3.51063423e-02,\n",
              "        -1.15068205e-01, -5.35853654e-02, -4.76902686e-02,\n",
              "         4.75622900e-02,  3.73504050e-02, -1.10387348e-01,\n",
              "        -1.10837854e-02,  5.54920221e-03,  1.25702191e-02,\n",
              "         8.99933577e-02,  1.70001783e-03,  7.73343258e-04,\n",
              "         1.66450869e-02, -4.29672701e-03, -4.85006012e-02,\n",
              "        -1.91150559e-03, -2.88037187e-03, -4.15770970e-02,\n",
              "        -7.27651641e-02,  9.26952288e-02, -6.80635497e-02,\n",
              "         4.55567576e-02,  9.62755159e-02, -3.64632122e-02,\n",
              "        -7.52980355e-03,  1.10753812e-02,  5.77100329e-02,\n",
              "         9.72990841e-02,  6.80258647e-02,  7.91437253e-02,\n",
              "        -5.76540977e-02,  1.06309675e-01,  3.47707495e-02,\n",
              "         3.10877748e-02, -8.12092498e-02, -3.99681516e-02,\n",
              "         3.78986560e-02, -3.76844183e-02,  2.58572511e-02,\n",
              "        -1.75424293e-02,  2.65491642e-02, -2.18964759e-02,\n",
              "         3.74309979e-02, -5.43493032e-02,  1.06968105e-01,\n",
              "        -8.20872411e-02,  4.57010493e-02, -7.90361017e-02,\n",
              "        -4.41273600e-02, -3.61466780e-02, -7.58378431e-02,\n",
              "        -3.02854702e-02, -7.81638082e-03,  1.52123393e-02,\n",
              "         1.13013878e-01,  8.05374160e-02,  4.67821211e-02,\n",
              "        -1.93969160e-03, -3.45464125e-02, -3.79943289e-02,\n",
              "         2.23612227e-02, -4.84371781e-02,  2.61958987e-02,\n",
              "        -3.47606391e-02, -4.75704893e-02,  3.19702588e-02,\n",
              "        -3.78867462e-02, -2.83919200e-02,  8.72542523e-03,\n",
              "         4.96772006e-02, -2.71769688e-02, -3.57221514e-02,\n",
              "         8.22604820e-02, -4.25605811e-02,  7.43934438e-02,\n",
              "        -1.98195577e-02, -1.22493416e-01,  4.70979847e-02,\n",
              "        -3.79400700e-02, -7.08938241e-02, -5.33505492e-02,\n",
              "        -1.30407885e-01, -7.49215111e-02,  1.28670651e-02,\n",
              "        -4.03561331e-02,  1.05338860e-02, -3.90480347e-02,\n",
              "         3.43062468e-02, -1.50251295e-02,  8.54869634e-02,\n",
              "         2.96145678e-02, -8.74841437e-02, -2.63336897e-02,\n",
              "        -6.75375387e-03,  4.31515574e-02, -4.47513200e-02,\n",
              "         2.67295726e-02,  3.15384492e-02,  2.58734357e-02,\n",
              "         1.07507072e-02,  1.09831197e-02,  9.66229737e-02,\n",
              "        -8.45738575e-02,  6.27901778e-02, -5.39699756e-02,\n",
              "         1.08361185e-01, -5.10578007e-02,  9.59008038e-02,\n",
              "         4.34193648e-02,  1.61722093e-03,  7.50769302e-02,\n",
              "        -5.25307329e-03, -9.13295057e-03, -1.14026226e-01,\n",
              "         1.40769795e-01,  5.09491004e-03, -6.83887675e-02,\n",
              "         5.75423911e-02, -7.13124424e-02,  3.78300473e-02,\n",
              "        -8.78627747e-02, -3.50806415e-02,  6.52595162e-02,\n",
              "        -1.01334248e-02, -8.11875425e-03, -1.58176031e-02,\n",
              "        -4.97793406e-02, -9.26737785e-02,  3.89006361e-02,\n",
              "         1.59475449e-02,  2.09611524e-02,  8.15030113e-02,\n",
              "        -1.44930277e-02,  3.75162158e-03, -5.13537563e-02,\n",
              "        -1.07193366e-02, -5.15834875e-02,  5.12095075e-03,\n",
              "        -1.27405431e-02,  2.48287199e-03,  5.58167957e-02,\n",
              "         5.22498973e-04,  7.72348940e-02, -1.29981935e-02,\n",
              "         1.71741862e-02,  5.94920740e-02, -8.20521563e-02,\n",
              "        -1.04641832e-01,  2.80461600e-03,  4.66874894e-03,\n",
              "         8.71420372e-03,  3.17570334e-03,  9.11665633e-02,\n",
              "         7.78574497e-03,  2.63255127e-02,  1.48425121e-02,\n",
              "         7.77951032e-02, -7.93550536e-02,  8.69527832e-03,\n",
              "         7.82389417e-02,  3.74210253e-02,  2.86742300e-03,\n",
              "         8.61480609e-02,  1.10268705e-02,  1.13755196e-01,\n",
              "         9.05583426e-02, -1.47491153e-02, -3.33479382e-02,\n",
              "        -8.13310128e-03, -5.72979590e-03,  2.29005404e-02,\n",
              "        -5.89529388e-02, -3.84204797e-02,  5.10162786e-02,\n",
              "         1.21211343e-01,  2.97163166e-02, -6.92736804e-02,\n",
              "        -1.94666162e-02, -9.54848751e-02,  1.34753957e-02,\n",
              "         1.21316668e-02,  1.20919822e-02,  4.93700430e-02,\n",
              "        -7.96062425e-02,  5.20559922e-02,  3.01804598e-02,\n",
              "         3.25662792e-02, -2.12997347e-02,  7.03638867e-02,\n",
              "         6.12220578e-02,  3.23186330e-02,  2.40150671e-02,\n",
              "        -5.71798794e-02,  6.35460950e-03, -4.21611555e-02,\n",
              "         9.09139216e-02,  4.84902859e-02, -1.09587029e-01,\n",
              "        -2.07542405e-02, -2.52223779e-02, -9.54650566e-02,\n",
              "        -9.02420655e-03, -2.13111192e-02, -1.63943991e-02,\n",
              "         4.85504977e-02,  3.43145616e-02,  6.40207082e-02,\n",
              "         8.15038085e-02,  1.80203095e-02, -1.12082139e-02,\n",
              "         4.98708561e-02,  1.93952098e-02, -4.29380313e-02,\n",
              "        -4.27328199e-02, -5.11892959e-02, -6.85653090e-02,\n",
              "        -3.31825837e-02,  1.30032701e-02,  3.47903706e-02,\n",
              "        -1.54891480e-02,  3.06825228e-02,  1.01389224e-02,\n",
              "        -4.95193079e-02, -9.39628109e-02,  1.64097510e-02],\n",
              "       [-6.55119568e-02, -2.82498486e-02,  3.21488529e-02,\n",
              "        -2.71949358e-03,  8.40950608e-02,  1.73783451e-02,\n",
              "        -5.82973585e-02, -3.35184634e-02,  5.07294014e-02,\n",
              "         3.29852104e-02,  7.04170614e-02, -8.38844329e-02,\n",
              "        -1.87401492e-02, -6.07039668e-02,  5.89899719e-02,\n",
              "         1.42300259e-02, -2.43900418e-02,  2.87933312e-02,\n",
              "        -3.02813761e-03,  3.55105996e-02, -3.90417092e-02,\n",
              "        -1.56367533e-02,  3.01113762e-02, -2.72494182e-02,\n",
              "         1.27500907e-01,  4.39432934e-02, -1.28373116e-01,\n",
              "         5.07640317e-02, -9.99137163e-02,  4.04735580e-02,\n",
              "        -7.83660635e-02, -7.09299818e-02,  2.37372853e-02,\n",
              "        -1.22549675e-01,  1.46761565e-02, -6.42119274e-02,\n",
              "        -5.34440354e-02,  5.08457161e-02,  8.67090672e-02,\n",
              "        -2.44469438e-02, -5.29349148e-02, -9.50939059e-02,\n",
              "         2.70445533e-02, -5.55681735e-02,  3.92147005e-02,\n",
              "         6.60342164e-04, -5.85426092e-02,  9.07728728e-03,\n",
              "         3.67886722e-02,  6.56717047e-02, -8.86812527e-03,\n",
              "         6.61433637e-02,  7.54906889e-03, -2.81526223e-02,\n",
              "         1.02172561e-01, -3.16235386e-02,  6.00666292e-02,\n",
              "        -5.87338991e-02, -7.41815343e-02, -1.07334986e-01,\n",
              "         3.66057903e-02, -5.92921935e-02,  9.86136496e-02,\n",
              "         2.36708205e-02, -5.32725751e-02,  9.16137081e-03,\n",
              "        -3.78025919e-02,  4.03920971e-02,  7.87299275e-02,\n",
              "        -5.30055538e-03, -4.42905128e-02,  6.10117465e-02,\n",
              "        -2.27994565e-03,  6.60575330e-02, -2.92145386e-02,\n",
              "        -9.45530087e-02, -3.56477797e-02, -2.09381469e-02,\n",
              "         6.74325675e-02,  1.65958963e-02, -9.37140435e-02,\n",
              "        -2.37215143e-02,  2.97901146e-02,  2.04262249e-02,\n",
              "         8.78423750e-02, -8.66349135e-03,  1.97856128e-02,\n",
              "         2.65429970e-02,  2.25900356e-02, -6.12047315e-02,\n",
              "         3.12071480e-02, -2.84000463e-03, -5.25906049e-02,\n",
              "        -8.83718356e-02,  7.17108101e-02, -7.37424567e-02,\n",
              "         4.78501022e-02,  7.40959942e-02, -4.83400449e-02,\n",
              "         1.21663650e-03,  3.77038643e-02,  3.91934998e-02,\n",
              "         1.02362826e-01,  6.96264878e-02,  5.86606190e-02,\n",
              "        -7.15710148e-02,  1.00888245e-01,  5.30595034e-02,\n",
              "         3.57126817e-02, -6.20198213e-02, -2.04666127e-02,\n",
              "         4.98961657e-02, -4.14677039e-02, -1.55551452e-02,\n",
              "        -9.79452953e-03,  9.04150587e-03, -2.48909667e-02,\n",
              "         2.21740846e-02, -1.85891446e-02,  5.61139025e-02,\n",
              "        -5.29986396e-02,  7.35290200e-02, -7.64819980e-02,\n",
              "        -3.20149213e-02, -1.91229116e-02, -5.15716970e-02,\n",
              "        -2.90478971e-02, -2.07271101e-03,  8.62991624e-03,\n",
              "         1.04923800e-01,  5.63971177e-02,  4.09693494e-02,\n",
              "        -2.32955664e-02, -6.70532361e-02, -5.84703945e-02,\n",
              "         1.27723683e-02, -5.86926267e-02,  1.64465979e-02,\n",
              "        -1.34971514e-02, -5.82809448e-02,  1.57279260e-02,\n",
              "        -2.02029012e-02, -5.73220253e-02,  2.32933257e-02,\n",
              "         2.71634553e-02, -2.87331771e-02, -2.69174390e-02,\n",
              "         7.26724565e-02, -3.61668915e-02,  8.82304162e-02,\n",
              "        -4.49400097e-02, -5.97763620e-02,  5.37960865e-02,\n",
              "        -2.01000031e-02, -3.99467349e-02, -5.31654619e-02,\n",
              "        -8.24720040e-02, -4.61713225e-02,  3.64857465e-02,\n",
              "        -4.03177589e-02,  2.28849500e-02, -2.92410310e-02,\n",
              "         1.68962404e-02,  2.05589943e-02,  7.47839287e-02,\n",
              "         3.66837494e-02, -7.64665529e-02, -8.68020020e-03,\n",
              "         2.07550731e-03,  5.01112118e-02, -3.72264534e-04,\n",
              "         7.52073973e-02,  5.05487323e-02,  2.20607873e-02,\n",
              "        -1.49602666e-02,  2.91626714e-02,  4.41328250e-02,\n",
              "        -6.19054437e-02,  4.95309010e-02, -7.33972937e-02,\n",
              "         9.51685160e-02, -5.48907593e-02,  1.10160552e-01,\n",
              "         2.53638439e-02,  1.41110579e-02,  9.92038324e-02,\n",
              "        -1.40680373e-02, -9.15863924e-03, -7.73693770e-02,\n",
              "         1.42163977e-01, -3.13607417e-02, -6.22860864e-02,\n",
              "         7.41595998e-02, -6.69061542e-02,  2.60616392e-02,\n",
              "        -7.79635534e-02, -4.10624705e-02,  6.94964305e-02,\n",
              "         5.92861231e-03,  7.51979090e-03, -2.26163417e-02,\n",
              "        -2.14673132e-02, -6.33884147e-02,  4.65979762e-02,\n",
              "        -1.06478473e-02,  1.73828304e-02,  4.85502928e-02,\n",
              "        -3.89423966e-02,  3.65311839e-02, -5.35232686e-02,\n",
              "        -1.31905237e-02, -7.56925493e-02, -2.78520267e-02,\n",
              "        -1.56142842e-03,  1.46039240e-02,  6.20717891e-02,\n",
              "         3.73968557e-02,  2.67803147e-02, -8.02620500e-03,\n",
              "         2.58472618e-02,  5.25950715e-02, -9.10273418e-02,\n",
              "        -1.03011422e-01,  3.43621671e-02, -1.72930118e-02,\n",
              "        -1.17209386e-02, -7.54734501e-03,  8.32665339e-02,\n",
              "        -3.46811535e-03,  3.04794908e-02,  1.89161953e-03,\n",
              "         7.28654563e-02, -2.90971063e-02, -1.86932310e-02,\n",
              "         5.26922569e-02,  2.63862349e-02, -2.10316200e-03,\n",
              "         6.70254603e-02, -9.56922770e-04,  1.01318032e-01,\n",
              "         1.00547686e-01, -2.26374399e-02, -4.14989665e-02,\n",
              "        -1.44066270e-02,  2.53438465e-02,  1.22764781e-02,\n",
              "        -6.83867037e-02, -4.11244892e-02,  2.41124146e-02,\n",
              "         9.19530764e-02,  3.00635826e-02, -7.83673599e-02,\n",
              "        -2.89393887e-02, -1.11443639e-01,  1.48127871e-02,\n",
              "        -3.48275900e-03,  7.40171317e-03,  4.68372591e-02,\n",
              "        -7.42278546e-02,  6.83691353e-02, -2.06370130e-02,\n",
              "         3.42563279e-02, -2.70337146e-02,  2.67375410e-02,\n",
              "         1.67256370e-02, -1.21295936e-02, -6.69354573e-04,\n",
              "        -6.92533106e-02, -1.32234069e-03, -2.26211138e-02,\n",
              "         7.76049346e-02,  4.41602059e-02, -4.52496000e-02,\n",
              "        -3.20733972e-02, -2.44052820e-02, -7.05260262e-02,\n",
              "        -8.07551108e-03, -1.78487822e-02,  5.91798406e-03,\n",
              "         5.70516512e-02,  8.28807801e-02,  5.08884378e-02,\n",
              "         8.83044973e-02,  1.02431607e-02,  7.14153051e-04,\n",
              "         5.71084656e-02, -1.96578503e-02, -3.70427482e-02,\n",
              "        -6.14347160e-02, -6.13192022e-02, -5.18376827e-02,\n",
              "        -4.80250418e-02,  1.15419980e-02,  3.43603641e-03,\n",
              "        -4.90625110e-03,  4.20257524e-02,  3.22799804e-03,\n",
              "        -3.27016190e-02, -6.20010495e-02,  8.91167112e-03]], dtype=float32)"
            ]
          },
          "metadata": {
            "tags": []
          },
          "execution_count": 412
        }
      ]
    },
    {
      "cell_type": "code",
      "metadata": {
        "id": "iRQpEqHj_BEc",
        "colab_type": "code",
        "colab": {
          "base_uri": "https://localhost:8080/",
          "height": 34
        },
        "outputId": "b4f59d90-1ec3-48dc-a198-58a31532b1c7"
      },
      "source": [
        "len(model.labels_)"
      ],
      "execution_count": null,
      "outputs": [
        {
          "output_type": "execute_result",
          "data": {
            "text/plain": [
              "33032"
            ]
          },
          "metadata": {
            "tags": []
          },
          "execution_count": 413
        }
      ]
    },
    {
      "cell_type": "code",
      "metadata": {
        "id": "ScCYPYk0XnoI",
        "colab_type": "code",
        "colab": {
          "base_uri": "https://localhost:8080/",
          "height": 34
        },
        "outputId": "783efffa-cf3f-4f74-eb0a-c148e0929d1f"
      },
      "source": [
        "#Verificando os labels originados pelo modelo.\n",
        "model.labels_"
      ],
      "execution_count": null,
      "outputs": [
        {
          "output_type": "execute_result",
          "data": {
            "text/plain": [
              "array([1, 1, 0, ..., 0, 0, 0], dtype=int32)"
            ]
          },
          "metadata": {
            "tags": []
          },
          "execution_count": 414
        }
      ]
    },
    {
      "cell_type": "code",
      "metadata": {
        "id": "uqLT1tBQXrkx",
        "colab_type": "code",
        "colab": {}
      },
      "source": [
        "#Criando DataFrame com as classificações para os tweets.\n",
        "df_kmeans = pd.DataFrame(data=model.labels_, columns=['text'])"
      ],
      "execution_count": null,
      "outputs": []
    },
    {
      "cell_type": "code",
      "metadata": {
        "id": "DzwCr24tXyWZ",
        "colab_type": "code",
        "colab": {
          "base_uri": "https://localhost:8080/",
          "height": 419
        },
        "outputId": "56bfacb8-d84f-4da6-f554-b120ea26a244"
      },
      "source": [
        "#Visualizando o novo DataFrame criado.\n",
        "df_kmeans"
      ],
      "execution_count": null,
      "outputs": [
        {
          "output_type": "execute_result",
          "data": {
            "text/html": [
              "<div>\n",
              "<style scoped>\n",
              "    .dataframe tbody tr th:only-of-type {\n",
              "        vertical-align: middle;\n",
              "    }\n",
              "\n",
              "    .dataframe tbody tr th {\n",
              "        vertical-align: top;\n",
              "    }\n",
              "\n",
              "    .dataframe thead th {\n",
              "        text-align: right;\n",
              "    }\n",
              "</style>\n",
              "<table border=\"1\" class=\"dataframe\">\n",
              "  <thead>\n",
              "    <tr style=\"text-align: right;\">\n",
              "      <th></th>\n",
              "      <th>text</th>\n",
              "    </tr>\n",
              "  </thead>\n",
              "  <tbody>\n",
              "    <tr>\n",
              "      <th>0</th>\n",
              "      <td>1</td>\n",
              "    </tr>\n",
              "    <tr>\n",
              "      <th>1</th>\n",
              "      <td>1</td>\n",
              "    </tr>\n",
              "    <tr>\n",
              "      <th>2</th>\n",
              "      <td>0</td>\n",
              "    </tr>\n",
              "    <tr>\n",
              "      <th>3</th>\n",
              "      <td>0</td>\n",
              "    </tr>\n",
              "    <tr>\n",
              "      <th>4</th>\n",
              "      <td>1</td>\n",
              "    </tr>\n",
              "    <tr>\n",
              "      <th>...</th>\n",
              "      <td>...</td>\n",
              "    </tr>\n",
              "    <tr>\n",
              "      <th>33027</th>\n",
              "      <td>0</td>\n",
              "    </tr>\n",
              "    <tr>\n",
              "      <th>33028</th>\n",
              "      <td>0</td>\n",
              "    </tr>\n",
              "    <tr>\n",
              "      <th>33029</th>\n",
              "      <td>0</td>\n",
              "    </tr>\n",
              "    <tr>\n",
              "      <th>33030</th>\n",
              "      <td>0</td>\n",
              "    </tr>\n",
              "    <tr>\n",
              "      <th>33031</th>\n",
              "      <td>0</td>\n",
              "    </tr>\n",
              "  </tbody>\n",
              "</table>\n",
              "<p>33032 rows × 1 columns</p>\n",
              "</div>"
            ],
            "text/plain": [
              "       text\n",
              "0         1\n",
              "1         1\n",
              "2         0\n",
              "3         0\n",
              "4         1\n",
              "...     ...\n",
              "33027     0\n",
              "33028     0\n",
              "33029     0\n",
              "33030     0\n",
              "33031     0\n",
              "\n",
              "[33032 rows x 1 columns]"
            ]
          },
          "metadata": {
            "tags": []
          },
          "execution_count": 416
        }
      ]
    },
    {
      "cell_type": "code",
      "metadata": {
        "id": "e9nS7aCbZuJ4",
        "colab_type": "code",
        "colab": {
          "base_uri": "https://localhost:8080/",
          "height": 68
        },
        "outputId": "b7440cc7-68b3-4e19-d87e-0ec2c4477fac"
      },
      "source": [
        "#Distruibuição das sentenças nos clusters pelo algoritmo K-Means.\n",
        "df_kmeans['text'].value_counts()"
      ],
      "execution_count": null,
      "outputs": [
        {
          "output_type": "execute_result",
          "data": {
            "text/plain": [
              "0    25640\n",
              "1     7392\n",
              "Name: text, dtype: int64"
            ]
          },
          "metadata": {
            "tags": []
          },
          "execution_count": 417
        }
      ]
    },
    {
      "cell_type": "code",
      "metadata": {
        "id": "8pPCQMzx63bX",
        "colab_type": "code",
        "colab": {
          "base_uri": "https://localhost:8080/",
          "height": 68
        },
        "outputId": "b2fcf329-5325-4d88-ac8a-7d34d3414281"
      },
      "source": [
        "#Porcentagem que representa a distribuição das sentenças nos clusters pelo algoritmo K-Means.\n",
        "df_kmeans['text'].value_counts(normalize=True)"
      ],
      "execution_count": null,
      "outputs": [
        {
          "output_type": "execute_result",
          "data": {
            "text/plain": [
              "0    0.776217\n",
              "1    0.223783\n",
              "Name: text, dtype: float64"
            ]
          },
          "metadata": {
            "tags": []
          },
          "execution_count": 418
        }
      ]
    },
    {
      "cell_type": "code",
      "metadata": {
        "id": "CkmCimHTaxyy",
        "colab_type": "code",
        "colab": {
          "base_uri": "https://localhost:8080/",
          "height": 34
        },
        "outputId": "25391a65-8db0-459b-ebd7-b7d0919b957a"
      },
      "source": [
        "#Verificando os clusters únicos.\n",
        "df_kmeans['text'].unique()"
      ],
      "execution_count": null,
      "outputs": [
        {
          "output_type": "execute_result",
          "data": {
            "text/plain": [
              "array([1, 0], dtype=int32)"
            ]
          },
          "metadata": {
            "tags": []
          },
          "execution_count": 419
        }
      ]
    },
    {
      "cell_type": "code",
      "metadata": {
        "id": "mSMHnyZg6rgd",
        "colab_type": "code",
        "colab": {
          "base_uri": "https://localhost:8080/",
          "height": 71
        },
        "outputId": "59e486f3-1ea8-4584-fe56-ff3ea6bfd8f8"
      },
      "source": [
        "#Criando Vocabulário em formato de Dicionário para o sentimento das palavras.\n",
        "words = pd.DataFrame(word_vectors.vocab.keys())\n",
        "#Nomeando a coluna do DataFrame.\n",
        "words.columns = ['words']\n",
        "#Atribuindo as palavras a classe positiva ou negativa, de acordo com a clusterização.\n",
        "words['vectors'] = words.words.apply(lambda x: word_vectors.wv[f'{x}'])\n",
        "words['cluster'] = words.vectors.apply(lambda x: model.predict([np.array(x)]))\n",
        "words.cluster = words.cluster.apply(lambda x: x[0])"
      ],
      "execution_count": null,
      "outputs": [
        {
          "output_type": "stream",
          "text": [
            "/usr/local/lib/python3.6/dist-packages/ipykernel_launcher.py:6: DeprecationWarning: Call to deprecated `wv` (Attribute will be removed in 4.0.0, use self instead).\n",
            "  \n"
          ],
          "name": "stderr"
        }
      ]
    },
    {
      "cell_type": "markdown",
      "metadata": {
        "id": "hXCf-GaVvYCd",
        "colab_type": "text"
      },
      "source": [
        "*Explicação para Função Lambda que atribui um sentimento em potencial para as palavras.*\n",
        "\n",
        "**Para atribuir uma pontuação de sentimento para cada palavra foi realizada uma multiplicação pelo quão próximos eles estavam de seu cluster (para denotar o quão potencialmente positivos / negativos os termos são). Como a pontuação que o algoritmo K-means produz é a distância de ambos os clusters, para ponderá-los corretamente, foi feita a multiplicação pelo inverso da pontuação de proximidade (divisão da pontuação de sentimento pela pontuação de proximidade).**"
      ]
    },
    {
      "cell_type": "code",
      "metadata": {
        "id": "exlvF0Qd6ulu",
        "colab_type": "code",
        "colab": {}
      },
      "source": [
        "#Para o cluster 0 atribuiu-se o sentimento como positivo e para o outro cluster atribuiu-se o sentimento negativo.\n",
        "words['cluster_value'] = [1 if i==0 else -1 for i in words.cluster]\n",
        "words['closeness_score'] = words.apply(lambda x: 1/(model.transform([x.vectors]).min()), axis=1)\n",
        "words['sentiment_coeff'] = words.closeness_score * words.cluster_value"
      ],
      "execution_count": null,
      "outputs": []
    },
    {
      "cell_type": "code",
      "metadata": {
        "id": "HamQZYMm6v56",
        "colab_type": "code",
        "colab": {
          "base_uri": "https://localhost:8080/",
          "height": 204
        },
        "outputId": "01803219-2c3d-4e7c-cdbf-8a1311c0e1a2"
      },
      "source": [
        "words.head(5)"
      ],
      "execution_count": null,
      "outputs": [
        {
          "output_type": "execute_result",
          "data": {
            "text/html": [
              "<div>\n",
              "<style scoped>\n",
              "    .dataframe tbody tr th:only-of-type {\n",
              "        vertical-align: middle;\n",
              "    }\n",
              "\n",
              "    .dataframe tbody tr th {\n",
              "        vertical-align: top;\n",
              "    }\n",
              "\n",
              "    .dataframe thead th {\n",
              "        text-align: right;\n",
              "    }\n",
              "</style>\n",
              "<table border=\"1\" class=\"dataframe\">\n",
              "  <thead>\n",
              "    <tr style=\"text-align: right;\">\n",
              "      <th></th>\n",
              "      <th>words</th>\n",
              "      <th>vectors</th>\n",
              "      <th>cluster</th>\n",
              "      <th>cluster_value</th>\n",
              "      <th>closeness_score</th>\n",
              "      <th>sentiment_coeff</th>\n",
              "    </tr>\n",
              "  </thead>\n",
              "  <tbody>\n",
              "    <tr>\n",
              "      <th>0</th>\n",
              "      <td>tudo</td>\n",
              "      <td>[-0.055858582, -0.034655627, 0.07575433, 0.025...</td>\n",
              "      <td>0</td>\n",
              "      <td>1</td>\n",
              "      <td>1.317277</td>\n",
              "      <td>1.317277</td>\n",
              "    </tr>\n",
              "    <tr>\n",
              "      <th>1</th>\n",
              "      <td>mudou</td>\n",
              "      <td>[-0.06306405, -0.02387166, 0.057486724, 0.0313...</td>\n",
              "      <td>0</td>\n",
              "      <td>1</td>\n",
              "      <td>3.083671</td>\n",
              "      <td>3.083671</td>\n",
              "    </tr>\n",
              "    <tr>\n",
              "      <th>2</th>\n",
              "      <td>forma</td>\n",
              "      <td>[-0.056214195, -0.014575296, 0.05572673, 0.030...</td>\n",
              "      <td>0</td>\n",
              "      <td>1</td>\n",
              "      <td>2.737905</td>\n",
              "      <td>2.737905</td>\n",
              "    </tr>\n",
              "    <tr>\n",
              "      <th>3</th>\n",
              "      <td>trabalhar,</td>\n",
              "      <td>[-0.062424235, -0.029514665, 0.07425506, 0.033...</td>\n",
              "      <td>0</td>\n",
              "      <td>1</td>\n",
              "      <td>1.929287</td>\n",
              "      <td>1.929287</td>\n",
              "    </tr>\n",
              "    <tr>\n",
              "      <th>4</th>\n",
              "      <td>nada</td>\n",
              "      <td>[-0.05544726, -0.029607985, 0.08812149, 0.0292...</td>\n",
              "      <td>0</td>\n",
              "      <td>1</td>\n",
              "      <td>1.322934</td>\n",
              "      <td>1.322934</td>\n",
              "    </tr>\n",
              "  </tbody>\n",
              "</table>\n",
              "</div>"
            ],
            "text/plain": [
              "        words  ... sentiment_coeff\n",
              "0        tudo  ...        1.317277\n",
              "1       mudou  ...        3.083671\n",
              "2       forma  ...        2.737905\n",
              "3  trabalhar,  ...        1.929287\n",
              "4        nada  ...        1.322934\n",
              "\n",
              "[5 rows x 6 columns]"
            ]
          },
          "metadata": {
            "tags": []
          },
          "execution_count": 422
        }
      ]
    },
    {
      "cell_type": "code",
      "metadata": {
        "id": "rXIc3OkQv9tv",
        "colab_type": "code",
        "colab": {
          "base_uri": "https://localhost:8080/",
          "height": 289
        },
        "outputId": "285ce5b1-378d-4818-bc56-f8d748557770"
      },
      "source": [
        "words.tail(5)"
      ],
      "execution_count": null,
      "outputs": [
        {
          "output_type": "execute_result",
          "data": {
            "text/html": [
              "<div>\n",
              "<style scoped>\n",
              "    .dataframe tbody tr th:only-of-type {\n",
              "        vertical-align: middle;\n",
              "    }\n",
              "\n",
              "    .dataframe tbody tr th {\n",
              "        vertical-align: top;\n",
              "    }\n",
              "\n",
              "    .dataframe thead th {\n",
              "        text-align: right;\n",
              "    }\n",
              "</style>\n",
              "<table border=\"1\" class=\"dataframe\">\n",
              "  <thead>\n",
              "    <tr style=\"text-align: right;\">\n",
              "      <th></th>\n",
              "      <th>words</th>\n",
              "      <th>vectors</th>\n",
              "      <th>cluster</th>\n",
              "      <th>cluster_value</th>\n",
              "      <th>closeness_score</th>\n",
              "      <th>sentiment_coeff</th>\n",
              "    </tr>\n",
              "  </thead>\n",
              "  <tbody>\n",
              "    <tr>\n",
              "      <th>33027</th>\n",
              "      <td>@bresciia</td>\n",
              "      <td>[-0.07572785, -0.02133777, 0.06326089, 0.01852...</td>\n",
              "      <td>0</td>\n",
              "      <td>1</td>\n",
              "      <td>13.614501</td>\n",
              "      <td>13.614501</td>\n",
              "    </tr>\n",
              "    <tr>\n",
              "      <th>33028</th>\n",
              "      <td>@theluks21</td>\n",
              "      <td>[-0.07558556, -0.028088983, 0.0642249, 0.01247...</td>\n",
              "      <td>0</td>\n",
              "      <td>1</td>\n",
              "      <td>15.027169</td>\n",
              "      <td>15.027169</td>\n",
              "    </tr>\n",
              "    <tr>\n",
              "      <th>33029</th>\n",
              "      <td>@kozixmana</td>\n",
              "      <td>[-0.07529917, -0.02962228, 0.068182, 0.0175566...</td>\n",
              "      <td>0</td>\n",
              "      <td>1</td>\n",
              "      <td>13.216446</td>\n",
              "      <td>13.216446</td>\n",
              "    </tr>\n",
              "    <tr>\n",
              "      <th>33030</th>\n",
              "      <td>@victorkazoo</td>\n",
              "      <td>[-0.07681176, -0.026911363, 0.0656198, 0.02408...</td>\n",
              "      <td>0</td>\n",
              "      <td>1</td>\n",
              "      <td>14.671299</td>\n",
              "      <td>14.671299</td>\n",
              "    </tr>\n",
              "    <tr>\n",
              "      <th>33031</th>\n",
              "      <td>#renunciaperes</td>\n",
              "      <td>[-0.0758184, -0.028243065, 0.06028139, 0.01308...</td>\n",
              "      <td>0</td>\n",
              "      <td>1</td>\n",
              "      <td>11.633633</td>\n",
              "      <td>11.633633</td>\n",
              "    </tr>\n",
              "  </tbody>\n",
              "</table>\n",
              "</div>"
            ],
            "text/plain": [
              "                words  ... sentiment_coeff\n",
              "33027       @bresciia  ...       13.614501\n",
              "33028      @theluks21  ...       15.027169\n",
              "33029      @kozixmana  ...       13.216446\n",
              "33030    @victorkazoo  ...       14.671299\n",
              "33031  #renunciaperes  ...       11.633633\n",
              "\n",
              "[5 rows x 6 columns]"
            ]
          },
          "metadata": {
            "tags": []
          },
          "execution_count": 423
        }
      ]
    },
    {
      "cell_type": "code",
      "metadata": {
        "id": "Rj1gMCxnwDP0",
        "colab_type": "code",
        "colab": {
          "base_uri": "https://localhost:8080/",
          "height": 34
        },
        "outputId": "be49e6ed-2149-4f6b-c3d0-dfa4c8f8baee"
      },
      "source": [
        "words.shape"
      ],
      "execution_count": null,
      "outputs": [
        {
          "output_type": "execute_result",
          "data": {
            "text/plain": [
              "(33032, 6)"
            ]
          },
          "metadata": {
            "tags": []
          },
          "execution_count": 424
        }
      ]
    },
    {
      "cell_type": "code",
      "metadata": {
        "id": "F3uHRA4m6xbZ",
        "colab_type": "code",
        "colab": {}
      },
      "source": [
        "words[['words', 'sentiment_coeff']].to_csv('sentiment_dictionary.csv', index=False)"
      ],
      "execution_count": null,
      "outputs": []
    },
    {
      "cell_type": "code",
      "metadata": {
        "id": "eluHDoFM3ZMp",
        "colab_type": "code",
        "colab": {}
      },
      "source": [
        ""
      ],
      "execution_count": null,
      "outputs": []
    },
    {
      "cell_type": "markdown",
      "metadata": {
        "id": "5hijG7kfuwr-",
        "colab_type": "text"
      },
      "source": [
        "# Aplicando DBSCAN"
      ]
    },
    {
      "cell_type": "markdown",
      "metadata": {
        "id": "pI-rXIQUwBZj",
        "colab_type": "text"
      },
      "source": [
        "**Iremos repetir o processo de preparação dos dados e então aplicar um outro algoritmo de Clustering, o DBSCAN.**"
      ]
    },
    {
      "cell_type": "code",
      "metadata": {
        "colab_type": "code",
        "id": "_7Rlmg0muzGo",
        "colab": {}
      },
      "source": [
        "X = data['text']"
      ],
      "execution_count": null,
      "outputs": []
    },
    {
      "cell_type": "code",
      "metadata": {
        "colab_type": "code",
        "id": "s577jeUtuzG4",
        "colab": {}
      },
      "source": [
        "def Preprocessing_data(instance):\n",
        "      instance = re.sub(r\"http\\S+\", \"\", instance).lower().replace('.', '').replace(';','').replace('-','').replace(':', '').replace(')', '')\n",
        "      stopwords = set(nltk.corpus.stopwords.words('portuguese'))\n",
        "      words = [i for i in instance.split() if not i in stopwords]\n",
        "      return (\" \".join(words))"
      ],
      "execution_count": null,
      "outputs": []
    },
    {
      "cell_type": "code",
      "metadata": {
        "colab_type": "code",
        "id": "RaYD8EY6uzHD",
        "colab": {}
      },
      "source": [
        "X = [Preprocessing_data(i) for i in X]"
      ],
      "execution_count": null,
      "outputs": []
    },
    {
      "cell_type": "code",
      "metadata": {
        "colab_type": "code",
        "id": "ma0CGNHhuzHK",
        "colab": {
          "base_uri": "https://localhost:8080/"
        },
        "outputId": "21eb61ec-f162-4271-a6b4-de93046ea4db"
      },
      "source": [
        "X[:15]"
      ],
      "execution_count": null,
      "outputs": [
        {
          "output_type": "execute_result",
          "data": {
            "text/plain": [
              "['tudo mudou forma trabalhar, nada mudou objetivo informar #jornalismo #imprensa…',\n",
              " 'mcdonald’s reabriu lojas público #comida #covid19 #mcdonalds',\n",
              " 'sindicato, atento tudo envolve saúde condições trabalho nessa pandemia #covid @spbancarios',\n",
              " 'problemas saúde definitivamente acabaram #saude #forabolsonaro #covid',\n",
              " 'fábricas todo mundo viram obrigadas dispensarem funcionários decorrência #covid19 antes m…',\n",
              " '@g1 @redeglobo @jornalhoje governo @jairbolsonaro vai socorrer ninguém vai enrolar! pois minto quer r…',\n",
              " 'lei n° 6666, #eua, pretende traçar investigar percurso pessoas tivestes contatos, usand…',\n",
              " 'governo precisa ser responsabilizado #covid #covid19',\n",
              " 'blockchain tecnologia popularizou #bitcoin sendo testada combate #covid19 sistema capaz de…',\n",
              " 'conhecem algum país além brasil torcida organizada coronavirus???? #covid #covid19',\n",
              " 'itajuípe recebe centro municipal isolamento covid19 #covid19 #isolamentosocial #covid @rctitajuipe',\n",
              " '📣 notícia / news / nouvelles 🇵🇹 manual boas práticas – algarve clean &amp safe 🇬🇧 good practice guide algarve c…',\n",
              " 'enquanto governo bolsonaro permanecer irresponsável, povo paga vida #calabocabolsonaro #covid…',\n",
              " 'faça diferença! doador fronteiras sou! #covid #covid19 @msf_brasil',\n",
              " 'manaus, maio 2020 reportagem sobre colapso sus @veja dessa semana, mostra situação pacientes em…']"
            ]
          },
          "metadata": {
            "tags": []
          },
          "execution_count": 40
        }
      ]
    },
    {
      "cell_type": "code",
      "metadata": {
        "colab_type": "code",
        "id": "N_S2E4oyuzHQ",
        "colab": {}
      },
      "source": [
        "vectorizer = TfidfVectorizer()"
      ],
      "execution_count": null,
      "outputs": []
    },
    {
      "cell_type": "code",
      "metadata": {
        "colab_type": "code",
        "id": "1e6A1pwauzHU",
        "colab": {}
      },
      "source": [
        "X = vectorizer.fit_transform(X)"
      ],
      "execution_count": null,
      "outputs": []
    },
    {
      "cell_type": "code",
      "metadata": {
        "colab_type": "code",
        "id": "spWrQdbpuzHY",
        "colab": {
          "base_uri": "https://localhost:8080/"
        },
        "outputId": "fd1fe100-c00e-477c-d600-d9ebf0ce604c"
      },
      "source": [
        "X"
      ],
      "execution_count": null,
      "outputs": [
        {
          "output_type": "execute_result",
          "data": {
            "text/plain": [
              "<103364x78504 sparse matrix of type '<class 'numpy.float64'>'\n",
              "\twith 998982 stored elements in Compressed Sparse Row format>"
            ]
          },
          "metadata": {
            "tags": []
          },
          "execution_count": 43
        }
      ]
    },
    {
      "cell_type": "code",
      "metadata": {
        "id": "2HiOC6EVu0qo",
        "colab_type": "code",
        "colab": {}
      },
      "source": [
        "#Importando algoritmo da Biblioteca Sklearn.\n",
        "from sklearn.cluster import DBSCAN"
      ],
      "execution_count": null,
      "outputs": []
    },
    {
      "cell_type": "code",
      "metadata": {
        "id": "XFdbW0juu4xB",
        "colab_type": "code",
        "colab": {}
      },
      "source": [
        "#Criando instância do algoritmo e treinando o modelo com os dados.\n",
        "clustering = DBSCAN(eps=0.5, min_samples=2).fit(X)"
      ],
      "execution_count": null,
      "outputs": []
    },
    {
      "cell_type": "code",
      "metadata": {
        "id": "O94gra1vu5_4",
        "colab_type": "code",
        "colab": {
          "base_uri": "https://localhost:8080/"
        },
        "outputId": "eec26e30-41de-4fe2-cffb-b0a3e0e166f7"
      },
      "source": [
        "#Verificando os labels originados.\n",
        "clustering.labels_"
      ],
      "execution_count": null,
      "outputs": [
        {
          "output_type": "execute_result",
          "data": {
            "text/plain": [
              "array([-1, -1, -1, ..., -1, -1, -1])"
            ]
          },
          "metadata": {
            "tags": []
          },
          "execution_count": 46
        }
      ]
    },
    {
      "cell_type": "code",
      "metadata": {
        "id": "7-oszFOx2AGS",
        "colab_type": "code",
        "colab": {}
      },
      "source": [
        "data['DBclasses'] = clustering.labels_"
      ],
      "execution_count": null,
      "outputs": []
    },
    {
      "cell_type": "code",
      "metadata": {
        "colab_type": "code",
        "id": "FbCRrX_O17Rf",
        "colab": {
          "base_uri": "https://localhost:8080/"
        },
        "outputId": "a55b905d-6756-4c26-8a3d-f0c1b96624ae"
      },
      "source": [
        "#Visualizando tipos únicos para a coluna.\n",
        "data['DBclasses'].unique()"
      ],
      "execution_count": null,
      "outputs": [
        {
          "output_type": "execute_result",
          "data": {
            "text/plain": [
              "array([  -1,    0,    1, ..., 5378, 5379, 5380])"
            ]
          },
          "metadata": {
            "tags": []
          },
          "execution_count": 48
        }
      ]
    },
    {
      "cell_type": "code",
      "metadata": {
        "colab_type": "code",
        "id": "Ga1OGI9M17Rk",
        "colab": {}
      },
      "source": [
        "#Criando novo Data Frame com as colunas de interesse para visualização. O contéudo do Tweet (text) e o respectivo agrupamento.\n",
        "df_2 = data [['text', 'DBclasses']]"
      ],
      "execution_count": null,
      "outputs": []
    },
    {
      "cell_type": "code",
      "metadata": {
        "colab_type": "code",
        "id": "ZPJovaeE17Ro",
        "colab": {
          "base_uri": "https://localhost:8080/"
        },
        "outputId": "98c4f9d9-6f19-4491-899e-4da81c19de7f"
      },
      "source": [
        "#Visualizando as 5 primeiras linhas do Data Frame.\n",
        "df_2.head()"
      ],
      "execution_count": null,
      "outputs": [
        {
          "output_type": "execute_result",
          "data": {
            "text/html": [
              "<div>\n",
              "<style scoped>\n",
              "    .dataframe tbody tr th:only-of-type {\n",
              "        vertical-align: middle;\n",
              "    }\n",
              "\n",
              "    .dataframe tbody tr th {\n",
              "        vertical-align: top;\n",
              "    }\n",
              "\n",
              "    .dataframe thead th {\n",
              "        text-align: right;\n",
              "    }\n",
              "</style>\n",
              "<table border=\"1\" class=\"dataframe\">\n",
              "  <thead>\n",
              "    <tr style=\"text-align: right;\">\n",
              "      <th></th>\n",
              "      <th>text</th>\n",
              "      <th>DBclasses</th>\n",
              "    </tr>\n",
              "  </thead>\n",
              "  <tbody>\n",
              "    <tr>\n",
              "      <th>0</th>\n",
              "      <td>Tudo mudou na nossa forma de trabalhar, mas na...</td>\n",
              "      <td>-1</td>\n",
              "    </tr>\n",
              "    <tr>\n",
              "      <th>1</th>\n",
              "      <td>McDonald’s já reabriu lojas ao público https:/...</td>\n",
              "      <td>-1</td>\n",
              "    </tr>\n",
              "    <tr>\n",
              "      <th>2</th>\n",
              "      <td>Sindicato, está atento em tudo o que envolve s...</td>\n",
              "      <td>-1</td>\n",
              "    </tr>\n",
              "    <tr>\n",
              "      <th>3</th>\n",
              "      <td>Nossos problemas da saúde definitivamente acab...</td>\n",
              "      <td>-1</td>\n",
              "    </tr>\n",
              "    <tr>\n",
              "      <th>4</th>\n",
              "      <td>Fábricas de todo o mundo se viram obrigadas a ...</td>\n",
              "      <td>-1</td>\n",
              "    </tr>\n",
              "  </tbody>\n",
              "</table>\n",
              "</div>"
            ],
            "text/plain": [
              "                                                text  DBclasses\n",
              "0  Tudo mudou na nossa forma de trabalhar, mas na...         -1\n",
              "1  McDonald’s já reabriu lojas ao público https:/...         -1\n",
              "2  Sindicato, está atento em tudo o que envolve s...         -1\n",
              "3  Nossos problemas da saúde definitivamente acab...         -1\n",
              "4  Fábricas de todo o mundo se viram obrigadas a ...         -1"
            ]
          },
          "metadata": {
            "tags": []
          },
          "execution_count": 50
        }
      ]
    },
    {
      "cell_type": "code",
      "metadata": {
        "id": "WRe9Ejfy2PxT",
        "colab_type": "code",
        "colab": {
          "base_uri": "https://localhost:8080/"
        },
        "outputId": "6673b358-38b3-4f21-9471-880bfc3ab580"
      },
      "source": [
        "  df_2['DBclasses'].value_counts()"
      ],
      "execution_count": null,
      "outputs": [
        {
          "output_type": "execute_result",
          "data": {
            "text/plain": [
              "-1       85255\n",
              " 153       121\n",
              " 286        92\n",
              " 1164       77\n",
              " 4861       68\n",
              "         ...  \n",
              " 2845        2\n",
              " 4830        2\n",
              " 2781        2\n",
              " 732         2\n",
              " 0           2\n",
              "Name: DBclasses, Length: 5382, dtype: int64"
            ]
          },
          "metadata": {
            "tags": []
          },
          "execution_count": 51
        }
      ]
    },
    {
      "cell_type": "markdown",
      "metadata": {
        "id": "VoP-8qZmnNzB",
        "colab_type": "text"
      },
      "source": [
        "# Aplicando Mean Shift"
      ]
    },
    {
      "cell_type": "code",
      "metadata": {
        "colab_type": "code",
        "id": "Ksm3txItpnvl",
        "colab": {}
      },
      "source": [
        "X = data['text']"
      ],
      "execution_count": null,
      "outputs": []
    },
    {
      "cell_type": "code",
      "metadata": {
        "colab_type": "code",
        "id": "-P4yHTwRpnwC",
        "colab": {}
      },
      "source": [
        "def Preprocessing_data(instance):\n",
        "      instance = re.sub(r\"http\\S+\", \"\", instance).lower().replace('.', '').replace(';','').replace('-','').replace(':', '').replace(')', '')\n",
        "      stopwords = set(nltk.corpus.stopwords.words('portuguese'))\n",
        "      words = [i for i in instance.split() if not i in stopwords]\n",
        "      return (\" \".join(words))"
      ],
      "execution_count": null,
      "outputs": []
    },
    {
      "cell_type": "code",
      "metadata": {
        "colab_type": "code",
        "id": "leOLpSiYpnwH",
        "colab": {}
      },
      "source": [
        "X = [Preprocessing_data(i) for i in X]"
      ],
      "execution_count": null,
      "outputs": []
    },
    {
      "cell_type": "code",
      "metadata": {
        "colab_type": "code",
        "id": "9UNklOAh27tH",
        "colab": {}
      },
      "source": [
        "vectorizer = TfidfVectorizer()"
      ],
      "execution_count": null,
      "outputs": []
    },
    {
      "cell_type": "code",
      "metadata": {
        "colab_type": "code",
        "id": "5IcsLzky27tL",
        "colab": {}
      },
      "source": [
        "X = vectorizer.fit_transform(X)"
      ],
      "execution_count": null,
      "outputs": []
    },
    {
      "cell_type": "code",
      "metadata": {
        "colab_type": "code",
        "id": "c8aydsuB27tQ",
        "colab": {
          "base_uri": "https://localhost:8080/"
        },
        "outputId": "3c518f13-d05f-487b-8a9c-1a85ff1f89d7"
      },
      "source": [
        "X"
      ],
      "execution_count": null,
      "outputs": [
        {
          "output_type": "execute_result",
          "data": {
            "text/plain": [
              "<103364x78504 sparse matrix of type '<class 'numpy.float64'>'\n",
              "\twith 998982 stored elements in Compressed Sparse Row format>"
            ]
          },
          "metadata": {
            "tags": []
          },
          "execution_count": 57
        }
      ]
    },
    {
      "cell_type": "code",
      "metadata": {
        "id": "FBQUbKzRcPEL",
        "colab_type": "code",
        "colab": {}
      },
      "source": [
        "#Importando algoritmo da Biblioteca Sklearn.\n",
        "from sklearn.cluster import MeanShift"
      ],
      "execution_count": null,
      "outputs": []
    },
    {
      "cell_type": "code",
      "metadata": {
        "id": "hGGNvgILnTTf",
        "colab_type": "code",
        "colab": {}
      },
      "source": [
        "#Criando instância do algoritmo.\n",
        "clustering = MeanShift(bandwidth=2).fit(X.toarray())"
      ],
      "execution_count": null,
      "outputs": []
    },
    {
      "cell_type": "code",
      "metadata": {
        "id": "MBvCZ0iEnYex",
        "colab_type": "code",
        "colab": {}
      },
      "source": [
        "#Treinando o modelo com os dados.\n",
        "#clustering.fit(X)"
      ],
      "execution_count": null,
      "outputs": []
    },
    {
      "cell_type": "code",
      "metadata": {
        "id": "Ia8AA1sqnmJV",
        "colab_type": "code",
        "colab": {}
      },
      "source": [
        "#Verificando os labels originados.\n",
        "clustering.labels_"
      ],
      "execution_count": null,
      "outputs": []
    }
  ]
}