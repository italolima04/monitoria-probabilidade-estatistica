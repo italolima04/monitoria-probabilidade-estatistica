{
  "nbformat": 4,
  "nbformat_minor": 0,
  "metadata": {
    "colab": {
      "name": "COVID-19_Estados.ipynb",
      "provenance": [],
      "collapsed_sections": [],
      "authorship_tag": "ABX9TyOUTLzJ89LKLQmr+20VyEKp",
      "include_colab_link": true
    },
    "kernelspec": {
      "name": "python3",
      "display_name": "Python 3"
    }
  },
  "cells": [
    {
      "cell_type": "markdown",
      "metadata": {
        "id": "view-in-github",
        "colab_type": "text"
      },
      "source": [
        "<a href=\"https://colab.research.google.com/github/italolima04/monitoria-probabilidade-estatistica/blob/master/Pesquisa-PID/Estudo-Descritivo/COVID_19_Estados.ipynb\" target=\"_parent\"><img src=\"https://colab.research.google.com/assets/colab-badge.svg\" alt=\"Open In Colab\"/></a>"
      ]
    },
    {
      "cell_type": "markdown",
      "metadata": {
        "id": "7QQNtfCFdlAu",
        "colab_type": "text"
      },
      "source": [
        "# Importando Bibliotecas e Visualizando os Dados"
      ]
    },
    {
      "cell_type": "code",
      "metadata": {
        "id": "tMKw5qnxQTEY",
        "colab_type": "code",
        "colab": {
          "base_uri": "https://localhost:8080/",
          "height": 74
        },
        "outputId": "da686627-6c8c-4660-82c8-2ca9c445f1e2"
      },
      "source": [
        "#Importando as Bibliotecas.\n",
        "import pandas as pd\n",
        "import numpy as np\n",
        "import seaborn as sns\n",
        "import matplotlib.pyplot as plt"
      ],
      "execution_count": 1,
      "outputs": [
        {
          "output_type": "stream",
          "text": [
            "/usr/local/lib/python3.6/dist-packages/statsmodels/tools/_testing.py:19: FutureWarning: pandas.util.testing is deprecated. Use the functions in the public API at pandas.testing instead.\n",
            "  import pandas.util.testing as tm\n"
          ],
          "name": "stderr"
        }
      ]
    },
    {
      "cell_type": "code",
      "metadata": {
        "id": "wmN2guY6Qh6k",
        "colab_type": "code",
        "colab": {}
      },
      "source": [
        "#Criando Data Frame a partir dos dados da Plataforma Brasil.io.\n",
        "df = pd.read_csv('covid-dados-br.csv')"
      ],
      "execution_count": 3,
      "outputs": []
    },
    {
      "cell_type": "code",
      "metadata": {
        "id": "sh-c5C3eQo4t",
        "colab_type": "code",
        "colab": {
          "base_uri": "https://localhost:8080/",
          "height": 541
        },
        "outputId": "27610fa6-48f2-4468-ccfb-c548841fa9a4"
      },
      "source": [
        "#Visualizando às 10 primeiras linhas do Data Frame.\n",
        "df.head(10)"
      ],
      "execution_count": 4,
      "outputs": [
        {
          "output_type": "execute_result",
          "data": {
            "text/html": [
              "<div>\n",
              "<style scoped>\n",
              "    .dataframe tbody tr th:only-of-type {\n",
              "        vertical-align: middle;\n",
              "    }\n",
              "\n",
              "    .dataframe tbody tr th {\n",
              "        vertical-align: top;\n",
              "    }\n",
              "\n",
              "    .dataframe thead th {\n",
              "        text-align: right;\n",
              "    }\n",
              "</style>\n",
              "<table border=\"1\" class=\"dataframe\">\n",
              "  <thead>\n",
              "    <tr style=\"text-align: right;\">\n",
              "      <th></th>\n",
              "      <th>epidemiological_week</th>\n",
              "      <th>date</th>\n",
              "      <th>order_for_place</th>\n",
              "      <th>state</th>\n",
              "      <th>city</th>\n",
              "      <th>city_ibge_code</th>\n",
              "      <th>place_type</th>\n",
              "      <th>last_available_confirmed</th>\n",
              "      <th>last_available_confirmed_per_100k_inhabitants</th>\n",
              "      <th>new_confirmed</th>\n",
              "      <th>last_available_deaths</th>\n",
              "      <th>new_deaths</th>\n",
              "      <th>last_available_death_rate</th>\n",
              "      <th>estimated_population_2019</th>\n",
              "      <th>is_last</th>\n",
              "      <th>is_repeated</th>\n",
              "    </tr>\n",
              "  </thead>\n",
              "  <tbody>\n",
              "    <tr>\n",
              "      <th>0</th>\n",
              "      <td>26</td>\n",
              "      <td>2020-06-25</td>\n",
              "      <td>89</td>\n",
              "      <td>AC</td>\n",
              "      <td>Acrelândia</td>\n",
              "      <td>1200013.0</td>\n",
              "      <td>city</td>\n",
              "      <td>185</td>\n",
              "      <td>1212.63765</td>\n",
              "      <td>0</td>\n",
              "      <td>3</td>\n",
              "      <td>0</td>\n",
              "      <td>0.0162</td>\n",
              "      <td>15256.0</td>\n",
              "      <td>True</td>\n",
              "      <td>False</td>\n",
              "    </tr>\n",
              "    <tr>\n",
              "      <th>1</th>\n",
              "      <td>26</td>\n",
              "      <td>2020-06-25</td>\n",
              "      <td>56</td>\n",
              "      <td>AC</td>\n",
              "      <td>Assis Brasil</td>\n",
              "      <td>1200054.0</td>\n",
              "      <td>city</td>\n",
              "      <td>147</td>\n",
              "      <td>1981.93340</td>\n",
              "      <td>0</td>\n",
              "      <td>5</td>\n",
              "      <td>0</td>\n",
              "      <td>0.0340</td>\n",
              "      <td>7417.0</td>\n",
              "      <td>True</td>\n",
              "      <td>False</td>\n",
              "    </tr>\n",
              "    <tr>\n",
              "      <th>2</th>\n",
              "      <td>26</td>\n",
              "      <td>2020-06-25</td>\n",
              "      <td>48</td>\n",
              "      <td>AC</td>\n",
              "      <td>Brasiléia</td>\n",
              "      <td>1200104.0</td>\n",
              "      <td>city</td>\n",
              "      <td>287</td>\n",
              "      <td>1092.16835</td>\n",
              "      <td>0</td>\n",
              "      <td>6</td>\n",
              "      <td>0</td>\n",
              "      <td>0.0209</td>\n",
              "      <td>26278.0</td>\n",
              "      <td>True</td>\n",
              "      <td>False</td>\n",
              "    </tr>\n",
              "    <tr>\n",
              "      <th>3</th>\n",
              "      <td>26</td>\n",
              "      <td>2020-06-25</td>\n",
              "      <td>79</td>\n",
              "      <td>AC</td>\n",
              "      <td>Bujari</td>\n",
              "      <td>1200138.0</td>\n",
              "      <td>city</td>\n",
              "      <td>151</td>\n",
              "      <td>1470.87473</td>\n",
              "      <td>2</td>\n",
              "      <td>3</td>\n",
              "      <td>2</td>\n",
              "      <td>0.0199</td>\n",
              "      <td>10266.0</td>\n",
              "      <td>True</td>\n",
              "      <td>False</td>\n",
              "    </tr>\n",
              "    <tr>\n",
              "      <th>4</th>\n",
              "      <td>26</td>\n",
              "      <td>2020-06-25</td>\n",
              "      <td>49</td>\n",
              "      <td>AC</td>\n",
              "      <td>Capixaba</td>\n",
              "      <td>1200179.0</td>\n",
              "      <td>city</td>\n",
              "      <td>128</td>\n",
              "      <td>1090.94008</td>\n",
              "      <td>6</td>\n",
              "      <td>5</td>\n",
              "      <td>0</td>\n",
              "      <td>0.0391</td>\n",
              "      <td>11733.0</td>\n",
              "      <td>True</td>\n",
              "      <td>False</td>\n",
              "    </tr>\n",
              "    <tr>\n",
              "      <th>5</th>\n",
              "      <td>26</td>\n",
              "      <td>2020-06-25</td>\n",
              "      <td>74</td>\n",
              "      <td>AC</td>\n",
              "      <td>Cruzeiro do Sul</td>\n",
              "      <td>1200203.0</td>\n",
              "      <td>city</td>\n",
              "      <td>1973</td>\n",
              "      <td>2232.50656</td>\n",
              "      <td>33</td>\n",
              "      <td>32</td>\n",
              "      <td>1</td>\n",
              "      <td>0.0162</td>\n",
              "      <td>88376.0</td>\n",
              "      <td>True</td>\n",
              "      <td>False</td>\n",
              "    </tr>\n",
              "    <tr>\n",
              "      <th>6</th>\n",
              "      <td>26</td>\n",
              "      <td>2020-06-25</td>\n",
              "      <td>50</td>\n",
              "      <td>AC</td>\n",
              "      <td>Epitaciolândia</td>\n",
              "      <td>1200252.0</td>\n",
              "      <td>city</td>\n",
              "      <td>148</td>\n",
              "      <td>803.86725</td>\n",
              "      <td>1</td>\n",
              "      <td>6</td>\n",
              "      <td>0</td>\n",
              "      <td>0.0405</td>\n",
              "      <td>18411.0</td>\n",
              "      <td>True</td>\n",
              "      <td>False</td>\n",
              "    </tr>\n",
              "    <tr>\n",
              "      <th>7</th>\n",
              "      <td>26</td>\n",
              "      <td>2020-06-25</td>\n",
              "      <td>55</td>\n",
              "      <td>AC</td>\n",
              "      <td>Feijó</td>\n",
              "      <td>1200302.0</td>\n",
              "      <td>city</td>\n",
              "      <td>193</td>\n",
              "      <td>554.91662</td>\n",
              "      <td>16</td>\n",
              "      <td>5</td>\n",
              "      <td>1</td>\n",
              "      <td>0.0259</td>\n",
              "      <td>34780.0</td>\n",
              "      <td>True</td>\n",
              "      <td>False</td>\n",
              "    </tr>\n",
              "    <tr>\n",
              "      <th>8</th>\n",
              "      <td>26</td>\n",
              "      <td>2020-06-25</td>\n",
              "      <td>39</td>\n",
              "      <td>AC</td>\n",
              "      <td>Jordão</td>\n",
              "      <td>1200328.0</td>\n",
              "      <td>city</td>\n",
              "      <td>30</td>\n",
              "      <td>360.70699</td>\n",
              "      <td>0</td>\n",
              "      <td>0</td>\n",
              "      <td>0</td>\n",
              "      <td>0.0000</td>\n",
              "      <td>8317.0</td>\n",
              "      <td>True</td>\n",
              "      <td>False</td>\n",
              "    </tr>\n",
              "    <tr>\n",
              "      <th>9</th>\n",
              "      <td>26</td>\n",
              "      <td>2020-06-25</td>\n",
              "      <td>58</td>\n",
              "      <td>AC</td>\n",
              "      <td>Mâncio Lima</td>\n",
              "      <td>1200336.0</td>\n",
              "      <td>city</td>\n",
              "      <td>131</td>\n",
              "      <td>690.30932</td>\n",
              "      <td>8</td>\n",
              "      <td>3</td>\n",
              "      <td>0</td>\n",
              "      <td>0.0229</td>\n",
              "      <td>18977.0</td>\n",
              "      <td>True</td>\n",
              "      <td>False</td>\n",
              "    </tr>\n",
              "  </tbody>\n",
              "</table>\n",
              "</div>"
            ],
            "text/plain": [
              "   epidemiological_week        date  ...  is_last is_repeated\n",
              "0                    26  2020-06-25  ...     True       False\n",
              "1                    26  2020-06-25  ...     True       False\n",
              "2                    26  2020-06-25  ...     True       False\n",
              "3                    26  2020-06-25  ...     True       False\n",
              "4                    26  2020-06-25  ...     True       False\n",
              "5                    26  2020-06-25  ...     True       False\n",
              "6                    26  2020-06-25  ...     True       False\n",
              "7                    26  2020-06-25  ...     True       False\n",
              "8                    26  2020-06-25  ...     True       False\n",
              "9                    26  2020-06-25  ...     True       False\n",
              "\n",
              "[10 rows x 16 columns]"
            ]
          },
          "metadata": {
            "tags": []
          },
          "execution_count": 4
        }
      ]
    },
    {
      "cell_type": "markdown",
      "metadata": {
        "id": "208mVxb0dvNI",
        "colab_type": "text"
      },
      "source": [
        "# Manipulando os Dados"
      ]
    },
    {
      "cell_type": "markdown",
      "metadata": {
        "id": "Wl1CXBEIstIY",
        "colab_type": "text"
      },
      "source": [
        "Como vamos trabalhar com os estados, devemos selecionar do Data Frame original somente as linhas em que a coluna 'place_type' for igual a 'state'."
      ]
    },
    {
      "cell_type": "markdown",
      "metadata": {
        "id": "eAgkAAwDs5Fc",
        "colab_type": "text"
      },
      "source": [
        "Além disso, iremos selecionar somente as colunas de interesse para esse estudo."
      ]
    },
    {
      "cell_type": "markdown",
      "metadata": {
        "id": "wNAc7IfMs_KC",
        "colab_type": "text"
      },
      "source": [
        "**É possível então realizar esses dois processos utilizando um único método, este é o loc do Pandas.**"
      ]
    },
    {
      "cell_type": "code",
      "metadata": {
        "id": "QeHcRvruQttj",
        "colab_type": "code",
        "colab": {
          "base_uri": "https://localhost:8080/",
          "height": 368
        },
        "outputId": "8c2f1e54-46b6-418d-c084-fc3a755e866b"
      },
      "source": [
        "#Criando novo Data Frame com dados.\n",
        "data = df.loc[df.place_type == 'state', ['state', 'last_available_confirmed', 'last_available_deaths', 'is_last', 'estimated_population_2019', 'last_available_confirmed_per_100k_inhabitants']]\n",
        "#Visualizando uma Prévia desses Dados.\n",
        "data.head(10)"
      ],
      "execution_count": 8,
      "outputs": [
        {
          "output_type": "execute_result",
          "data": {
            "text/html": [
              "<div>\n",
              "<style scoped>\n",
              "    .dataframe tbody tr th:only-of-type {\n",
              "        vertical-align: middle;\n",
              "    }\n",
              "\n",
              "    .dataframe tbody tr th {\n",
              "        vertical-align: top;\n",
              "    }\n",
              "\n",
              "    .dataframe thead th {\n",
              "        text-align: right;\n",
              "    }\n",
              "</style>\n",
              "<table border=\"1\" class=\"dataframe\">\n",
              "  <thead>\n",
              "    <tr style=\"text-align: right;\">\n",
              "      <th></th>\n",
              "      <th>state</th>\n",
              "      <th>last_available_confirmed</th>\n",
              "      <th>last_available_deaths</th>\n",
              "      <th>is_last</th>\n",
              "      <th>estimated_population_2019</th>\n",
              "      <th>last_available_confirmed_per_100k_inhabitants</th>\n",
              "    </tr>\n",
              "  </thead>\n",
              "  <tbody>\n",
              "    <tr>\n",
              "      <th>22</th>\n",
              "      <td>AC</td>\n",
              "      <td>12304</td>\n",
              "      <td>335</td>\n",
              "      <td>True</td>\n",
              "      <td>881935.0</td>\n",
              "      <td>1395.11415</td>\n",
              "    </tr>\n",
              "    <tr>\n",
              "      <th>126</th>\n",
              "      <td>AL</td>\n",
              "      <td>32065</td>\n",
              "      <td>958</td>\n",
              "      <td>True</td>\n",
              "      <td>3337357.0</td>\n",
              "      <td>960.79023</td>\n",
              "    </tr>\n",
              "    <tr>\n",
              "      <th>188</th>\n",
              "      <td>AM</td>\n",
              "      <td>67267</td>\n",
              "      <td>2731</td>\n",
              "      <td>True</td>\n",
              "      <td>4144597.0</td>\n",
              "      <td>1623.00460</td>\n",
              "    </tr>\n",
              "    <tr>\n",
              "      <th>205</th>\n",
              "      <td>AP</td>\n",
              "      <td>27415</td>\n",
              "      <td>394</td>\n",
              "      <td>True</td>\n",
              "      <td>845731.0</td>\n",
              "      <td>3241.57445</td>\n",
              "    </tr>\n",
              "    <tr>\n",
              "      <th>586</th>\n",
              "      <td>BA</td>\n",
              "      <td>54291</td>\n",
              "      <td>1601</td>\n",
              "      <td>True</td>\n",
              "      <td>14873064.0</td>\n",
              "      <td>365.02902</td>\n",
              "    </tr>\n",
              "    <tr>\n",
              "      <th>772</th>\n",
              "      <td>CE</td>\n",
              "      <td>103118</td>\n",
              "      <td>5895</td>\n",
              "      <td>True</td>\n",
              "      <td>9132078.0</td>\n",
              "      <td>1129.18440</td>\n",
              "    </tr>\n",
              "    <tr>\n",
              "      <th>775</th>\n",
              "      <td>DF</td>\n",
              "      <td>38871</td>\n",
              "      <td>509</td>\n",
              "      <td>True</td>\n",
              "      <td>3015268.0</td>\n",
              "      <td>1289.13914</td>\n",
              "    </tr>\n",
              "    <tr>\n",
              "      <th>855</th>\n",
              "      <td>ES</td>\n",
              "      <td>40406</td>\n",
              "      <td>1490</td>\n",
              "      <td>True</td>\n",
              "      <td>4018650.0</td>\n",
              "      <td>1005.46203</td>\n",
              "    </tr>\n",
              "    <tr>\n",
              "      <th>1066</th>\n",
              "      <td>GO</td>\n",
              "      <td>20377</td>\n",
              "      <td>384</td>\n",
              "      <td>True</td>\n",
              "      <td>7018354.0</td>\n",
              "      <td>290.33873</td>\n",
              "    </tr>\n",
              "    <tr>\n",
              "      <th>1282</th>\n",
              "      <td>MA</td>\n",
              "      <td>74925</td>\n",
              "      <td>1871</td>\n",
              "      <td>True</td>\n",
              "      <td>7075181.0</td>\n",
              "      <td>1058.98351</td>\n",
              "    </tr>\n",
              "  </tbody>\n",
              "</table>\n",
              "</div>"
            ],
            "text/plain": [
              "     state  ...  last_available_confirmed_per_100k_inhabitants\n",
              "22      AC  ...                                     1395.11415\n",
              "126     AL  ...                                      960.79023\n",
              "188     AM  ...                                     1623.00460\n",
              "205     AP  ...                                     3241.57445\n",
              "586     BA  ...                                      365.02902\n",
              "772     CE  ...                                     1129.18440\n",
              "775     DF  ...                                     1289.13914\n",
              "855     ES  ...                                     1005.46203\n",
              "1066    GO  ...                                      290.33873\n",
              "1282    MA  ...                                     1058.98351\n",
              "\n",
              "[10 rows x 6 columns]"
            ]
          },
          "metadata": {
            "tags": []
          },
          "execution_count": 8
        }
      ]
    },
    {
      "cell_type": "markdown",
      "metadata": {
        "id": "MOm-z_Z7tJ0T",
        "colab_type": "text"
      },
      "source": [
        "Nesses novos dados, desejamos trabalhar apenas com os últimos registros organizados a partir da coleta de dados dos boletins epidemiológicos"
      ]
    },
    {
      "cell_type": "markdown",
      "metadata": {
        "id": "lvbDwH9XtT6N",
        "colab_type": "text"
      },
      "source": [
        "**Para isso, iremos filtrar do Data Frame todas as linhas nas quais a coluna 'is_last' for igual a True, também através do método loc.**"
      ]
    },
    {
      "cell_type": "code",
      "metadata": {
        "id": "HVgIL2F_Qtso",
        "colab_type": "code",
        "colab": {
          "base_uri": "https://localhost:8080/",
          "height": 878
        },
        "outputId": "2be37eb7-1035-448a-ebbb-74fe9e831aa4"
      },
      "source": [
        "data = data.loc[data.is_last == True, :]\n",
        "data"
      ],
      "execution_count": 9,
      "outputs": [
        {
          "output_type": "execute_result",
          "data": {
            "text/html": [
              "<div>\n",
              "<style scoped>\n",
              "    .dataframe tbody tr th:only-of-type {\n",
              "        vertical-align: middle;\n",
              "    }\n",
              "\n",
              "    .dataframe tbody tr th {\n",
              "        vertical-align: top;\n",
              "    }\n",
              "\n",
              "    .dataframe thead th {\n",
              "        text-align: right;\n",
              "    }\n",
              "</style>\n",
              "<table border=\"1\" class=\"dataframe\">\n",
              "  <thead>\n",
              "    <tr style=\"text-align: right;\">\n",
              "      <th></th>\n",
              "      <th>state</th>\n",
              "      <th>last_available_confirmed</th>\n",
              "      <th>last_available_deaths</th>\n",
              "      <th>is_last</th>\n",
              "      <th>estimated_population_2019</th>\n",
              "      <th>last_available_confirmed_per_100k_inhabitants</th>\n",
              "    </tr>\n",
              "  </thead>\n",
              "  <tbody>\n",
              "    <tr>\n",
              "      <th>22</th>\n",
              "      <td>AC</td>\n",
              "      <td>12304</td>\n",
              "      <td>335</td>\n",
              "      <td>True</td>\n",
              "      <td>881935.0</td>\n",
              "      <td>1395.11415</td>\n",
              "    </tr>\n",
              "    <tr>\n",
              "      <th>126</th>\n",
              "      <td>AL</td>\n",
              "      <td>32065</td>\n",
              "      <td>958</td>\n",
              "      <td>True</td>\n",
              "      <td>3337357.0</td>\n",
              "      <td>960.79023</td>\n",
              "    </tr>\n",
              "    <tr>\n",
              "      <th>188</th>\n",
              "      <td>AM</td>\n",
              "      <td>67267</td>\n",
              "      <td>2731</td>\n",
              "      <td>True</td>\n",
              "      <td>4144597.0</td>\n",
              "      <td>1623.00460</td>\n",
              "    </tr>\n",
              "    <tr>\n",
              "      <th>205</th>\n",
              "      <td>AP</td>\n",
              "      <td>27415</td>\n",
              "      <td>394</td>\n",
              "      <td>True</td>\n",
              "      <td>845731.0</td>\n",
              "      <td>3241.57445</td>\n",
              "    </tr>\n",
              "    <tr>\n",
              "      <th>586</th>\n",
              "      <td>BA</td>\n",
              "      <td>54291</td>\n",
              "      <td>1601</td>\n",
              "      <td>True</td>\n",
              "      <td>14873064.0</td>\n",
              "      <td>365.02902</td>\n",
              "    </tr>\n",
              "    <tr>\n",
              "      <th>772</th>\n",
              "      <td>CE</td>\n",
              "      <td>103118</td>\n",
              "      <td>5895</td>\n",
              "      <td>True</td>\n",
              "      <td>9132078.0</td>\n",
              "      <td>1129.18440</td>\n",
              "    </tr>\n",
              "    <tr>\n",
              "      <th>775</th>\n",
              "      <td>DF</td>\n",
              "      <td>38871</td>\n",
              "      <td>509</td>\n",
              "      <td>True</td>\n",
              "      <td>3015268.0</td>\n",
              "      <td>1289.13914</td>\n",
              "    </tr>\n",
              "    <tr>\n",
              "      <th>855</th>\n",
              "      <td>ES</td>\n",
              "      <td>40406</td>\n",
              "      <td>1490</td>\n",
              "      <td>True</td>\n",
              "      <td>4018650.0</td>\n",
              "      <td>1005.46203</td>\n",
              "    </tr>\n",
              "    <tr>\n",
              "      <th>1066</th>\n",
              "      <td>GO</td>\n",
              "      <td>20377</td>\n",
              "      <td>384</td>\n",
              "      <td>True</td>\n",
              "      <td>7018354.0</td>\n",
              "      <td>290.33873</td>\n",
              "    </tr>\n",
              "    <tr>\n",
              "      <th>1282</th>\n",
              "      <td>MA</td>\n",
              "      <td>74925</td>\n",
              "      <td>1871</td>\n",
              "      <td>True</td>\n",
              "      <td>7075181.0</td>\n",
              "      <td>1058.98351</td>\n",
              "    </tr>\n",
              "    <tr>\n",
              "      <th>1936</th>\n",
              "      <td>MG</td>\n",
              "      <td>32769</td>\n",
              "      <td>806</td>\n",
              "      <td>True</td>\n",
              "      <td>21168791.0</td>\n",
              "      <td>154.79864</td>\n",
              "    </tr>\n",
              "    <tr>\n",
              "      <th>2136</th>\n",
              "      <td>MT</td>\n",
              "      <td>12157</td>\n",
              "      <td>462</td>\n",
              "      <td>True</td>\n",
              "      <td>3484466.0</td>\n",
              "      <td>348.89134</td>\n",
              "    </tr>\n",
              "    <tr>\n",
              "      <th>2282</th>\n",
              "      <td>PA</td>\n",
              "      <td>96472</td>\n",
              "      <td>4803</td>\n",
              "      <td>True</td>\n",
              "      <td>8602865.0</td>\n",
              "      <td>1121.39386</td>\n",
              "    </tr>\n",
              "    <tr>\n",
              "      <th>2501</th>\n",
              "      <td>PB</td>\n",
              "      <td>40824</td>\n",
              "      <td>842</td>\n",
              "      <td>True</td>\n",
              "      <td>4018127.0</td>\n",
              "      <td>1015.99576</td>\n",
              "    </tr>\n",
              "    <tr>\n",
              "      <th>2687</th>\n",
              "      <td>PE</td>\n",
              "      <td>55136</td>\n",
              "      <td>4488</td>\n",
              "      <td>True</td>\n",
              "      <td>9557071.0</td>\n",
              "      <td>576.91316</td>\n",
              "    </tr>\n",
              "    <tr>\n",
              "      <th>2888</th>\n",
              "      <td>PI</td>\n",
              "      <td>18023</td>\n",
              "      <td>574</td>\n",
              "      <td>True</td>\n",
              "      <td>3273227.0</td>\n",
              "      <td>550.61870</td>\n",
              "    </tr>\n",
              "    <tr>\n",
              "      <th>3226</th>\n",
              "      <td>PR</td>\n",
              "      <td>17821</td>\n",
              "      <td>539</td>\n",
              "      <td>True</td>\n",
              "      <td>11433957.0</td>\n",
              "      <td>155.86030</td>\n",
              "    </tr>\n",
              "    <tr>\n",
              "      <th>3320</th>\n",
              "      <td>RJ</td>\n",
              "      <td>105897</td>\n",
              "      <td>9450</td>\n",
              "      <td>True</td>\n",
              "      <td>17264943.0</td>\n",
              "      <td>613.36432</td>\n",
              "    </tr>\n",
              "    <tr>\n",
              "      <th>3948</th>\n",
              "      <td>RS</td>\n",
              "      <td>23060</td>\n",
              "      <td>500</td>\n",
              "      <td>True</td>\n",
              "      <td>11377239.0</td>\n",
              "      <td>202.68538</td>\n",
              "    </tr>\n",
              "    <tr>\n",
              "      <th>4218</th>\n",
              "      <td>SC</td>\n",
              "      <td>21951</td>\n",
              "      <td>289</td>\n",
              "      <td>True</td>\n",
              "      <td>7164788.0</td>\n",
              "      <td>306.37334</td>\n",
              "    </tr>\n",
              "    <tr>\n",
              "      <th>4294</th>\n",
              "      <td>SE</td>\n",
              "      <td>21081</td>\n",
              "      <td>554</td>\n",
              "      <td>True</td>\n",
              "      <td>2298696.0</td>\n",
              "      <td>917.08516</td>\n",
              "    </tr>\n",
              "    <tr>\n",
              "      <th>4916</th>\n",
              "      <td>SP</td>\n",
              "      <td>248587</td>\n",
              "      <td>13759</td>\n",
              "      <td>True</td>\n",
              "      <td>45919049.0</td>\n",
              "      <td>541.35921</td>\n",
              "    </tr>\n",
              "    <tr>\n",
              "      <th>7047</th>\n",
              "      <td>MS</td>\n",
              "      <td>6523</td>\n",
              "      <td>61</td>\n",
              "      <td>True</td>\n",
              "      <td>2778986.0</td>\n",
              "      <td>234.72590</td>\n",
              "    </tr>\n",
              "    <tr>\n",
              "      <th>8525</th>\n",
              "      <td>RN</td>\n",
              "      <td>22665</td>\n",
              "      <td>858</td>\n",
              "      <td>True</td>\n",
              "      <td>3506853.0</td>\n",
              "      <td>646.30596</td>\n",
              "    </tr>\n",
              "    <tr>\n",
              "      <th>8579</th>\n",
              "      <td>RO</td>\n",
              "      <td>18173</td>\n",
              "      <td>467</td>\n",
              "      <td>True</td>\n",
              "      <td>1777225.0</td>\n",
              "      <td>1022.54920</td>\n",
              "    </tr>\n",
              "    <tr>\n",
              "      <th>8596</th>\n",
              "      <td>RR</td>\n",
              "      <td>11872</td>\n",
              "      <td>271</td>\n",
              "      <td>True</td>\n",
              "      <td>605761.0</td>\n",
              "      <td>1959.84885</td>\n",
              "    </tr>\n",
              "    <tr>\n",
              "      <th>10081</th>\n",
              "      <td>TO</td>\n",
              "      <td>9425</td>\n",
              "      <td>183</td>\n",
              "      <td>True</td>\n",
              "      <td>1572866.0</td>\n",
              "      <td>599.22460</td>\n",
              "    </tr>\n",
              "  </tbody>\n",
              "</table>\n",
              "</div>"
            ],
            "text/plain": [
              "      state  ...  last_available_confirmed_per_100k_inhabitants\n",
              "22       AC  ...                                     1395.11415\n",
              "126      AL  ...                                      960.79023\n",
              "188      AM  ...                                     1623.00460\n",
              "205      AP  ...                                     3241.57445\n",
              "586      BA  ...                                      365.02902\n",
              "772      CE  ...                                     1129.18440\n",
              "775      DF  ...                                     1289.13914\n",
              "855      ES  ...                                     1005.46203\n",
              "1066     GO  ...                                      290.33873\n",
              "1282     MA  ...                                     1058.98351\n",
              "1936     MG  ...                                      154.79864\n",
              "2136     MT  ...                                      348.89134\n",
              "2282     PA  ...                                     1121.39386\n",
              "2501     PB  ...                                     1015.99576\n",
              "2687     PE  ...                                      576.91316\n",
              "2888     PI  ...                                      550.61870\n",
              "3226     PR  ...                                      155.86030\n",
              "3320     RJ  ...                                      613.36432\n",
              "3948     RS  ...                                      202.68538\n",
              "4218     SC  ...                                      306.37334\n",
              "4294     SE  ...                                      917.08516\n",
              "4916     SP  ...                                      541.35921\n",
              "7047     MS  ...                                      234.72590\n",
              "8525     RN  ...                                      646.30596\n",
              "8579     RO  ...                                     1022.54920\n",
              "8596     RR  ...                                     1959.84885\n",
              "10081    TO  ...                                      599.22460\n",
              "\n",
              "[27 rows x 6 columns]"
            ]
          },
          "metadata": {
            "tags": []
          },
          "execution_count": 9
        }
      ]
    },
    {
      "cell_type": "markdown",
      "metadata": {
        "id": "tsQ3j7KatjUk",
        "colab_type": "text"
      },
      "source": [
        "**Podemos verificar a quantidade de linhas (que são respectivamente os estados) utilizando o método len**"
      ]
    },
    {
      "cell_type": "code",
      "metadata": {
        "id": "Gq2uJEWWSDdQ",
        "colab_type": "code",
        "colab": {
          "base_uri": "https://localhost:8080/",
          "height": 35
        },
        "outputId": "03835491-ba69-48f8-ebc7-412015e4d728"
      },
      "source": [
        "len(data)"
      ],
      "execution_count": 10,
      "outputs": [
        {
          "output_type": "execute_result",
          "data": {
            "text/plain": [
              "27"
            ]
          },
          "metadata": {
            "tags": []
          },
          "execution_count": 10
        }
      ]
    },
    {
      "cell_type": "markdown",
      "metadata": {
        "id": "KQAsSJlUtsgt",
        "colab_type": "text"
      },
      "source": [
        "Após manipular o Data Frame e obter somente os dados equivalentes aos últimos registros, podemos retirar a coluna 'is_last'"
      ]
    },
    {
      "cell_type": "markdown",
      "metadata": {
        "id": "m91v4vOCuBIO",
        "colab_type": "text"
      },
      "source": [
        "**Para isso, utilizamos o método drop do Pandas, passando como parâmetro a coluna a ser removida**"
      ]
    },
    {
      "cell_type": "code",
      "metadata": {
        "id": "pw8lOSeeSIvk",
        "colab_type": "code",
        "colab": {
          "base_uri": "https://localhost:8080/",
          "height": 878
        },
        "outputId": "7a305ea6-04f9-48bd-fcd1-a06ad2811e4c"
      },
      "source": [
        "data = data.drop('is_last', axis=1)\n",
        "data"
      ],
      "execution_count": 11,
      "outputs": [
        {
          "output_type": "execute_result",
          "data": {
            "text/html": [
              "<div>\n",
              "<style scoped>\n",
              "    .dataframe tbody tr th:only-of-type {\n",
              "        vertical-align: middle;\n",
              "    }\n",
              "\n",
              "    .dataframe tbody tr th {\n",
              "        vertical-align: top;\n",
              "    }\n",
              "\n",
              "    .dataframe thead th {\n",
              "        text-align: right;\n",
              "    }\n",
              "</style>\n",
              "<table border=\"1\" class=\"dataframe\">\n",
              "  <thead>\n",
              "    <tr style=\"text-align: right;\">\n",
              "      <th></th>\n",
              "      <th>state</th>\n",
              "      <th>last_available_confirmed</th>\n",
              "      <th>last_available_deaths</th>\n",
              "      <th>estimated_population_2019</th>\n",
              "      <th>last_available_confirmed_per_100k_inhabitants</th>\n",
              "    </tr>\n",
              "  </thead>\n",
              "  <tbody>\n",
              "    <tr>\n",
              "      <th>22</th>\n",
              "      <td>AC</td>\n",
              "      <td>12304</td>\n",
              "      <td>335</td>\n",
              "      <td>881935.0</td>\n",
              "      <td>1395.11415</td>\n",
              "    </tr>\n",
              "    <tr>\n",
              "      <th>126</th>\n",
              "      <td>AL</td>\n",
              "      <td>32065</td>\n",
              "      <td>958</td>\n",
              "      <td>3337357.0</td>\n",
              "      <td>960.79023</td>\n",
              "    </tr>\n",
              "    <tr>\n",
              "      <th>188</th>\n",
              "      <td>AM</td>\n",
              "      <td>67267</td>\n",
              "      <td>2731</td>\n",
              "      <td>4144597.0</td>\n",
              "      <td>1623.00460</td>\n",
              "    </tr>\n",
              "    <tr>\n",
              "      <th>205</th>\n",
              "      <td>AP</td>\n",
              "      <td>27415</td>\n",
              "      <td>394</td>\n",
              "      <td>845731.0</td>\n",
              "      <td>3241.57445</td>\n",
              "    </tr>\n",
              "    <tr>\n",
              "      <th>586</th>\n",
              "      <td>BA</td>\n",
              "      <td>54291</td>\n",
              "      <td>1601</td>\n",
              "      <td>14873064.0</td>\n",
              "      <td>365.02902</td>\n",
              "    </tr>\n",
              "    <tr>\n",
              "      <th>772</th>\n",
              "      <td>CE</td>\n",
              "      <td>103118</td>\n",
              "      <td>5895</td>\n",
              "      <td>9132078.0</td>\n",
              "      <td>1129.18440</td>\n",
              "    </tr>\n",
              "    <tr>\n",
              "      <th>775</th>\n",
              "      <td>DF</td>\n",
              "      <td>38871</td>\n",
              "      <td>509</td>\n",
              "      <td>3015268.0</td>\n",
              "      <td>1289.13914</td>\n",
              "    </tr>\n",
              "    <tr>\n",
              "      <th>855</th>\n",
              "      <td>ES</td>\n",
              "      <td>40406</td>\n",
              "      <td>1490</td>\n",
              "      <td>4018650.0</td>\n",
              "      <td>1005.46203</td>\n",
              "    </tr>\n",
              "    <tr>\n",
              "      <th>1066</th>\n",
              "      <td>GO</td>\n",
              "      <td>20377</td>\n",
              "      <td>384</td>\n",
              "      <td>7018354.0</td>\n",
              "      <td>290.33873</td>\n",
              "    </tr>\n",
              "    <tr>\n",
              "      <th>1282</th>\n",
              "      <td>MA</td>\n",
              "      <td>74925</td>\n",
              "      <td>1871</td>\n",
              "      <td>7075181.0</td>\n",
              "      <td>1058.98351</td>\n",
              "    </tr>\n",
              "    <tr>\n",
              "      <th>1936</th>\n",
              "      <td>MG</td>\n",
              "      <td>32769</td>\n",
              "      <td>806</td>\n",
              "      <td>21168791.0</td>\n",
              "      <td>154.79864</td>\n",
              "    </tr>\n",
              "    <tr>\n",
              "      <th>2136</th>\n",
              "      <td>MT</td>\n",
              "      <td>12157</td>\n",
              "      <td>462</td>\n",
              "      <td>3484466.0</td>\n",
              "      <td>348.89134</td>\n",
              "    </tr>\n",
              "    <tr>\n",
              "      <th>2282</th>\n",
              "      <td>PA</td>\n",
              "      <td>96472</td>\n",
              "      <td>4803</td>\n",
              "      <td>8602865.0</td>\n",
              "      <td>1121.39386</td>\n",
              "    </tr>\n",
              "    <tr>\n",
              "      <th>2501</th>\n",
              "      <td>PB</td>\n",
              "      <td>40824</td>\n",
              "      <td>842</td>\n",
              "      <td>4018127.0</td>\n",
              "      <td>1015.99576</td>\n",
              "    </tr>\n",
              "    <tr>\n",
              "      <th>2687</th>\n",
              "      <td>PE</td>\n",
              "      <td>55136</td>\n",
              "      <td>4488</td>\n",
              "      <td>9557071.0</td>\n",
              "      <td>576.91316</td>\n",
              "    </tr>\n",
              "    <tr>\n",
              "      <th>2888</th>\n",
              "      <td>PI</td>\n",
              "      <td>18023</td>\n",
              "      <td>574</td>\n",
              "      <td>3273227.0</td>\n",
              "      <td>550.61870</td>\n",
              "    </tr>\n",
              "    <tr>\n",
              "      <th>3226</th>\n",
              "      <td>PR</td>\n",
              "      <td>17821</td>\n",
              "      <td>539</td>\n",
              "      <td>11433957.0</td>\n",
              "      <td>155.86030</td>\n",
              "    </tr>\n",
              "    <tr>\n",
              "      <th>3320</th>\n",
              "      <td>RJ</td>\n",
              "      <td>105897</td>\n",
              "      <td>9450</td>\n",
              "      <td>17264943.0</td>\n",
              "      <td>613.36432</td>\n",
              "    </tr>\n",
              "    <tr>\n",
              "      <th>3948</th>\n",
              "      <td>RS</td>\n",
              "      <td>23060</td>\n",
              "      <td>500</td>\n",
              "      <td>11377239.0</td>\n",
              "      <td>202.68538</td>\n",
              "    </tr>\n",
              "    <tr>\n",
              "      <th>4218</th>\n",
              "      <td>SC</td>\n",
              "      <td>21951</td>\n",
              "      <td>289</td>\n",
              "      <td>7164788.0</td>\n",
              "      <td>306.37334</td>\n",
              "    </tr>\n",
              "    <tr>\n",
              "      <th>4294</th>\n",
              "      <td>SE</td>\n",
              "      <td>21081</td>\n",
              "      <td>554</td>\n",
              "      <td>2298696.0</td>\n",
              "      <td>917.08516</td>\n",
              "    </tr>\n",
              "    <tr>\n",
              "      <th>4916</th>\n",
              "      <td>SP</td>\n",
              "      <td>248587</td>\n",
              "      <td>13759</td>\n",
              "      <td>45919049.0</td>\n",
              "      <td>541.35921</td>\n",
              "    </tr>\n",
              "    <tr>\n",
              "      <th>7047</th>\n",
              "      <td>MS</td>\n",
              "      <td>6523</td>\n",
              "      <td>61</td>\n",
              "      <td>2778986.0</td>\n",
              "      <td>234.72590</td>\n",
              "    </tr>\n",
              "    <tr>\n",
              "      <th>8525</th>\n",
              "      <td>RN</td>\n",
              "      <td>22665</td>\n",
              "      <td>858</td>\n",
              "      <td>3506853.0</td>\n",
              "      <td>646.30596</td>\n",
              "    </tr>\n",
              "    <tr>\n",
              "      <th>8579</th>\n",
              "      <td>RO</td>\n",
              "      <td>18173</td>\n",
              "      <td>467</td>\n",
              "      <td>1777225.0</td>\n",
              "      <td>1022.54920</td>\n",
              "    </tr>\n",
              "    <tr>\n",
              "      <th>8596</th>\n",
              "      <td>RR</td>\n",
              "      <td>11872</td>\n",
              "      <td>271</td>\n",
              "      <td>605761.0</td>\n",
              "      <td>1959.84885</td>\n",
              "    </tr>\n",
              "    <tr>\n",
              "      <th>10081</th>\n",
              "      <td>TO</td>\n",
              "      <td>9425</td>\n",
              "      <td>183</td>\n",
              "      <td>1572866.0</td>\n",
              "      <td>599.22460</td>\n",
              "    </tr>\n",
              "  </tbody>\n",
              "</table>\n",
              "</div>"
            ],
            "text/plain": [
              "      state  ...  last_available_confirmed_per_100k_inhabitants\n",
              "22       AC  ...                                     1395.11415\n",
              "126      AL  ...                                      960.79023\n",
              "188      AM  ...                                     1623.00460\n",
              "205      AP  ...                                     3241.57445\n",
              "586      BA  ...                                      365.02902\n",
              "772      CE  ...                                     1129.18440\n",
              "775      DF  ...                                     1289.13914\n",
              "855      ES  ...                                     1005.46203\n",
              "1066     GO  ...                                      290.33873\n",
              "1282     MA  ...                                     1058.98351\n",
              "1936     MG  ...                                      154.79864\n",
              "2136     MT  ...                                      348.89134\n",
              "2282     PA  ...                                     1121.39386\n",
              "2501     PB  ...                                     1015.99576\n",
              "2687     PE  ...                                      576.91316\n",
              "2888     PI  ...                                      550.61870\n",
              "3226     PR  ...                                      155.86030\n",
              "3320     RJ  ...                                      613.36432\n",
              "3948     RS  ...                                      202.68538\n",
              "4218     SC  ...                                      306.37334\n",
              "4294     SE  ...                                      917.08516\n",
              "4916     SP  ...                                      541.35921\n",
              "7047     MS  ...                                      234.72590\n",
              "8525     RN  ...                                      646.30596\n",
              "8579     RO  ...                                     1022.54920\n",
              "8596     RR  ...                                     1959.84885\n",
              "10081    TO  ...                                      599.22460\n",
              "\n",
              "[27 rows x 5 columns]"
            ]
          },
          "metadata": {
            "tags": []
          },
          "execution_count": 11
        }
      ]
    },
    {
      "cell_type": "markdown",
      "metadata": {
        "id": "sxSNpRX6el6P",
        "colab_type": "text"
      },
      "source": [
        "# Verificando os Dados por Região"
      ]
    },
    {
      "cell_type": "markdown",
      "metadata": {
        "id": "LZw9_wYqzFZX",
        "colab_type": "text"
      },
      "source": [
        "Nessa parte do estudo, desejamos agrupar os estados de acordo com a sua respectiva região"
      ]
    },
    {
      "cell_type": "markdown",
      "metadata": {
        "id": "jif90Y7ezM7O",
        "colab_type": "text"
      },
      "source": [
        "**Para isso, criaremos 5 Data Frames, baseado no Data Frame principal, utilizando o método query () para filtrar os estados desejados para cada região**"
      ]
    },
    {
      "cell_type": "code",
      "metadata": {
        "id": "zQhO5qdMeqHC",
        "colab_type": "code",
        "colab": {
          "base_uri": "https://localhost:8080/",
          "height": 248
        },
        "outputId": "07303630-21da-462d-bb7e-89919d485a6b"
      },
      "source": [
        "norte = data.query(\"state in ['AC', 'AP', 'AM', 'PA', 'TO', 'RR']\")\n",
        "norte"
      ],
      "execution_count": 12,
      "outputs": [
        {
          "output_type": "execute_result",
          "data": {
            "text/html": [
              "<div>\n",
              "<style scoped>\n",
              "    .dataframe tbody tr th:only-of-type {\n",
              "        vertical-align: middle;\n",
              "    }\n",
              "\n",
              "    .dataframe tbody tr th {\n",
              "        vertical-align: top;\n",
              "    }\n",
              "\n",
              "    .dataframe thead th {\n",
              "        text-align: right;\n",
              "    }\n",
              "</style>\n",
              "<table border=\"1\" class=\"dataframe\">\n",
              "  <thead>\n",
              "    <tr style=\"text-align: right;\">\n",
              "      <th></th>\n",
              "      <th>state</th>\n",
              "      <th>last_available_confirmed</th>\n",
              "      <th>last_available_deaths</th>\n",
              "      <th>estimated_population_2019</th>\n",
              "      <th>last_available_confirmed_per_100k_inhabitants</th>\n",
              "    </tr>\n",
              "  </thead>\n",
              "  <tbody>\n",
              "    <tr>\n",
              "      <th>22</th>\n",
              "      <td>AC</td>\n",
              "      <td>12304</td>\n",
              "      <td>335</td>\n",
              "      <td>881935.0</td>\n",
              "      <td>1395.11415</td>\n",
              "    </tr>\n",
              "    <tr>\n",
              "      <th>188</th>\n",
              "      <td>AM</td>\n",
              "      <td>67267</td>\n",
              "      <td>2731</td>\n",
              "      <td>4144597.0</td>\n",
              "      <td>1623.00460</td>\n",
              "    </tr>\n",
              "    <tr>\n",
              "      <th>205</th>\n",
              "      <td>AP</td>\n",
              "      <td>27415</td>\n",
              "      <td>394</td>\n",
              "      <td>845731.0</td>\n",
              "      <td>3241.57445</td>\n",
              "    </tr>\n",
              "    <tr>\n",
              "      <th>2282</th>\n",
              "      <td>PA</td>\n",
              "      <td>96472</td>\n",
              "      <td>4803</td>\n",
              "      <td>8602865.0</td>\n",
              "      <td>1121.39386</td>\n",
              "    </tr>\n",
              "    <tr>\n",
              "      <th>8596</th>\n",
              "      <td>RR</td>\n",
              "      <td>11872</td>\n",
              "      <td>271</td>\n",
              "      <td>605761.0</td>\n",
              "      <td>1959.84885</td>\n",
              "    </tr>\n",
              "    <tr>\n",
              "      <th>10081</th>\n",
              "      <td>TO</td>\n",
              "      <td>9425</td>\n",
              "      <td>183</td>\n",
              "      <td>1572866.0</td>\n",
              "      <td>599.22460</td>\n",
              "    </tr>\n",
              "  </tbody>\n",
              "</table>\n",
              "</div>"
            ],
            "text/plain": [
              "      state  ...  last_available_confirmed_per_100k_inhabitants\n",
              "22       AC  ...                                     1395.11415\n",
              "188      AM  ...                                     1623.00460\n",
              "205      AP  ...                                     3241.57445\n",
              "2282     PA  ...                                     1121.39386\n",
              "8596     RR  ...                                     1959.84885\n",
              "10081    TO  ...                                      599.22460\n",
              "\n",
              "[6 rows x 5 columns]"
            ]
          },
          "metadata": {
            "tags": []
          },
          "execution_count": 12
        }
      ]
    },
    {
      "cell_type": "code",
      "metadata": {
        "id": "Te-zMK6qf89K",
        "colab_type": "code",
        "colab": {
          "base_uri": "https://localhost:8080/",
          "height": 308
        },
        "outputId": "c4249af3-3b1a-4cfb-ddfb-896883216cbb"
      },
      "source": [
        "nordeste = data.query(\"state in ['AL', 'BA', 'CE', 'MA', 'PB', 'PE', 'PI\t', 'RN', 'SE']\")\n",
        "nordeste"
      ],
      "execution_count": 13,
      "outputs": [
        {
          "output_type": "execute_result",
          "data": {
            "text/html": [
              "<div>\n",
              "<style scoped>\n",
              "    .dataframe tbody tr th:only-of-type {\n",
              "        vertical-align: middle;\n",
              "    }\n",
              "\n",
              "    .dataframe tbody tr th {\n",
              "        vertical-align: top;\n",
              "    }\n",
              "\n",
              "    .dataframe thead th {\n",
              "        text-align: right;\n",
              "    }\n",
              "</style>\n",
              "<table border=\"1\" class=\"dataframe\">\n",
              "  <thead>\n",
              "    <tr style=\"text-align: right;\">\n",
              "      <th></th>\n",
              "      <th>state</th>\n",
              "      <th>last_available_confirmed</th>\n",
              "      <th>last_available_deaths</th>\n",
              "      <th>estimated_population_2019</th>\n",
              "      <th>last_available_confirmed_per_100k_inhabitants</th>\n",
              "    </tr>\n",
              "  </thead>\n",
              "  <tbody>\n",
              "    <tr>\n",
              "      <th>126</th>\n",
              "      <td>AL</td>\n",
              "      <td>32065</td>\n",
              "      <td>958</td>\n",
              "      <td>3337357.0</td>\n",
              "      <td>960.79023</td>\n",
              "    </tr>\n",
              "    <tr>\n",
              "      <th>586</th>\n",
              "      <td>BA</td>\n",
              "      <td>54291</td>\n",
              "      <td>1601</td>\n",
              "      <td>14873064.0</td>\n",
              "      <td>365.02902</td>\n",
              "    </tr>\n",
              "    <tr>\n",
              "      <th>772</th>\n",
              "      <td>CE</td>\n",
              "      <td>103118</td>\n",
              "      <td>5895</td>\n",
              "      <td>9132078.0</td>\n",
              "      <td>1129.18440</td>\n",
              "    </tr>\n",
              "    <tr>\n",
              "      <th>1282</th>\n",
              "      <td>MA</td>\n",
              "      <td>74925</td>\n",
              "      <td>1871</td>\n",
              "      <td>7075181.0</td>\n",
              "      <td>1058.98351</td>\n",
              "    </tr>\n",
              "    <tr>\n",
              "      <th>2501</th>\n",
              "      <td>PB</td>\n",
              "      <td>40824</td>\n",
              "      <td>842</td>\n",
              "      <td>4018127.0</td>\n",
              "      <td>1015.99576</td>\n",
              "    </tr>\n",
              "    <tr>\n",
              "      <th>2687</th>\n",
              "      <td>PE</td>\n",
              "      <td>55136</td>\n",
              "      <td>4488</td>\n",
              "      <td>9557071.0</td>\n",
              "      <td>576.91316</td>\n",
              "    </tr>\n",
              "    <tr>\n",
              "      <th>4294</th>\n",
              "      <td>SE</td>\n",
              "      <td>21081</td>\n",
              "      <td>554</td>\n",
              "      <td>2298696.0</td>\n",
              "      <td>917.08516</td>\n",
              "    </tr>\n",
              "    <tr>\n",
              "      <th>8525</th>\n",
              "      <td>RN</td>\n",
              "      <td>22665</td>\n",
              "      <td>858</td>\n",
              "      <td>3506853.0</td>\n",
              "      <td>646.30596</td>\n",
              "    </tr>\n",
              "  </tbody>\n",
              "</table>\n",
              "</div>"
            ],
            "text/plain": [
              "     state  ...  last_available_confirmed_per_100k_inhabitants\n",
              "126     AL  ...                                      960.79023\n",
              "586     BA  ...                                      365.02902\n",
              "772     CE  ...                                     1129.18440\n",
              "1282    MA  ...                                     1058.98351\n",
              "2501    PB  ...                                     1015.99576\n",
              "2687    PE  ...                                      576.91316\n",
              "4294    SE  ...                                      917.08516\n",
              "8525    RN  ...                                      646.30596\n",
              "\n",
              "[8 rows x 5 columns]"
            ]
          },
          "metadata": {
            "tags": []
          },
          "execution_count": 13
        }
      ]
    },
    {
      "cell_type": "code",
      "metadata": {
        "id": "ZHEOyS_6f9XU",
        "colab_type": "code",
        "colab": {
          "base_uri": "https://localhost:8080/",
          "height": 188
        },
        "outputId": "2693c8ea-97a1-4e56-d55e-9a434bed3f6e"
      },
      "source": [
        "centro_oeste = data.query(\"state in ['DF', 'GO', 'MT', 'MS']\")\n",
        "centro_oeste"
      ],
      "execution_count": 14,
      "outputs": [
        {
          "output_type": "execute_result",
          "data": {
            "text/html": [
              "<div>\n",
              "<style scoped>\n",
              "    .dataframe tbody tr th:only-of-type {\n",
              "        vertical-align: middle;\n",
              "    }\n",
              "\n",
              "    .dataframe tbody tr th {\n",
              "        vertical-align: top;\n",
              "    }\n",
              "\n",
              "    .dataframe thead th {\n",
              "        text-align: right;\n",
              "    }\n",
              "</style>\n",
              "<table border=\"1\" class=\"dataframe\">\n",
              "  <thead>\n",
              "    <tr style=\"text-align: right;\">\n",
              "      <th></th>\n",
              "      <th>state</th>\n",
              "      <th>last_available_confirmed</th>\n",
              "      <th>last_available_deaths</th>\n",
              "      <th>estimated_population_2019</th>\n",
              "      <th>last_available_confirmed_per_100k_inhabitants</th>\n",
              "    </tr>\n",
              "  </thead>\n",
              "  <tbody>\n",
              "    <tr>\n",
              "      <th>775</th>\n",
              "      <td>DF</td>\n",
              "      <td>38871</td>\n",
              "      <td>509</td>\n",
              "      <td>3015268.0</td>\n",
              "      <td>1289.13914</td>\n",
              "    </tr>\n",
              "    <tr>\n",
              "      <th>1066</th>\n",
              "      <td>GO</td>\n",
              "      <td>20377</td>\n",
              "      <td>384</td>\n",
              "      <td>7018354.0</td>\n",
              "      <td>290.33873</td>\n",
              "    </tr>\n",
              "    <tr>\n",
              "      <th>2136</th>\n",
              "      <td>MT</td>\n",
              "      <td>12157</td>\n",
              "      <td>462</td>\n",
              "      <td>3484466.0</td>\n",
              "      <td>348.89134</td>\n",
              "    </tr>\n",
              "    <tr>\n",
              "      <th>7047</th>\n",
              "      <td>MS</td>\n",
              "      <td>6523</td>\n",
              "      <td>61</td>\n",
              "      <td>2778986.0</td>\n",
              "      <td>234.72590</td>\n",
              "    </tr>\n",
              "  </tbody>\n",
              "</table>\n",
              "</div>"
            ],
            "text/plain": [
              "     state  ...  last_available_confirmed_per_100k_inhabitants\n",
              "775     DF  ...                                     1289.13914\n",
              "1066    GO  ...                                      290.33873\n",
              "2136    MT  ...                                      348.89134\n",
              "7047    MS  ...                                      234.72590\n",
              "\n",
              "[4 rows x 5 columns]"
            ]
          },
          "metadata": {
            "tags": []
          },
          "execution_count": 14
        }
      ]
    },
    {
      "cell_type": "code",
      "metadata": {
        "id": "5ay01k_xf9oB",
        "colab_type": "code",
        "colab": {
          "base_uri": "https://localhost:8080/",
          "height": 188
        },
        "outputId": "b3fc2ab9-fc6f-413e-fbb0-bce03ba5bbe9"
      },
      "source": [
        "sudeste = data.query(\"state in ['ES', 'MG', 'RJ', 'SP']\")\n",
        "sudeste"
      ],
      "execution_count": 15,
      "outputs": [
        {
          "output_type": "execute_result",
          "data": {
            "text/html": [
              "<div>\n",
              "<style scoped>\n",
              "    .dataframe tbody tr th:only-of-type {\n",
              "        vertical-align: middle;\n",
              "    }\n",
              "\n",
              "    .dataframe tbody tr th {\n",
              "        vertical-align: top;\n",
              "    }\n",
              "\n",
              "    .dataframe thead th {\n",
              "        text-align: right;\n",
              "    }\n",
              "</style>\n",
              "<table border=\"1\" class=\"dataframe\">\n",
              "  <thead>\n",
              "    <tr style=\"text-align: right;\">\n",
              "      <th></th>\n",
              "      <th>state</th>\n",
              "      <th>last_available_confirmed</th>\n",
              "      <th>last_available_deaths</th>\n",
              "      <th>estimated_population_2019</th>\n",
              "      <th>last_available_confirmed_per_100k_inhabitants</th>\n",
              "    </tr>\n",
              "  </thead>\n",
              "  <tbody>\n",
              "    <tr>\n",
              "      <th>855</th>\n",
              "      <td>ES</td>\n",
              "      <td>40406</td>\n",
              "      <td>1490</td>\n",
              "      <td>4018650.0</td>\n",
              "      <td>1005.46203</td>\n",
              "    </tr>\n",
              "    <tr>\n",
              "      <th>1936</th>\n",
              "      <td>MG</td>\n",
              "      <td>32769</td>\n",
              "      <td>806</td>\n",
              "      <td>21168791.0</td>\n",
              "      <td>154.79864</td>\n",
              "    </tr>\n",
              "    <tr>\n",
              "      <th>3320</th>\n",
              "      <td>RJ</td>\n",
              "      <td>105897</td>\n",
              "      <td>9450</td>\n",
              "      <td>17264943.0</td>\n",
              "      <td>613.36432</td>\n",
              "    </tr>\n",
              "    <tr>\n",
              "      <th>4916</th>\n",
              "      <td>SP</td>\n",
              "      <td>248587</td>\n",
              "      <td>13759</td>\n",
              "      <td>45919049.0</td>\n",
              "      <td>541.35921</td>\n",
              "    </tr>\n",
              "  </tbody>\n",
              "</table>\n",
              "</div>"
            ],
            "text/plain": [
              "     state  ...  last_available_confirmed_per_100k_inhabitants\n",
              "855     ES  ...                                     1005.46203\n",
              "1936    MG  ...                                      154.79864\n",
              "3320    RJ  ...                                      613.36432\n",
              "4916    SP  ...                                      541.35921\n",
              "\n",
              "[4 rows x 5 columns]"
            ]
          },
          "metadata": {
            "tags": []
          },
          "execution_count": 15
        }
      ]
    },
    {
      "cell_type": "code",
      "metadata": {
        "id": "KdFe-EiJf92J",
        "colab_type": "code",
        "colab": {
          "base_uri": "https://localhost:8080/",
          "height": 158
        },
        "outputId": "3888e134-d110-4837-bc53-1c96bcc87eaa"
      },
      "source": [
        "sul = data.query(\"state in ['PR', 'RS', 'SC']\")\n",
        "sul"
      ],
      "execution_count": 16,
      "outputs": [
        {
          "output_type": "execute_result",
          "data": {
            "text/html": [
              "<div>\n",
              "<style scoped>\n",
              "    .dataframe tbody tr th:only-of-type {\n",
              "        vertical-align: middle;\n",
              "    }\n",
              "\n",
              "    .dataframe tbody tr th {\n",
              "        vertical-align: top;\n",
              "    }\n",
              "\n",
              "    .dataframe thead th {\n",
              "        text-align: right;\n",
              "    }\n",
              "</style>\n",
              "<table border=\"1\" class=\"dataframe\">\n",
              "  <thead>\n",
              "    <tr style=\"text-align: right;\">\n",
              "      <th></th>\n",
              "      <th>state</th>\n",
              "      <th>last_available_confirmed</th>\n",
              "      <th>last_available_deaths</th>\n",
              "      <th>estimated_population_2019</th>\n",
              "      <th>last_available_confirmed_per_100k_inhabitants</th>\n",
              "    </tr>\n",
              "  </thead>\n",
              "  <tbody>\n",
              "    <tr>\n",
              "      <th>3226</th>\n",
              "      <td>PR</td>\n",
              "      <td>17821</td>\n",
              "      <td>539</td>\n",
              "      <td>11433957.0</td>\n",
              "      <td>155.86030</td>\n",
              "    </tr>\n",
              "    <tr>\n",
              "      <th>3948</th>\n",
              "      <td>RS</td>\n",
              "      <td>23060</td>\n",
              "      <td>500</td>\n",
              "      <td>11377239.0</td>\n",
              "      <td>202.68538</td>\n",
              "    </tr>\n",
              "    <tr>\n",
              "      <th>4218</th>\n",
              "      <td>SC</td>\n",
              "      <td>21951</td>\n",
              "      <td>289</td>\n",
              "      <td>7164788.0</td>\n",
              "      <td>306.37334</td>\n",
              "    </tr>\n",
              "  </tbody>\n",
              "</table>\n",
              "</div>"
            ],
            "text/plain": [
              "     state  ...  last_available_confirmed_per_100k_inhabitants\n",
              "3226    PR  ...                                      155.86030\n",
              "3948    RS  ...                                      202.68538\n",
              "4218    SC  ...                                      306.37334\n",
              "\n",
              "[3 rows x 5 columns]"
            ]
          },
          "metadata": {
            "tags": []
          },
          "execution_count": 16
        }
      ]
    },
    {
      "cell_type": "markdown",
      "metadata": {
        "id": "PINBfVqYi7Zs",
        "colab_type": "text"
      },
      "source": [
        "# Total de Casos Confirmados por Região"
      ]
    },
    {
      "cell_type": "markdown",
      "metadata": {
        "id": "H8-TWaNjze1-",
        "colab_type": "text"
      },
      "source": [
        "**Agora, depois de agrupar os estados e visualizar os dados das regiões, podemos somá-los para verificar qual região possui o maior número de casos confirmados**"
      ]
    },
    {
      "cell_type": "code",
      "metadata": {
        "id": "AX9BxbiqhboB",
        "colab_type": "code",
        "colab": {
          "base_uri": "https://localhost:8080/",
          "height": 35
        },
        "outputId": "3ad1abd1-9f02-4cc4-deac-c38aac3103ee"
      },
      "source": [
        "casos_norte = norte['last_available_confirmed'].sum()\n",
        "casos_norte "
      ],
      "execution_count": 18,
      "outputs": [
        {
          "output_type": "execute_result",
          "data": {
            "text/plain": [
              "224755"
            ]
          },
          "metadata": {
            "tags": []
          },
          "execution_count": 18
        }
      ]
    },
    {
      "cell_type": "code",
      "metadata": {
        "id": "S35He7VlipDq",
        "colab_type": "code",
        "colab": {
          "base_uri": "https://localhost:8080/",
          "height": 35
        },
        "outputId": "58943660-913b-45d0-a01e-f02e551ae525"
      },
      "source": [
        "casos_nordeste = nordeste['last_available_confirmed'].sum()\n",
        "casos_nordeste "
      ],
      "execution_count": 19,
      "outputs": [
        {
          "output_type": "execute_result",
          "data": {
            "text/plain": [
              "404105"
            ]
          },
          "metadata": {
            "tags": []
          },
          "execution_count": 19
        }
      ]
    },
    {
      "cell_type": "code",
      "metadata": {
        "id": "01e0Y-m0ipU-",
        "colab_type": "code",
        "colab": {
          "base_uri": "https://localhost:8080/",
          "height": 35
        },
        "outputId": "1cba9a9a-aacc-47cc-e2a7-94f503c89870"
      },
      "source": [
        "casos_centro_oeste = centro_oeste['last_available_confirmed'].sum()\n",
        "casos_centro_oeste"
      ],
      "execution_count": 20,
      "outputs": [
        {
          "output_type": "execute_result",
          "data": {
            "text/plain": [
              "77928"
            ]
          },
          "metadata": {
            "tags": []
          },
          "execution_count": 20
        }
      ]
    },
    {
      "cell_type": "code",
      "metadata": {
        "id": "jyl56H0XipiO",
        "colab_type": "code",
        "colab": {
          "base_uri": "https://localhost:8080/",
          "height": 35
        },
        "outputId": "f61b04c5-146e-4000-d1f2-649dcbe9c51a"
      },
      "source": [
        "casos_sudeste = sudeste['last_available_confirmed'].sum()\n",
        "casos_sudeste"
      ],
      "execution_count": 21,
      "outputs": [
        {
          "output_type": "execute_result",
          "data": {
            "text/plain": [
              "427659"
            ]
          },
          "metadata": {
            "tags": []
          },
          "execution_count": 21
        }
      ]
    },
    {
      "cell_type": "code",
      "metadata": {
        "id": "VGq0ArwSiJY0",
        "colab_type": "code",
        "colab": {
          "base_uri": "https://localhost:8080/",
          "height": 35
        },
        "outputId": "17d937e4-7762-447f-df84-618d1e4cf775"
      },
      "source": [
        "casos_sul = sul['last_available_confirmed'].sum()\n",
        "casos_sul"
      ],
      "execution_count": 22,
      "outputs": [
        {
          "output_type": "execute_result",
          "data": {
            "text/plain": [
              "62832"
            ]
          },
          "metadata": {
            "tags": []
          },
          "execution_count": 22
        }
      ]
    },
    {
      "cell_type": "markdown",
      "metadata": {
        "id": "vgzCsT1Qzvzr",
        "colab_type": "text"
      },
      "source": [
        "Depois de verificar, podemos visualizar o gráfico de casos confirmados por região"
      ]
    },
    {
      "cell_type": "markdown",
      "metadata": {
        "id": "-RNq4Qr-z2tn",
        "colab_type": "text"
      },
      "source": [
        "**Para isso, iremos agrupar as regiões e os casos somados, e gerar um gráfico de barras respectivo entre a região e os casos para mesma**"
      ]
    },
    {
      "cell_type": "code",
      "metadata": {
        "id": "ZiVYjvx3jkl6",
        "colab_type": "code",
        "colab": {}
      },
      "source": [
        "regioes = ['Norte', 'Nordeste', 'Centro-Oeste', 'Sudeste', 'Sul']"
      ],
      "execution_count": 23,
      "outputs": []
    },
    {
      "cell_type": "code",
      "metadata": {
        "id": "5gi0fmpokYVv",
        "colab_type": "code",
        "colab": {}
      },
      "source": [
        "casos = [casos_norte, casos_nordeste, casos_centro_oeste, casos_sudeste, casos_sul]"
      ],
      "execution_count": 24,
      "outputs": []
    },
    {
      "cell_type": "markdown",
      "metadata": {
        "id": "Jg1EqaxHwQdr",
        "colab_type": "text"
      },
      "source": [
        "**É possível gerar esse gráfico utilizando matplotlib de forma bem simples, com o plt.bar()**"
      ]
    },
    {
      "cell_type": "code",
      "metadata": {
        "id": "5uhIedyDULpg",
        "colab_type": "code",
        "colab": {
          "base_uri": "https://localhost:8080/",
          "height": 339
        },
        "outputId": "bf3028e1-1322-4802-f289-279901dd6740"
      },
      "source": [
        "x = regioes\n",
        "y = casos\n",
        "plt.bar(x, y)\n",
        "\n",
        "plt.title('Gráfico do Número de Casos por Regiões do Brasil')\n",
        "plt.xlabel('Regiões do Brasil')\n",
        "plt.ylabel('Número de Casos')\n",
        "plt.xticks(rotation=45)\n",
        "\n",
        "plt.show()"
      ],
      "execution_count": 25,
      "outputs": [
        {
          "output_type": "display_data",
          "data": {
            "image/png": "[encoded data removed]",
            "text/plain": [
              "<Figure size 432x288 with 1 Axes>"
            ]
          },
          "metadata": {
            "tags": [],
            "needs_background": "light"
          }
        }
      ]
    },
    {
      "cell_type": "markdown",
      "metadata": {
        "id": "Wx1Xq2j_i_kQ",
        "colab_type": "text"
      },
      "source": [
        "# Total de Mortes por Região"
      ]
    },
    {
      "cell_type": "markdown",
      "metadata": {
        "id": "dOjbYfvs0IKb",
        "colab_type": "text"
      },
      "source": [
        "De forma análoga ao processo anterior, iremos verificar agora o número de mortes por região, podendo inferir qual possui o maior valor registrado"
      ]
    },
    {
      "cell_type": "code",
      "metadata": {
        "id": "0bT5OfTFjD1t",
        "colab_type": "code",
        "colab": {
          "base_uri": "https://localhost:8080/",
          "height": 35
        },
        "outputId": "1246d3ec-561c-40fb-a49d-4fcef5b1a89f"
      },
      "source": [
        "mortes_norte = norte['last_available_deaths'].sum()\n",
        "mortes_norte "
      ],
      "execution_count": 26,
      "outputs": [
        {
          "output_type": "execute_result",
          "data": {
            "text/plain": [
              "8717"
            ]
          },
          "metadata": {
            "tags": []
          },
          "execution_count": 26
        }
      ]
    },
    {
      "cell_type": "code",
      "metadata": {
        "id": "s1z4E1ysjHKF",
        "colab_type": "code",
        "colab": {
          "base_uri": "https://localhost:8080/",
          "height": 35
        },
        "outputId": "41937623-b1dc-4b02-a625-fd4a605f02a5"
      },
      "source": [
        "mortes_nordeste = nordeste['last_available_deaths'].sum()\n",
        "mortes_nordeste "
      ],
      "execution_count": 27,
      "outputs": [
        {
          "output_type": "execute_result",
          "data": {
            "text/plain": [
              "17067"
            ]
          },
          "metadata": {
            "tags": []
          },
          "execution_count": 27
        }
      ]
    },
    {
      "cell_type": "code",
      "metadata": {
        "id": "Xo5LsugbjHfg",
        "colab_type": "code",
        "colab": {
          "base_uri": "https://localhost:8080/",
          "height": 35
        },
        "outputId": "0c0d6eb4-4737-463a-b38e-e953caf6092d"
      },
      "source": [
        "mortes_centro_oeste = centro_oeste['last_available_deaths'].sum()\n",
        "mortes_centro_oeste "
      ],
      "execution_count": 28,
      "outputs": [
        {
          "output_type": "execute_result",
          "data": {
            "text/plain": [
              "1416"
            ]
          },
          "metadata": {
            "tags": []
          },
          "execution_count": 28
        }
      ]
    },
    {
      "cell_type": "code",
      "metadata": {
        "id": "4Hai0Q0RjHtT",
        "colab_type": "code",
        "colab": {
          "base_uri": "https://localhost:8080/",
          "height": 35
        },
        "outputId": "58306add-6c38-4c64-f999-e94d16017087"
      },
      "source": [
        "mortes_sudeste = sudeste['last_available_deaths'].sum()\n",
        "mortes_sudeste "
      ],
      "execution_count": 29,
      "outputs": [
        {
          "output_type": "execute_result",
          "data": {
            "text/plain": [
              "25505"
            ]
          },
          "metadata": {
            "tags": []
          },
          "execution_count": 29
        }
      ]
    },
    {
      "cell_type": "code",
      "metadata": {
        "id": "cEVuOQCajH7S",
        "colab_type": "code",
        "colab": {
          "base_uri": "https://localhost:8080/",
          "height": 35
        },
        "outputId": "ea588280-91c8-4853-8161-b447dd7253c9"
      },
      "source": [
        "mortes_sul = sul['last_available_deaths'].sum()\n",
        "mortes_sul "
      ],
      "execution_count": 30,
      "outputs": [
        {
          "output_type": "execute_result",
          "data": {
            "text/plain": [
              "1328"
            ]
          },
          "metadata": {
            "tags": []
          },
          "execution_count": 30
        }
      ]
    },
    {
      "cell_type": "markdown",
      "metadata": {
        "id": "5fmsOOmY0WiO",
        "colab_type": "text"
      },
      "source": [
        "**Iremos também agrupar os dados de forma com que as regiões fiquem relacionadas com seus números respectivos**"
      ]
    },
    {
      "cell_type": "code",
      "metadata": {
        "id": "PoJWruhjlOSL",
        "colab_type": "code",
        "colab": {}
      },
      "source": [
        "mortes = [mortes_norte, mortes_nordeste, mortes_centro_oeste, mortes_sudeste, mortes_sul]"
      ],
      "execution_count": 31,
      "outputs": []
    },
    {
      "cell_type": "markdown",
      "metadata": {
        "id": "1mgDucaU0iUJ",
        "colab_type": "text"
      },
      "source": [
        "**E por fim, podemos também visualizar os números em forma de gráfico de barras**"
      ]
    },
    {
      "cell_type": "code",
      "metadata": {
        "id": "bfyhjMjSlNeI",
        "colab_type": "code",
        "colab": {
          "base_uri": "https://localhost:8080/",
          "height": 339
        },
        "outputId": "a86ac4d8-ba3e-4c8d-ab74-8869a6e027b1"
      },
      "source": [
        "x = regioes\n",
        "y = mortes\n",
        "plt.bar(x, y)\n",
        "\n",
        "plt.title('Gráfico do Número de Mortes por Regiões do Brasil')\n",
        "plt.xlabel('Regiões do Brasil')\n",
        "plt.ylabel('Número de Mortes')\n",
        "plt.xticks(rotation=45)\n",
        "\n",
        "plt.show()"
      ],
      "execution_count": 32,
      "outputs": [
        {
          "output_type": "display_data",
          "data": {
            "image/png": "[encoded data removed]",
            "text/plain": [
              "<Figure size 432x288 with 1 Axes>"
            ]
          },
          "metadata": {
            "tags": [],
            "needs_background": "light"
          }
        }
      ]
    },
    {
      "cell_type": "markdown",
      "metadata": {
        "id": "4o1yquJOd5J5",
        "colab_type": "text"
      },
      "source": [
        "# Verificando e Visualizando Dados Populacionais dos Estados"
      ]
    },
    {
      "cell_type": "markdown",
      "metadata": {
        "id": "FcP11M0mvWW8",
        "colab_type": "text"
      },
      "source": [
        "Vamos verificar de forma ordenada quais são os estados que possuem maior população de acordo com o estimado pela nossa base de dados."
      ]
    },
    {
      "cell_type": "markdown",
      "metadata": {
        "id": "SYUGVvLkvm4v",
        "colab_type": "text"
      },
      "source": [
        "**Para isso, criamos um novo Data Frame a partir do DF anterior, ordenando os valores através do método sort_values (), passando como parâmetro a coluna em que deve ser aplicado e a forma com os dados devem ser ordenados, nesse caso de forma decrescente**"
      ]
    },
    {
      "cell_type": "code",
      "metadata": {
        "id": "Ib-BSUzwSonG",
        "colab_type": "code",
        "colab": {
          "base_uri": "https://localhost:8080/",
          "height": 858
        },
        "outputId": "4be10e22-c0c1-4d67-95d1-52404a59f7e5"
      },
      "source": [
        "dados_pop = data.sort_values(by='estimated_population_2019', ascending=False)\n",
        "dados_pop = dados_pop[['state', 'estimated_population_2019']]\n",
        "dados_pop"
      ],
      "execution_count": 38,
      "outputs": [
        {
          "output_type": "execute_result",
          "data": {
            "text/html": [
              "<div>\n",
              "<style scoped>\n",
              "    .dataframe tbody tr th:only-of-type {\n",
              "        vertical-align: middle;\n",
              "    }\n",
              "\n",
              "    .dataframe tbody tr th {\n",
              "        vertical-align: top;\n",
              "    }\n",
              "\n",
              "    .dataframe thead th {\n",
              "        text-align: right;\n",
              "    }\n",
              "</style>\n",
              "<table border=\"1\" class=\"dataframe\">\n",
              "  <thead>\n",
              "    <tr style=\"text-align: right;\">\n",
              "      <th></th>\n",
              "      <th>state</th>\n",
              "      <th>estimated_population_2019</th>\n",
              "    </tr>\n",
              "  </thead>\n",
              "  <tbody>\n",
              "    <tr>\n",
              "      <th>4916</th>\n",
              "      <td>SP</td>\n",
              "      <td>45919049.0</td>\n",
              "    </tr>\n",
              "    <tr>\n",
              "      <th>1936</th>\n",
              "      <td>MG</td>\n",
              "      <td>21168791.0</td>\n",
              "    </tr>\n",
              "    <tr>\n",
              "      <th>3320</th>\n",
              "      <td>RJ</td>\n",
              "      <td>17264943.0</td>\n",
              "    </tr>\n",
              "    <tr>\n",
              "      <th>586</th>\n",
              "      <td>BA</td>\n",
              "      <td>14873064.0</td>\n",
              "    </tr>\n",
              "    <tr>\n",
              "      <th>3226</th>\n",
              "      <td>PR</td>\n",
              "      <td>11433957.0</td>\n",
              "    </tr>\n",
              "    <tr>\n",
              "      <th>3948</th>\n",
              "      <td>RS</td>\n",
              "      <td>11377239.0</td>\n",
              "    </tr>\n",
              "    <tr>\n",
              "      <th>2687</th>\n",
              "      <td>PE</td>\n",
              "      <td>9557071.0</td>\n",
              "    </tr>\n",
              "    <tr>\n",
              "      <th>772</th>\n",
              "      <td>CE</td>\n",
              "      <td>9132078.0</td>\n",
              "    </tr>\n",
              "    <tr>\n",
              "      <th>2282</th>\n",
              "      <td>PA</td>\n",
              "      <td>8602865.0</td>\n",
              "    </tr>\n",
              "    <tr>\n",
              "      <th>4218</th>\n",
              "      <td>SC</td>\n",
              "      <td>7164788.0</td>\n",
              "    </tr>\n",
              "    <tr>\n",
              "      <th>1282</th>\n",
              "      <td>MA</td>\n",
              "      <td>7075181.0</td>\n",
              "    </tr>\n",
              "    <tr>\n",
              "      <th>1066</th>\n",
              "      <td>GO</td>\n",
              "      <td>7018354.0</td>\n",
              "    </tr>\n",
              "    <tr>\n",
              "      <th>188</th>\n",
              "      <td>AM</td>\n",
              "      <td>4144597.0</td>\n",
              "    </tr>\n",
              "    <tr>\n",
              "      <th>855</th>\n",
              "      <td>ES</td>\n",
              "      <td>4018650.0</td>\n",
              "    </tr>\n",
              "    <tr>\n",
              "      <th>2501</th>\n",
              "      <td>PB</td>\n",
              "      <td>4018127.0</td>\n",
              "    </tr>\n",
              "    <tr>\n",
              "      <th>8525</th>\n",
              "      <td>RN</td>\n",
              "      <td>3506853.0</td>\n",
              "    </tr>\n",
              "    <tr>\n",
              "      <th>2136</th>\n",
              "      <td>MT</td>\n",
              "      <td>3484466.0</td>\n",
              "    </tr>\n",
              "    <tr>\n",
              "      <th>126</th>\n",
              "      <td>AL</td>\n",
              "      <td>3337357.0</td>\n",
              "    </tr>\n",
              "    <tr>\n",
              "      <th>2888</th>\n",
              "      <td>PI</td>\n",
              "      <td>3273227.0</td>\n",
              "    </tr>\n",
              "    <tr>\n",
              "      <th>775</th>\n",
              "      <td>DF</td>\n",
              "      <td>3015268.0</td>\n",
              "    </tr>\n",
              "    <tr>\n",
              "      <th>7047</th>\n",
              "      <td>MS</td>\n",
              "      <td>2778986.0</td>\n",
              "    </tr>\n",
              "    <tr>\n",
              "      <th>4294</th>\n",
              "      <td>SE</td>\n",
              "      <td>2298696.0</td>\n",
              "    </tr>\n",
              "    <tr>\n",
              "      <th>8579</th>\n",
              "      <td>RO</td>\n",
              "      <td>1777225.0</td>\n",
              "    </tr>\n",
              "    <tr>\n",
              "      <th>10081</th>\n",
              "      <td>TO</td>\n",
              "      <td>1572866.0</td>\n",
              "    </tr>\n",
              "    <tr>\n",
              "      <th>22</th>\n",
              "      <td>AC</td>\n",
              "      <td>881935.0</td>\n",
              "    </tr>\n",
              "    <tr>\n",
              "      <th>205</th>\n",
              "      <td>AP</td>\n",
              "      <td>845731.0</td>\n",
              "    </tr>\n",
              "    <tr>\n",
              "      <th>8596</th>\n",
              "      <td>RR</td>\n",
              "      <td>605761.0</td>\n",
              "    </tr>\n",
              "  </tbody>\n",
              "</table>\n",
              "</div>"
            ],
            "text/plain": [
              "      state  estimated_population_2019\n",
              "4916     SP                 45919049.0\n",
              "1936     MG                 21168791.0\n",
              "3320     RJ                 17264943.0\n",
              "586      BA                 14873064.0\n",
              "3226     PR                 11433957.0\n",
              "3948     RS                 11377239.0\n",
              "2687     PE                  9557071.0\n",
              "772      CE                  9132078.0\n",
              "2282     PA                  8602865.0\n",
              "4218     SC                  7164788.0\n",
              "1282     MA                  7075181.0\n",
              "1066     GO                  7018354.0\n",
              "188      AM                  4144597.0\n",
              "855      ES                  4018650.0\n",
              "2501     PB                  4018127.0\n",
              "8525     RN                  3506853.0\n",
              "2136     MT                  3484466.0\n",
              "126      AL                  3337357.0\n",
              "2888     PI                  3273227.0\n",
              "775      DF                  3015268.0\n",
              "7047     MS                  2778986.0\n",
              "4294     SE                  2298696.0\n",
              "8579     RO                  1777225.0\n",
              "10081    TO                  1572866.0\n",
              "22       AC                   881935.0\n",
              "205      AP                   845731.0\n",
              "8596     RR                   605761.0"
            ]
          },
          "metadata": {
            "tags": []
          },
          "execution_count": 38
        }
      ]
    },
    {
      "cell_type": "markdown",
      "metadata": {
        "id": "QYU95DyXwKKv",
        "colab_type": "text"
      },
      "source": [
        "Para tornar mais didático a apresentação, podemos visualizar os dados através de um gráfico de barras."
      ]
    },
    {
      "cell_type": "code",
      "metadata": {
        "id": "-4h2pKi53s_R",
        "colab_type": "code",
        "colab": {
          "base_uri": "https://localhost:8080/",
          "height": 304
        },
        "outputId": "5f39b02c-b9e0-4658-d55d-f5531113c559"
      },
      "source": [
        "plt.bar(dados_pop['state'], dados_pop['estimated_population_2019'])\n",
        "\n",
        "plt.title('Gráfico da População brasileira por estados em 2019')\n",
        "plt.xlabel('Estados do Brasil')\n",
        "plt.ylabel('População em dezena de milhão em 2019')\n",
        "plt.xticks(rotation=45)\n",
        "\n",
        "plt.show()"
      ],
      "execution_count": 39,
      "outputs": [
        {
          "output_type": "display_data",
          "data": {
            "image/png": "[encoded data removed]",
            "text/plain": [
              "<Figure size 432x288 with 1 Axes>"
            ]
          },
          "metadata": {
            "tags": []
          }
        }
      ]
    },
    {
      "cell_type": "markdown",
      "metadata": {
        "id": "3nK-k-uI36Rt",
        "colab_type": "text"
      },
      "source": [
        "**Nesse caso, a visualização básica é confusa e pouco representativa**"
      ]
    },
    {
      "cell_type": "markdown",
      "metadata": {
        "id": "vlcp-JVFwla3",
        "colab_type": "text"
      },
      "source": [
        "**Para melhorar esse aspecto, utilizaremos uma outra biblioteca de forma conjunta com a Matplotlib, a Seaborn**"
      ]
    },
    {
      "cell_type": "markdown",
      "metadata": {
        "id": "5c_Kq-e4wuhw",
        "colab_type": "text"
      },
      "source": [
        "**A biblioteca Seaborn permite entre outras coisas a configuração da paleta de cores, o número de cores a partir dos dados e o estilo para o gráfico**\n"
      ]
    },
    {
      "cell_type": "code",
      "metadata": {
        "id": "hUj-_9W1Vd_D",
        "colab_type": "code",
        "colab": {
          "base_uri": "https://localhost:8080/",
          "height": 604
        },
        "outputId": "9dfe0f0c-3683-4f77-d6ce-2453532294a1"
      },
      "source": [
        "sns.set_style('darkgrid')\n",
        "plt.figure(figsize=(24,12))\n",
        "\n",
        "sns.barplot(x=dados_pop.state, \n",
        "            y=dados_pop.estimated_population_2019,\n",
        "            palette=sns.color_palette('GnBu_d' ,n_colors=len(dados_pop.state)))\n",
        "\n",
        "plt.title('Gráfico da População brasileira por estados em 2019')\n",
        "plt.xlabel('Estados do Brasil')\n",
        "plt.ylabel('População em dezena de milhão em 2019')\n",
        "plt.xticks(rotation=45)\n",
        "\n",
        "plt.show()"
      ],
      "execution_count": 40,
      "outputs": [
        {
          "output_type": "display_data",
          "data": {
            "image/png": "[encoded data removed]",
            "text/plain": [
              "<Figure size 1728x864 with 1 Axes>"
            ]
          },
          "metadata": {
            "tags": []
          }
        }
      ]
    },
    {
      "cell_type": "markdown",
      "metadata": {
        "id": "CG4LL3-y1s9M",
        "colab_type": "text"
      },
      "source": [
        "# Comparando Dados da COVID-19. Absolutos x Proporcionais"
      ]
    },
    {
      "cell_type": "markdown",
      "metadata": {
        "id": "qxEFGlxTxAAZ",
        "colab_type": "text"
      },
      "source": [
        "Após verificar os dados populacionais, agora iremos trabalhar de forma mais direta com os dados relacionados com a COVID-19"
      ]
    },
    {
      "cell_type": "markdown",
      "metadata": {
        "id": "rO9szalBxMup",
        "colab_type": "text"
      },
      "source": [
        "**Criar um novo DF apenas com as colunas que contenham dados diretamente referentes a COVID-19,  a partir da desestruturação [ ] do DF anterior**"
      ]
    },
    {
      "cell_type": "code",
      "metadata": {
        "id": "lORSYlYdXd3N",
        "colab_type": "code",
        "colab": {
          "base_uri": "https://localhost:8080/",
          "height": 348
        },
        "outputId": "a2aee379-d08f-4e97-8e2f-340c2b2448c3"
      },
      "source": [
        "dados_covid = data[['state', 'last_available_confirmed', 'last_available_deaths', 'last_available_confirmed_per_100k_inhabitants']].reset_index()\n",
        "dados_covid = dados_covid.drop('index', axis=1)\n",
        "dados_covid.head(10)"
      ],
      "execution_count": 42,
      "outputs": [
        {
          "output_type": "execute_result",
          "data": {
            "text/html": [
              "<div>\n",
              "<style scoped>\n",
              "    .dataframe tbody tr th:only-of-type {\n",
              "        vertical-align: middle;\n",
              "    }\n",
              "\n",
              "    .dataframe tbody tr th {\n",
              "        vertical-align: top;\n",
              "    }\n",
              "\n",
              "    .dataframe thead th {\n",
              "        text-align: right;\n",
              "    }\n",
              "</style>\n",
              "<table border=\"1\" class=\"dataframe\">\n",
              "  <thead>\n",
              "    <tr style=\"text-align: right;\">\n",
              "      <th></th>\n",
              "      <th>state</th>\n",
              "      <th>last_available_confirmed</th>\n",
              "      <th>last_available_deaths</th>\n",
              "      <th>last_available_confirmed_per_100k_inhabitants</th>\n",
              "    </tr>\n",
              "  </thead>\n",
              "  <tbody>\n",
              "    <tr>\n",
              "      <th>0</th>\n",
              "      <td>AC</td>\n",
              "      <td>12304</td>\n",
              "      <td>335</td>\n",
              "      <td>1395.11415</td>\n",
              "    </tr>\n",
              "    <tr>\n",
              "      <th>1</th>\n",
              "      <td>AL</td>\n",
              "      <td>32065</td>\n",
              "      <td>958</td>\n",
              "      <td>960.79023</td>\n",
              "    </tr>\n",
              "    <tr>\n",
              "      <th>2</th>\n",
              "      <td>AM</td>\n",
              "      <td>67267</td>\n",
              "      <td>2731</td>\n",
              "      <td>1623.00460</td>\n",
              "    </tr>\n",
              "    <tr>\n",
              "      <th>3</th>\n",
              "      <td>AP</td>\n",
              "      <td>27415</td>\n",
              "      <td>394</td>\n",
              "      <td>3241.57445</td>\n",
              "    </tr>\n",
              "    <tr>\n",
              "      <th>4</th>\n",
              "      <td>BA</td>\n",
              "      <td>54291</td>\n",
              "      <td>1601</td>\n",
              "      <td>365.02902</td>\n",
              "    </tr>\n",
              "    <tr>\n",
              "      <th>5</th>\n",
              "      <td>CE</td>\n",
              "      <td>103118</td>\n",
              "      <td>5895</td>\n",
              "      <td>1129.18440</td>\n",
              "    </tr>\n",
              "    <tr>\n",
              "      <th>6</th>\n",
              "      <td>DF</td>\n",
              "      <td>38871</td>\n",
              "      <td>509</td>\n",
              "      <td>1289.13914</td>\n",
              "    </tr>\n",
              "    <tr>\n",
              "      <th>7</th>\n",
              "      <td>ES</td>\n",
              "      <td>40406</td>\n",
              "      <td>1490</td>\n",
              "      <td>1005.46203</td>\n",
              "    </tr>\n",
              "    <tr>\n",
              "      <th>8</th>\n",
              "      <td>GO</td>\n",
              "      <td>20377</td>\n",
              "      <td>384</td>\n",
              "      <td>290.33873</td>\n",
              "    </tr>\n",
              "    <tr>\n",
              "      <th>9</th>\n",
              "      <td>MA</td>\n",
              "      <td>74925</td>\n",
              "      <td>1871</td>\n",
              "      <td>1058.98351</td>\n",
              "    </tr>\n",
              "  </tbody>\n",
              "</table>\n",
              "</div>"
            ],
            "text/plain": [
              "  state  ...  last_available_confirmed_per_100k_inhabitants\n",
              "0    AC  ...                                     1395.11415\n",
              "1    AL  ...                                      960.79023\n",
              "2    AM  ...                                     1623.00460\n",
              "3    AP  ...                                     3241.57445\n",
              "4    BA  ...                                      365.02902\n",
              "5    CE  ...                                     1129.18440\n",
              "6    DF  ...                                     1289.13914\n",
              "7    ES  ...                                     1005.46203\n",
              "8    GO  ...                                      290.33873\n",
              "9    MA  ...                                     1058.98351\n",
              "\n",
              "[10 rows x 4 columns]"
            ]
          },
          "metadata": {
            "tags": []
          },
          "execution_count": 42
        }
      ]
    },
    {
      "cell_type": "markdown",
      "metadata": {
        "id": "lsCi_CF-xcgH",
        "colab_type": "text"
      },
      "source": [
        "Nessa parte do estudo, vamos verificar de forma ordenada os estados com maior número de casos registrados de covid."
      ]
    },
    {
      "cell_type": "markdown",
      "metadata": {
        "id": "7R4eZO_nxpUG",
        "colab_type": "text"
      },
      "source": [
        "**Para isso, utilizaremos o método sort_values() como no processo anterior.**"
      ]
    },
    {
      "cell_type": "code",
      "metadata": {
        "id": "NCbeU_tqX1HS",
        "colab_type": "code",
        "colab": {
          "base_uri": "https://localhost:8080/",
          "height": 858
        },
        "outputId": "d81df341-b61d-4da9-8073-d522bc6183f5"
      },
      "source": [
        "dados_confirmed = dados_covid.sort_values(by='last_available_confirmed', ascending=False)\n",
        "dados_confirmed = dados_confirmed[['state', 'last_available_confirmed']]\n",
        "dados_confirmed"
      ],
      "execution_count": 44,
      "outputs": [
        {
          "output_type": "execute_result",
          "data": {
            "text/html": [
              "<div>\n",
              "<style scoped>\n",
              "    .dataframe tbody tr th:only-of-type {\n",
              "        vertical-align: middle;\n",
              "    }\n",
              "\n",
              "    .dataframe tbody tr th {\n",
              "        vertical-align: top;\n",
              "    }\n",
              "\n",
              "    .dataframe thead th {\n",
              "        text-align: right;\n",
              "    }\n",
              "</style>\n",
              "<table border=\"1\" class=\"dataframe\">\n",
              "  <thead>\n",
              "    <tr style=\"text-align: right;\">\n",
              "      <th></th>\n",
              "      <th>state</th>\n",
              "      <th>last_available_confirmed</th>\n",
              "    </tr>\n",
              "  </thead>\n",
              "  <tbody>\n",
              "    <tr>\n",
              "      <th>21</th>\n",
              "      <td>SP</td>\n",
              "      <td>248587</td>\n",
              "    </tr>\n",
              "    <tr>\n",
              "      <th>17</th>\n",
              "      <td>RJ</td>\n",
              "      <td>105897</td>\n",
              "    </tr>\n",
              "    <tr>\n",
              "      <th>5</th>\n",
              "      <td>CE</td>\n",
              "      <td>103118</td>\n",
              "    </tr>\n",
              "    <tr>\n",
              "      <th>12</th>\n",
              "      <td>PA</td>\n",
              "      <td>96472</td>\n",
              "    </tr>\n",
              "    <tr>\n",
              "      <th>9</th>\n",
              "      <td>MA</td>\n",
              "      <td>74925</td>\n",
              "    </tr>\n",
              "    <tr>\n",
              "      <th>2</th>\n",
              "      <td>AM</td>\n",
              "      <td>67267</td>\n",
              "    </tr>\n",
              "    <tr>\n",
              "      <th>14</th>\n",
              "      <td>PE</td>\n",
              "      <td>55136</td>\n",
              "    </tr>\n",
              "    <tr>\n",
              "      <th>4</th>\n",
              "      <td>BA</td>\n",
              "      <td>54291</td>\n",
              "    </tr>\n",
              "    <tr>\n",
              "      <th>13</th>\n",
              "      <td>PB</td>\n",
              "      <td>40824</td>\n",
              "    </tr>\n",
              "    <tr>\n",
              "      <th>7</th>\n",
              "      <td>ES</td>\n",
              "      <td>40406</td>\n",
              "    </tr>\n",
              "    <tr>\n",
              "      <th>6</th>\n",
              "      <td>DF</td>\n",
              "      <td>38871</td>\n",
              "    </tr>\n",
              "    <tr>\n",
              "      <th>10</th>\n",
              "      <td>MG</td>\n",
              "      <td>32769</td>\n",
              "    </tr>\n",
              "    <tr>\n",
              "      <th>1</th>\n",
              "      <td>AL</td>\n",
              "      <td>32065</td>\n",
              "    </tr>\n",
              "    <tr>\n",
              "      <th>3</th>\n",
              "      <td>AP</td>\n",
              "      <td>27415</td>\n",
              "    </tr>\n",
              "    <tr>\n",
              "      <th>18</th>\n",
              "      <td>RS</td>\n",
              "      <td>23060</td>\n",
              "    </tr>\n",
              "    <tr>\n",
              "      <th>23</th>\n",
              "      <td>RN</td>\n",
              "      <td>22665</td>\n",
              "    </tr>\n",
              "    <tr>\n",
              "      <th>19</th>\n",
              "      <td>SC</td>\n",
              "      <td>21951</td>\n",
              "    </tr>\n",
              "    <tr>\n",
              "      <th>20</th>\n",
              "      <td>SE</td>\n",
              "      <td>21081</td>\n",
              "    </tr>\n",
              "    <tr>\n",
              "      <th>8</th>\n",
              "      <td>GO</td>\n",
              "      <td>20377</td>\n",
              "    </tr>\n",
              "    <tr>\n",
              "      <th>24</th>\n",
              "      <td>RO</td>\n",
              "      <td>18173</td>\n",
              "    </tr>\n",
              "    <tr>\n",
              "      <th>15</th>\n",
              "      <td>PI</td>\n",
              "      <td>18023</td>\n",
              "    </tr>\n",
              "    <tr>\n",
              "      <th>16</th>\n",
              "      <td>PR</td>\n",
              "      <td>17821</td>\n",
              "    </tr>\n",
              "    <tr>\n",
              "      <th>0</th>\n",
              "      <td>AC</td>\n",
              "      <td>12304</td>\n",
              "    </tr>\n",
              "    <tr>\n",
              "      <th>11</th>\n",
              "      <td>MT</td>\n",
              "      <td>12157</td>\n",
              "    </tr>\n",
              "    <tr>\n",
              "      <th>25</th>\n",
              "      <td>RR</td>\n",
              "      <td>11872</td>\n",
              "    </tr>\n",
              "    <tr>\n",
              "      <th>26</th>\n",
              "      <td>TO</td>\n",
              "      <td>9425</td>\n",
              "    </tr>\n",
              "    <tr>\n",
              "      <th>22</th>\n",
              "      <td>MS</td>\n",
              "      <td>6523</td>\n",
              "    </tr>\n",
              "  </tbody>\n",
              "</table>\n",
              "</div>"
            ],
            "text/plain": [
              "   state  last_available_confirmed\n",
              "21    SP                    248587\n",
              "17    RJ                    105897\n",
              "5     CE                    103118\n",
              "12    PA                     96472\n",
              "9     MA                     74925\n",
              "2     AM                     67267\n",
              "14    PE                     55136\n",
              "4     BA                     54291\n",
              "13    PB                     40824\n",
              "7     ES                     40406\n",
              "6     DF                     38871\n",
              "10    MG                     32769\n",
              "1     AL                     32065\n",
              "3     AP                     27415\n",
              "18    RS                     23060\n",
              "23    RN                     22665\n",
              "19    SC                     21951\n",
              "20    SE                     21081\n",
              "8     GO                     20377\n",
              "24    RO                     18173\n",
              "15    PI                     18023\n",
              "16    PR                     17821\n",
              "0     AC                     12304\n",
              "11    MT                     12157\n",
              "25    RR                     11872\n",
              "26    TO                      9425\n",
              "22    MS                      6523"
            ]
          },
          "metadata": {
            "tags": []
          },
          "execution_count": 44
        }
      ]
    },
    {
      "cell_type": "markdown",
      "metadata": {
        "id": "oEqdnvbWxztL",
        "colab_type": "text"
      },
      "source": [
        "**Iremos também gerar o gráfico utilizando a biblioteca Seaborn**"
      ]
    },
    {
      "cell_type": "code",
      "metadata": {
        "id": "PxuVdWg9a-AG",
        "colab_type": "code",
        "colab": {
          "base_uri": "https://localhost:8080/",
          "height": 590
        },
        "outputId": "44aef8f6-fae8-4abd-b0d5-e000fbfc2094"
      },
      "source": [
        "sns.set_style('darkgrid')\n",
        "plt.figure(figsize=(24,12))\n",
        "\n",
        "sns.barplot(x=dados_confirmed.state, \n",
        "            y=dados_confirmed.last_available_confirmed,\n",
        "            palette=sns.color_palette('GnBu_d' ,n_colors=len(dados_confirmed.state)))\n",
        "\n",
        "plt.title('Gráfico de Casos Confirmados por Estados no Brasil')\n",
        "plt.xlabel('Estados do Brasil')\n",
        "plt.ylabel('Casos Confirmados')\n",
        "plt.xticks(rotation=45)\n",
        "\n",
        "plt.show()"
      ],
      "execution_count": 46,
      "outputs": [
        {
          "output_type": "display_data",
          "data": {
            "image/png": "[encoded data removed]",
            "text/plain": [
              "<Figure size 1728x864 with 1 Axes>"
            ]
          },
          "metadata": {
            "tags": []
          }
        }
      ]
    },
    {
      "cell_type": "markdown",
      "metadata": {
        "id": "XUvDAv17x6jq",
        "colab_type": "text"
      },
      "source": [
        "Essa visualização acima mostra os estados que possuem mais casos acumulados registrados, no entanto, vimos que os estados do Brasil possuem discrepâncias entre suas respectivas populações, por isso não seria mais justo uma comparação proporcional ?"
      ]
    },
    {
      "cell_type": "markdown",
      "metadata": {
        "id": "ycMXVHLiyOlg",
        "colab_type": "text"
      },
      "source": [
        "**Para realizar essa comparação, iremos agora ordenar os estados de acordo com o número de casos confirmados por 100 mil habitantes**"
      ]
    },
    {
      "cell_type": "code",
      "metadata": {
        "id": "4xYf8S8DayQ5",
        "colab_type": "code",
        "colab": {
          "base_uri": "https://localhost:8080/",
          "height": 858
        },
        "outputId": "7a5e5a19-5e7a-467e-fcc3-84d63c5fb396"
      },
      "source": [
        "dados_habitants = dados_covid.sort_values(by='last_available_confirmed_per_100k_inhabitants', ascending=False)\n",
        "dados_habitants = dados_habitants[['state', 'last_available_confirmed_per_100k_inhabitants']]\n",
        "dados_habitants"
      ],
      "execution_count": 47,
      "outputs": [
        {
          "output_type": "execute_result",
          "data": {
            "text/html": [
              "<div>\n",
              "<style scoped>\n",
              "    .dataframe tbody tr th:only-of-type {\n",
              "        vertical-align: middle;\n",
              "    }\n",
              "\n",
              "    .dataframe tbody tr th {\n",
              "        vertical-align: top;\n",
              "    }\n",
              "\n",
              "    .dataframe thead th {\n",
              "        text-align: right;\n",
              "    }\n",
              "</style>\n",
              "<table border=\"1\" class=\"dataframe\">\n",
              "  <thead>\n",
              "    <tr style=\"text-align: right;\">\n",
              "      <th></th>\n",
              "      <th>state</th>\n",
              "      <th>last_available_confirmed_per_100k_inhabitants</th>\n",
              "    </tr>\n",
              "  </thead>\n",
              "  <tbody>\n",
              "    <tr>\n",
              "      <th>3</th>\n",
              "      <td>AP</td>\n",
              "      <td>3241.57445</td>\n",
              "    </tr>\n",
              "    <tr>\n",
              "      <th>25</th>\n",
              "      <td>RR</td>\n",
              "      <td>1959.84885</td>\n",
              "    </tr>\n",
              "    <tr>\n",
              "      <th>2</th>\n",
              "      <td>AM</td>\n",
              "      <td>1623.00460</td>\n",
              "    </tr>\n",
              "    <tr>\n",
              "      <th>0</th>\n",
              "      <td>AC</td>\n",
              "      <td>1395.11415</td>\n",
              "    </tr>\n",
              "    <tr>\n",
              "      <th>6</th>\n",
              "      <td>DF</td>\n",
              "      <td>1289.13914</td>\n",
              "    </tr>\n",
              "    <tr>\n",
              "      <th>5</th>\n",
              "      <td>CE</td>\n",
              "      <td>1129.18440</td>\n",
              "    </tr>\n",
              "    <tr>\n",
              "      <th>12</th>\n",
              "      <td>PA</td>\n",
              "      <td>1121.39386</td>\n",
              "    </tr>\n",
              "    <tr>\n",
              "      <th>9</th>\n",
              "      <td>MA</td>\n",
              "      <td>1058.98351</td>\n",
              "    </tr>\n",
              "    <tr>\n",
              "      <th>24</th>\n",
              "      <td>RO</td>\n",
              "      <td>1022.54920</td>\n",
              "    </tr>\n",
              "    <tr>\n",
              "      <th>13</th>\n",
              "      <td>PB</td>\n",
              "      <td>1015.99576</td>\n",
              "    </tr>\n",
              "    <tr>\n",
              "      <th>7</th>\n",
              "      <td>ES</td>\n",
              "      <td>1005.46203</td>\n",
              "    </tr>\n",
              "    <tr>\n",
              "      <th>1</th>\n",
              "      <td>AL</td>\n",
              "      <td>960.79023</td>\n",
              "    </tr>\n",
              "    <tr>\n",
              "      <th>20</th>\n",
              "      <td>SE</td>\n",
              "      <td>917.08516</td>\n",
              "    </tr>\n",
              "    <tr>\n",
              "      <th>23</th>\n",
              "      <td>RN</td>\n",
              "      <td>646.30596</td>\n",
              "    </tr>\n",
              "    <tr>\n",
              "      <th>17</th>\n",
              "      <td>RJ</td>\n",
              "      <td>613.36432</td>\n",
              "    </tr>\n",
              "    <tr>\n",
              "      <th>26</th>\n",
              "      <td>TO</td>\n",
              "      <td>599.22460</td>\n",
              "    </tr>\n",
              "    <tr>\n",
              "      <th>14</th>\n",
              "      <td>PE</td>\n",
              "      <td>576.91316</td>\n",
              "    </tr>\n",
              "    <tr>\n",
              "      <th>15</th>\n",
              "      <td>PI</td>\n",
              "      <td>550.61870</td>\n",
              "    </tr>\n",
              "    <tr>\n",
              "      <th>21</th>\n",
              "      <td>SP</td>\n",
              "      <td>541.35921</td>\n",
              "    </tr>\n",
              "    <tr>\n",
              "      <th>4</th>\n",
              "      <td>BA</td>\n",
              "      <td>365.02902</td>\n",
              "    </tr>\n",
              "    <tr>\n",
              "      <th>11</th>\n",
              "      <td>MT</td>\n",
              "      <td>348.89134</td>\n",
              "    </tr>\n",
              "    <tr>\n",
              "      <th>19</th>\n",
              "      <td>SC</td>\n",
              "      <td>306.37334</td>\n",
              "    </tr>\n",
              "    <tr>\n",
              "      <th>8</th>\n",
              "      <td>GO</td>\n",
              "      <td>290.33873</td>\n",
              "    </tr>\n",
              "    <tr>\n",
              "      <th>22</th>\n",
              "      <td>MS</td>\n",
              "      <td>234.72590</td>\n",
              "    </tr>\n",
              "    <tr>\n",
              "      <th>18</th>\n",
              "      <td>RS</td>\n",
              "      <td>202.68538</td>\n",
              "    </tr>\n",
              "    <tr>\n",
              "      <th>16</th>\n",
              "      <td>PR</td>\n",
              "      <td>155.86030</td>\n",
              "    </tr>\n",
              "    <tr>\n",
              "      <th>10</th>\n",
              "      <td>MG</td>\n",
              "      <td>154.79864</td>\n",
              "    </tr>\n",
              "  </tbody>\n",
              "</table>\n",
              "</div>"
            ],
            "text/plain": [
              "   state  last_available_confirmed_per_100k_inhabitants\n",
              "3     AP                                     3241.57445\n",
              "25    RR                                     1959.84885\n",
              "2     AM                                     1623.00460\n",
              "0     AC                                     1395.11415\n",
              "6     DF                                     1289.13914\n",
              "5     CE                                     1129.18440\n",
              "12    PA                                     1121.39386\n",
              "9     MA                                     1058.98351\n",
              "24    RO                                     1022.54920\n",
              "13    PB                                     1015.99576\n",
              "7     ES                                     1005.46203\n",
              "1     AL                                      960.79023\n",
              "20    SE                                      917.08516\n",
              "23    RN                                      646.30596\n",
              "17    RJ                                      613.36432\n",
              "26    TO                                      599.22460\n",
              "14    PE                                      576.91316\n",
              "15    PI                                      550.61870\n",
              "21    SP                                      541.35921\n",
              "4     BA                                      365.02902\n",
              "11    MT                                      348.89134\n",
              "19    SC                                      306.37334\n",
              "8     GO                                      290.33873\n",
              "22    MS                                      234.72590\n",
              "18    RS                                      202.68538\n",
              "16    PR                                      155.86030\n",
              "10    MG                                      154.79864"
            ]
          },
          "metadata": {
            "tags": []
          },
          "execution_count": 47
        }
      ]
    },
    {
      "cell_type": "markdown",
      "metadata": {
        "id": "sDDMzM0kyZfE",
        "colab_type": "text"
      },
      "source": [
        "Há mudanças significativas, não é ?"
      ]
    },
    {
      "cell_type": "markdown",
      "metadata": {
        "id": "M-_fxusBydMR",
        "colab_type": "text"
      },
      "source": [
        "**Para melhor visualizar, podemos novamente gerar o gráfico de barras, baseando-se no modelo anterior**"
      ]
    },
    {
      "cell_type": "code",
      "metadata": {
        "id": "7YxpXUEka8-y",
        "colab_type": "code",
        "colab": {
          "base_uri": "https://localhost:8080/",
          "height": 595
        },
        "outputId": "faadd9ee-3045-46b9-8430-210e459d9879"
      },
      "source": [
        "sns.set_style('darkgrid')\n",
        "plt.figure(figsize=(24,12))\n",
        "\n",
        "sns.barplot(x=dados_habitants.state, \n",
        "            y=dados_habitants.last_available_confirmed_per_100k_inhabitants,\n",
        "            palette=sns.color_palette('GnBu_d' ,n_colors=len(dados_habitants.state)))\n",
        "\n",
        "plt.title('Gráfico de Casos Confirmados por 100k de Habitantes nos Estados do Brasil')\n",
        "plt.xlabel('Estados do Brasil')\n",
        "plt.ylabel('Casos Confirmados por 100k de Habitantes')\n",
        "plt.xticks(rotation=45)\n",
        "\n",
        "plt.show()"
      ],
      "execution_count": 48,
      "outputs": [
        {
          "output_type": "display_data",
          "data": {
            "image/png": "[encoded data removed]",
            "text/plain": [
              "<Figure size 1728x864 with 1 Axes>"
            ]
          },
          "metadata": {
            "tags": []
          }
        }
      ]
    },
    {
      "cell_type": "markdown",
      "metadata": {
        "id": "5hGhcTTW1fnt",
        "colab_type": "text"
      },
      "source": [
        "# Parte Complementar"
      ]
    },
    {
      "cell_type": "markdown",
      "metadata": {
        "id": "jvGdOnuzy2dD",
        "colab_type": "text"
      },
      "source": [
        "**De forma complementar, podemos repetir o processo e verificar quais são os estados com registro de mortes, gerando seu respectivo gráfico de barras para o Data Frame.**"
      ]
    },
    {
      "cell_type": "code",
      "metadata": {
        "id": "HWWvMBPRoQ6A",
        "colab_type": "code",
        "colab": {
          "base_uri": "https://localhost:8080/",
          "height": 858
        },
        "outputId": "4d000254-8fd9-4c76-832d-7270c64a4e61"
      },
      "source": [
        "dados_deaths = dados_covid.sort_values(by='last_available_deaths', ascending=False)\n",
        "dados_deaths = dados_deaths[['state', 'last_available_deaths']]\n",
        "dados_deaths"
      ],
      "execution_count": 49,
      "outputs": [
        {
          "output_type": "execute_result",
          "data": {
            "text/html": [
              "<div>\n",
              "<style scoped>\n",
              "    .dataframe tbody tr th:only-of-type {\n",
              "        vertical-align: middle;\n",
              "    }\n",
              "\n",
              "    .dataframe tbody tr th {\n",
              "        vertical-align: top;\n",
              "    }\n",
              "\n",
              "    .dataframe thead th {\n",
              "        text-align: right;\n",
              "    }\n",
              "</style>\n",
              "<table border=\"1\" class=\"dataframe\">\n",
              "  <thead>\n",
              "    <tr style=\"text-align: right;\">\n",
              "      <th></th>\n",
              "      <th>state</th>\n",
              "      <th>last_available_deaths</th>\n",
              "    </tr>\n",
              "  </thead>\n",
              "  <tbody>\n",
              "    <tr>\n",
              "      <th>21</th>\n",
              "      <td>SP</td>\n",
              "      <td>13759</td>\n",
              "    </tr>\n",
              "    <tr>\n",
              "      <th>17</th>\n",
              "      <td>RJ</td>\n",
              "      <td>9450</td>\n",
              "    </tr>\n",
              "    <tr>\n",
              "      <th>5</th>\n",
              "      <td>CE</td>\n",
              "      <td>5895</td>\n",
              "    </tr>\n",
              "    <tr>\n",
              "      <th>12</th>\n",
              "      <td>PA</td>\n",
              "      <td>4803</td>\n",
              "    </tr>\n",
              "    <tr>\n",
              "      <th>14</th>\n",
              "      <td>PE</td>\n",
              "      <td>4488</td>\n",
              "    </tr>\n",
              "    <tr>\n",
              "      <th>2</th>\n",
              "      <td>AM</td>\n",
              "      <td>2731</td>\n",
              "    </tr>\n",
              "    <tr>\n",
              "      <th>9</th>\n",
              "      <td>MA</td>\n",
              "      <td>1871</td>\n",
              "    </tr>\n",
              "    <tr>\n",
              "      <th>4</th>\n",
              "      <td>BA</td>\n",
              "      <td>1601</td>\n",
              "    </tr>\n",
              "    <tr>\n",
              "      <th>7</th>\n",
              "      <td>ES</td>\n",
              "      <td>1490</td>\n",
              "    </tr>\n",
              "    <tr>\n",
              "      <th>1</th>\n",
              "      <td>AL</td>\n",
              "      <td>958</td>\n",
              "    </tr>\n",
              "    <tr>\n",
              "      <th>23</th>\n",
              "      <td>RN</td>\n",
              "      <td>858</td>\n",
              "    </tr>\n",
              "    <tr>\n",
              "      <th>13</th>\n",
              "      <td>PB</td>\n",
              "      <td>842</td>\n",
              "    </tr>\n",
              "    <tr>\n",
              "      <th>10</th>\n",
              "      <td>MG</td>\n",
              "      <td>806</td>\n",
              "    </tr>\n",
              "    <tr>\n",
              "      <th>15</th>\n",
              "      <td>PI</td>\n",
              "      <td>574</td>\n",
              "    </tr>\n",
              "    <tr>\n",
              "      <th>20</th>\n",
              "      <td>SE</td>\n",
              "      <td>554</td>\n",
              "    </tr>\n",
              "    <tr>\n",
              "      <th>16</th>\n",
              "      <td>PR</td>\n",
              "      <td>539</td>\n",
              "    </tr>\n",
              "    <tr>\n",
              "      <th>6</th>\n",
              "      <td>DF</td>\n",
              "      <td>509</td>\n",
              "    </tr>\n",
              "    <tr>\n",
              "      <th>18</th>\n",
              "      <td>RS</td>\n",
              "      <td>500</td>\n",
              "    </tr>\n",
              "    <tr>\n",
              "      <th>24</th>\n",
              "      <td>RO</td>\n",
              "      <td>467</td>\n",
              "    </tr>\n",
              "    <tr>\n",
              "      <th>11</th>\n",
              "      <td>MT</td>\n",
              "      <td>462</td>\n",
              "    </tr>\n",
              "    <tr>\n",
              "      <th>3</th>\n",
              "      <td>AP</td>\n",
              "      <td>394</td>\n",
              "    </tr>\n",
              "    <tr>\n",
              "      <th>8</th>\n",
              "      <td>GO</td>\n",
              "      <td>384</td>\n",
              "    </tr>\n",
              "    <tr>\n",
              "      <th>0</th>\n",
              "      <td>AC</td>\n",
              "      <td>335</td>\n",
              "    </tr>\n",
              "    <tr>\n",
              "      <th>19</th>\n",
              "      <td>SC</td>\n",
              "      <td>289</td>\n",
              "    </tr>\n",
              "    <tr>\n",
              "      <th>25</th>\n",
              "      <td>RR</td>\n",
              "      <td>271</td>\n",
              "    </tr>\n",
              "    <tr>\n",
              "      <th>26</th>\n",
              "      <td>TO</td>\n",
              "      <td>183</td>\n",
              "    </tr>\n",
              "    <tr>\n",
              "      <th>22</th>\n",
              "      <td>MS</td>\n",
              "      <td>61</td>\n",
              "    </tr>\n",
              "  </tbody>\n",
              "</table>\n",
              "</div>"
            ],
            "text/plain": [
              "   state  last_available_deaths\n",
              "21    SP                  13759\n",
              "17    RJ                   9450\n",
              "5     CE                   5895\n",
              "12    PA                   4803\n",
              "14    PE                   4488\n",
              "2     AM                   2731\n",
              "9     MA                   1871\n",
              "4     BA                   1601\n",
              "7     ES                   1490\n",
              "1     AL                    958\n",
              "23    RN                    858\n",
              "13    PB                    842\n",
              "10    MG                    806\n",
              "15    PI                    574\n",
              "20    SE                    554\n",
              "16    PR                    539\n",
              "6     DF                    509\n",
              "18    RS                    500\n",
              "24    RO                    467\n",
              "11    MT                    462\n",
              "3     AP                    394\n",
              "8     GO                    384\n",
              "0     AC                    335\n",
              "19    SC                    289\n",
              "25    RR                    271\n",
              "26    TO                    183\n",
              "22    MS                     61"
            ]
          },
          "metadata": {
            "tags": []
          },
          "execution_count": 49
        }
      ]
    },
    {
      "cell_type": "code",
      "metadata": {
        "id": "vmRtXC9wocvy",
        "colab_type": "code",
        "colab": {
          "base_uri": "https://localhost:8080/",
          "height": 593
        },
        "outputId": "883e11c9-002f-4145-9f36-ce2675931021"
      },
      "source": [
        "sns.set_style('darkgrid')\n",
        "plt.figure(figsize=(24,12))\n",
        "\n",
        "sns.barplot(x=dados_deaths.state, \n",
        "            y=dados_deaths.last_available_deaths,\n",
        "            palette=sns.color_palette('GnBu_d' ,n_colors=len(dados_deaths.state)))\n",
        "\n",
        "plt.title('Gráfico do Número de Mortes por Estados no Brasil')\n",
        "plt.xlabel('Estados do Brasil')\n",
        "plt.ylabel('Número de Mortes')\n",
        "plt.xticks(rotation=45)\n",
        "\n",
        "plt.show()"
      ],
      "execution_count": 50,
      "outputs": [
        {
          "output_type": "display_data",
          "data": {
            "image/png": "[encoded data removed]",
            "text/plain": [
              "<Figure size 1728x864 with 1 Axes>"
            ]
          },
          "metadata": {
            "tags": []
          }
        }
      ]
    }
  ]
}