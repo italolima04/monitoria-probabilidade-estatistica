{
  "nbformat": 4,
  "nbformat_minor": 0,
  "metadata": {
    "colab": {
      "name": "COVID-19.ipynb",
      "provenance": [],
      "collapsed_sections": [],
      "authorship_tag": "ABX9TyM/o6jINg5tAvffjbL2gUCK",
      "include_colab_link": true
    },
    "kernelspec": {
      "name": "python3",
      "display_name": "Python 3"
    }
  },
  "cells": [
    {
      "cell_type": "markdown",
      "metadata": {
        "id": "view-in-github",
        "colab_type": "text"
      },
      "source": [
        "<a href=\"https://colab.research.google.com/github/italolima04/monitoria-probabilidade-estatistica/blob/master/Pesquisa-PID/Estudo-Descritivo/COVID_19-Global.ipynb\" target=\"_parent\"><img src=\"https://colab.research.google.com/assets/colab-badge.svg\" alt=\"Open In Colab\"/></a>"
      ]
    },
    {
      "cell_type": "code",
      "metadata": {
        "id": "PbFWKlmmX2ex",
        "colab_type": "code",
        "colab": {}
      },
      "source": [
        "#Importando as Bibliotecas.\n",
        "import pandas as pd\n",
        "import numpy as np"
      ],
      "execution_count": 3,
      "outputs": []
    },
    {
      "cell_type": "markdown",
      "metadata": {
        "id": "wIwg30kTSs-a",
        "colab_type": "text"
      },
      "source": [
        "**Casos de COVID-19 no Mundo**\n"
      ]
    },
    {
      "cell_type": "code",
      "metadata": {
        "id": "1sWriJ_m2ves",
        "colab_type": "code",
        "colab": {}
      },
      "source": [
        "#Importando os Dados e Criando Data Frame a partir dos mesmos.\n",
        "url = 'https://raw.githubusercontent.com/CSSEGISandData/COVID-19/master/csse_covid_19_data/csse_covid_19_time_series/time_series_covid19_confirmed_global.csv'\n",
        "casos = pd.read_csv(url)"
      ],
      "execution_count": 4,
      "outputs": []
    },
    {
      "cell_type": "code",
      "metadata": {
        "id": "jch6ou00292U",
        "colab_type": "code",
        "colab": {
          "base_uri": "https://localhost:8080/",
          "height": 265
        },
        "outputId": "dc7746f5-7b8a-483d-de5b-53f8d6778feb"
      },
      "source": [
        "#Visualizando às últimas 5 linhas do Data Frame.\n",
        "casos.tail()"
      ],
      "execution_count": 5,
      "outputs": [
        {
          "output_type": "execute_result",
          "data": {
            "text/html": [
              "<div>\n",
              "<style scoped>\n",
              "    .dataframe tbody tr th:only-of-type {\n",
              "        vertical-align: middle;\n",
              "    }\n",
              "\n",
              "    .dataframe tbody tr th {\n",
              "        vertical-align: top;\n",
              "    }\n",
              "\n",
              "    .dataframe thead th {\n",
              "        text-align: right;\n",
              "    }\n",
              "</style>\n",
              "<table border=\"1\" class=\"dataframe\">\n",
              "  <thead>\n",
              "    <tr style=\"text-align: right;\">\n",
              "      <th></th>\n",
              "      <th>Province/State</th>\n",
              "      <th>Country/Region</th>\n",
              "      <th>Lat</th>\n",
              "      <th>Long</th>\n",
              "      <th>1/22/20</th>\n",
              "      <th>1/23/20</th>\n",
              "      <th>1/24/20</th>\n",
              "      <th>1/25/20</th>\n",
              "      <th>1/26/20</th>\n",
              "      <th>1/27/20</th>\n",
              "      <th>1/28/20</th>\n",
              "      <th>1/29/20</th>\n",
              "      <th>1/30/20</th>\n",
              "      <th>1/31/20</th>\n",
              "      <th>2/1/20</th>\n",
              "      <th>2/2/20</th>\n",
              "      <th>2/3/20</th>\n",
              "      <th>2/4/20</th>\n",
              "      <th>2/5/20</th>\n",
              "      <th>2/6/20</th>\n",
              "      <th>2/7/20</th>\n",
              "      <th>2/8/20</th>\n",
              "      <th>2/9/20</th>\n",
              "      <th>2/10/20</th>\n",
              "      <th>2/11/20</th>\n",
              "      <th>2/12/20</th>\n",
              "      <th>2/13/20</th>\n",
              "      <th>2/14/20</th>\n",
              "      <th>2/15/20</th>\n",
              "      <th>2/16/20</th>\n",
              "      <th>2/17/20</th>\n",
              "      <th>2/18/20</th>\n",
              "      <th>2/19/20</th>\n",
              "      <th>2/20/20</th>\n",
              "      <th>2/21/20</th>\n",
              "      <th>2/22/20</th>\n",
              "      <th>2/23/20</th>\n",
              "      <th>2/24/20</th>\n",
              "      <th>2/25/20</th>\n",
              "      <th>2/26/20</th>\n",
              "      <th>...</th>\n",
              "      <th>5/17/20</th>\n",
              "      <th>5/18/20</th>\n",
              "      <th>5/19/20</th>\n",
              "      <th>5/20/20</th>\n",
              "      <th>5/21/20</th>\n",
              "      <th>5/22/20</th>\n",
              "      <th>5/23/20</th>\n",
              "      <th>5/24/20</th>\n",
              "      <th>5/25/20</th>\n",
              "      <th>5/26/20</th>\n",
              "      <th>5/27/20</th>\n",
              "      <th>5/28/20</th>\n",
              "      <th>5/29/20</th>\n",
              "      <th>5/30/20</th>\n",
              "      <th>5/31/20</th>\n",
              "      <th>6/1/20</th>\n",
              "      <th>6/2/20</th>\n",
              "      <th>6/3/20</th>\n",
              "      <th>6/4/20</th>\n",
              "      <th>6/5/20</th>\n",
              "      <th>6/6/20</th>\n",
              "      <th>6/7/20</th>\n",
              "      <th>6/8/20</th>\n",
              "      <th>6/9/20</th>\n",
              "      <th>6/10/20</th>\n",
              "      <th>6/11/20</th>\n",
              "      <th>6/12/20</th>\n",
              "      <th>6/13/20</th>\n",
              "      <th>6/14/20</th>\n",
              "      <th>6/15/20</th>\n",
              "      <th>6/16/20</th>\n",
              "      <th>6/17/20</th>\n",
              "      <th>6/18/20</th>\n",
              "      <th>6/19/20</th>\n",
              "      <th>6/20/20</th>\n",
              "      <th>6/21/20</th>\n",
              "      <th>6/22/20</th>\n",
              "      <th>6/23/20</th>\n",
              "      <th>6/24/20</th>\n",
              "      <th>6/25/20</th>\n",
              "    </tr>\n",
              "  </thead>\n",
              "  <tbody>\n",
              "    <tr>\n",
              "      <th>261</th>\n",
              "      <td>NaN</td>\n",
              "      <td>Sao Tome and Principe</td>\n",
              "      <td>0.186360</td>\n",
              "      <td>6.613081</td>\n",
              "      <td>0</td>\n",
              "      <td>0</td>\n",
              "      <td>0</td>\n",
              "      <td>0</td>\n",
              "      <td>0</td>\n",
              "      <td>0</td>\n",
              "      <td>0</td>\n",
              "      <td>0</td>\n",
              "      <td>0</td>\n",
              "      <td>0</td>\n",
              "      <td>0</td>\n",
              "      <td>0</td>\n",
              "      <td>0</td>\n",
              "      <td>0</td>\n",
              "      <td>0</td>\n",
              "      <td>0</td>\n",
              "      <td>0</td>\n",
              "      <td>0</td>\n",
              "      <td>0</td>\n",
              "      <td>0</td>\n",
              "      <td>0</td>\n",
              "      <td>0</td>\n",
              "      <td>0</td>\n",
              "      <td>0</td>\n",
              "      <td>0</td>\n",
              "      <td>0</td>\n",
              "      <td>0</td>\n",
              "      <td>0</td>\n",
              "      <td>0</td>\n",
              "      <td>0</td>\n",
              "      <td>0</td>\n",
              "      <td>0</td>\n",
              "      <td>0</td>\n",
              "      <td>0</td>\n",
              "      <td>0</td>\n",
              "      <td>0</td>\n",
              "      <td>...</td>\n",
              "      <td>235</td>\n",
              "      <td>246</td>\n",
              "      <td>251</td>\n",
              "      <td>251</td>\n",
              "      <td>251</td>\n",
              "      <td>251</td>\n",
              "      <td>251</td>\n",
              "      <td>251</td>\n",
              "      <td>299</td>\n",
              "      <td>441</td>\n",
              "      <td>443</td>\n",
              "      <td>458</td>\n",
              "      <td>463</td>\n",
              "      <td>479</td>\n",
              "      <td>483</td>\n",
              "      <td>484</td>\n",
              "      <td>484</td>\n",
              "      <td>484</td>\n",
              "      <td>485</td>\n",
              "      <td>499</td>\n",
              "      <td>499</td>\n",
              "      <td>513</td>\n",
              "      <td>513</td>\n",
              "      <td>514</td>\n",
              "      <td>611</td>\n",
              "      <td>632</td>\n",
              "      <td>639</td>\n",
              "      <td>659</td>\n",
              "      <td>661</td>\n",
              "      <td>662</td>\n",
              "      <td>671</td>\n",
              "      <td>683</td>\n",
              "      <td>688</td>\n",
              "      <td>693</td>\n",
              "      <td>698</td>\n",
              "      <td>698</td>\n",
              "      <td>702</td>\n",
              "      <td>707</td>\n",
              "      <td>710</td>\n",
              "      <td>711</td>\n",
              "    </tr>\n",
              "    <tr>\n",
              "      <th>262</th>\n",
              "      <td>NaN</td>\n",
              "      <td>Yemen</td>\n",
              "      <td>15.552727</td>\n",
              "      <td>48.516388</td>\n",
              "      <td>0</td>\n",
              "      <td>0</td>\n",
              "      <td>0</td>\n",
              "      <td>0</td>\n",
              "      <td>0</td>\n",
              "      <td>0</td>\n",
              "      <td>0</td>\n",
              "      <td>0</td>\n",
              "      <td>0</td>\n",
              "      <td>0</td>\n",
              "      <td>0</td>\n",
              "      <td>0</td>\n",
              "      <td>0</td>\n",
              "      <td>0</td>\n",
              "      <td>0</td>\n",
              "      <td>0</td>\n",
              "      <td>0</td>\n",
              "      <td>0</td>\n",
              "      <td>0</td>\n",
              "      <td>0</td>\n",
              "      <td>0</td>\n",
              "      <td>0</td>\n",
              "      <td>0</td>\n",
              "      <td>0</td>\n",
              "      <td>0</td>\n",
              "      <td>0</td>\n",
              "      <td>0</td>\n",
              "      <td>0</td>\n",
              "      <td>0</td>\n",
              "      <td>0</td>\n",
              "      <td>0</td>\n",
              "      <td>0</td>\n",
              "      <td>0</td>\n",
              "      <td>0</td>\n",
              "      <td>0</td>\n",
              "      <td>0</td>\n",
              "      <td>...</td>\n",
              "      <td>128</td>\n",
              "      <td>130</td>\n",
              "      <td>167</td>\n",
              "      <td>184</td>\n",
              "      <td>197</td>\n",
              "      <td>209</td>\n",
              "      <td>212</td>\n",
              "      <td>222</td>\n",
              "      <td>233</td>\n",
              "      <td>249</td>\n",
              "      <td>256</td>\n",
              "      <td>278</td>\n",
              "      <td>283</td>\n",
              "      <td>310</td>\n",
              "      <td>323</td>\n",
              "      <td>354</td>\n",
              "      <td>399</td>\n",
              "      <td>419</td>\n",
              "      <td>453</td>\n",
              "      <td>469</td>\n",
              "      <td>482</td>\n",
              "      <td>484</td>\n",
              "      <td>496</td>\n",
              "      <td>524</td>\n",
              "      <td>560</td>\n",
              "      <td>591</td>\n",
              "      <td>632</td>\n",
              "      <td>705</td>\n",
              "      <td>728</td>\n",
              "      <td>844</td>\n",
              "      <td>885</td>\n",
              "      <td>902</td>\n",
              "      <td>909</td>\n",
              "      <td>919</td>\n",
              "      <td>922</td>\n",
              "      <td>941</td>\n",
              "      <td>967</td>\n",
              "      <td>992</td>\n",
              "      <td>1015</td>\n",
              "      <td>1076</td>\n",
              "    </tr>\n",
              "    <tr>\n",
              "      <th>263</th>\n",
              "      <td>NaN</td>\n",
              "      <td>Comoros</td>\n",
              "      <td>-11.645500</td>\n",
              "      <td>43.333300</td>\n",
              "      <td>0</td>\n",
              "      <td>0</td>\n",
              "      <td>0</td>\n",
              "      <td>0</td>\n",
              "      <td>0</td>\n",
              "      <td>0</td>\n",
              "      <td>0</td>\n",
              "      <td>0</td>\n",
              "      <td>0</td>\n",
              "      <td>0</td>\n",
              "      <td>0</td>\n",
              "      <td>0</td>\n",
              "      <td>0</td>\n",
              "      <td>0</td>\n",
              "      <td>0</td>\n",
              "      <td>0</td>\n",
              "      <td>0</td>\n",
              "      <td>0</td>\n",
              "      <td>0</td>\n",
              "      <td>0</td>\n",
              "      <td>0</td>\n",
              "      <td>0</td>\n",
              "      <td>0</td>\n",
              "      <td>0</td>\n",
              "      <td>0</td>\n",
              "      <td>0</td>\n",
              "      <td>0</td>\n",
              "      <td>0</td>\n",
              "      <td>0</td>\n",
              "      <td>0</td>\n",
              "      <td>0</td>\n",
              "      <td>0</td>\n",
              "      <td>0</td>\n",
              "      <td>0</td>\n",
              "      <td>0</td>\n",
              "      <td>0</td>\n",
              "      <td>...</td>\n",
              "      <td>11</td>\n",
              "      <td>11</td>\n",
              "      <td>11</td>\n",
              "      <td>34</td>\n",
              "      <td>34</td>\n",
              "      <td>78</td>\n",
              "      <td>78</td>\n",
              "      <td>87</td>\n",
              "      <td>87</td>\n",
              "      <td>87</td>\n",
              "      <td>87</td>\n",
              "      <td>87</td>\n",
              "      <td>87</td>\n",
              "      <td>106</td>\n",
              "      <td>106</td>\n",
              "      <td>106</td>\n",
              "      <td>132</td>\n",
              "      <td>132</td>\n",
              "      <td>132</td>\n",
              "      <td>132</td>\n",
              "      <td>141</td>\n",
              "      <td>141</td>\n",
              "      <td>141</td>\n",
              "      <td>141</td>\n",
              "      <td>162</td>\n",
              "      <td>162</td>\n",
              "      <td>163</td>\n",
              "      <td>176</td>\n",
              "      <td>176</td>\n",
              "      <td>176</td>\n",
              "      <td>197</td>\n",
              "      <td>197</td>\n",
              "      <td>210</td>\n",
              "      <td>210</td>\n",
              "      <td>247</td>\n",
              "      <td>247</td>\n",
              "      <td>247</td>\n",
              "      <td>265</td>\n",
              "      <td>265</td>\n",
              "      <td>272</td>\n",
              "    </tr>\n",
              "    <tr>\n",
              "      <th>264</th>\n",
              "      <td>NaN</td>\n",
              "      <td>Tajikistan</td>\n",
              "      <td>38.861034</td>\n",
              "      <td>71.276093</td>\n",
              "      <td>0</td>\n",
              "      <td>0</td>\n",
              "      <td>0</td>\n",
              "      <td>0</td>\n",
              "      <td>0</td>\n",
              "      <td>0</td>\n",
              "      <td>0</td>\n",
              "      <td>0</td>\n",
              "      <td>0</td>\n",
              "      <td>0</td>\n",
              "      <td>0</td>\n",
              "      <td>0</td>\n",
              "      <td>0</td>\n",
              "      <td>0</td>\n",
              "      <td>0</td>\n",
              "      <td>0</td>\n",
              "      <td>0</td>\n",
              "      <td>0</td>\n",
              "      <td>0</td>\n",
              "      <td>0</td>\n",
              "      <td>0</td>\n",
              "      <td>0</td>\n",
              "      <td>0</td>\n",
              "      <td>0</td>\n",
              "      <td>0</td>\n",
              "      <td>0</td>\n",
              "      <td>0</td>\n",
              "      <td>0</td>\n",
              "      <td>0</td>\n",
              "      <td>0</td>\n",
              "      <td>0</td>\n",
              "      <td>0</td>\n",
              "      <td>0</td>\n",
              "      <td>0</td>\n",
              "      <td>0</td>\n",
              "      <td>0</td>\n",
              "      <td>...</td>\n",
              "      <td>1524</td>\n",
              "      <td>1729</td>\n",
              "      <td>1936</td>\n",
              "      <td>2140</td>\n",
              "      <td>2350</td>\n",
              "      <td>2551</td>\n",
              "      <td>2738</td>\n",
              "      <td>2929</td>\n",
              "      <td>3100</td>\n",
              "      <td>3266</td>\n",
              "      <td>3424</td>\n",
              "      <td>3563</td>\n",
              "      <td>3686</td>\n",
              "      <td>3807</td>\n",
              "      <td>3930</td>\n",
              "      <td>4013</td>\n",
              "      <td>4100</td>\n",
              "      <td>4191</td>\n",
              "      <td>4289</td>\n",
              "      <td>4370</td>\n",
              "      <td>4453</td>\n",
              "      <td>4529</td>\n",
              "      <td>4609</td>\n",
              "      <td>4690</td>\n",
              "      <td>4763</td>\n",
              "      <td>4834</td>\n",
              "      <td>4902</td>\n",
              "      <td>4971</td>\n",
              "      <td>5035</td>\n",
              "      <td>5097</td>\n",
              "      <td>5160</td>\n",
              "      <td>5221</td>\n",
              "      <td>5279</td>\n",
              "      <td>5338</td>\n",
              "      <td>5399</td>\n",
              "      <td>5457</td>\n",
              "      <td>5513</td>\n",
              "      <td>5567</td>\n",
              "      <td>5630</td>\n",
              "      <td>5691</td>\n",
              "    </tr>\n",
              "    <tr>\n",
              "      <th>265</th>\n",
              "      <td>NaN</td>\n",
              "      <td>Lesotho</td>\n",
              "      <td>-29.609988</td>\n",
              "      <td>28.233608</td>\n",
              "      <td>0</td>\n",
              "      <td>0</td>\n",
              "      <td>0</td>\n",
              "      <td>0</td>\n",
              "      <td>0</td>\n",
              "      <td>0</td>\n",
              "      <td>0</td>\n",
              "      <td>0</td>\n",
              "      <td>0</td>\n",
              "      <td>0</td>\n",
              "      <td>0</td>\n",
              "      <td>0</td>\n",
              "      <td>0</td>\n",
              "      <td>0</td>\n",
              "      <td>0</td>\n",
              "      <td>0</td>\n",
              "      <td>0</td>\n",
              "      <td>0</td>\n",
              "      <td>0</td>\n",
              "      <td>0</td>\n",
              "      <td>0</td>\n",
              "      <td>0</td>\n",
              "      <td>0</td>\n",
              "      <td>0</td>\n",
              "      <td>0</td>\n",
              "      <td>0</td>\n",
              "      <td>0</td>\n",
              "      <td>0</td>\n",
              "      <td>0</td>\n",
              "      <td>0</td>\n",
              "      <td>0</td>\n",
              "      <td>0</td>\n",
              "      <td>0</td>\n",
              "      <td>0</td>\n",
              "      <td>0</td>\n",
              "      <td>0</td>\n",
              "      <td>...</td>\n",
              "      <td>1</td>\n",
              "      <td>1</td>\n",
              "      <td>1</td>\n",
              "      <td>1</td>\n",
              "      <td>1</td>\n",
              "      <td>2</td>\n",
              "      <td>2</td>\n",
              "      <td>2</td>\n",
              "      <td>2</td>\n",
              "      <td>2</td>\n",
              "      <td>2</td>\n",
              "      <td>2</td>\n",
              "      <td>2</td>\n",
              "      <td>2</td>\n",
              "      <td>2</td>\n",
              "      <td>2</td>\n",
              "      <td>2</td>\n",
              "      <td>4</td>\n",
              "      <td>4</td>\n",
              "      <td>4</td>\n",
              "      <td>4</td>\n",
              "      <td>4</td>\n",
              "      <td>4</td>\n",
              "      <td>4</td>\n",
              "      <td>4</td>\n",
              "      <td>4</td>\n",
              "      <td>4</td>\n",
              "      <td>4</td>\n",
              "      <td>4</td>\n",
              "      <td>4</td>\n",
              "      <td>4</td>\n",
              "      <td>4</td>\n",
              "      <td>4</td>\n",
              "      <td>4</td>\n",
              "      <td>4</td>\n",
              "      <td>4</td>\n",
              "      <td>12</td>\n",
              "      <td>17</td>\n",
              "      <td>17</td>\n",
              "      <td>17</td>\n",
              "    </tr>\n",
              "  </tbody>\n",
              "</table>\n",
              "<p>5 rows × 160 columns</p>\n",
              "</div>"
            ],
            "text/plain": [
              "    Province/State         Country/Region        Lat  ...  6/23/20  6/24/20  6/25/20\n",
              "261            NaN  Sao Tome and Principe   0.186360  ...      707      710      711\n",
              "262            NaN                  Yemen  15.552727  ...      992     1015     1076\n",
              "263            NaN                Comoros -11.645500  ...      265      265      272\n",
              "264            NaN             Tajikistan  38.861034  ...     5567     5630     5691\n",
              "265            NaN                Lesotho -29.609988  ...       17       17       17\n",
              "\n",
              "[5 rows x 160 columns]"
            ]
          },
          "metadata": {
            "tags": []
          },
          "execution_count": 5
        }
      ]
    },
    {
      "cell_type": "markdown",
      "metadata": {
        "id": "DmbbsusCCBz1",
        "colab_type": "text"
      },
      "source": [
        "**Verificando Estrutura dos Dados**"
      ]
    },
    {
      "cell_type": "code",
      "metadata": {
        "id": "82wC1ytz4QRB",
        "colab_type": "code",
        "colab": {
          "base_uri": "https://localhost:8080/",
          "height": 35
        },
        "outputId": "63d5d2e2-eadd-4dfa-a05c-b05856892bb6"
      },
      "source": [
        "casos.shape"
      ],
      "execution_count": 6,
      "outputs": [
        {
          "output_type": "execute_result",
          "data": {
            "text/plain": [
              "(266, 160)"
            ]
          },
          "metadata": {
            "tags": []
          },
          "execution_count": 6
        }
      ]
    },
    {
      "cell_type": "code",
      "metadata": {
        "id": "C5geRZlH3eGE",
        "colab_type": "code",
        "colab": {
          "base_uri": "https://localhost:8080/",
          "height": 217
        },
        "outputId": "6e454da2-5267-4b76-caef-e3a4342d82cd"
      },
      "source": [
        "#Função que filtra as colunas que quero analisar (retirando as 4 primeiras, pois inicialmente não há interesse na distinção do local).\n",
        "casos = np.sum(casos.iloc[ : , 4: casos.shape[1]])\n",
        "casos.index = pd.DatetimeIndex(casos.index)\n",
        "casos.tail(10)"
      ],
      "execution_count": 7,
      "outputs": [
        {
          "output_type": "execute_result",
          "data": {
            "text/plain": [
              "2020-06-16    8173940\n",
              "2020-06-17    8349950\n",
              "2020-06-18    8488976\n",
              "2020-06-19    8670323\n",
              "2020-06-20    8829186\n",
              "2020-06-21    8960607\n",
              "2020-06-22    9098643\n",
              "2020-06-23    9263935\n",
              "2020-06-24    9431350\n",
              "2020-06-25    9609829\n",
              "dtype: int64"
            ]
          },
          "metadata": {
            "tags": []
          },
          "execution_count": 7
        }
      ]
    },
    {
      "cell_type": "code",
      "metadata": {
        "id": "G4Ac0s4C4PzW",
        "colab_type": "code",
        "colab": {
          "base_uri": "https://localhost:8080/",
          "height": 306
        },
        "outputId": "6d0e7436-4d27-498e-c46b-c234a63bb1bc"
      },
      "source": [
        "#Plotando Gráfico Linear p/ os casos.\n",
        "casos.plot()"
      ],
      "execution_count": 8,
      "outputs": [
        {
          "output_type": "execute_result",
          "data": {
            "text/plain": [
              "<matplotlib.axes._subplots.AxesSubplot at 0x7f0c77880c88>"
            ]
          },
          "metadata": {
            "tags": []
          },
          "execution_count": 8
        },
        {
          "output_type": "display_data",
          "data": {
            "image/png": "[encoded data removed]",
            "text/plain": [
              "<Figure size 432x288 with 1 Axes>"
            ]
          },
          "metadata": {
            "tags": [],
            "needs_background": "light"
          }
        }
      ]
    },
    {
      "cell_type": "markdown",
      "metadata": {
        "id": "NMW-V8INS5Hq",
        "colab_type": "text"
      },
      "source": [
        "**Mortes por COVID-19 no Mundo**\n",
        "\n",
        "\n"
      ]
    },
    {
      "cell_type": "markdown",
      "metadata": {
        "id": "Oa4EkVN2-GSZ",
        "colab_type": "text"
      },
      "source": [
        "**Repetindo o mesmo Processo para as mortes.**"
      ]
    },
    {
      "cell_type": "code",
      "metadata": {
        "id": "f6BVfCRR3eOE",
        "colab_type": "code",
        "colab": {}
      },
      "source": [
        "mortes = pd.read_csv('https://raw.githubusercontent.com/CSSEGISandData/COVID-19/master/csse_covid_19_data/csse_covid_19_time_series/time_series_covid19_deaths_global.csv')"
      ],
      "execution_count": 9,
      "outputs": []
    },
    {
      "cell_type": "code",
      "metadata": {
        "id": "jWu9ZVt-3eE5",
        "colab_type": "code",
        "colab": {
          "base_uri": "https://localhost:8080/",
          "height": 265
        },
        "outputId": "8ff13cc1-66e2-47bc-e9c8-755bfba9db93"
      },
      "source": [
        "mortes.tail()"
      ],
      "execution_count": 10,
      "outputs": [
        {
          "output_type": "execute_result",
          "data": {
            "text/html": [
              "<div>\n",
              "<style scoped>\n",
              "    .dataframe tbody tr th:only-of-type {\n",
              "        vertical-align: middle;\n",
              "    }\n",
              "\n",
              "    .dataframe tbody tr th {\n",
              "        vertical-align: top;\n",
              "    }\n",
              "\n",
              "    .dataframe thead th {\n",
              "        text-align: right;\n",
              "    }\n",
              "</style>\n",
              "<table border=\"1\" class=\"dataframe\">\n",
              "  <thead>\n",
              "    <tr style=\"text-align: right;\">\n",
              "      <th></th>\n",
              "      <th>Province/State</th>\n",
              "      <th>Country/Region</th>\n",
              "      <th>Lat</th>\n",
              "      <th>Long</th>\n",
              "      <th>1/22/20</th>\n",
              "      <th>1/23/20</th>\n",
              "      <th>1/24/20</th>\n",
              "      <th>1/25/20</th>\n",
              "      <th>1/26/20</th>\n",
              "      <th>1/27/20</th>\n",
              "      <th>1/28/20</th>\n",
              "      <th>1/29/20</th>\n",
              "      <th>1/30/20</th>\n",
              "      <th>1/31/20</th>\n",
              "      <th>2/1/20</th>\n",
              "      <th>2/2/20</th>\n",
              "      <th>2/3/20</th>\n",
              "      <th>2/4/20</th>\n",
              "      <th>2/5/20</th>\n",
              "      <th>2/6/20</th>\n",
              "      <th>2/7/20</th>\n",
              "      <th>2/8/20</th>\n",
              "      <th>2/9/20</th>\n",
              "      <th>2/10/20</th>\n",
              "      <th>2/11/20</th>\n",
              "      <th>2/12/20</th>\n",
              "      <th>2/13/20</th>\n",
              "      <th>2/14/20</th>\n",
              "      <th>2/15/20</th>\n",
              "      <th>2/16/20</th>\n",
              "      <th>2/17/20</th>\n",
              "      <th>2/18/20</th>\n",
              "      <th>2/19/20</th>\n",
              "      <th>2/20/20</th>\n",
              "      <th>2/21/20</th>\n",
              "      <th>2/22/20</th>\n",
              "      <th>2/23/20</th>\n",
              "      <th>2/24/20</th>\n",
              "      <th>2/25/20</th>\n",
              "      <th>2/26/20</th>\n",
              "      <th>...</th>\n",
              "      <th>5/17/20</th>\n",
              "      <th>5/18/20</th>\n",
              "      <th>5/19/20</th>\n",
              "      <th>5/20/20</th>\n",
              "      <th>5/21/20</th>\n",
              "      <th>5/22/20</th>\n",
              "      <th>5/23/20</th>\n",
              "      <th>5/24/20</th>\n",
              "      <th>5/25/20</th>\n",
              "      <th>5/26/20</th>\n",
              "      <th>5/27/20</th>\n",
              "      <th>5/28/20</th>\n",
              "      <th>5/29/20</th>\n",
              "      <th>5/30/20</th>\n",
              "      <th>5/31/20</th>\n",
              "      <th>6/1/20</th>\n",
              "      <th>6/2/20</th>\n",
              "      <th>6/3/20</th>\n",
              "      <th>6/4/20</th>\n",
              "      <th>6/5/20</th>\n",
              "      <th>6/6/20</th>\n",
              "      <th>6/7/20</th>\n",
              "      <th>6/8/20</th>\n",
              "      <th>6/9/20</th>\n",
              "      <th>6/10/20</th>\n",
              "      <th>6/11/20</th>\n",
              "      <th>6/12/20</th>\n",
              "      <th>6/13/20</th>\n",
              "      <th>6/14/20</th>\n",
              "      <th>6/15/20</th>\n",
              "      <th>6/16/20</th>\n",
              "      <th>6/17/20</th>\n",
              "      <th>6/18/20</th>\n",
              "      <th>6/19/20</th>\n",
              "      <th>6/20/20</th>\n",
              "      <th>6/21/20</th>\n",
              "      <th>6/22/20</th>\n",
              "      <th>6/23/20</th>\n",
              "      <th>6/24/20</th>\n",
              "      <th>6/25/20</th>\n",
              "    </tr>\n",
              "  </thead>\n",
              "  <tbody>\n",
              "    <tr>\n",
              "      <th>261</th>\n",
              "      <td>NaN</td>\n",
              "      <td>Sao Tome and Principe</td>\n",
              "      <td>0.186360</td>\n",
              "      <td>6.613081</td>\n",
              "      <td>0</td>\n",
              "      <td>0</td>\n",
              "      <td>0</td>\n",
              "      <td>0</td>\n",
              "      <td>0</td>\n",
              "      <td>0</td>\n",
              "      <td>0</td>\n",
              "      <td>0</td>\n",
              "      <td>0</td>\n",
              "      <td>0</td>\n",
              "      <td>0</td>\n",
              "      <td>0</td>\n",
              "      <td>0</td>\n",
              "      <td>0</td>\n",
              "      <td>0</td>\n",
              "      <td>0</td>\n",
              "      <td>0</td>\n",
              "      <td>0</td>\n",
              "      <td>0</td>\n",
              "      <td>0</td>\n",
              "      <td>0</td>\n",
              "      <td>0</td>\n",
              "      <td>0</td>\n",
              "      <td>0</td>\n",
              "      <td>0</td>\n",
              "      <td>0</td>\n",
              "      <td>0</td>\n",
              "      <td>0</td>\n",
              "      <td>0</td>\n",
              "      <td>0</td>\n",
              "      <td>0</td>\n",
              "      <td>0</td>\n",
              "      <td>0</td>\n",
              "      <td>0</td>\n",
              "      <td>0</td>\n",
              "      <td>0</td>\n",
              "      <td>...</td>\n",
              "      <td>7</td>\n",
              "      <td>7</td>\n",
              "      <td>8</td>\n",
              "      <td>8</td>\n",
              "      <td>8</td>\n",
              "      <td>8</td>\n",
              "      <td>8</td>\n",
              "      <td>8</td>\n",
              "      <td>11</td>\n",
              "      <td>12</td>\n",
              "      <td>12</td>\n",
              "      <td>12</td>\n",
              "      <td>12</td>\n",
              "      <td>12</td>\n",
              "      <td>12</td>\n",
              "      <td>12</td>\n",
              "      <td>12</td>\n",
              "      <td>12</td>\n",
              "      <td>12</td>\n",
              "      <td>12</td>\n",
              "      <td>12</td>\n",
              "      <td>12</td>\n",
              "      <td>12</td>\n",
              "      <td>12</td>\n",
              "      <td>12</td>\n",
              "      <td>12</td>\n",
              "      <td>12</td>\n",
              "      <td>12</td>\n",
              "      <td>12</td>\n",
              "      <td>12</td>\n",
              "      <td>12</td>\n",
              "      <td>12</td>\n",
              "      <td>12</td>\n",
              "      <td>12</td>\n",
              "      <td>12</td>\n",
              "      <td>12</td>\n",
              "      <td>12</td>\n",
              "      <td>12</td>\n",
              "      <td>13</td>\n",
              "      <td>13</td>\n",
              "    </tr>\n",
              "    <tr>\n",
              "      <th>262</th>\n",
              "      <td>NaN</td>\n",
              "      <td>Yemen</td>\n",
              "      <td>15.552727</td>\n",
              "      <td>48.516388</td>\n",
              "      <td>0</td>\n",
              "      <td>0</td>\n",
              "      <td>0</td>\n",
              "      <td>0</td>\n",
              "      <td>0</td>\n",
              "      <td>0</td>\n",
              "      <td>0</td>\n",
              "      <td>0</td>\n",
              "      <td>0</td>\n",
              "      <td>0</td>\n",
              "      <td>0</td>\n",
              "      <td>0</td>\n",
              "      <td>0</td>\n",
              "      <td>0</td>\n",
              "      <td>0</td>\n",
              "      <td>0</td>\n",
              "      <td>0</td>\n",
              "      <td>0</td>\n",
              "      <td>0</td>\n",
              "      <td>0</td>\n",
              "      <td>0</td>\n",
              "      <td>0</td>\n",
              "      <td>0</td>\n",
              "      <td>0</td>\n",
              "      <td>0</td>\n",
              "      <td>0</td>\n",
              "      <td>0</td>\n",
              "      <td>0</td>\n",
              "      <td>0</td>\n",
              "      <td>0</td>\n",
              "      <td>0</td>\n",
              "      <td>0</td>\n",
              "      <td>0</td>\n",
              "      <td>0</td>\n",
              "      <td>0</td>\n",
              "      <td>0</td>\n",
              "      <td>...</td>\n",
              "      <td>20</td>\n",
              "      <td>20</td>\n",
              "      <td>28</td>\n",
              "      <td>30</td>\n",
              "      <td>33</td>\n",
              "      <td>33</td>\n",
              "      <td>39</td>\n",
              "      <td>42</td>\n",
              "      <td>44</td>\n",
              "      <td>49</td>\n",
              "      <td>53</td>\n",
              "      <td>57</td>\n",
              "      <td>65</td>\n",
              "      <td>77</td>\n",
              "      <td>80</td>\n",
              "      <td>84</td>\n",
              "      <td>87</td>\n",
              "      <td>95</td>\n",
              "      <td>103</td>\n",
              "      <td>111</td>\n",
              "      <td>111</td>\n",
              "      <td>112</td>\n",
              "      <td>112</td>\n",
              "      <td>127</td>\n",
              "      <td>129</td>\n",
              "      <td>136</td>\n",
              "      <td>139</td>\n",
              "      <td>160</td>\n",
              "      <td>164</td>\n",
              "      <td>208</td>\n",
              "      <td>214</td>\n",
              "      <td>244</td>\n",
              "      <td>248</td>\n",
              "      <td>251</td>\n",
              "      <td>254</td>\n",
              "      <td>256</td>\n",
              "      <td>257</td>\n",
              "      <td>261</td>\n",
              "      <td>274</td>\n",
              "      <td>288</td>\n",
              "    </tr>\n",
              "    <tr>\n",
              "      <th>263</th>\n",
              "      <td>NaN</td>\n",
              "      <td>Comoros</td>\n",
              "      <td>-11.645500</td>\n",
              "      <td>43.333300</td>\n",
              "      <td>0</td>\n",
              "      <td>0</td>\n",
              "      <td>0</td>\n",
              "      <td>0</td>\n",
              "      <td>0</td>\n",
              "      <td>0</td>\n",
              "      <td>0</td>\n",
              "      <td>0</td>\n",
              "      <td>0</td>\n",
              "      <td>0</td>\n",
              "      <td>0</td>\n",
              "      <td>0</td>\n",
              "      <td>0</td>\n",
              "      <td>0</td>\n",
              "      <td>0</td>\n",
              "      <td>0</td>\n",
              "      <td>0</td>\n",
              "      <td>0</td>\n",
              "      <td>0</td>\n",
              "      <td>0</td>\n",
              "      <td>0</td>\n",
              "      <td>0</td>\n",
              "      <td>0</td>\n",
              "      <td>0</td>\n",
              "      <td>0</td>\n",
              "      <td>0</td>\n",
              "      <td>0</td>\n",
              "      <td>0</td>\n",
              "      <td>0</td>\n",
              "      <td>0</td>\n",
              "      <td>0</td>\n",
              "      <td>0</td>\n",
              "      <td>0</td>\n",
              "      <td>0</td>\n",
              "      <td>0</td>\n",
              "      <td>0</td>\n",
              "      <td>...</td>\n",
              "      <td>1</td>\n",
              "      <td>1</td>\n",
              "      <td>1</td>\n",
              "      <td>1</td>\n",
              "      <td>1</td>\n",
              "      <td>1</td>\n",
              "      <td>1</td>\n",
              "      <td>1</td>\n",
              "      <td>1</td>\n",
              "      <td>1</td>\n",
              "      <td>2</td>\n",
              "      <td>2</td>\n",
              "      <td>2</td>\n",
              "      <td>2</td>\n",
              "      <td>2</td>\n",
              "      <td>2</td>\n",
              "      <td>2</td>\n",
              "      <td>2</td>\n",
              "      <td>2</td>\n",
              "      <td>2</td>\n",
              "      <td>2</td>\n",
              "      <td>2</td>\n",
              "      <td>2</td>\n",
              "      <td>2</td>\n",
              "      <td>2</td>\n",
              "      <td>2</td>\n",
              "      <td>2</td>\n",
              "      <td>2</td>\n",
              "      <td>2</td>\n",
              "      <td>2</td>\n",
              "      <td>3</td>\n",
              "      <td>3</td>\n",
              "      <td>5</td>\n",
              "      <td>5</td>\n",
              "      <td>5</td>\n",
              "      <td>5</td>\n",
              "      <td>5</td>\n",
              "      <td>7</td>\n",
              "      <td>7</td>\n",
              "      <td>7</td>\n",
              "    </tr>\n",
              "    <tr>\n",
              "      <th>264</th>\n",
              "      <td>NaN</td>\n",
              "      <td>Tajikistan</td>\n",
              "      <td>38.861034</td>\n",
              "      <td>71.276093</td>\n",
              "      <td>0</td>\n",
              "      <td>0</td>\n",
              "      <td>0</td>\n",
              "      <td>0</td>\n",
              "      <td>0</td>\n",
              "      <td>0</td>\n",
              "      <td>0</td>\n",
              "      <td>0</td>\n",
              "      <td>0</td>\n",
              "      <td>0</td>\n",
              "      <td>0</td>\n",
              "      <td>0</td>\n",
              "      <td>0</td>\n",
              "      <td>0</td>\n",
              "      <td>0</td>\n",
              "      <td>0</td>\n",
              "      <td>0</td>\n",
              "      <td>0</td>\n",
              "      <td>0</td>\n",
              "      <td>0</td>\n",
              "      <td>0</td>\n",
              "      <td>0</td>\n",
              "      <td>0</td>\n",
              "      <td>0</td>\n",
              "      <td>0</td>\n",
              "      <td>0</td>\n",
              "      <td>0</td>\n",
              "      <td>0</td>\n",
              "      <td>0</td>\n",
              "      <td>0</td>\n",
              "      <td>0</td>\n",
              "      <td>0</td>\n",
              "      <td>0</td>\n",
              "      <td>0</td>\n",
              "      <td>0</td>\n",
              "      <td>0</td>\n",
              "      <td>...</td>\n",
              "      <td>39</td>\n",
              "      <td>41</td>\n",
              "      <td>41</td>\n",
              "      <td>41</td>\n",
              "      <td>44</td>\n",
              "      <td>44</td>\n",
              "      <td>44</td>\n",
              "      <td>46</td>\n",
              "      <td>46</td>\n",
              "      <td>47</td>\n",
              "      <td>47</td>\n",
              "      <td>47</td>\n",
              "      <td>47</td>\n",
              "      <td>47</td>\n",
              "      <td>47</td>\n",
              "      <td>47</td>\n",
              "      <td>47</td>\n",
              "      <td>48</td>\n",
              "      <td>48</td>\n",
              "      <td>48</td>\n",
              "      <td>48</td>\n",
              "      <td>48</td>\n",
              "      <td>48</td>\n",
              "      <td>48</td>\n",
              "      <td>48</td>\n",
              "      <td>49</td>\n",
              "      <td>49</td>\n",
              "      <td>50</td>\n",
              "      <td>50</td>\n",
              "      <td>50</td>\n",
              "      <td>50</td>\n",
              "      <td>51</td>\n",
              "      <td>51</td>\n",
              "      <td>51</td>\n",
              "      <td>52</td>\n",
              "      <td>52</td>\n",
              "      <td>52</td>\n",
              "      <td>52</td>\n",
              "      <td>52</td>\n",
              "      <td>52</td>\n",
              "    </tr>\n",
              "    <tr>\n",
              "      <th>265</th>\n",
              "      <td>NaN</td>\n",
              "      <td>Lesotho</td>\n",
              "      <td>-29.609988</td>\n",
              "      <td>28.233608</td>\n",
              "      <td>0</td>\n",
              "      <td>0</td>\n",
              "      <td>0</td>\n",
              "      <td>0</td>\n",
              "      <td>0</td>\n",
              "      <td>0</td>\n",
              "      <td>0</td>\n",
              "      <td>0</td>\n",
              "      <td>0</td>\n",
              "      <td>0</td>\n",
              "      <td>0</td>\n",
              "      <td>0</td>\n",
              "      <td>0</td>\n",
              "      <td>0</td>\n",
              "      <td>0</td>\n",
              "      <td>0</td>\n",
              "      <td>0</td>\n",
              "      <td>0</td>\n",
              "      <td>0</td>\n",
              "      <td>0</td>\n",
              "      <td>0</td>\n",
              "      <td>0</td>\n",
              "      <td>0</td>\n",
              "      <td>0</td>\n",
              "      <td>0</td>\n",
              "      <td>0</td>\n",
              "      <td>0</td>\n",
              "      <td>0</td>\n",
              "      <td>0</td>\n",
              "      <td>0</td>\n",
              "      <td>0</td>\n",
              "      <td>0</td>\n",
              "      <td>0</td>\n",
              "      <td>0</td>\n",
              "      <td>0</td>\n",
              "      <td>0</td>\n",
              "      <td>...</td>\n",
              "      <td>0</td>\n",
              "      <td>0</td>\n",
              "      <td>0</td>\n",
              "      <td>0</td>\n",
              "      <td>0</td>\n",
              "      <td>0</td>\n",
              "      <td>0</td>\n",
              "      <td>0</td>\n",
              "      <td>0</td>\n",
              "      <td>0</td>\n",
              "      <td>0</td>\n",
              "      <td>0</td>\n",
              "      <td>0</td>\n",
              "      <td>0</td>\n",
              "      <td>0</td>\n",
              "      <td>0</td>\n",
              "      <td>0</td>\n",
              "      <td>0</td>\n",
              "      <td>0</td>\n",
              "      <td>0</td>\n",
              "      <td>0</td>\n",
              "      <td>0</td>\n",
              "      <td>0</td>\n",
              "      <td>0</td>\n",
              "      <td>0</td>\n",
              "      <td>0</td>\n",
              "      <td>0</td>\n",
              "      <td>0</td>\n",
              "      <td>0</td>\n",
              "      <td>0</td>\n",
              "      <td>0</td>\n",
              "      <td>0</td>\n",
              "      <td>0</td>\n",
              "      <td>0</td>\n",
              "      <td>0</td>\n",
              "      <td>0</td>\n",
              "      <td>0</td>\n",
              "      <td>0</td>\n",
              "      <td>0</td>\n",
              "      <td>0</td>\n",
              "    </tr>\n",
              "  </tbody>\n",
              "</table>\n",
              "<p>5 rows × 160 columns</p>\n",
              "</div>"
            ],
            "text/plain": [
              "    Province/State         Country/Region        Lat  ...  6/23/20  6/24/20  6/25/20\n",
              "261            NaN  Sao Tome and Principe   0.186360  ...       12       13       13\n",
              "262            NaN                  Yemen  15.552727  ...      261      274      288\n",
              "263            NaN                Comoros -11.645500  ...        7        7        7\n",
              "264            NaN             Tajikistan  38.861034  ...       52       52       52\n",
              "265            NaN                Lesotho -29.609988  ...        0        0        0\n",
              "\n",
              "[5 rows x 160 columns]"
            ]
          },
          "metadata": {
            "tags": []
          },
          "execution_count": 10
        }
      ]
    },
    {
      "cell_type": "code",
      "metadata": {
        "id": "nxe8I5Ru3lG-",
        "colab_type": "code",
        "colab": {
          "base_uri": "https://localhost:8080/",
          "height": 35
        },
        "outputId": "11add25b-a29a-4160-86f9-85fd2bfe869d"
      },
      "source": [
        "mortes.shape"
      ],
      "execution_count": 11,
      "outputs": [
        {
          "output_type": "execute_result",
          "data": {
            "text/plain": [
              "(266, 160)"
            ]
          },
          "metadata": {
            "tags": []
          },
          "execution_count": 11
        }
      ]
    },
    {
      "cell_type": "code",
      "metadata": {
        "id": "FZuw-cu-DvKs",
        "colab_type": "code",
        "colab": {
          "base_uri": "https://localhost:8080/",
          "height": 217
        },
        "outputId": "e826cb8b-353c-4432-c12e-3fb8a7ecf34f"
      },
      "source": [
        "mortes = np.sum(mortes.iloc[ : , 4: mortes.shape[1]])\n",
        "mortes.index = pd.DatetimeIndex(mortes.index)\n",
        "mortes.tail(10)"
      ],
      "execution_count": 12,
      "outputs": [
        {
          "output_type": "execute_result",
          "data": {
            "text/plain": [
              "2020-06-16    443685\n",
              "2020-06-17    448959\n",
              "2020-06-18    453979\n",
              "2020-06-19    460268\n",
              "2020-06-20    464522\n",
              "2020-06-21    468583\n",
              "2020-06-22    472171\n",
              "2020-06-23    477587\n",
              "2020-06-24    482758\n",
              "2020-06-25    489312\n",
              "dtype: int64"
            ]
          },
          "metadata": {
            "tags": []
          },
          "execution_count": 12
        }
      ]
    },
    {
      "cell_type": "code",
      "metadata": {
        "id": "JPt-0DXTEQCR",
        "colab_type": "code",
        "colab": {
          "base_uri": "https://localhost:8080/",
          "height": 295
        },
        "outputId": "5eae89c3-e392-4b0e-f55d-275ca03eec25"
      },
      "source": [
        "mortes.plot()"
      ],
      "execution_count": 13,
      "outputs": [
        {
          "output_type": "execute_result",
          "data": {
            "text/plain": [
              "<matplotlib.axes._subplots.AxesSubplot at 0x7f0c76037668>"
            ]
          },
          "metadata": {
            "tags": []
          },
          "execution_count": 13
        },
        {
          "output_type": "display_data",
          "data": {
            "image/png": "[encoded data removed]",
            "text/plain": [
              "<Figure size 432x288 with 1 Axes>"
            ]
          },
          "metadata": {
            "tags": [],
            "needs_background": "light"
          }
        }
      ]
    },
    {
      "cell_type": "code",
      "metadata": {
        "id": "5zcqWEKAPa48",
        "colab_type": "code",
        "colab": {}
      },
      "source": [
        "#Calcular a mortalidade: mortes/número de casos confirmados.\n",
        "taxa_mortalidade = (mortes/casos) * 100 "
      ],
      "execution_count": 14,
      "outputs": []
    },
    {
      "cell_type": "code",
      "metadata": {
        "id": "jb99gZWU6xfp",
        "colab_type": "code",
        "colab": {
          "base_uri": "https://localhost:8080/",
          "height": 235
        },
        "outputId": "9c693fb3-d5ff-4031-dfbf-cfe4d83a2f25"
      },
      "source": [
        "#Visualizando a Taxa de Mortalidade a partir dos dias.\n",
        "taxa_mortalidade"
      ],
      "execution_count": 15,
      "outputs": [
        {
          "output_type": "execute_result",
          "data": {
            "text/plain": [
              "2020-01-22    3.063063\n",
              "2020-01-23    2.752294\n",
              "2020-01-24    2.763018\n",
              "2020-01-25    2.928870\n",
              "2020-01-26    2.644004\n",
              "                ...   \n",
              "2020-06-21    5.229367\n",
              "2020-06-22    5.189466\n",
              "2020-06-23    5.155336\n",
              "2020-06-24    5.118652\n",
              "2020-06-25    5.091787\n",
              "Length: 156, dtype: float64"
            ]
          },
          "metadata": {
            "tags": []
          },
          "execution_count": 15
        }
      ]
    },
    {
      "cell_type": "code",
      "metadata": {
        "id": "SlhQdHpjPbT7",
        "colab_type": "code",
        "colab": {
          "base_uri": "https://localhost:8080/",
          "height": 295
        },
        "outputId": "8534e405-d103-42dd-e7d5-0b2be5532789"
      },
      "source": [
        "#Plotando Gráfico linear para o comportamento da Taxa de Mortalidade.\n",
        "taxa_mortalidade.plot()"
      ],
      "execution_count": 16,
      "outputs": [
        {
          "output_type": "execute_result",
          "data": {
            "text/plain": [
              "<matplotlib.axes._subplots.AxesSubplot at 0x7f0c75f591d0>"
            ]
          },
          "metadata": {
            "tags": []
          },
          "execution_count": 16
        },
        {
          "output_type": "display_data",
          "data": {
            "image/png": "[encoded data removed]",
            "text/plain": [
              "<Figure size 432x288 with 1 Axes>"
            ]
          },
          "metadata": {
            "tags": [],
            "needs_background": "light"
          }
        }
      ]
    },
    {
      "cell_type": "markdown",
      "metadata": {
        "id": "mF_jaCRvS-7U",
        "colab_type": "text"
      },
      "source": [
        "**Recuperados de COVID-19 no Mundo**\n"
      ]
    },
    {
      "cell_type": "markdown",
      "metadata": {
        "id": "1fxlw6vs-R5_",
        "colab_type": "text"
      },
      "source": [
        "**Repetindo o Processo para os recuperados.**"
      ]
    },
    {
      "cell_type": "code",
      "metadata": {
        "id": "Xv8IXd1EEVJt",
        "colab_type": "code",
        "colab": {}
      },
      "source": [
        "recuperados = pd.read_csv('https://raw.githubusercontent.com/CSSEGISandData/COVID-19/master/csse_covid_19_data/csse_covid_19_time_series/time_series_covid19_recovered_global.csv')"
      ],
      "execution_count": 17,
      "outputs": []
    },
    {
      "cell_type": "code",
      "metadata": {
        "id": "E0OukC3mEg0w",
        "colab_type": "code",
        "colab": {
          "base_uri": "https://localhost:8080/",
          "height": 265
        },
        "outputId": "b7cf61ea-eddc-45b2-9b17-dd7a1991ab81"
      },
      "source": [
        "recuperados.tail()"
      ],
      "execution_count": 18,
      "outputs": [
        {
          "output_type": "execute_result",
          "data": {
            "text/html": [
              "<div>\n",
              "<style scoped>\n",
              "    .dataframe tbody tr th:only-of-type {\n",
              "        vertical-align: middle;\n",
              "    }\n",
              "\n",
              "    .dataframe tbody tr th {\n",
              "        vertical-align: top;\n",
              "    }\n",
              "\n",
              "    .dataframe thead th {\n",
              "        text-align: right;\n",
              "    }\n",
              "</style>\n",
              "<table border=\"1\" class=\"dataframe\">\n",
              "  <thead>\n",
              "    <tr style=\"text-align: right;\">\n",
              "      <th></th>\n",
              "      <th>Province/State</th>\n",
              "      <th>Country/Region</th>\n",
              "      <th>Lat</th>\n",
              "      <th>Long</th>\n",
              "      <th>1/22/20</th>\n",
              "      <th>1/23/20</th>\n",
              "      <th>1/24/20</th>\n",
              "      <th>1/25/20</th>\n",
              "      <th>1/26/20</th>\n",
              "      <th>1/27/20</th>\n",
              "      <th>1/28/20</th>\n",
              "      <th>1/29/20</th>\n",
              "      <th>1/30/20</th>\n",
              "      <th>1/31/20</th>\n",
              "      <th>2/1/20</th>\n",
              "      <th>2/2/20</th>\n",
              "      <th>2/3/20</th>\n",
              "      <th>2/4/20</th>\n",
              "      <th>2/5/20</th>\n",
              "      <th>2/6/20</th>\n",
              "      <th>2/7/20</th>\n",
              "      <th>2/8/20</th>\n",
              "      <th>2/9/20</th>\n",
              "      <th>2/10/20</th>\n",
              "      <th>2/11/20</th>\n",
              "      <th>2/12/20</th>\n",
              "      <th>2/13/20</th>\n",
              "      <th>2/14/20</th>\n",
              "      <th>2/15/20</th>\n",
              "      <th>2/16/20</th>\n",
              "      <th>2/17/20</th>\n",
              "      <th>2/18/20</th>\n",
              "      <th>2/19/20</th>\n",
              "      <th>2/20/20</th>\n",
              "      <th>2/21/20</th>\n",
              "      <th>2/22/20</th>\n",
              "      <th>2/23/20</th>\n",
              "      <th>2/24/20</th>\n",
              "      <th>2/25/20</th>\n",
              "      <th>2/26/20</th>\n",
              "      <th>...</th>\n",
              "      <th>5/17/20</th>\n",
              "      <th>5/18/20</th>\n",
              "      <th>5/19/20</th>\n",
              "      <th>5/20/20</th>\n",
              "      <th>5/21/20</th>\n",
              "      <th>5/22/20</th>\n",
              "      <th>5/23/20</th>\n",
              "      <th>5/24/20</th>\n",
              "      <th>5/25/20</th>\n",
              "      <th>5/26/20</th>\n",
              "      <th>5/27/20</th>\n",
              "      <th>5/28/20</th>\n",
              "      <th>5/29/20</th>\n",
              "      <th>5/30/20</th>\n",
              "      <th>5/31/20</th>\n",
              "      <th>6/1/20</th>\n",
              "      <th>6/2/20</th>\n",
              "      <th>6/3/20</th>\n",
              "      <th>6/4/20</th>\n",
              "      <th>6/5/20</th>\n",
              "      <th>6/6/20</th>\n",
              "      <th>6/7/20</th>\n",
              "      <th>6/8/20</th>\n",
              "      <th>6/9/20</th>\n",
              "      <th>6/10/20</th>\n",
              "      <th>6/11/20</th>\n",
              "      <th>6/12/20</th>\n",
              "      <th>6/13/20</th>\n",
              "      <th>6/14/20</th>\n",
              "      <th>6/15/20</th>\n",
              "      <th>6/16/20</th>\n",
              "      <th>6/17/20</th>\n",
              "      <th>6/18/20</th>\n",
              "      <th>6/19/20</th>\n",
              "      <th>6/20/20</th>\n",
              "      <th>6/21/20</th>\n",
              "      <th>6/22/20</th>\n",
              "      <th>6/23/20</th>\n",
              "      <th>6/24/20</th>\n",
              "      <th>6/25/20</th>\n",
              "    </tr>\n",
              "  </thead>\n",
              "  <tbody>\n",
              "    <tr>\n",
              "      <th>248</th>\n",
              "      <td>NaN</td>\n",
              "      <td>Sao Tome and Principe</td>\n",
              "      <td>0.186360</td>\n",
              "      <td>6.613081</td>\n",
              "      <td>0</td>\n",
              "      <td>0</td>\n",
              "      <td>0</td>\n",
              "      <td>0</td>\n",
              "      <td>0</td>\n",
              "      <td>0</td>\n",
              "      <td>0</td>\n",
              "      <td>0</td>\n",
              "      <td>0</td>\n",
              "      <td>0</td>\n",
              "      <td>0</td>\n",
              "      <td>0</td>\n",
              "      <td>0</td>\n",
              "      <td>0</td>\n",
              "      <td>0</td>\n",
              "      <td>0</td>\n",
              "      <td>0</td>\n",
              "      <td>0</td>\n",
              "      <td>0</td>\n",
              "      <td>0</td>\n",
              "      <td>0</td>\n",
              "      <td>0</td>\n",
              "      <td>0</td>\n",
              "      <td>0</td>\n",
              "      <td>0</td>\n",
              "      <td>0</td>\n",
              "      <td>0</td>\n",
              "      <td>0</td>\n",
              "      <td>0</td>\n",
              "      <td>0</td>\n",
              "      <td>0</td>\n",
              "      <td>0</td>\n",
              "      <td>0</td>\n",
              "      <td>0</td>\n",
              "      <td>0</td>\n",
              "      <td>0</td>\n",
              "      <td>...</td>\n",
              "      <td>4</td>\n",
              "      <td>4</td>\n",
              "      <td>4</td>\n",
              "      <td>4</td>\n",
              "      <td>4</td>\n",
              "      <td>4</td>\n",
              "      <td>4</td>\n",
              "      <td>4</td>\n",
              "      <td>4</td>\n",
              "      <td>68</td>\n",
              "      <td>68</td>\n",
              "      <td>68</td>\n",
              "      <td>68</td>\n",
              "      <td>68</td>\n",
              "      <td>68</td>\n",
              "      <td>68</td>\n",
              "      <td>68</td>\n",
              "      <td>68</td>\n",
              "      <td>68</td>\n",
              "      <td>68</td>\n",
              "      <td>68</td>\n",
              "      <td>68</td>\n",
              "      <td>68</td>\n",
              "      <td>76</td>\n",
              "      <td>135</td>\n",
              "      <td>146</td>\n",
              "      <td>156</td>\n",
              "      <td>176</td>\n",
              "      <td>177</td>\n",
              "      <td>177</td>\n",
              "      <td>182</td>\n",
              "      <td>188</td>\n",
              "      <td>191</td>\n",
              "      <td>199</td>\n",
              "      <td>203</td>\n",
              "      <td>203</td>\n",
              "      <td>203</td>\n",
              "      <td>208</td>\n",
              "      <td>211</td>\n",
              "      <td>214</td>\n",
              "    </tr>\n",
              "    <tr>\n",
              "      <th>249</th>\n",
              "      <td>NaN</td>\n",
              "      <td>Yemen</td>\n",
              "      <td>15.552727</td>\n",
              "      <td>48.516388</td>\n",
              "      <td>0</td>\n",
              "      <td>0</td>\n",
              "      <td>0</td>\n",
              "      <td>0</td>\n",
              "      <td>0</td>\n",
              "      <td>0</td>\n",
              "      <td>0</td>\n",
              "      <td>0</td>\n",
              "      <td>0</td>\n",
              "      <td>0</td>\n",
              "      <td>0</td>\n",
              "      <td>0</td>\n",
              "      <td>0</td>\n",
              "      <td>0</td>\n",
              "      <td>0</td>\n",
              "      <td>0</td>\n",
              "      <td>0</td>\n",
              "      <td>0</td>\n",
              "      <td>0</td>\n",
              "      <td>0</td>\n",
              "      <td>0</td>\n",
              "      <td>0</td>\n",
              "      <td>0</td>\n",
              "      <td>0</td>\n",
              "      <td>0</td>\n",
              "      <td>0</td>\n",
              "      <td>0</td>\n",
              "      <td>0</td>\n",
              "      <td>0</td>\n",
              "      <td>0</td>\n",
              "      <td>0</td>\n",
              "      <td>0</td>\n",
              "      <td>0</td>\n",
              "      <td>0</td>\n",
              "      <td>0</td>\n",
              "      <td>0</td>\n",
              "      <td>...</td>\n",
              "      <td>1</td>\n",
              "      <td>1</td>\n",
              "      <td>5</td>\n",
              "      <td>5</td>\n",
              "      <td>5</td>\n",
              "      <td>11</td>\n",
              "      <td>11</td>\n",
              "      <td>10</td>\n",
              "      <td>10</td>\n",
              "      <td>10</td>\n",
              "      <td>10</td>\n",
              "      <td>11</td>\n",
              "      <td>11</td>\n",
              "      <td>13</td>\n",
              "      <td>14</td>\n",
              "      <td>14</td>\n",
              "      <td>15</td>\n",
              "      <td>17</td>\n",
              "      <td>17</td>\n",
              "      <td>23</td>\n",
              "      <td>23</td>\n",
              "      <td>23</td>\n",
              "      <td>23</td>\n",
              "      <td>23</td>\n",
              "      <td>23</td>\n",
              "      <td>23</td>\n",
              "      <td>28</td>\n",
              "      <td>39</td>\n",
              "      <td>53</td>\n",
              "      <td>79</td>\n",
              "      <td>91</td>\n",
              "      <td>271</td>\n",
              "      <td>273</td>\n",
              "      <td>288</td>\n",
              "      <td>328</td>\n",
              "      <td>347</td>\n",
              "      <td>350</td>\n",
              "      <td>356</td>\n",
              "      <td>379</td>\n",
              "      <td>386</td>\n",
              "    </tr>\n",
              "    <tr>\n",
              "      <th>250</th>\n",
              "      <td>NaN</td>\n",
              "      <td>Comoros</td>\n",
              "      <td>-11.645500</td>\n",
              "      <td>43.333300</td>\n",
              "      <td>0</td>\n",
              "      <td>0</td>\n",
              "      <td>0</td>\n",
              "      <td>0</td>\n",
              "      <td>0</td>\n",
              "      <td>0</td>\n",
              "      <td>0</td>\n",
              "      <td>0</td>\n",
              "      <td>0</td>\n",
              "      <td>0</td>\n",
              "      <td>0</td>\n",
              "      <td>0</td>\n",
              "      <td>0</td>\n",
              "      <td>0</td>\n",
              "      <td>0</td>\n",
              "      <td>0</td>\n",
              "      <td>0</td>\n",
              "      <td>0</td>\n",
              "      <td>0</td>\n",
              "      <td>0</td>\n",
              "      <td>0</td>\n",
              "      <td>0</td>\n",
              "      <td>0</td>\n",
              "      <td>0</td>\n",
              "      <td>0</td>\n",
              "      <td>0</td>\n",
              "      <td>0</td>\n",
              "      <td>0</td>\n",
              "      <td>0</td>\n",
              "      <td>0</td>\n",
              "      <td>0</td>\n",
              "      <td>0</td>\n",
              "      <td>0</td>\n",
              "      <td>0</td>\n",
              "      <td>0</td>\n",
              "      <td>0</td>\n",
              "      <td>...</td>\n",
              "      <td>3</td>\n",
              "      <td>3</td>\n",
              "      <td>3</td>\n",
              "      <td>8</td>\n",
              "      <td>8</td>\n",
              "      <td>18</td>\n",
              "      <td>18</td>\n",
              "      <td>21</td>\n",
              "      <td>21</td>\n",
              "      <td>21</td>\n",
              "      <td>24</td>\n",
              "      <td>24</td>\n",
              "      <td>24</td>\n",
              "      <td>26</td>\n",
              "      <td>26</td>\n",
              "      <td>26</td>\n",
              "      <td>27</td>\n",
              "      <td>27</td>\n",
              "      <td>55</td>\n",
              "      <td>55</td>\n",
              "      <td>67</td>\n",
              "      <td>67</td>\n",
              "      <td>67</td>\n",
              "      <td>67</td>\n",
              "      <td>97</td>\n",
              "      <td>97</td>\n",
              "      <td>97</td>\n",
              "      <td>114</td>\n",
              "      <td>114</td>\n",
              "      <td>114</td>\n",
              "      <td>127</td>\n",
              "      <td>127</td>\n",
              "      <td>129</td>\n",
              "      <td>129</td>\n",
              "      <td>159</td>\n",
              "      <td>159</td>\n",
              "      <td>159</td>\n",
              "      <td>159</td>\n",
              "      <td>159</td>\n",
              "      <td>161</td>\n",
              "    </tr>\n",
              "    <tr>\n",
              "      <th>251</th>\n",
              "      <td>NaN</td>\n",
              "      <td>Tajikistan</td>\n",
              "      <td>38.861034</td>\n",
              "      <td>71.276093</td>\n",
              "      <td>0</td>\n",
              "      <td>0</td>\n",
              "      <td>0</td>\n",
              "      <td>0</td>\n",
              "      <td>0</td>\n",
              "      <td>0</td>\n",
              "      <td>0</td>\n",
              "      <td>0</td>\n",
              "      <td>0</td>\n",
              "      <td>0</td>\n",
              "      <td>0</td>\n",
              "      <td>0</td>\n",
              "      <td>0</td>\n",
              "      <td>0</td>\n",
              "      <td>0</td>\n",
              "      <td>0</td>\n",
              "      <td>0</td>\n",
              "      <td>0</td>\n",
              "      <td>0</td>\n",
              "      <td>0</td>\n",
              "      <td>0</td>\n",
              "      <td>0</td>\n",
              "      <td>0</td>\n",
              "      <td>0</td>\n",
              "      <td>0</td>\n",
              "      <td>0</td>\n",
              "      <td>0</td>\n",
              "      <td>0</td>\n",
              "      <td>0</td>\n",
              "      <td>0</td>\n",
              "      <td>0</td>\n",
              "      <td>0</td>\n",
              "      <td>0</td>\n",
              "      <td>0</td>\n",
              "      <td>0</td>\n",
              "      <td>0</td>\n",
              "      <td>...</td>\n",
              "      <td>0</td>\n",
              "      <td>0</td>\n",
              "      <td>641</td>\n",
              "      <td>470</td>\n",
              "      <td>470</td>\n",
              "      <td>1089</td>\n",
              "      <td>1223</td>\n",
              "      <td>1301</td>\n",
              "      <td>1395</td>\n",
              "      <td>1417</td>\n",
              "      <td>1575</td>\n",
              "      <td>1674</td>\n",
              "      <td>1769</td>\n",
              "      <td>1865</td>\n",
              "      <td>2004</td>\n",
              "      <td>2089</td>\n",
              "      <td>2217</td>\n",
              "      <td>2347</td>\n",
              "      <td>2401</td>\n",
              "      <td>2491</td>\n",
              "      <td>2583</td>\n",
              "      <td>2673</td>\n",
              "      <td>2763</td>\n",
              "      <td>2815</td>\n",
              "      <td>2947</td>\n",
              "      <td>3062</td>\n",
              "      <td>3158</td>\n",
              "      <td>3288</td>\n",
              "      <td>3409</td>\n",
              "      <td>3503</td>\n",
              "      <td>3624</td>\n",
              "      <td>3700</td>\n",
              "      <td>3762</td>\n",
              "      <td>3830</td>\n",
              "      <td>3894</td>\n",
              "      <td>3995</td>\n",
              "      <td>4039</td>\n",
              "      <td>4109</td>\n",
              "      <td>4194</td>\n",
              "      <td>4267</td>\n",
              "    </tr>\n",
              "    <tr>\n",
              "      <th>252</th>\n",
              "      <td>NaN</td>\n",
              "      <td>Lesotho</td>\n",
              "      <td>-29.609988</td>\n",
              "      <td>28.233608</td>\n",
              "      <td>0</td>\n",
              "      <td>0</td>\n",
              "      <td>0</td>\n",
              "      <td>0</td>\n",
              "      <td>0</td>\n",
              "      <td>0</td>\n",
              "      <td>0</td>\n",
              "      <td>0</td>\n",
              "      <td>0</td>\n",
              "      <td>0</td>\n",
              "      <td>0</td>\n",
              "      <td>0</td>\n",
              "      <td>0</td>\n",
              "      <td>0</td>\n",
              "      <td>0</td>\n",
              "      <td>0</td>\n",
              "      <td>0</td>\n",
              "      <td>0</td>\n",
              "      <td>0</td>\n",
              "      <td>0</td>\n",
              "      <td>0</td>\n",
              "      <td>0</td>\n",
              "      <td>0</td>\n",
              "      <td>0</td>\n",
              "      <td>0</td>\n",
              "      <td>0</td>\n",
              "      <td>0</td>\n",
              "      <td>0</td>\n",
              "      <td>0</td>\n",
              "      <td>0</td>\n",
              "      <td>0</td>\n",
              "      <td>0</td>\n",
              "      <td>0</td>\n",
              "      <td>0</td>\n",
              "      <td>0</td>\n",
              "      <td>0</td>\n",
              "      <td>...</td>\n",
              "      <td>0</td>\n",
              "      <td>0</td>\n",
              "      <td>0</td>\n",
              "      <td>0</td>\n",
              "      <td>0</td>\n",
              "      <td>0</td>\n",
              "      <td>0</td>\n",
              "      <td>0</td>\n",
              "      <td>0</td>\n",
              "      <td>0</td>\n",
              "      <td>0</td>\n",
              "      <td>1</td>\n",
              "      <td>1</td>\n",
              "      <td>1</td>\n",
              "      <td>1</td>\n",
              "      <td>1</td>\n",
              "      <td>1</td>\n",
              "      <td>2</td>\n",
              "      <td>2</td>\n",
              "      <td>2</td>\n",
              "      <td>2</td>\n",
              "      <td>2</td>\n",
              "      <td>2</td>\n",
              "      <td>2</td>\n",
              "      <td>2</td>\n",
              "      <td>2</td>\n",
              "      <td>2</td>\n",
              "      <td>2</td>\n",
              "      <td>2</td>\n",
              "      <td>2</td>\n",
              "      <td>2</td>\n",
              "      <td>2</td>\n",
              "      <td>2</td>\n",
              "      <td>2</td>\n",
              "      <td>2</td>\n",
              "      <td>2</td>\n",
              "      <td>2</td>\n",
              "      <td>2</td>\n",
              "      <td>2</td>\n",
              "      <td>2</td>\n",
              "    </tr>\n",
              "  </tbody>\n",
              "</table>\n",
              "<p>5 rows × 160 columns</p>\n",
              "</div>"
            ],
            "text/plain": [
              "    Province/State         Country/Region        Lat  ...  6/23/20  6/24/20  6/25/20\n",
              "248            NaN  Sao Tome and Principe   0.186360  ...      208      211      214\n",
              "249            NaN                  Yemen  15.552727  ...      356      379      386\n",
              "250            NaN                Comoros -11.645500  ...      159      159      161\n",
              "251            NaN             Tajikistan  38.861034  ...     4109     4194     4267\n",
              "252            NaN                Lesotho -29.609988  ...        2        2        2\n",
              "\n",
              "[5 rows x 160 columns]"
            ]
          },
          "metadata": {
            "tags": []
          },
          "execution_count": 18
        }
      ]
    },
    {
      "cell_type": "code",
      "metadata": {
        "id": "0yJQW0usEj7R",
        "colab_type": "code",
        "colab": {
          "base_uri": "https://localhost:8080/",
          "height": 35
        },
        "outputId": "158ecd71-9e10-4fa8-b776-1c08f2c0d350"
      },
      "source": [
        "recuperados.shape"
      ],
      "execution_count": 19,
      "outputs": [
        {
          "output_type": "execute_result",
          "data": {
            "text/plain": [
              "(253, 160)"
            ]
          },
          "metadata": {
            "tags": []
          },
          "execution_count": 19
        }
      ]
    },
    {
      "cell_type": "code",
      "metadata": {
        "id": "D9yqTgqREnoN",
        "colab_type": "code",
        "colab": {
          "base_uri": "https://localhost:8080/",
          "height": 217
        },
        "outputId": "4187d7f7-a743-47ea-c329-d28a881335e6"
      },
      "source": [
        "#Método que \"filtra\" o Data Frame, informando que os dados utilizados serão apenas a partir da 4º coluna.\n",
        "recuperados = np.sum(recuperados.iloc[ :, 4: recuperados.shape[1]])\n",
        "#Utilizando método do Pandas para pegar o formato de data e atribuir como index\n",
        "recuperados.index = pd.DatetimeIndex(recuperados.index)\n",
        "recuperados.tail(10)"
      ],
      "execution_count": 20,
      "outputs": [
        {
          "output_type": "execute_result",
          "data": {
            "text/plain": [
              "2020-06-16    3955169\n",
              "2020-06-17    4073955\n",
              "2020-06-18    4155099\n",
              "2020-06-19    4250107\n",
              "2020-06-20    4365932\n",
              "2020-06-21    4434628\n",
              "2020-06-22    4526333\n",
              "2020-06-23    4630391\n",
              "2020-06-24    4746118\n",
              "2020-06-25    4838921\n",
              "dtype: int64"
            ]
          },
          "metadata": {
            "tags": []
          },
          "execution_count": 20
        }
      ]
    },
    {
      "cell_type": "code",
      "metadata": {
        "id": "riMEBgt1FLdw",
        "colab_type": "code",
        "colab": {
          "base_uri": "https://localhost:8080/",
          "height": 306
        },
        "outputId": "57108887-32ac-4465-a5ed-e4eba70704a4"
      },
      "source": [
        "recuperados.plot()"
      ],
      "execution_count": 21,
      "outputs": [
        {
          "output_type": "execute_result",
          "data": {
            "text/plain": [
              "<matplotlib.axes._subplots.AxesSubplot at 0x7f0c75efecc0>"
            ]
          },
          "metadata": {
            "tags": []
          },
          "execution_count": 21
        },
        {
          "output_type": "display_data",
          "data": {
            "image/png": "[encoded data removed]",
            "text/plain": [
              "<Figure size 432x288 with 1 Axes>"
            ]
          },
          "metadata": {
            "tags": [],
            "needs_background": "light"
          }
        }
      ]
    },
    {
      "cell_type": "code",
      "metadata": {
        "id": "-Z8aGx_DTQwd",
        "colab_type": "code",
        "colab": {}
      },
      "source": [
        "#Taxa de pessoas recuperadas: número de pessoas recuperadas / total\n",
        "taxa_recuperados = (recuperados/casos) * 100"
      ],
      "execution_count": 22,
      "outputs": []
    },
    {
      "cell_type": "code",
      "metadata": {
        "id": "7f12RiPe8Gkt",
        "colab_type": "code",
        "colab": {
          "base_uri": "https://localhost:8080/",
          "height": 235
        },
        "outputId": "b86bc8f0-7823-4a96-b082-ffc79037bd2b"
      },
      "source": [
        "#Visualizando a taxa de pessoas recuperadas.\n",
        "taxa_recuperados"
      ],
      "execution_count": 23,
      "outputs": [
        {
          "output_type": "execute_result",
          "data": {
            "text/plain": [
              "2020-01-22     5.045045\n",
              "2020-01-23     4.587156\n",
              "2020-01-24     3.825717\n",
              "2020-01-25     2.719665\n",
              "2020-01-26     2.455146\n",
              "                ...    \n",
              "2020-06-21    49.490263\n",
              "2020-06-22    49.747341\n",
              "2020-06-23    49.982982\n",
              "2020-06-24    50.322785\n",
              "2020-06-25    50.353872\n",
              "Length: 156, dtype: float64"
            ]
          },
          "metadata": {
            "tags": []
          },
          "execution_count": 23
        }
      ]
    },
    {
      "cell_type": "code",
      "metadata": {
        "id": "CkuuCQkZTVU1",
        "colab_type": "code",
        "colab": {
          "base_uri": "https://localhost:8080/",
          "height": 295
        },
        "outputId": "ae8d3396-420c-42c8-e479-174fd9bea220"
      },
      "source": [
        "#Plotando gráfico para o comportamento da Taxa de Pessoas Recuperadas.\n",
        "taxa_recuperados.plot()"
      ],
      "execution_count": 24,
      "outputs": [
        {
          "output_type": "execute_result",
          "data": {
            "text/plain": [
              "<matplotlib.axes._subplots.AxesSubplot at 0x7f0c75e89828>"
            ]
          },
          "metadata": {
            "tags": []
          },
          "execution_count": 24
        },
        {
          "output_type": "display_data",
          "data": {
            "image/png": "[encoded data removed]",
            "text/plain": [
              "<Figure size 432x288 with 1 Axes>"
            ]
          },
          "metadata": {
            "tags": [],
            "needs_background": "light"
          }
        }
      ]
    },
    {
      "cell_type": "markdown",
      "metadata": {
        "id": "Qb0-uCOoFS2z",
        "colab_type": "text"
      },
      "source": [
        "**Gráficos, em ordem de: Casos, Mortes, Recuperados:**"
      ]
    },
    {
      "cell_type": "code",
      "metadata": {
        "id": "LAYzKtFyFYr4",
        "colab_type": "code",
        "colab": {
          "base_uri": "https://localhost:8080/",
          "height": 306
        },
        "outputId": "f866afa9-5d35-4feb-c168-c4f0e7d2a170"
      },
      "source": [
        "casos.plot()"
      ],
      "execution_count": 25,
      "outputs": [
        {
          "output_type": "execute_result",
          "data": {
            "text/plain": [
              "<matplotlib.axes._subplots.AxesSubplot at 0x7f0c75edaba8>"
            ]
          },
          "metadata": {
            "tags": []
          },
          "execution_count": 25
        },
        {
          "output_type": "display_data",
          "data": {
            "image/png": "[encoded data removed]",
            "text/plain": [
              "<Figure size 432x288 with 1 Axes>"
            ]
          },
          "metadata": {
            "tags": [],
            "needs_background": "light"
          }
        }
      ]
    },
    {
      "cell_type": "code",
      "metadata": {
        "id": "6b4CxW1RFgMx",
        "colab_type": "code",
        "colab": {
          "base_uri": "https://localhost:8080/",
          "height": 295
        },
        "outputId": "4b85b903-8a15-42d7-d77c-d12c8aeff945"
      },
      "source": [
        "mortes.plot()"
      ],
      "execution_count": 26,
      "outputs": [
        {
          "output_type": "execute_result",
          "data": {
            "text/plain": [
              "<matplotlib.axes._subplots.AxesSubplot at 0x7f0c75f036d8>"
            ]
          },
          "metadata": {
            "tags": []
          },
          "execution_count": 26
        },
        {
          "output_type": "display_data",
          "data": {
            "image/png": "[encoded data removed]",
            "text/plain": [
              "<Figure size 432x288 with 1 Axes>"
            ]
          },
          "metadata": {
            "tags": [],
            "needs_background": "light"
          }
        }
      ]
    },
    {
      "cell_type": "code",
      "metadata": {
        "id": "liZgqZjLFh98",
        "colab_type": "code",
        "colab": {
          "base_uri": "https://localhost:8080/",
          "height": 306
        },
        "outputId": "d919a5b2-c3c0-49df-af87-0068ee222b0c"
      },
      "source": [
        "recuperados.plot()"
      ],
      "execution_count": 28,
      "outputs": [
        {
          "output_type": "execute_result",
          "data": {
            "text/plain": [
              "<matplotlib.axes._subplots.AxesSubplot at 0x7f0c75cb7940>"
            ]
          },
          "metadata": {
            "tags": []
          },
          "execution_count": 28
        },
        {
          "output_type": "display_data",
          "data": {
            "image/png": "[encoded data removed]",
            "text/plain": [
              "<Figure size 432x288 with 1 Axes>"
            ]
          },
          "metadata": {
            "tags": [],
            "needs_background": "light"
          }
        }
      ]
    },
    {
      "cell_type": "markdown",
      "metadata": {
        "id": "YKE8eE3AUFVJ",
        "colab_type": "text"
      },
      "source": [
        "**Casos Fechados**"
      ]
    },
    {
      "cell_type": "markdown",
      "metadata": {
        "id": "oLoWR0bv-0tz",
        "colab_type": "text"
      },
      "source": [
        "Casos Fechados são constituídos pelas mortes + recuperados."
      ]
    },
    {
      "cell_type": "code",
      "metadata": {
        "id": "UygVOaG-RBeT",
        "colab_type": "code",
        "colab": {
          "base_uri": "https://localhost:8080/",
          "height": 235
        },
        "outputId": "94918243-4fc3-48a2-fa2f-bb6dbf4fe601"
      },
      "source": [
        "casos_fechados = (recuperados + mortes)\n",
        "casos_fechados"
      ],
      "execution_count": 29,
      "outputs": [
        {
          "output_type": "execute_result",
          "data": {
            "text/plain": [
              "2020-01-22         45\n",
              "2020-01-23         48\n",
              "2020-01-24         62\n",
              "2020-01-25         81\n",
              "2020-01-26        108\n",
              "               ...   \n",
              "2020-06-21    4903211\n",
              "2020-06-22    4998504\n",
              "2020-06-23    5107978\n",
              "2020-06-24    5228876\n",
              "2020-06-25    5328233\n",
              "Length: 156, dtype: int64"
            ]
          },
          "metadata": {
            "tags": []
          },
          "execution_count": 29
        }
      ]
    },
    {
      "cell_type": "markdown",
      "metadata": {
        "id": "rLBUufMuUtGd",
        "colab_type": "text"
      },
      "source": [
        "**Casos Abertos**"
      ]
    },
    {
      "cell_type": "markdown",
      "metadata": {
        "id": "CZwPyd33-9_z",
        "colab_type": "text"
      },
      "source": [
        "Casos abertos são os que ainda continuam em andamento, pessoas que ainda estão com a doença e seguem em observação."
      ]
    },
    {
      "cell_type": "code",
      "metadata": {
        "id": "91v6Z7PlUyIj",
        "colab_type": "code",
        "colab": {
          "base_uri": "https://localhost:8080/",
          "height": 235
        },
        "outputId": "0e38ae4b-5dd4-4e28-d141-f7ee0c9e388a"
      },
      "source": [
        "casos_abertos = ((casos - casos_fechados))\n",
        "casos_abertos"
      ],
      "execution_count": 30,
      "outputs": [
        {
          "output_type": "execute_result",
          "data": {
            "text/plain": [
              "2020-01-22        510\n",
              "2020-01-23        606\n",
              "2020-01-24        879\n",
              "2020-01-25       1353\n",
              "2020-01-26       2010\n",
              "               ...   \n",
              "2020-06-21    4057396\n",
              "2020-06-22    4100139\n",
              "2020-06-23    4155957\n",
              "2020-06-24    4202474\n",
              "2020-06-25    4281596\n",
              "Length: 156, dtype: int64"
            ]
          },
          "metadata": {
            "tags": []
          },
          "execution_count": 30
        }
      ]
    },
    {
      "cell_type": "markdown",
      "metadata": {
        "id": "-R9BEheTZIvZ",
        "colab_type": "text"
      },
      "source": [
        "**Construindo Data Frame concatenando os 3 tipos de dados (Casos, Recuperados e Mortes)**"
      ]
    },
    {
      "cell_type": "code",
      "metadata": {
        "id": "vhTNUtQ1ZSnb",
        "colab_type": "code",
        "colab": {}
      },
      "source": [
        "dados_CMR = pd.concat([casos, mortes, recuperados], ignore_index=True, axis=1)"
      ],
      "execution_count": 31,
      "outputs": []
    },
    {
      "cell_type": "code",
      "metadata": {
        "id": "hLYW_iPiZS0S",
        "colab_type": "code",
        "colab": {
          "base_uri": "https://localhost:8080/",
          "height": 407
        },
        "outputId": "32f2dfb2-52b4-495d-cb63-d1d54cdec67e"
      },
      "source": [
        "dados_CMR.columns = ['Confirmados', 'Mortes', 'Recuperados']\n",
        "dados_CMR"
      ],
      "execution_count": 32,
      "outputs": [
        {
          "output_type": "execute_result",
          "data": {
            "text/html": [
              "<div>\n",
              "<style scoped>\n",
              "    .dataframe tbody tr th:only-of-type {\n",
              "        vertical-align: middle;\n",
              "    }\n",
              "\n",
              "    .dataframe tbody tr th {\n",
              "        vertical-align: top;\n",
              "    }\n",
              "\n",
              "    .dataframe thead th {\n",
              "        text-align: right;\n",
              "    }\n",
              "</style>\n",
              "<table border=\"1\" class=\"dataframe\">\n",
              "  <thead>\n",
              "    <tr style=\"text-align: right;\">\n",
              "      <th></th>\n",
              "      <th>Confirmados</th>\n",
              "      <th>Mortes</th>\n",
              "      <th>Recuperados</th>\n",
              "    </tr>\n",
              "  </thead>\n",
              "  <tbody>\n",
              "    <tr>\n",
              "      <th>2020-01-22</th>\n",
              "      <td>555</td>\n",
              "      <td>17</td>\n",
              "      <td>28</td>\n",
              "    </tr>\n",
              "    <tr>\n",
              "      <th>2020-01-23</th>\n",
              "      <td>654</td>\n",
              "      <td>18</td>\n",
              "      <td>30</td>\n",
              "    </tr>\n",
              "    <tr>\n",
              "      <th>2020-01-24</th>\n",
              "      <td>941</td>\n",
              "      <td>26</td>\n",
              "      <td>36</td>\n",
              "    </tr>\n",
              "    <tr>\n",
              "      <th>2020-01-25</th>\n",
              "      <td>1434</td>\n",
              "      <td>42</td>\n",
              "      <td>39</td>\n",
              "    </tr>\n",
              "    <tr>\n",
              "      <th>2020-01-26</th>\n",
              "      <td>2118</td>\n",
              "      <td>56</td>\n",
              "      <td>52</td>\n",
              "    </tr>\n",
              "    <tr>\n",
              "      <th>...</th>\n",
              "      <td>...</td>\n",
              "      <td>...</td>\n",
              "      <td>...</td>\n",
              "    </tr>\n",
              "    <tr>\n",
              "      <th>2020-06-21</th>\n",
              "      <td>8960607</td>\n",
              "      <td>468583</td>\n",
              "      <td>4434628</td>\n",
              "    </tr>\n",
              "    <tr>\n",
              "      <th>2020-06-22</th>\n",
              "      <td>9098643</td>\n",
              "      <td>472171</td>\n",
              "      <td>4526333</td>\n",
              "    </tr>\n",
              "    <tr>\n",
              "      <th>2020-06-23</th>\n",
              "      <td>9263935</td>\n",
              "      <td>477587</td>\n",
              "      <td>4630391</td>\n",
              "    </tr>\n",
              "    <tr>\n",
              "      <th>2020-06-24</th>\n",
              "      <td>9431350</td>\n",
              "      <td>482758</td>\n",
              "      <td>4746118</td>\n",
              "    </tr>\n",
              "    <tr>\n",
              "      <th>2020-06-25</th>\n",
              "      <td>9609829</td>\n",
              "      <td>489312</td>\n",
              "      <td>4838921</td>\n",
              "    </tr>\n",
              "  </tbody>\n",
              "</table>\n",
              "<p>156 rows × 3 columns</p>\n",
              "</div>"
            ],
            "text/plain": [
              "            Confirmados  Mortes  Recuperados\n",
              "2020-01-22          555      17           28\n",
              "2020-01-23          654      18           30\n",
              "2020-01-24          941      26           36\n",
              "2020-01-25         1434      42           39\n",
              "2020-01-26         2118      56           52\n",
              "...                 ...     ...          ...\n",
              "2020-06-21      8960607  468583      4434628\n",
              "2020-06-22      9098643  472171      4526333\n",
              "2020-06-23      9263935  477587      4630391\n",
              "2020-06-24      9431350  482758      4746118\n",
              "2020-06-25      9609829  489312      4838921\n",
              "\n",
              "[156 rows x 3 columns]"
            ]
          },
          "metadata": {
            "tags": []
          },
          "execution_count": 32
        }
      ]
    },
    {
      "cell_type": "code",
      "metadata": {
        "id": "hWcPWNVVZS53",
        "colab_type": "code",
        "colab": {
          "base_uri": "https://localhost:8080/",
          "height": 306
        },
        "outputId": "b21e920d-6d9b-4e4d-beda-ed7e6ca40e2c"
      },
      "source": [
        "dados_CMR.plot()"
      ],
      "execution_count": 33,
      "outputs": [
        {
          "output_type": "execute_result",
          "data": {
            "text/plain": [
              "<matplotlib.axes._subplots.AxesSubplot at 0x7f0c75bb55c0>"
            ]
          },
          "metadata": {
            "tags": []
          },
          "execution_count": 33
        },
        {
          "output_type": "display_data",
          "data": {
            "image/png": "[encoded data removed]",
            "text/plain": [
              "<Figure size 432x288 with 1 Axes>"
            ]
          },
          "metadata": {
            "tags": [],
            "needs_background": "light"
          }
        }
      ]
    }
  ]
}