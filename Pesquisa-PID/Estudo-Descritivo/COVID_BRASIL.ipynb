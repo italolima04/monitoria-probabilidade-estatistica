{
  "nbformat": 4,
  "nbformat_minor": 0,
  "metadata": {
    "colab": {
      "name": "COVID-BRASIL.ipynb",
      "provenance": [],
      "collapsed_sections": [
        "KFneN6SN14oR",
        "Ey64BRVi19l4",
        "VBlMoYTv2Ff_",
        "yiRP0P2B2Nri"
      ],
      "authorship_tag": "ABX9TyOw5WHr8uxCZqXkS8Waz2KS",
      "include_colab_link": true
    },
    "kernelspec": {
      "name": "python3",
      "display_name": "Python 3"
    }
  },
  "cells": [
    {
      "cell_type": "markdown",
      "metadata": {
        "id": "view-in-github",
        "colab_type": "text"
      },
      "source": [
        "<a href=\"https://colab.research.google.com/github/italolima04/monitoria-probabilidade-estatistica/blob/master/Pesquisa-PID/Estudo-Descritivo/COVID_BRASIL.ipynb\" target=\"_parent\"><img src=\"https://colab.research.google.com/assets/colab-badge.svg\" alt=\"Open In Colab\"/></a>"
      ]
    },
    {
      "cell_type": "markdown",
      "metadata": {
        "id": "KFneN6SN14oR",
        "colab_type": "text"
      },
      "source": [
        "# Importando Bibliotecas e Dados"
      ]
    },
    {
      "cell_type": "code",
      "metadata": {
        "id": "s-pST8y5wO2t",
        "colab_type": "code",
        "colab": {}
      },
      "source": [
        "#Importando as Bibliotecas para Estudo.\n",
        "import pandas as pd\n",
        "import numpy as np"
      ],
      "execution_count": 1,
      "outputs": []
    },
    {
      "cell_type": "code",
      "metadata": {
        "id": "oDNI0EXMwnQz",
        "colab_type": "code",
        "colab": {}
      },
      "source": [
        "#Importando os Dados.\n",
        "df = pd.read_csv('covid-dados-br.csv')"
      ],
      "execution_count": 12,
      "outputs": []
    },
    {
      "cell_type": "markdown",
      "metadata": {
        "id": "Ey64BRVi19l4",
        "colab_type": "text"
      },
      "source": [
        "# Visualizando e Manipulando os Dados"
      ]
    },
    {
      "cell_type": "code",
      "metadata": {
        "id": "7xxBU_agxPVS",
        "colab_type": "code",
        "colab": {
          "base_uri": "https://localhost:8080/",
          "height": 305
        },
        "outputId": "b900bdf3-97e6-41cc-f363-c046ededf556"
      },
      "source": [
        "#Visualizando às 5 primeiras linhas do Data Frame.\n",
        "df.head() "
      ],
      "execution_count": 13,
      "outputs": [
        {
          "output_type": "execute_result",
          "data": {
            "text/html": [
              "<div>\n",
              "<style scoped>\n",
              "    .dataframe tbody tr th:only-of-type {\n",
              "        vertical-align: middle;\n",
              "    }\n",
              "\n",
              "    .dataframe tbody tr th {\n",
              "        vertical-align: top;\n",
              "    }\n",
              "\n",
              "    .dataframe thead th {\n",
              "        text-align: right;\n",
              "    }\n",
              "</style>\n",
              "<table border=\"1\" class=\"dataframe\">\n",
              "  <thead>\n",
              "    <tr style=\"text-align: right;\">\n",
              "      <th></th>\n",
              "      <th>epidemiological_week</th>\n",
              "      <th>date</th>\n",
              "      <th>order_for_place</th>\n",
              "      <th>state</th>\n",
              "      <th>city</th>\n",
              "      <th>city_ibge_code</th>\n",
              "      <th>place_type</th>\n",
              "      <th>last_available_confirmed</th>\n",
              "      <th>last_available_confirmed_per_100k_inhabitants</th>\n",
              "      <th>new_confirmed</th>\n",
              "      <th>last_available_deaths</th>\n",
              "      <th>new_deaths</th>\n",
              "      <th>last_available_death_rate</th>\n",
              "      <th>estimated_population_2019</th>\n",
              "      <th>is_last</th>\n",
              "      <th>is_repeated</th>\n",
              "    </tr>\n",
              "  </thead>\n",
              "  <tbody>\n",
              "    <tr>\n",
              "      <th>0</th>\n",
              "      <td>26</td>\n",
              "      <td>2020-06-25</td>\n",
              "      <td>89</td>\n",
              "      <td>AC</td>\n",
              "      <td>Acrelândia</td>\n",
              "      <td>1200013.0</td>\n",
              "      <td>city</td>\n",
              "      <td>185</td>\n",
              "      <td>1212.63765</td>\n",
              "      <td>0</td>\n",
              "      <td>3</td>\n",
              "      <td>0</td>\n",
              "      <td>0.0162</td>\n",
              "      <td>15256.0</td>\n",
              "      <td>True</td>\n",
              "      <td>False</td>\n",
              "    </tr>\n",
              "    <tr>\n",
              "      <th>1</th>\n",
              "      <td>26</td>\n",
              "      <td>2020-06-25</td>\n",
              "      <td>56</td>\n",
              "      <td>AC</td>\n",
              "      <td>Assis Brasil</td>\n",
              "      <td>1200054.0</td>\n",
              "      <td>city</td>\n",
              "      <td>147</td>\n",
              "      <td>1981.93340</td>\n",
              "      <td>0</td>\n",
              "      <td>5</td>\n",
              "      <td>0</td>\n",
              "      <td>0.0340</td>\n",
              "      <td>7417.0</td>\n",
              "      <td>True</td>\n",
              "      <td>False</td>\n",
              "    </tr>\n",
              "    <tr>\n",
              "      <th>2</th>\n",
              "      <td>26</td>\n",
              "      <td>2020-06-25</td>\n",
              "      <td>48</td>\n",
              "      <td>AC</td>\n",
              "      <td>Brasiléia</td>\n",
              "      <td>1200104.0</td>\n",
              "      <td>city</td>\n",
              "      <td>287</td>\n",
              "      <td>1092.16835</td>\n",
              "      <td>0</td>\n",
              "      <td>6</td>\n",
              "      <td>0</td>\n",
              "      <td>0.0209</td>\n",
              "      <td>26278.0</td>\n",
              "      <td>True</td>\n",
              "      <td>False</td>\n",
              "    </tr>\n",
              "    <tr>\n",
              "      <th>3</th>\n",
              "      <td>26</td>\n",
              "      <td>2020-06-25</td>\n",
              "      <td>79</td>\n",
              "      <td>AC</td>\n",
              "      <td>Bujari</td>\n",
              "      <td>1200138.0</td>\n",
              "      <td>city</td>\n",
              "      <td>151</td>\n",
              "      <td>1470.87473</td>\n",
              "      <td>2</td>\n",
              "      <td>3</td>\n",
              "      <td>2</td>\n",
              "      <td>0.0199</td>\n",
              "      <td>10266.0</td>\n",
              "      <td>True</td>\n",
              "      <td>False</td>\n",
              "    </tr>\n",
              "    <tr>\n",
              "      <th>4</th>\n",
              "      <td>26</td>\n",
              "      <td>2020-06-25</td>\n",
              "      <td>49</td>\n",
              "      <td>AC</td>\n",
              "      <td>Capixaba</td>\n",
              "      <td>1200179.0</td>\n",
              "      <td>city</td>\n",
              "      <td>128</td>\n",
              "      <td>1090.94008</td>\n",
              "      <td>6</td>\n",
              "      <td>5</td>\n",
              "      <td>0</td>\n",
              "      <td>0.0391</td>\n",
              "      <td>11733.0</td>\n",
              "      <td>True</td>\n",
              "      <td>False</td>\n",
              "    </tr>\n",
              "  </tbody>\n",
              "</table>\n",
              "</div>"
            ],
            "text/plain": [
              "   epidemiological_week        date  ...  is_last is_repeated\n",
              "0                    26  2020-06-25  ...     True       False\n",
              "1                    26  2020-06-25  ...     True       False\n",
              "2                    26  2020-06-25  ...     True       False\n",
              "3                    26  2020-06-25  ...     True       False\n",
              "4                    26  2020-06-25  ...     True       False\n",
              "\n",
              "[5 rows x 16 columns]"
            ]
          },
          "metadata": {
            "tags": []
          },
          "execution_count": 13
        }
      ]
    },
    {
      "cell_type": "code",
      "metadata": {
        "id": "qIONWWhgyK3l",
        "colab_type": "code",
        "colab": {
          "base_uri": "https://localhost:8080/",
          "height": 305
        },
        "outputId": "6da463e1-989b-4d4d-f1f9-c545b9c2619a"
      },
      "source": [
        "#Função do Pandas para filtrar features específicas. Armazenando-as em um novo Data Frame.\n",
        "states = df.loc[df.place_type== 'state', :]\n",
        "#Filtrando somente os dados sobre os Estados.\n",
        "states.head()"
      ],
      "execution_count": 14,
      "outputs": [
        {
          "output_type": "execute_result",
          "data": {
            "text/html": [
              "<div>\n",
              "<style scoped>\n",
              "    .dataframe tbody tr th:only-of-type {\n",
              "        vertical-align: middle;\n",
              "    }\n",
              "\n",
              "    .dataframe tbody tr th {\n",
              "        vertical-align: top;\n",
              "    }\n",
              "\n",
              "    .dataframe thead th {\n",
              "        text-align: right;\n",
              "    }\n",
              "</style>\n",
              "<table border=\"1\" class=\"dataframe\">\n",
              "  <thead>\n",
              "    <tr style=\"text-align: right;\">\n",
              "      <th></th>\n",
              "      <th>epidemiological_week</th>\n",
              "      <th>date</th>\n",
              "      <th>order_for_place</th>\n",
              "      <th>state</th>\n",
              "      <th>city</th>\n",
              "      <th>city_ibge_code</th>\n",
              "      <th>place_type</th>\n",
              "      <th>last_available_confirmed</th>\n",
              "      <th>last_available_confirmed_per_100k_inhabitants</th>\n",
              "      <th>new_confirmed</th>\n",
              "      <th>last_available_deaths</th>\n",
              "      <th>new_deaths</th>\n",
              "      <th>last_available_death_rate</th>\n",
              "      <th>estimated_population_2019</th>\n",
              "      <th>is_last</th>\n",
              "      <th>is_repeated</th>\n",
              "    </tr>\n",
              "  </thead>\n",
              "  <tbody>\n",
              "    <tr>\n",
              "      <th>22</th>\n",
              "      <td>26</td>\n",
              "      <td>2020-06-25</td>\n",
              "      <td>101</td>\n",
              "      <td>AC</td>\n",
              "      <td>NaN</td>\n",
              "      <td>12.0</td>\n",
              "      <td>state</td>\n",
              "      <td>12304</td>\n",
              "      <td>1395.11415</td>\n",
              "      <td>282</td>\n",
              "      <td>335</td>\n",
              "      <td>9</td>\n",
              "      <td>0.0272</td>\n",
              "      <td>881935.0</td>\n",
              "      <td>True</td>\n",
              "      <td>False</td>\n",
              "    </tr>\n",
              "    <tr>\n",
              "      <th>126</th>\n",
              "      <td>26</td>\n",
              "      <td>2020-06-25</td>\n",
              "      <td>110</td>\n",
              "      <td>AL</td>\n",
              "      <td>NaN</td>\n",
              "      <td>27.0</td>\n",
              "      <td>state</td>\n",
              "      <td>32065</td>\n",
              "      <td>960.79023</td>\n",
              "      <td>835</td>\n",
              "      <td>958</td>\n",
              "      <td>20</td>\n",
              "      <td>0.0299</td>\n",
              "      <td>3337357.0</td>\n",
              "      <td>True</td>\n",
              "      <td>False</td>\n",
              "    </tr>\n",
              "    <tr>\n",
              "      <th>188</th>\n",
              "      <td>26</td>\n",
              "      <td>2020-06-25</td>\n",
              "      <td>105</td>\n",
              "      <td>AM</td>\n",
              "      <td>NaN</td>\n",
              "      <td>13.0</td>\n",
              "      <td>state</td>\n",
              "      <td>67267</td>\n",
              "      <td>1623.00460</td>\n",
              "      <td>503</td>\n",
              "      <td>2731</td>\n",
              "      <td>21</td>\n",
              "      <td>0.0406</td>\n",
              "      <td>4144597.0</td>\n",
              "      <td>True</td>\n",
              "      <td>False</td>\n",
              "    </tr>\n",
              "    <tr>\n",
              "      <th>205</th>\n",
              "      <td>26</td>\n",
              "      <td>2020-06-25</td>\n",
              "      <td>98</td>\n",
              "      <td>AP</td>\n",
              "      <td>NaN</td>\n",
              "      <td>16.0</td>\n",
              "      <td>state</td>\n",
              "      <td>27415</td>\n",
              "      <td>3241.57445</td>\n",
              "      <td>496</td>\n",
              "      <td>394</td>\n",
              "      <td>7</td>\n",
              "      <td>0.0144</td>\n",
              "      <td>845731.0</td>\n",
              "      <td>True</td>\n",
              "      <td>False</td>\n",
              "    </tr>\n",
              "    <tr>\n",
              "      <th>586</th>\n",
              "      <td>26</td>\n",
              "      <td>2020-06-25</td>\n",
              "      <td>112</td>\n",
              "      <td>BA</td>\n",
              "      <td>NaN</td>\n",
              "      <td>29.0</td>\n",
              "      <td>state</td>\n",
              "      <td>54291</td>\n",
              "      <td>365.02902</td>\n",
              "      <td>2360</td>\n",
              "      <td>1601</td>\n",
              "      <td>60</td>\n",
              "      <td>0.0295</td>\n",
              "      <td>14873064.0</td>\n",
              "      <td>True</td>\n",
              "      <td>False</td>\n",
              "    </tr>\n",
              "  </tbody>\n",
              "</table>\n",
              "</div>"
            ],
            "text/plain": [
              "     epidemiological_week        date  ...  is_last is_repeated\n",
              "22                     26  2020-06-25  ...     True       False\n",
              "126                    26  2020-06-25  ...     True       False\n",
              "188                    26  2020-06-25  ...     True       False\n",
              "205                    26  2020-06-25  ...     True       False\n",
              "586                    26  2020-06-25  ...     True       False\n",
              "\n",
              "[5 rows x 16 columns]"
            ]
          },
          "metadata": {
            "tags": []
          },
          "execution_count": 14
        }
      ]
    },
    {
      "cell_type": "code",
      "metadata": {
        "id": "OB46fYpX0Z-n",
        "colab_type": "code",
        "colab": {
          "base_uri": "https://localhost:8080/",
          "height": 72
        },
        "outputId": "8cb210fc-f9b4-46ef-dd11-804aaf9c9dda"
      },
      "source": [
        "#Método para verificar os objetos únicos no DataFrame, nesse caso são os Estados.\n",
        "states.state.unique()"
      ],
      "execution_count": 15,
      "outputs": [
        {
          "output_type": "execute_result",
          "data": {
            "text/plain": [
              "array(['AC', 'AL', 'AM', 'AP', 'BA', 'CE', 'DF', 'ES', 'GO', 'MA', 'MG',\n",
              "       'MS', 'MT', 'PA', 'PB', 'PE', 'PI', 'PR', 'RJ', 'RN', 'RO', 'RR',\n",
              "       'RS', 'SC', 'SE', 'SP', 'TO'], dtype=object)"
            ]
          },
          "metadata": {
            "tags": []
          },
          "execution_count": 15
        }
      ]
    },
    {
      "cell_type": "code",
      "metadata": {
        "id": "u-_GlPhu0tOr",
        "colab_type": "code",
        "colab": {
          "base_uri": "https://localhost:8080/",
          "height": 35
        },
        "outputId": "4e75a41b-067f-4a3f-d8d1-81a703c2d787"
      },
      "source": [
        "#Método para verificar a quantidade de objetos únicos, nesse caso o número de estados, que é equivalente ao número de estados do Brasil em que foram registados Casos de Covid-19.\n",
        "len(states.state.unique())"
      ],
      "execution_count": 16,
      "outputs": [
        {
          "output_type": "execute_result",
          "data": {
            "text/plain": [
              "27"
            ]
          },
          "metadata": {
            "tags": []
          },
          "execution_count": 16
        }
      ]
    },
    {
      "cell_type": "code",
      "metadata": {
        "id": "Mqm3OZ3O1f0y",
        "colab_type": "code",
        "colab": {}
      },
      "source": [
        "#Método para Desestruturar um DataFrame e selecionar apenas as colunas de interesse, criando um novo DataFrame a partir das mesmas.\n",
        "data = states[['date', 'state', 'last_available_confirmed', 'last_available_deaths', 'is_last']]"
      ],
      "execution_count": 18,
      "outputs": []
    },
    {
      "cell_type": "code",
      "metadata": {
        "id": "jr99ye6d17fq",
        "colab_type": "code",
        "colab": {
          "base_uri": "https://localhost:8080/",
          "height": 198
        },
        "outputId": "ecf913e3-adda-40a3-e8ff-5fb4cde8786a"
      },
      "source": [
        "#Visualizando às 5 primeiras linhas dos dados.\n",
        "data.head()"
      ],
      "execution_count": 19,
      "outputs": [
        {
          "output_type": "execute_result",
          "data": {
            "text/html": [
              "<div>\n",
              "<style scoped>\n",
              "    .dataframe tbody tr th:only-of-type {\n",
              "        vertical-align: middle;\n",
              "    }\n",
              "\n",
              "    .dataframe tbody tr th {\n",
              "        vertical-align: top;\n",
              "    }\n",
              "\n",
              "    .dataframe thead th {\n",
              "        text-align: right;\n",
              "    }\n",
              "</style>\n",
              "<table border=\"1\" class=\"dataframe\">\n",
              "  <thead>\n",
              "    <tr style=\"text-align: right;\">\n",
              "      <th></th>\n",
              "      <th>date</th>\n",
              "      <th>state</th>\n",
              "      <th>last_available_confirmed</th>\n",
              "      <th>last_available_deaths</th>\n",
              "      <th>is_last</th>\n",
              "    </tr>\n",
              "  </thead>\n",
              "  <tbody>\n",
              "    <tr>\n",
              "      <th>22</th>\n",
              "      <td>2020-06-25</td>\n",
              "      <td>AC</td>\n",
              "      <td>12304</td>\n",
              "      <td>335</td>\n",
              "      <td>True</td>\n",
              "    </tr>\n",
              "    <tr>\n",
              "      <th>126</th>\n",
              "      <td>2020-06-25</td>\n",
              "      <td>AL</td>\n",
              "      <td>32065</td>\n",
              "      <td>958</td>\n",
              "      <td>True</td>\n",
              "    </tr>\n",
              "    <tr>\n",
              "      <th>188</th>\n",
              "      <td>2020-06-25</td>\n",
              "      <td>AM</td>\n",
              "      <td>67267</td>\n",
              "      <td>2731</td>\n",
              "      <td>True</td>\n",
              "    </tr>\n",
              "    <tr>\n",
              "      <th>205</th>\n",
              "      <td>2020-06-25</td>\n",
              "      <td>AP</td>\n",
              "      <td>27415</td>\n",
              "      <td>394</td>\n",
              "      <td>True</td>\n",
              "    </tr>\n",
              "    <tr>\n",
              "      <th>586</th>\n",
              "      <td>2020-06-25</td>\n",
              "      <td>BA</td>\n",
              "      <td>54291</td>\n",
              "      <td>1601</td>\n",
              "      <td>True</td>\n",
              "    </tr>\n",
              "  </tbody>\n",
              "</table>\n",
              "</div>"
            ],
            "text/plain": [
              "           date state  last_available_confirmed  last_available_deaths  is_last\n",
              "22   2020-06-25    AC                     12304                    335     True\n",
              "126  2020-06-25    AL                     32065                    958     True\n",
              "188  2020-06-25    AM                     67267                   2731     True\n",
              "205  2020-06-25    AP                     27415                    394     True\n",
              "586  2020-06-25    BA                     54291                   1601     True"
            ]
          },
          "metadata": {
            "tags": []
          },
          "execution_count": 19
        }
      ]
    },
    {
      "cell_type": "code",
      "metadata": {
        "id": "WsBf8MBi21fZ",
        "colab_type": "code",
        "colab": {}
      },
      "source": [
        "#Criando um Data Frame vazio.\n",
        "covid = pd.DataFrame()"
      ],
      "execution_count": 20,
      "outputs": []
    },
    {
      "cell_type": "code",
      "metadata": {
        "id": "e2aUaKXS26ni",
        "colab_type": "code",
        "colab": {}
      },
      "source": [
        "#Criação de variáveis locais p/ manipulação futura.\n",
        "state = \"SP\"\n",
        "situation = \"last_available_confirmed\""
      ],
      "execution_count": 24,
      "outputs": []
    },
    {
      "cell_type": "code",
      "metadata": {
        "id": "f2PSSmeN5B9L",
        "colab_type": "code",
        "colab": {
          "base_uri": "https://localhost:8080/",
          "height": 198
        },
        "outputId": "8b3c49d0-1bfb-42dc-c623-ee02541f8b64"
      },
      "source": [
        "#Criação de novo DataFrame correlacionando apenas um estado em específico (Variável state).\n",
        "data_state =  data.loc[data.state == state, :]\n",
        "data_state.head()"
      ],
      "execution_count": 25,
      "outputs": [
        {
          "output_type": "execute_result",
          "data": {
            "text/html": [
              "<div>\n",
              "<style scoped>\n",
              "    .dataframe tbody tr th:only-of-type {\n",
              "        vertical-align: middle;\n",
              "    }\n",
              "\n",
              "    .dataframe tbody tr th {\n",
              "        vertical-align: top;\n",
              "    }\n",
              "\n",
              "    .dataframe thead th {\n",
              "        text-align: right;\n",
              "    }\n",
              "</style>\n",
              "<table border=\"1\" class=\"dataframe\">\n",
              "  <thead>\n",
              "    <tr style=\"text-align: right;\">\n",
              "      <th></th>\n",
              "      <th>date</th>\n",
              "      <th>state</th>\n",
              "      <th>last_available_confirmed</th>\n",
              "      <th>last_available_deaths</th>\n",
              "      <th>is_last</th>\n",
              "    </tr>\n",
              "  </thead>\n",
              "  <tbody>\n",
              "    <tr>\n",
              "      <th>4916</th>\n",
              "      <td>2020-06-25</td>\n",
              "      <td>SP</td>\n",
              "      <td>248587</td>\n",
              "      <td>13759</td>\n",
              "      <td>True</td>\n",
              "    </tr>\n",
              "    <tr>\n",
              "      <th>9954</th>\n",
              "      <td>2020-06-24</td>\n",
              "      <td>SP</td>\n",
              "      <td>238822</td>\n",
              "      <td>13352</td>\n",
              "      <td>False</td>\n",
              "    </tr>\n",
              "    <tr>\n",
              "      <th>14976</th>\n",
              "      <td>2020-06-23</td>\n",
              "      <td>SP</td>\n",
              "      <td>229475</td>\n",
              "      <td>13068</td>\n",
              "      <td>False</td>\n",
              "    </tr>\n",
              "    <tr>\n",
              "      <th>19968</th>\n",
              "      <td>2020-06-22</td>\n",
              "      <td>SP</td>\n",
              "      <td>221973</td>\n",
              "      <td>12634</td>\n",
              "      <td>False</td>\n",
              "    </tr>\n",
              "    <tr>\n",
              "      <th>24943</th>\n",
              "      <td>2020-06-21</td>\n",
              "      <td>SP</td>\n",
              "      <td>219185</td>\n",
              "      <td>12588</td>\n",
              "      <td>False</td>\n",
              "    </tr>\n",
              "  </tbody>\n",
              "</table>\n",
              "</div>"
            ],
            "text/plain": [
              "             date state  ...  last_available_deaths  is_last\n",
              "4916   2020-06-25    SP  ...                  13759     True\n",
              "9954   2020-06-24    SP  ...                  13352    False\n",
              "14976  2020-06-23    SP  ...                  13068    False\n",
              "19968  2020-06-22    SP  ...                  12634    False\n",
              "24943  2020-06-21    SP  ...                  12588    False\n",
              "\n",
              "[5 rows x 5 columns]"
            ]
          },
          "metadata": {
            "tags": []
          },
          "execution_count": 25
        }
      ]
    },
    {
      "cell_type": "code",
      "metadata": {
        "id": "F9SVZnAF3ni4",
        "colab_type": "code",
        "colab": {
          "base_uri": "https://localhost:8080/",
          "height": 407
        },
        "outputId": "a9bad7ea-6332-45b1-eab7-ddc6d22f18b5"
      },
      "source": [
        "#Reestruturar DataFrame agrupando as variáveis de Data e o Somatório de Casos Confirmados, mostrando a evolução ao longo dos dias.\n",
        "data_state = data_state.groupby('date').sum()[situation].reset_index()\n",
        "data_state"
      ],
      "execution_count": 26,
      "outputs": [
        {
          "output_type": "execute_result",
          "data": {
            "text/html": [
              "<div>\n",
              "<style scoped>\n",
              "    .dataframe tbody tr th:only-of-type {\n",
              "        vertical-align: middle;\n",
              "    }\n",
              "\n",
              "    .dataframe tbody tr th {\n",
              "        vertical-align: top;\n",
              "    }\n",
              "\n",
              "    .dataframe thead th {\n",
              "        text-align: right;\n",
              "    }\n",
              "</style>\n",
              "<table border=\"1\" class=\"dataframe\">\n",
              "  <thead>\n",
              "    <tr style=\"text-align: right;\">\n",
              "      <th></th>\n",
              "      <th>date</th>\n",
              "      <th>last_available_confirmed</th>\n",
              "    </tr>\n",
              "  </thead>\n",
              "  <tbody>\n",
              "    <tr>\n",
              "      <th>0</th>\n",
              "      <td>2020-02-25</td>\n",
              "      <td>1</td>\n",
              "    </tr>\n",
              "    <tr>\n",
              "      <th>1</th>\n",
              "      <td>2020-02-26</td>\n",
              "      <td>1</td>\n",
              "    </tr>\n",
              "    <tr>\n",
              "      <th>2</th>\n",
              "      <td>2020-02-27</td>\n",
              "      <td>1</td>\n",
              "    </tr>\n",
              "    <tr>\n",
              "      <th>3</th>\n",
              "      <td>2020-02-28</td>\n",
              "      <td>2</td>\n",
              "    </tr>\n",
              "    <tr>\n",
              "      <th>4</th>\n",
              "      <td>2020-02-29</td>\n",
              "      <td>2</td>\n",
              "    </tr>\n",
              "    <tr>\n",
              "      <th>...</th>\n",
              "      <td>...</td>\n",
              "      <td>...</td>\n",
              "    </tr>\n",
              "    <tr>\n",
              "      <th>117</th>\n",
              "      <td>2020-06-21</td>\n",
              "      <td>219185</td>\n",
              "    </tr>\n",
              "    <tr>\n",
              "      <th>118</th>\n",
              "      <td>2020-06-22</td>\n",
              "      <td>221973</td>\n",
              "    </tr>\n",
              "    <tr>\n",
              "      <th>119</th>\n",
              "      <td>2020-06-23</td>\n",
              "      <td>229475</td>\n",
              "    </tr>\n",
              "    <tr>\n",
              "      <th>120</th>\n",
              "      <td>2020-06-24</td>\n",
              "      <td>238822</td>\n",
              "    </tr>\n",
              "    <tr>\n",
              "      <th>121</th>\n",
              "      <td>2020-06-25</td>\n",
              "      <td>248587</td>\n",
              "    </tr>\n",
              "  </tbody>\n",
              "</table>\n",
              "<p>122 rows × 2 columns</p>\n",
              "</div>"
            ],
            "text/plain": [
              "           date  last_available_confirmed\n",
              "0    2020-02-25                         1\n",
              "1    2020-02-26                         1\n",
              "2    2020-02-27                         1\n",
              "3    2020-02-28                         2\n",
              "4    2020-02-29                         2\n",
              "..          ...                       ...\n",
              "117  2020-06-21                    219185\n",
              "118  2020-06-22                    221973\n",
              "119  2020-06-23                    229475\n",
              "120  2020-06-24                    238822\n",
              "121  2020-06-25                    248587\n",
              "\n",
              "[122 rows x 2 columns]"
            ]
          },
          "metadata": {
            "tags": []
          },
          "execution_count": 26
        }
      ]
    },
    {
      "cell_type": "code",
      "metadata": {
        "id": "AST6jQdq6TVM",
        "colab_type": "code",
        "colab": {}
      },
      "source": [
        "#Removendo a coluna Date por questão de influência no estudo.\n",
        "data_state = data_state.drop(columns=['date'])"
      ],
      "execution_count": 28,
      "outputs": []
    },
    {
      "cell_type": "code",
      "metadata": {
        "id": "X-lDY7as8IXn",
        "colab_type": "code",
        "colab": {
          "base_uri": "https://localhost:8080/",
          "height": 407
        },
        "outputId": "3c4f2d97-2067-48ce-d42a-586ec96a8a88"
      },
      "source": [
        "#Renomeando a coluna no DataFrame e exibindo o Estado correspondente.\n",
        "data_state.columns = [state]\n",
        "data_state"
      ],
      "execution_count": 29,
      "outputs": [
        {
          "output_type": "execute_result",
          "data": {
            "text/html": [
              "<div>\n",
              "<style scoped>\n",
              "    .dataframe tbody tr th:only-of-type {\n",
              "        vertical-align: middle;\n",
              "    }\n",
              "\n",
              "    .dataframe tbody tr th {\n",
              "        vertical-align: top;\n",
              "    }\n",
              "\n",
              "    .dataframe thead th {\n",
              "        text-align: right;\n",
              "    }\n",
              "</style>\n",
              "<table border=\"1\" class=\"dataframe\">\n",
              "  <thead>\n",
              "    <tr style=\"text-align: right;\">\n",
              "      <th></th>\n",
              "      <th>SP</th>\n",
              "    </tr>\n",
              "  </thead>\n",
              "  <tbody>\n",
              "    <tr>\n",
              "      <th>0</th>\n",
              "      <td>1</td>\n",
              "    </tr>\n",
              "    <tr>\n",
              "      <th>1</th>\n",
              "      <td>1</td>\n",
              "    </tr>\n",
              "    <tr>\n",
              "      <th>2</th>\n",
              "      <td>1</td>\n",
              "    </tr>\n",
              "    <tr>\n",
              "      <th>3</th>\n",
              "      <td>2</td>\n",
              "    </tr>\n",
              "    <tr>\n",
              "      <th>4</th>\n",
              "      <td>2</td>\n",
              "    </tr>\n",
              "    <tr>\n",
              "      <th>...</th>\n",
              "      <td>...</td>\n",
              "    </tr>\n",
              "    <tr>\n",
              "      <th>117</th>\n",
              "      <td>219185</td>\n",
              "    </tr>\n",
              "    <tr>\n",
              "      <th>118</th>\n",
              "      <td>221973</td>\n",
              "    </tr>\n",
              "    <tr>\n",
              "      <th>119</th>\n",
              "      <td>229475</td>\n",
              "    </tr>\n",
              "    <tr>\n",
              "      <th>120</th>\n",
              "      <td>238822</td>\n",
              "    </tr>\n",
              "    <tr>\n",
              "      <th>121</th>\n",
              "      <td>248587</td>\n",
              "    </tr>\n",
              "  </tbody>\n",
              "</table>\n",
              "<p>122 rows × 1 columns</p>\n",
              "</div>"
            ],
            "text/plain": [
              "         SP\n",
              "0         1\n",
              "1         1\n",
              "2         1\n",
              "3         2\n",
              "4         2\n",
              "..      ...\n",
              "117  219185\n",
              "118  221973\n",
              "119  229475\n",
              "120  238822\n",
              "121  248587\n",
              "\n",
              "[122 rows x 1 columns]"
            ]
          },
          "metadata": {
            "tags": []
          },
          "execution_count": 29
        }
      ]
    },
    {
      "cell_type": "code",
      "metadata": {
        "id": "HfG44cmn8V-r",
        "colab_type": "code",
        "colab": {
          "base_uri": "https://localhost:8080/",
          "height": 407
        },
        "outputId": "e2acdd83-263b-44b2-eb65-cfebeefb80d0"
      },
      "source": [
        "#Concatenando dois DataFrames\n",
        "covid = pd.concat([covid, data_state], ignore_index=False, axis=1)\n",
        "covid"
      ],
      "execution_count": 30,
      "outputs": [
        {
          "output_type": "execute_result",
          "data": {
            "text/html": [
              "<div>\n",
              "<style scoped>\n",
              "    .dataframe tbody tr th:only-of-type {\n",
              "        vertical-align: middle;\n",
              "    }\n",
              "\n",
              "    .dataframe tbody tr th {\n",
              "        vertical-align: top;\n",
              "    }\n",
              "\n",
              "    .dataframe thead th {\n",
              "        text-align: right;\n",
              "    }\n",
              "</style>\n",
              "<table border=\"1\" class=\"dataframe\">\n",
              "  <thead>\n",
              "    <tr style=\"text-align: right;\">\n",
              "      <th></th>\n",
              "      <th>SP</th>\n",
              "    </tr>\n",
              "  </thead>\n",
              "  <tbody>\n",
              "    <tr>\n",
              "      <th>0</th>\n",
              "      <td>1</td>\n",
              "    </tr>\n",
              "    <tr>\n",
              "      <th>1</th>\n",
              "      <td>1</td>\n",
              "    </tr>\n",
              "    <tr>\n",
              "      <th>2</th>\n",
              "      <td>1</td>\n",
              "    </tr>\n",
              "    <tr>\n",
              "      <th>3</th>\n",
              "      <td>2</td>\n",
              "    </tr>\n",
              "    <tr>\n",
              "      <th>4</th>\n",
              "      <td>2</td>\n",
              "    </tr>\n",
              "    <tr>\n",
              "      <th>...</th>\n",
              "      <td>...</td>\n",
              "    </tr>\n",
              "    <tr>\n",
              "      <th>117</th>\n",
              "      <td>219185</td>\n",
              "    </tr>\n",
              "    <tr>\n",
              "      <th>118</th>\n",
              "      <td>221973</td>\n",
              "    </tr>\n",
              "    <tr>\n",
              "      <th>119</th>\n",
              "      <td>229475</td>\n",
              "    </tr>\n",
              "    <tr>\n",
              "      <th>120</th>\n",
              "      <td>238822</td>\n",
              "    </tr>\n",
              "    <tr>\n",
              "      <th>121</th>\n",
              "      <td>248587</td>\n",
              "    </tr>\n",
              "  </tbody>\n",
              "</table>\n",
              "<p>122 rows × 1 columns</p>\n",
              "</div>"
            ],
            "text/plain": [
              "         SP\n",
              "0         1\n",
              "1         1\n",
              "2         1\n",
              "3         2\n",
              "4         2\n",
              "..      ...\n",
              "117  219185\n",
              "118  221973\n",
              "119  229475\n",
              "120  238822\n",
              "121  248587\n",
              "\n",
              "[122 rows x 1 columns]"
            ]
          },
          "metadata": {
            "tags": []
          },
          "execution_count": 30
        }
      ]
    },
    {
      "cell_type": "code",
      "metadata": {
        "id": "nH7HHjyO8Pmy",
        "colab_type": "code",
        "colab": {
          "base_uri": "https://localhost:8080/",
          "height": 407
        },
        "outputId": "ac817e2a-5347-4194-d45a-5f8fc5f2ef3d"
      },
      "source": [
        "#Processo Geral p/ Criação do DataFrame com os número de casos por estados e os dias respectivos:\n",
        "\n",
        "#Defino o Estado e Tipo de Caso\n",
        "state = \"RJ\"\n",
        "situation = \"last_available_confirmed\"\n",
        "#Manipulo o DataFrame para relacionar somente o estado, com o número acumulado de casos confirmados\n",
        "data_state =  data.loc[data.state == state, :]\n",
        "data_state = data_state.groupby('date').sum()[situation].reset_index()\n",
        "#Retiro a Coluna de Date e renomeio a coluna com a Sigla do Estado\n",
        "data_state = data_state.drop(columns=['date'])\n",
        "data_state.columns = [state]\n",
        "#Faço a concatenação entre o DataFrame covid e o data_state com o estado\n",
        "covid = pd.concat([covid, data_state], ignore_index=False, axis=1)\n",
        "covid"
      ],
      "execution_count": 31,
      "outputs": [
        {
          "output_type": "execute_result",
          "data": {
            "text/html": [
              "<div>\n",
              "<style scoped>\n",
              "    .dataframe tbody tr th:only-of-type {\n",
              "        vertical-align: middle;\n",
              "    }\n",
              "\n",
              "    .dataframe tbody tr th {\n",
              "        vertical-align: top;\n",
              "    }\n",
              "\n",
              "    .dataframe thead th {\n",
              "        text-align: right;\n",
              "    }\n",
              "</style>\n",
              "<table border=\"1\" class=\"dataframe\">\n",
              "  <thead>\n",
              "    <tr style=\"text-align: right;\">\n",
              "      <th></th>\n",
              "      <th>SP</th>\n",
              "      <th>RJ</th>\n",
              "    </tr>\n",
              "  </thead>\n",
              "  <tbody>\n",
              "    <tr>\n",
              "      <th>0</th>\n",
              "      <td>1</td>\n",
              "      <td>1.0</td>\n",
              "    </tr>\n",
              "    <tr>\n",
              "      <th>1</th>\n",
              "      <td>1</td>\n",
              "      <td>2.0</td>\n",
              "    </tr>\n",
              "    <tr>\n",
              "      <th>2</th>\n",
              "      <td>1</td>\n",
              "      <td>2.0</td>\n",
              "    </tr>\n",
              "    <tr>\n",
              "      <th>3</th>\n",
              "      <td>2</td>\n",
              "      <td>3.0</td>\n",
              "    </tr>\n",
              "    <tr>\n",
              "      <th>4</th>\n",
              "      <td>2</td>\n",
              "      <td>3.0</td>\n",
              "    </tr>\n",
              "    <tr>\n",
              "      <th>...</th>\n",
              "      <td>...</td>\n",
              "      <td>...</td>\n",
              "    </tr>\n",
              "    <tr>\n",
              "      <th>117</th>\n",
              "      <td>219185</td>\n",
              "      <td>NaN</td>\n",
              "    </tr>\n",
              "    <tr>\n",
              "      <th>118</th>\n",
              "      <td>221973</td>\n",
              "      <td>NaN</td>\n",
              "    </tr>\n",
              "    <tr>\n",
              "      <th>119</th>\n",
              "      <td>229475</td>\n",
              "      <td>NaN</td>\n",
              "    </tr>\n",
              "    <tr>\n",
              "      <th>120</th>\n",
              "      <td>238822</td>\n",
              "      <td>NaN</td>\n",
              "    </tr>\n",
              "    <tr>\n",
              "      <th>121</th>\n",
              "      <td>248587</td>\n",
              "      <td>NaN</td>\n",
              "    </tr>\n",
              "  </tbody>\n",
              "</table>\n",
              "<p>122 rows × 2 columns</p>\n",
              "</div>"
            ],
            "text/plain": [
              "         SP   RJ\n",
              "0         1  1.0\n",
              "1         1  2.0\n",
              "2         1  2.0\n",
              "3         2  3.0\n",
              "4         2  3.0\n",
              "..      ...  ...\n",
              "117  219185  NaN\n",
              "118  221973  NaN\n",
              "119  229475  NaN\n",
              "120  238822  NaN\n",
              "121  248587  NaN\n",
              "\n",
              "[122 rows x 2 columns]"
            ]
          },
          "metadata": {
            "tags": []
          },
          "execution_count": 31
        }
      ]
    },
    {
      "cell_type": "code",
      "metadata": {
        "id": "huwp06xf-o_V",
        "colab_type": "code",
        "colab": {
          "base_uri": "https://localhost:8080/",
          "height": 283
        },
        "outputId": "ff09f425-4d47-4405-98aa-0a765113433f"
      },
      "source": [
        "#Plotando Gráfico de Linha para comparação entre os estados.\n",
        "covid.plot()"
      ],
      "execution_count": 32,
      "outputs": [
        {
          "output_type": "execute_result",
          "data": {
            "text/plain": [
              "<matplotlib.axes._subplots.AxesSubplot at 0x7f236cc2a518>"
            ]
          },
          "metadata": {
            "tags": []
          },
          "execution_count": 32
        },
        {
          "output_type": "display_data",
          "data": {
            "image/png": "[encoded data removed]",
            "text/plain": [
              "<Figure size 432x288 with 1 Axes>"
            ]
          },
          "metadata": {
            "tags": [],
            "needs_background": "light"
          }
        }
      ]
    },
    {
      "cell_type": "markdown",
      "metadata": {
        "id": "VBlMoYTv2Ff_",
        "colab_type": "text"
      },
      "source": [
        "# Automatizando o Processo e Comparando Dados"
      ]
    },
    {
      "cell_type": "code",
      "metadata": {
        "colab_type": "code",
        "id": "4CKIZ2tSCmJW",
        "colab": {}
      },
      "source": [
        "#Processo Geral p/ Criação do DataFrame com os número de casos por estados e os dias respectivos, função Generalizada:\n",
        "def since_the_first (data, states, days, situation):\n",
        "\n",
        "  covid = pd.DataFrame()\n",
        "\n",
        "  for state in states:\n",
        "    try:\n",
        "       data_state =  data.loc[data.state == state, : ]\n",
        "       data_state = data_state.groupby('date').sum()[situation].reset_index()\n",
        "       data_state = data_state.drop(columns=['date'])\n",
        "       data_state.columns = [state]\n",
        "       covid = pd.concat([covid, data_state], ignore_index=False, axis=1)\n",
        "\n",
        "    except: \n",
        "      print('Is not ' + situation + 'in' + state)\n",
        "\n",
        "  covid.columns = states\n",
        "\n",
        "  return covid.head(days)"
      ],
      "execution_count": 33,
      "outputs": []
    },
    {
      "cell_type": "code",
      "metadata": {
        "id": "D23u8VLXCm9B",
        "colab_type": "code",
        "colab": {
          "base_uri": "https://localhost:8080/",
          "height": 407
        },
        "outputId": "9e8850ed-12c5-419c-eedc-d3c146eac0c9"
      },
      "source": [
        "#Casos Confirmados em comparação nos três estados, SP, RJ E CE.\n",
        "data_state = since_the_first(data, ['SP', 'RJ', 'CE'], 110, 'last_available_confirmed')\n",
        "data_state"
      ],
      "execution_count": 36,
      "outputs": [
        {
          "output_type": "execute_result",
          "data": {
            "text/html": [
              "<div>\n",
              "<style scoped>\n",
              "    .dataframe tbody tr th:only-of-type {\n",
              "        vertical-align: middle;\n",
              "    }\n",
              "\n",
              "    .dataframe tbody tr th {\n",
              "        vertical-align: top;\n",
              "    }\n",
              "\n",
              "    .dataframe thead th {\n",
              "        text-align: right;\n",
              "    }\n",
              "</style>\n",
              "<table border=\"1\" class=\"dataframe\">\n",
              "  <thead>\n",
              "    <tr style=\"text-align: right;\">\n",
              "      <th></th>\n",
              "      <th>SP</th>\n",
              "      <th>RJ</th>\n",
              "      <th>CE</th>\n",
              "    </tr>\n",
              "  </thead>\n",
              "  <tbody>\n",
              "    <tr>\n",
              "      <th>0</th>\n",
              "      <td>1</td>\n",
              "      <td>1.0</td>\n",
              "      <td>9.0</td>\n",
              "    </tr>\n",
              "    <tr>\n",
              "      <th>1</th>\n",
              "      <td>1</td>\n",
              "      <td>2.0</td>\n",
              "      <td>10.0</td>\n",
              "    </tr>\n",
              "    <tr>\n",
              "      <th>2</th>\n",
              "      <td>1</td>\n",
              "      <td>2.0</td>\n",
              "      <td>19.0</td>\n",
              "    </tr>\n",
              "    <tr>\n",
              "      <th>3</th>\n",
              "      <td>2</td>\n",
              "      <td>3.0</td>\n",
              "      <td>24.0</td>\n",
              "    </tr>\n",
              "    <tr>\n",
              "      <th>4</th>\n",
              "      <td>2</td>\n",
              "      <td>3.0</td>\n",
              "      <td>68.0</td>\n",
              "    </tr>\n",
              "    <tr>\n",
              "      <th>...</th>\n",
              "      <td>...</td>\n",
              "      <td>...</td>\n",
              "      <td>...</td>\n",
              "    </tr>\n",
              "    <tr>\n",
              "      <th>105</th>\n",
              "      <td>150138</td>\n",
              "      <td>87317.0</td>\n",
              "      <td>NaN</td>\n",
              "    </tr>\n",
              "    <tr>\n",
              "      <th>106</th>\n",
              "      <td>156316</td>\n",
              "      <td>93378.0</td>\n",
              "      <td>NaN</td>\n",
              "    </tr>\n",
              "    <tr>\n",
              "      <th>107</th>\n",
              "      <td>162520</td>\n",
              "      <td>95537.0</td>\n",
              "      <td>NaN</td>\n",
              "    </tr>\n",
              "    <tr>\n",
              "      <th>108</th>\n",
              "      <td>167900</td>\n",
              "      <td>96133.0</td>\n",
              "      <td>NaN</td>\n",
              "    </tr>\n",
              "    <tr>\n",
              "      <th>109</th>\n",
              "      <td>172875</td>\n",
              "      <td>97572.0</td>\n",
              "      <td>NaN</td>\n",
              "    </tr>\n",
              "  </tbody>\n",
              "</table>\n",
              "<p>110 rows × 3 columns</p>\n",
              "</div>"
            ],
            "text/plain": [
              "         SP       RJ    CE\n",
              "0         1      1.0   9.0\n",
              "1         1      2.0  10.0\n",
              "2         1      2.0  19.0\n",
              "3         2      3.0  24.0\n",
              "4         2      3.0  68.0\n",
              "..      ...      ...   ...\n",
              "105  150138  87317.0   NaN\n",
              "106  156316  93378.0   NaN\n",
              "107  162520  95537.0   NaN\n",
              "108  167900  96133.0   NaN\n",
              "109  172875  97572.0   NaN\n",
              "\n",
              "[110 rows x 3 columns]"
            ]
          },
          "metadata": {
            "tags": []
          },
          "execution_count": 36
        }
      ]
    },
    {
      "cell_type": "code",
      "metadata": {
        "id": "jIb0LSegFGYF",
        "colab_type": "code",
        "colab": {
          "base_uri": "https://localhost:8080/",
          "height": 283
        },
        "outputId": "59b688b5-b626-448f-8ff5-1d2341021c13"
      },
      "source": [
        "#Plotando o Gráfico Linear para comparação do número de casos nos três estados [SP, CE, RJ].\n",
        "data_state.plot()"
      ],
      "execution_count": 37,
      "outputs": [
        {
          "output_type": "execute_result",
          "data": {
            "text/plain": [
              "<matplotlib.axes._subplots.AxesSubplot at 0x7f236cbd6b38>"
            ]
          },
          "metadata": {
            "tags": []
          },
          "execution_count": 37
        },
        {
          "output_type": "display_data",
          "data": {
            "image/png": "[encoded data removed]",
            "text/plain": [
              "<Figure size 432x288 with 1 Axes>"
            ]
          },
          "metadata": {
            "tags": [],
            "needs_background": "light"
          }
        }
      ]
    },
    {
      "cell_type": "code",
      "metadata": {
        "id": "JRD3MzN5DJUj",
        "colab_type": "code",
        "colab": {
          "base_uri": "https://localhost:8080/",
          "height": 407
        },
        "outputId": "2c5dd5ba-9696-4772-bf7b-614f4e68f48b"
      },
      "source": [
        "#Mortes em comparação nos três estados, SP, RJ E CE\n",
        "data_state = since_the_first(data, ['SP', 'RJ', 'CE'], 110, 'last_available_deaths')\n",
        "data_state"
      ],
      "execution_count": 38,
      "outputs": [
        {
          "output_type": "execute_result",
          "data": {
            "text/html": [
              "<div>\n",
              "<style scoped>\n",
              "    .dataframe tbody tr th:only-of-type {\n",
              "        vertical-align: middle;\n",
              "    }\n",
              "\n",
              "    .dataframe tbody tr th {\n",
              "        vertical-align: top;\n",
              "    }\n",
              "\n",
              "    .dataframe thead th {\n",
              "        text-align: right;\n",
              "    }\n",
              "</style>\n",
              "<table border=\"1\" class=\"dataframe\">\n",
              "  <thead>\n",
              "    <tr style=\"text-align: right;\">\n",
              "      <th></th>\n",
              "      <th>SP</th>\n",
              "      <th>RJ</th>\n",
              "      <th>CE</th>\n",
              "    </tr>\n",
              "  </thead>\n",
              "  <tbody>\n",
              "    <tr>\n",
              "      <th>0</th>\n",
              "      <td>0</td>\n",
              "      <td>0.0</td>\n",
              "      <td>0.0</td>\n",
              "    </tr>\n",
              "    <tr>\n",
              "      <th>1</th>\n",
              "      <td>0</td>\n",
              "      <td>0.0</td>\n",
              "      <td>0.0</td>\n",
              "    </tr>\n",
              "    <tr>\n",
              "      <th>2</th>\n",
              "      <td>0</td>\n",
              "      <td>0.0</td>\n",
              "      <td>0.0</td>\n",
              "    </tr>\n",
              "    <tr>\n",
              "      <th>3</th>\n",
              "      <td>0</td>\n",
              "      <td>0.0</td>\n",
              "      <td>0.0</td>\n",
              "    </tr>\n",
              "    <tr>\n",
              "      <th>4</th>\n",
              "      <td>0</td>\n",
              "      <td>0.0</td>\n",
              "      <td>0.0</td>\n",
              "    </tr>\n",
              "    <tr>\n",
              "      <th>...</th>\n",
              "      <td>...</td>\n",
              "      <td>...</td>\n",
              "      <td>...</td>\n",
              "    </tr>\n",
              "    <tr>\n",
              "      <th>105</th>\n",
              "      <td>9522</td>\n",
              "      <td>8412.0</td>\n",
              "      <td>NaN</td>\n",
              "    </tr>\n",
              "    <tr>\n",
              "      <th>106</th>\n",
              "      <td>9862</td>\n",
              "      <td>8595.0</td>\n",
              "      <td>NaN</td>\n",
              "    </tr>\n",
              "    <tr>\n",
              "      <th>107</th>\n",
              "      <td>10145</td>\n",
              "      <td>8824.0</td>\n",
              "      <td>NaN</td>\n",
              "    </tr>\n",
              "    <tr>\n",
              "      <th>108</th>\n",
              "      <td>10368</td>\n",
              "      <td>8875.0</td>\n",
              "      <td>NaN</td>\n",
              "    </tr>\n",
              "    <tr>\n",
              "      <th>109</th>\n",
              "      <td>10581</td>\n",
              "      <td>8933.0</td>\n",
              "      <td>NaN</td>\n",
              "    </tr>\n",
              "  </tbody>\n",
              "</table>\n",
              "<p>110 rows × 3 columns</p>\n",
              "</div>"
            ],
            "text/plain": [
              "        SP      RJ   CE\n",
              "0        0     0.0  0.0\n",
              "1        0     0.0  0.0\n",
              "2        0     0.0  0.0\n",
              "3        0     0.0  0.0\n",
              "4        0     0.0  0.0\n",
              "..     ...     ...  ...\n",
              "105   9522  8412.0  NaN\n",
              "106   9862  8595.0  NaN\n",
              "107  10145  8824.0  NaN\n",
              "108  10368  8875.0  NaN\n",
              "109  10581  8933.0  NaN\n",
              "\n",
              "[110 rows x 3 columns]"
            ]
          },
          "metadata": {
            "tags": []
          },
          "execution_count": 38
        }
      ]
    },
    {
      "cell_type": "code",
      "metadata": {
        "id": "PtBLsCSzE-MQ",
        "colab_type": "code",
        "colab": {
          "base_uri": "https://localhost:8080/",
          "height": 282
        },
        "outputId": "96da28da-5dd4-43d5-e109-a952e7c62e3a"
      },
      "source": [
        "#Plotando o Gráfico Linear para comparação do número de mortes nos três estados [SP, CE, RJ].\n",
        "data_state.plot()"
      ],
      "execution_count": null,
      "outputs": [
        {
          "output_type": "execute_result",
          "data": {
            "text/plain": [
              "<matplotlib.axes._subplots.AxesSubplot at 0x7fce53a73198>"
            ]
          },
          "metadata": {
            "tags": []
          },
          "execution_count": 23
        },
        {
          "output_type": "display_data",
          "data": {
            "image/png": "[encoded data removed]",
            "text/plain": [
              "<Figure size 432x288 with 1 Axes>"
            ]
          },
          "metadata": {
            "tags": [],
            "needs_background": "light"
          }
        }
      ]
    },
    {
      "cell_type": "code",
      "metadata": {
        "id": "Z-svEw-TF8-d",
        "colab_type": "code",
        "colab": {
          "base_uri": "https://localhost:8080/",
          "height": 283
        },
        "outputId": "1602ea54-d6e9-42a0-af76-f52fe720a30a"
      },
      "source": [
        "#Repetindo o processo para comparação entre diferentes estados.\n",
        "data_state = since_the_first(data, ['AM', 'CE'], 100, 'last_available_confirmed')\n",
        "data_state.plot()"
      ],
      "execution_count": 39,
      "outputs": [
        {
          "output_type": "execute_result",
          "data": {
            "text/plain": [
              "<matplotlib.axes._subplots.AxesSubplot at 0x7f236c6b1908>"
            ]
          },
          "metadata": {
            "tags": []
          },
          "execution_count": 39
        },
        {
          "output_type": "display_data",
          "data": {
            "image/png": "[encoded data removed]",
            "text/plain": [
              "<Figure size 432x288 with 1 Axes>"
            ]
          },
          "metadata": {
            "tags": [],
            "needs_background": "light"
          }
        }
      ]
    },
    {
      "cell_type": "code",
      "metadata": {
        "id": "6cRwO2xOGFrm",
        "colab_type": "code",
        "colab": {
          "base_uri": "https://localhost:8080/",
          "height": 283
        },
        "outputId": "1dc62c69-1bd0-48a5-c8e9-3fce368c8b2b"
      },
      "source": [
        "data_state = since_the_first(data, ['PE', 'CE'], 100, 'last_available_confirmed')\n",
        "data_state.plot()"
      ],
      "execution_count": 40,
      "outputs": [
        {
          "output_type": "execute_result",
          "data": {
            "text/plain": [
              "<matplotlib.axes._subplots.AxesSubplot at 0x7f236c629d30>"
            ]
          },
          "metadata": {
            "tags": []
          },
          "execution_count": 40
        },
        {
          "output_type": "display_data",
          "data": {
            "image/png": "[encoded data removed]",
            "text/plain": [
              "<Figure size 432x288 with 1 Axes>"
            ]
          },
          "metadata": {
            "tags": [],
            "needs_background": "light"
          }
        }
      ]
    },
    {
      "cell_type": "markdown",
      "metadata": {
        "id": "yiRP0P2B2Nri",
        "colab_type": "text"
      },
      "source": [
        "# Estudando a Correlação entre os Dados"
      ]
    },
    {
      "cell_type": "code",
      "metadata": {
        "id": "Epn-PUBKP-p0",
        "colab_type": "code",
        "colab": {}
      },
      "source": [
        "df_correlation = pd.DataFrame()"
      ],
      "execution_count": 47,
      "outputs": []
    },
    {
      "cell_type": "code",
      "metadata": {
        "id": "63nCcymaOfHB",
        "colab_type": "code",
        "colab": {}
      },
      "source": [
        "#Correlação entre Casos e Mortes utilizando Coeficiente de Correlação de Pearson.\n",
        "sp_confirmed = since_the_first(data, ['SP'], 110, 'last_available_confirmed')\n",
        "sp_deaths = since_the_first(data, ['SP'], 110, 'last_available_deaths')"
      ],
      "execution_count": 48,
      "outputs": []
    },
    {
      "cell_type": "code",
      "metadata": {
        "id": "9oHoA8ZhP0pE",
        "colab_type": "code",
        "colab": {}
      },
      "source": [
        "df_correlation  = pd.concat([df_correlation, sp_confirmed, sp_deaths], ignore_index=True, axis=1)"
      ],
      "execution_count": 49,
      "outputs": []
    },
    {
      "cell_type": "code",
      "metadata": {
        "id": "x8wwT0oPPmOM",
        "colab_type": "code",
        "colab": {
          "base_uri": "https://localhost:8080/",
          "height": 407
        },
        "outputId": "575e8c8c-0a2e-4b22-a68c-0ea9a11a936b"
      },
      "source": [
        "#Renomeando as Colunas do Data Frame, relativo aos Casos confirmados e as Mortes.\n",
        "df_correlation.columns = ['Cases', 'Deaths']\n",
        "df_correlation"
      ],
      "execution_count": 50,
      "outputs": [
        {
          "output_type": "execute_result",
          "data": {
            "text/html": [
              "<div>\n",
              "<style scoped>\n",
              "    .dataframe tbody tr th:only-of-type {\n",
              "        vertical-align: middle;\n",
              "    }\n",
              "\n",
              "    .dataframe tbody tr th {\n",
              "        vertical-align: top;\n",
              "    }\n",
              "\n",
              "    .dataframe thead th {\n",
              "        text-align: right;\n",
              "    }\n",
              "</style>\n",
              "<table border=\"1\" class=\"dataframe\">\n",
              "  <thead>\n",
              "    <tr style=\"text-align: right;\">\n",
              "      <th></th>\n",
              "      <th>Cases</th>\n",
              "      <th>Deaths</th>\n",
              "    </tr>\n",
              "  </thead>\n",
              "  <tbody>\n",
              "    <tr>\n",
              "      <th>0</th>\n",
              "      <td>1</td>\n",
              "      <td>0</td>\n",
              "    </tr>\n",
              "    <tr>\n",
              "      <th>1</th>\n",
              "      <td>1</td>\n",
              "      <td>0</td>\n",
              "    </tr>\n",
              "    <tr>\n",
              "      <th>2</th>\n",
              "      <td>1</td>\n",
              "      <td>0</td>\n",
              "    </tr>\n",
              "    <tr>\n",
              "      <th>3</th>\n",
              "      <td>2</td>\n",
              "      <td>0</td>\n",
              "    </tr>\n",
              "    <tr>\n",
              "      <th>4</th>\n",
              "      <td>2</td>\n",
              "      <td>0</td>\n",
              "    </tr>\n",
              "    <tr>\n",
              "      <th>...</th>\n",
              "      <td>...</td>\n",
              "      <td>...</td>\n",
              "    </tr>\n",
              "    <tr>\n",
              "      <th>105</th>\n",
              "      <td>150138</td>\n",
              "      <td>9522</td>\n",
              "    </tr>\n",
              "    <tr>\n",
              "      <th>106</th>\n",
              "      <td>156316</td>\n",
              "      <td>9862</td>\n",
              "    </tr>\n",
              "    <tr>\n",
              "      <th>107</th>\n",
              "      <td>162520</td>\n",
              "      <td>10145</td>\n",
              "    </tr>\n",
              "    <tr>\n",
              "      <th>108</th>\n",
              "      <td>167900</td>\n",
              "      <td>10368</td>\n",
              "    </tr>\n",
              "    <tr>\n",
              "      <th>109</th>\n",
              "      <td>172875</td>\n",
              "      <td>10581</td>\n",
              "    </tr>\n",
              "  </tbody>\n",
              "</table>\n",
              "<p>110 rows × 2 columns</p>\n",
              "</div>"
            ],
            "text/plain": [
              "      Cases  Deaths\n",
              "0         1       0\n",
              "1         1       0\n",
              "2         1       0\n",
              "3         2       0\n",
              "4         2       0\n",
              "..      ...     ...\n",
              "105  150138    9522\n",
              "106  156316    9862\n",
              "107  162520   10145\n",
              "108  167900   10368\n",
              "109  172875   10581\n",
              "\n",
              "[110 rows x 2 columns]"
            ]
          },
          "metadata": {
            "tags": []
          },
          "execution_count": 50
        }
      ]
    },
    {
      "cell_type": "code",
      "metadata": {
        "id": "bbUTE99gRg83",
        "colab_type": "code",
        "colab": {
          "base_uri": "https://localhost:8080/",
          "height": 283
        },
        "outputId": "887480e6-ffe9-4df3-c4da-9ee5a79748dd"
      },
      "source": [
        "#Plotando Gráfico Comparativo (Casos / Mortes) no mesmo Estado.\n",
        "df_correlation.plot()"
      ],
      "execution_count": 51,
      "outputs": [
        {
          "output_type": "execute_result",
          "data": {
            "text/plain": [
              "<matplotlib.axes._subplots.AxesSubplot at 0x7f236c51a2e8>"
            ]
          },
          "metadata": {
            "tags": []
          },
          "execution_count": 51
        },
        {
          "output_type": "display_data",
          "data": {
            "image/png": "[encoded data removed]",
            "text/plain": [
              "<Figure size 432x288 with 1 Axes>"
            ]
          },
          "metadata": {
            "tags": [],
            "needs_background": "light"
          }
        }
      ]
    },
    {
      "cell_type": "markdown",
      "metadata": {
        "id": "s3c5Cd0tz1ak",
        "colab_type": "text"
      },
      "source": [
        "Será utilizado o método de Pearson para identificar a correlação entre as duas variáveis.\n"
      ]
    },
    {
      "cell_type": "markdown",
      "metadata": {
        "id": "xLr4VwsJzpbC",
        "colab_type": "text"
      },
      "source": [
        "**Se as duas variáveis possuem o mesmo tipo de comportamento (ex: uma sobe e a outra sobe, ou uma sobe e a outra desce = correlação positiva).**\n",
        "\n",
        "**Se as duas variáveis possuem o diferentes tipos de comportamento (ex: uma sobe e a outra desce, ou uma desce e a outra sobe = correlação negativa).**"
      ]
    },
    {
      "cell_type": "code",
      "metadata": {
        "id": "TrOUtupJR1Qb",
        "colab_type": "code",
        "colab": {
          "base_uri": "https://localhost:8080/",
          "height": 108
        },
        "outputId": "52c76e19-a661-446c-b60d-2447b3da3f2c"
      },
      "source": [
        "df_correlation.corr(method=\"pearson\")"
      ],
      "execution_count": 57,
      "outputs": [
        {
          "output_type": "execute_result",
          "data": {
            "text/html": [
              "<div>\n",
              "<style scoped>\n",
              "    .dataframe tbody tr th:only-of-type {\n",
              "        vertical-align: middle;\n",
              "    }\n",
              "\n",
              "    .dataframe tbody tr th {\n",
              "        vertical-align: top;\n",
              "    }\n",
              "\n",
              "    .dataframe thead th {\n",
              "        text-align: right;\n",
              "    }\n",
              "</style>\n",
              "<table border=\"1\" class=\"dataframe\">\n",
              "  <thead>\n",
              "    <tr style=\"text-align: right;\">\n",
              "      <th></th>\n",
              "      <th>Cases</th>\n",
              "      <th>Deaths</th>\n",
              "    </tr>\n",
              "  </thead>\n",
              "  <tbody>\n",
              "    <tr>\n",
              "      <th>Cases</th>\n",
              "      <td>1.000000</td>\n",
              "      <td>0.994065</td>\n",
              "    </tr>\n",
              "    <tr>\n",
              "      <th>Deaths</th>\n",
              "      <td>0.994065</td>\n",
              "      <td>1.000000</td>\n",
              "    </tr>\n",
              "  </tbody>\n",
              "</table>\n",
              "</div>"
            ],
            "text/plain": [
              "           Cases    Deaths\n",
              "Cases   1.000000  0.994065\n",
              "Deaths  0.994065  1.000000"
            ]
          },
          "metadata": {
            "tags": []
          },
          "execution_count": 57
        }
      ]
    },
    {
      "cell_type": "markdown",
      "metadata": {
        "id": "IXTlacDUzEIR",
        "colab_type": "text"
      },
      "source": [
        "**É possível verificar a alta correlação positiva, sinalizando uma possibilidade: Quantos mais casos confirmados, mais mortes.**\n",
        "\n",
        "No entanto, apenas pelo coeficiente de correlação não é possível fazer afirmações como essa, mesmo que o cenário parece \"óbvio\", faz-se necessária a realização de testes estatísticos."
      ]
    },
    {
      "cell_type": "code",
      "metadata": {
        "id": "MiBfbPW3WLAO",
        "colab_type": "code",
        "colab": {}
      },
      "source": [
        "#Intalando a biblioteca scipy.\n",
        "#pip install scipy"
      ],
      "execution_count": 54,
      "outputs": []
    },
    {
      "cell_type": "code",
      "metadata": {
        "id": "9cIi1dYKX8P1",
        "colab_type": "code",
        "colab": {
          "base_uri": "https://localhost:8080/",
          "height": 272
        },
        "outputId": "36f13af2-dbed-40ea-96c2-bcc74565f395"
      },
      "source": [
        "#Pegando somente os valores da Coluna de casos e repassando para uma lista.\n",
        "confirmed = sp_confirmed['SP'].values\n",
        "confirmed"
      ],
      "execution_count": 55,
      "outputs": [
        {
          "output_type": "execute_result",
          "data": {
            "text/plain": [
              "array([     1,      1,      1,      2,      2,      2,      2,      2,\n",
              "            3,      6,     10,     13,     16,     16,     19,     30,\n",
              "           46,     46,     65,     65,    152,    164,    240,    286,\n",
              "          396,    396,    631,    745,    810,    862,   1052,   1223,\n",
              "         1406,   1451,   1517,   2339,   2981,   3506,   4048,   4466,\n",
              "         4620,   4866,   5682,   6708,   7480,   8216,   8419,   8755,\n",
              "         8895,   9371,  11043,  11568,  12841,  13894,  14267,  14580,\n",
              "        15385,  15914,  16740,  17826,  20004,  20715,  21696,  24041,\n",
              "        26158,  28698,  30374,  31174,  31772,  32187,  34053,  37853,\n",
              "        39928,  41830,  44411,  45444,  46131,  47719,  51097,  54286,\n",
              "        58378,  61183,  62345,  63066,  65995,  69859,  73739,  76871,\n",
              "        80558,  82161,  83625,  86017,  89483,  95865, 101556, 107142,\n",
              "       109698, 111296, 118295, 123483, 129200, 134565, 140549, 143073,\n",
              "       144593, 150138, 156316, 162520, 167900, 172875])"
            ]
          },
          "metadata": {
            "tags": []
          },
          "execution_count": 55
        }
      ]
    },
    {
      "cell_type": "code",
      "metadata": {
        "id": "2imNYaL6Z7VL",
        "colab_type": "code",
        "colab": {
          "base_uri": "https://localhost:8080/",
          "height": 254
        },
        "outputId": "b3294630-1c6a-48e2-cdb5-b5c29494010d"
      },
      "source": [
        "#Pegando somente os valores da Coluna de mortes e repassando para uma lista.\n",
        "deaths = sp_deaths['SP'].values\n",
        "deaths"
      ],
      "execution_count": 56,
      "outputs": [
        {
          "output_type": "execute_result",
          "data": {
            "text/plain": [
              "array([    0,     0,     0,     0,     0,     0,     0,     0,     0,\n",
              "           0,     0,     0,     0,     0,     0,     0,     0,     0,\n",
              "           0,     0,     0,     1,     3,     5,     9,    15,    22,\n",
              "          30,    40,    48,    58,    68,    84,    98,   113,   136,\n",
              "         164,   188,   219,   260,   275,   304,   371,   428,   496,\n",
              "         540,   560,   588,   608,   695,   778,   853,   928,   991,\n",
              "        1015,  1037,  1093,  1134,  1345,  1512,  1667,  1700,  1825,\n",
              "        2049,  2247,  2375,  2511,  2586,  2627,  2654,  2851,  3045,\n",
              "        3206,  3416,  3608,  3709,  3743,  3949,  4118,  4315,  4501,\n",
              "        4688,  4782,  4823,  5147,  5363,  5558,  5773,  6045,  6163,\n",
              "        6220,  6423,  6712,  6980,  7275,  7532,  7615,  7667,  7994,\n",
              "        8276,  8561,  8842,  9058,  9145,  9188,  9522,  9862, 10145,\n",
              "       10368, 10581])"
            ]
          },
          "metadata": {
            "tags": []
          },
          "execution_count": 56
        }
      ]
    },
    {
      "cell_type": "markdown",
      "metadata": {
        "id": "-MqnPFsh1b3y",
        "colab_type": "text"
      },
      "source": [
        "O Método retorna o coeficiente de correlação de Pearson e o p-Value.\n"
      ]
    },
    {
      "cell_type": "code",
      "metadata": {
        "id": "E55Ren_6Wguk",
        "colab_type": "code",
        "colab": {
          "base_uri": "https://localhost:8080/",
          "height": 35
        },
        "outputId": "73ad6386-47c4-4440-c864-2a8d2a5abfa9"
      },
      "source": [
        "#Importando o módulo stats da biblioteca scipy.\n",
        "from scipy import stats \n",
        "#Aplicando o método que calcula o coeficiente de correlação, através do método de Pearson para as variáveis Casos e Mortes.\n",
        "stats.pearsonr(confirmed, deaths)"
      ],
      "execution_count": 58,
      "outputs": [
        {
          "output_type": "execute_result",
          "data": {
            "text/plain": [
              "(0.9940654117543473, 6.851414639961591e-106)"
            ]
          },
          "metadata": {
            "tags": []
          },
          "execution_count": 58
        }
      ]
    },
    {
      "cell_type": "markdown",
      "metadata": {
        "id": "afMm-x0N0Aga",
        "colab_type": "text"
      },
      "source": [
        "Para determinar se o coeficiente de correlação é significativo:\n",
        "\n",
        "\n",
        "Geralmente utiliza-se 0.05 de significância, o que significa que a probabilidade de ser estimado que uma correlação existe quando ela não existe é de 5% (Falso Positivo)\n",
        "Se o p <= a: Correlação estatisticamente significativa\n",
        "Se o p > a: Correlação não é estatisticamente significativa \n",
        "Com 0.05 de significância, as duas variáveis (cases, deaths) possuem correlação estatisticamente significativa"
      ]
    },
    {
      "cell_type": "markdown",
      "metadata": {
        "id": "-A5fWymx0Uvv",
        "colab_type": "text"
      },
      "source": [
        "**Podemos repetir o processo para diferentes Estados.**"
      ]
    },
    {
      "cell_type": "code",
      "metadata": {
        "colab_type": "code",
        "id": "ZTCo_fBebsvu",
        "colab": {}
      },
      "source": [
        "df_correlation_ce = pd.DataFrame()"
      ],
      "execution_count": 60,
      "outputs": []
    },
    {
      "cell_type": "code",
      "metadata": {
        "colab_type": "code",
        "id": "5NnJcfhGbsv8",
        "colab": {}
      },
      "source": [
        "#Correlação entre Casos e Mortes utilizando Coeficiente de Correlação de Pearson.\n",
        "ce_confirmed = since_the_first(data, ['CE'], 100, 'last_available_confirmed')\n",
        "ce_deaths = since_the_first(data, ['CE'], 100, 'last_available_deaths')\n"
      ],
      "execution_count": 61,
      "outputs": []
    },
    {
      "cell_type": "code",
      "metadata": {
        "colab_type": "code",
        "id": "fr9GA_m2bswG",
        "colab": {}
      },
      "source": [
        "df_correlation_ce  = pd.concat([df_correlation_ce, ce_confirmed, ce_deaths], ignore_index=True, axis=1)"
      ],
      "execution_count": 62,
      "outputs": []
    },
    {
      "cell_type": "code",
      "metadata": {
        "colab_type": "code",
        "id": "mEfahMzebswO",
        "colab": {
          "base_uri": "https://localhost:8080/",
          "height": 407
        },
        "outputId": "5aa9539b-8115-488c-9f87-71f175545d81"
      },
      "source": [
        "df_correlation_ce.columns = ['Cases', 'Deeaths']\n",
        "df_correlation_ce"
      ],
      "execution_count": 63,
      "outputs": [
        {
          "output_type": "execute_result",
          "data": {
            "text/html": [
              "<div>\n",
              "<style scoped>\n",
              "    .dataframe tbody tr th:only-of-type {\n",
              "        vertical-align: middle;\n",
              "    }\n",
              "\n",
              "    .dataframe tbody tr th {\n",
              "        vertical-align: top;\n",
              "    }\n",
              "\n",
              "    .dataframe thead th {\n",
              "        text-align: right;\n",
              "    }\n",
              "</style>\n",
              "<table border=\"1\" class=\"dataframe\">\n",
              "  <thead>\n",
              "    <tr style=\"text-align: right;\">\n",
              "      <th></th>\n",
              "      <th>Cases</th>\n",
              "      <th>Deeaths</th>\n",
              "    </tr>\n",
              "  </thead>\n",
              "  <tbody>\n",
              "    <tr>\n",
              "      <th>0</th>\n",
              "      <td>9</td>\n",
              "      <td>0</td>\n",
              "    </tr>\n",
              "    <tr>\n",
              "      <th>1</th>\n",
              "      <td>10</td>\n",
              "      <td>0</td>\n",
              "    </tr>\n",
              "    <tr>\n",
              "      <th>2</th>\n",
              "      <td>19</td>\n",
              "      <td>0</td>\n",
              "    </tr>\n",
              "    <tr>\n",
              "      <th>3</th>\n",
              "      <td>24</td>\n",
              "      <td>0</td>\n",
              "    </tr>\n",
              "    <tr>\n",
              "      <th>4</th>\n",
              "      <td>68</td>\n",
              "      <td>0</td>\n",
              "    </tr>\n",
              "    <tr>\n",
              "      <th>...</th>\n",
              "      <td>...</td>\n",
              "      <td>...</td>\n",
              "    </tr>\n",
              "    <tr>\n",
              "      <th>95</th>\n",
              "      <td>90441</td>\n",
              "      <td>5497</td>\n",
              "    </tr>\n",
              "    <tr>\n",
              "      <th>96</th>\n",
              "      <td>92397</td>\n",
              "      <td>5520</td>\n",
              "    </tr>\n",
              "    <tr>\n",
              "      <th>97</th>\n",
              "      <td>92866</td>\n",
              "      <td>5523</td>\n",
              "    </tr>\n",
              "    <tr>\n",
              "      <th>98</th>\n",
              "      <td>94708</td>\n",
              "      <td>5618</td>\n",
              "    </tr>\n",
              "    <tr>\n",
              "      <th>99</th>\n",
              "      <td>98055</td>\n",
              "      <td>5728</td>\n",
              "    </tr>\n",
              "  </tbody>\n",
              "</table>\n",
              "<p>100 rows × 2 columns</p>\n",
              "</div>"
            ],
            "text/plain": [
              "    Cases  Deeaths\n",
              "0       9        0\n",
              "1      10        0\n",
              "2      19        0\n",
              "3      24        0\n",
              "4      68        0\n",
              "..    ...      ...\n",
              "95  90441     5497\n",
              "96  92397     5520\n",
              "97  92866     5523\n",
              "98  94708     5618\n",
              "99  98055     5728\n",
              "\n",
              "[100 rows x 2 columns]"
            ]
          },
          "metadata": {
            "tags": []
          },
          "execution_count": 63
        }
      ]
    },
    {
      "cell_type": "code",
      "metadata": {
        "colab_type": "code",
        "id": "kSUzl5mxbswT",
        "colab": {
          "base_uri": "https://localhost:8080/",
          "height": 283
        },
        "outputId": "b20719ed-c475-4f02-9476-1c350cbaba9e"
      },
      "source": [
        "df_correlation_ce.plot()"
      ],
      "execution_count": 64,
      "outputs": [
        {
          "output_type": "execute_result",
          "data": {
            "text/plain": [
              "<matplotlib.axes._subplots.AxesSubplot at 0x7f2362d14be0>"
            ]
          },
          "metadata": {
            "tags": []
          },
          "execution_count": 64
        },
        {
          "output_type": "display_data",
          "data": {
            "image/png": "[encoded data removed]",
            "text/plain": [
              "<Figure size 432x288 with 1 Axes>"
            ]
          },
          "metadata": {
            "tags": [],
            "needs_background": "light"
          }
        }
      ]
    },
    {
      "cell_type": "code",
      "metadata": {
        "colab_type": "code",
        "id": "dRrsOJD2bswX",
        "colab": {
          "base_uri": "https://localhost:8080/",
          "height": 108
        },
        "outputId": "19321165-c7dc-44c9-b8ad-1280508a7373"
      },
      "source": [
        "df_correlation_ce.corr(method=\"pearson\")"
      ],
      "execution_count": 65,
      "outputs": [
        {
          "output_type": "execute_result",
          "data": {
            "text/html": [
              "<div>\n",
              "<style scoped>\n",
              "    .dataframe tbody tr th:only-of-type {\n",
              "        vertical-align: middle;\n",
              "    }\n",
              "\n",
              "    .dataframe tbody tr th {\n",
              "        vertical-align: top;\n",
              "    }\n",
              "\n",
              "    .dataframe thead th {\n",
              "        text-align: right;\n",
              "    }\n",
              "</style>\n",
              "<table border=\"1\" class=\"dataframe\">\n",
              "  <thead>\n",
              "    <tr style=\"text-align: right;\">\n",
              "      <th></th>\n",
              "      <th>Cases</th>\n",
              "      <th>Deeaths</th>\n",
              "    </tr>\n",
              "  </thead>\n",
              "  <tbody>\n",
              "    <tr>\n",
              "      <th>Cases</th>\n",
              "      <td>1.000000</td>\n",
              "      <td>0.998128</td>\n",
              "    </tr>\n",
              "    <tr>\n",
              "      <th>Deeaths</th>\n",
              "      <td>0.998128</td>\n",
              "      <td>1.000000</td>\n",
              "    </tr>\n",
              "  </tbody>\n",
              "</table>\n",
              "</div>"
            ],
            "text/plain": [
              "            Cases   Deeaths\n",
              "Cases    1.000000  0.998128\n",
              "Deeaths  0.998128  1.000000"
            ]
          },
          "metadata": {
            "tags": []
          },
          "execution_count": 65
        }
      ]
    },
    {
      "cell_type": "markdown",
      "metadata": {
        "id": "E-ZWvbd40-mx",
        "colab_type": "text"
      },
      "source": [
        "**Como os dados para cada estado são diferentes, pode haver coeficientes de correlação diferentes.**\n",
        "\n",
        "Nesse caso, o coeficiente de correlação entre casos e mortes para o estado do Ceará é um pouco mais elevado que o de São Paulo. "
      ]
    },
    {
      "cell_type": "code",
      "metadata": {
        "colab_type": "code",
        "id": "NyKlhTstbswc",
        "colab": {
          "base_uri": "https://localhost:8080/",
          "height": 272
        },
        "outputId": "f1c6446f-028a-45da-d5f3-08e8e11d65a4"
      },
      "source": [
        "confirmed_ce = ce_confirmed['CE'].values\n",
        "confirmed"
      ],
      "execution_count": 66,
      "outputs": [
        {
          "output_type": "execute_result",
          "data": {
            "text/plain": [
              "array([     1,      1,      1,      2,      2,      2,      2,      2,\n",
              "            3,      6,     10,     13,     16,     16,     19,     30,\n",
              "           46,     46,     65,     65,    152,    164,    240,    286,\n",
              "          396,    396,    631,    745,    810,    862,   1052,   1223,\n",
              "         1406,   1451,   1517,   2339,   2981,   3506,   4048,   4466,\n",
              "         4620,   4866,   5682,   6708,   7480,   8216,   8419,   8755,\n",
              "         8895,   9371,  11043,  11568,  12841,  13894,  14267,  14580,\n",
              "        15385,  15914,  16740,  17826,  20004,  20715,  21696,  24041,\n",
              "        26158,  28698,  30374,  31174,  31772,  32187,  34053,  37853,\n",
              "        39928,  41830,  44411,  45444,  46131,  47719,  51097,  54286,\n",
              "        58378,  61183,  62345,  63066,  65995,  69859,  73739,  76871,\n",
              "        80558,  82161,  83625,  86017,  89483,  95865, 101556, 107142,\n",
              "       109698, 111296, 118295, 123483, 129200, 134565, 140549, 143073,\n",
              "       144593, 150138, 156316, 162520, 167900, 172875])"
            ]
          },
          "metadata": {
            "tags": []
          },
          "execution_count": 66
        }
      ]
    },
    {
      "cell_type": "code",
      "metadata": {
        "colab_type": "code",
        "id": "S_9kE6cMbswf",
        "colab": {
          "base_uri": "https://localhost:8080/",
          "height": 199
        },
        "outputId": "4a437854-1ac8-4349-d619-3691e5a3a73e"
      },
      "source": [
        "deaths_ce = ce_deaths['CE'].values\n",
        "deaths_ce"
      ],
      "execution_count": 68,
      "outputs": [
        {
          "output_type": "execute_result",
          "data": {
            "text/plain": [
              "array([   0,    0,    0,    0,    0,    0,    0,    0,    0,    0,    3,\n",
              "          3,    4,    5,    5,    7,    9,   21,   22,   23,   35,   35,\n",
              "         40,   57,   57,   67,   74,   76,  101,  111,  124,  135,  155,\n",
              "        180,  189,  206,  221,  239,  271,  293,  326,  376,  397,  417,\n",
              "        450,  492,  539,  638,  677,  712,  795,  849,  903,  997, 1062,\n",
              "       1114, 1189, 1280, 1389, 1413, 1566, 1614, 1641, 1748, 1856, 1900,\n",
              "       2161, 2251, 2308, 2324, 2493, 2603, 2671, 2733, 2859, 2956, 3010,\n",
              "       3188, 3504, 3605, 3813, 3907, 3965, 3982, 4192, 4359, 4519, 4708,\n",
              "       4812, 4829, 4885, 5041, 5192, 5307, 5393, 5497, 5520, 5523, 5618,\n",
              "       5728])"
            ]
          },
          "metadata": {
            "tags": []
          },
          "execution_count": 68
        }
      ]
    },
    {
      "cell_type": "code",
      "metadata": {
        "id": "jPkXKG0ocQzO",
        "colab_type": "code",
        "colab": {
          "base_uri": "https://localhost:8080/",
          "height": 35
        },
        "outputId": "d38f89f7-250d-40e7-a537-4dd711ac28c8"
      },
      "source": [
        "#Método que retorna o coeficiente de correlação de Pearson e o p-Value.\n",
        "stats.pearsonr(confirmed_ce, deaths_ce)"
      ],
      "execution_count": 69,
      "outputs": [
        {
          "output_type": "execute_result",
          "data": {
            "text/plain": [
              "(0.9981282683754831, 9.473198959999842e-121)"
            ]
          },
          "metadata": {
            "tags": []
          },
          "execution_count": 69
        }
      ]
    },
    {
      "cell_type": "markdown",
      "metadata": {
        "id": "IgBL0Aii1n9O",
        "colab_type": "text"
      },
      "source": [
        "**Para Finalizar este Estudo, podemos utilizar um outro método de cálculo do coeficiente, como o de Spearman.**"
      ]
    },
    {
      "cell_type": "code",
      "metadata": {
        "id": "UZqu3Xz4dhk-",
        "colab_type": "code",
        "colab": {
          "base_uri": "https://localhost:8080/",
          "height": 35
        },
        "outputId": "fb351e15-ba29-4bfb-f7d0-2737dcd974b5"
      },
      "source": [
        "#Método de Correlação de Spearman Relação monotônica entre as variáveis \n",
        "stats.spearmanr(confirmed_ce, deaths_ce)"
      ],
      "execution_count": 70,
      "outputs": [
        {
          "output_type": "execute_result",
          "data": {
            "text/plain": [
              "SpearmanrResult(correlation=0.9994928206794979, pvalue=1.5974343006921372e-148)"
            ]
          },
          "metadata": {
            "tags": []
          },
          "execution_count": 70
        }
      ]
    }
  ]
}