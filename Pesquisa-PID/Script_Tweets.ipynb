{
  "nbformat": 4,
  "nbformat_minor": 0,
  "metadata": {
    "colab": {
      "name": "Script_Tweets.ipynb",
      "provenance": [],
      "collapsed_sections": [],
      "authorship_tag": "ABX9TyNIDFpwPkfzCi3whJl8tVqK",
      "include_colab_link": true
    },
    "kernelspec": {
      "name": "python3",
      "display_name": "Python 3"
    }
  },
  "cells": [
    {
      "cell_type": "markdown",
      "metadata": {
        "id": "view-in-github",
        "colab_type": "text"
      },
      "source": [
        "<a href=\"https://colab.research.google.com/github/italolima04/monitoria-probabilidade-estatistica/blob/master/Pesquisa-PID/Script_Tweets.ipynb\" target=\"_parent\"><img src=\"https://colab.research.google.com/assets/colab-badge.svg\" alt=\"Open In Colab\"/></a>"
      ]
    },
    {
      "cell_type": "markdown",
      "metadata": {
        "id": "8aEuQwH8moll",
        "colab_type": "text"
      },
      "source": [
        "# Criando Script para Coletar Dados"
      ]
    },
    {
      "cell_type": "code",
      "metadata": {
        "id": "kW1DrGpOhSFG",
        "colab_type": "code",
        "colab": {
          "base_uri": "https://localhost:8080/",
          "height": 207
        },
        "outputId": "a6135846-b82c-4853-96b0-181e6966e535"
      },
      "source": [
        "#Instalando biblioteca Tweepy através do gerenciador pip\n",
        "pip install tweepy"
      ],
      "execution_count": 1,
      "outputs": [
        {
          "output_type": "stream",
          "text": [
            "Requirement already satisfied: tweepy in /usr/local/lib/python3.6/dist-packages (3.6.0)\n",
            "Requirement already satisfied: requests>=2.11.1 in /usr/local/lib/python3.6/dist-packages (from tweepy) (2.23.0)\n",
            "Requirement already satisfied: six>=1.10.0 in /usr/local/lib/python3.6/dist-packages (from tweepy) (1.12.0)\n",
            "Requirement already satisfied: PySocks>=1.5.7 in /usr/local/lib/python3.6/dist-packages (from tweepy) (1.7.1)\n",
            "Requirement already satisfied: requests-oauthlib>=0.7.0 in /usr/local/lib/python3.6/dist-packages (from tweepy) (1.3.0)\n",
            "Requirement already satisfied: certifi>=2017.4.17 in /usr/local/lib/python3.6/dist-packages (from requests>=2.11.1->tweepy) (2020.4.5.1)\n",
            "Requirement already satisfied: urllib3!=1.25.0,!=1.25.1,<1.26,>=1.21.1 in /usr/local/lib/python3.6/dist-packages (from requests>=2.11.1->tweepy) (1.24.3)\n",
            "Requirement already satisfied: chardet<4,>=3.0.2 in /usr/local/lib/python3.6/dist-packages (from requests>=2.11.1->tweepy) (3.0.4)\n",
            "Requirement already satisfied: idna<3,>=2.5 in /usr/local/lib/python3.6/dist-packages (from requests>=2.11.1->tweepy) (2.9)\n",
            "Requirement already satisfied: oauthlib>=3.0.0 in /usr/local/lib/python3.6/dist-packages (from requests-oauthlib>=0.7.0->tweepy) (3.1.0)\n"
          ],
          "name": "stdout"
        }
      ]
    },
    {
      "cell_type": "code",
      "metadata": {
        "id": "XLc84ZzDhd5B",
        "colab_type": "code",
        "colab": {}
      },
      "source": [
        "#Importando a biblioteca Tweepy\n",
        "import tweepy as tp"
      ],
      "execution_count": 0,
      "outputs": []
    },
    {
      "cell_type": "code",
      "metadata": {
        "id": "_BLT-ZI2hnIm",
        "colab_type": "code",
        "colab": {}
      },
      "source": [
        "#Manipulando arquivos em Python para leitura de um documento local que contém as 4 chaves de acesso\n",
        "#Atribuindo cada chave a uma variável\n",
        "with open ('twitter_tokens.txt', 'r') as dados:\n",
        "  chave_consumidor = dados.readline().strip('\\n')\n",
        "  segredo_consumidor = dados.readline().strip('\\n')\n",
        "  token_acesso = dados.readline().strip('\\n')\n",
        "  token_acesso_segredo = dados.readline().strip('\\n')"
      ],
      "execution_count": 0,
      "outputs": []
    },
    {
      "cell_type": "code",
      "metadata": {
        "id": "CWRtDtcuiZ0L",
        "colab_type": "code",
        "colab": {}
      },
      "source": [
        "#Autenticar com os dados do consumidor. Analogia ao Login\n",
        "autenticacao = tp.OAuthHandler(chave_consumidor, segredo_consumidor)"
      ],
      "execution_count": 0,
      "outputs": []
    },
    {
      "cell_type": "code",
      "metadata": {
        "id": "reY-XlZCi_CO",
        "colab_type": "code",
        "colab": {}
      },
      "source": [
        "#Preencher os tokens de acesso. Analogia a senha\n",
        "autenticacao.set_access_token(token_acesso, token_acesso_segredo)"
      ],
      "execution_count": 0,
      "outputs": []
    },
    {
      "cell_type": "code",
      "metadata": {
        "id": "54x-Gd7WjDG7",
        "colab_type": "code",
        "colab": {}
      },
      "source": [
        "#Concluindo o Processo de Autenticação e criando instância da API\n",
        "twitter = tp.API(autenticacao)"
      ],
      "execution_count": 0,
      "outputs": []
    },
    {
      "cell_type": "code",
      "metadata": {
        "id": "G8dDuapSkEN-",
        "colab_type": "code",
        "colab": {}
      },
      "source": [
        "#Método para buscar os tweets públicos que estão na Timeline\n",
        "tweets_publicos = tp.home_timeline()"
      ],
      "execution_count": 0,
      "outputs": []
    },
    {
      "cell_type": "code",
      "metadata": {
        "id": "a22DBIv7jan7",
        "colab_type": "code",
        "colab": {}
      },
      "source": [
        "#Utilizando o método de busca, e passando o q(query) como parâmetro. O \"q\" se deseja buscar.\n",
        "#Percorrendo os tweets buscados e exibindo as informações desejadas: Nome e texto publicado (tweet)\n",
        "#tweets = twitter.search(q='covid').items(100) Delimitar a quantidade de Tweets.\n",
        "tweets = twitter.search(q='covid')\n",
        "for tweet in tweets:\n",
        "  print(f'Usuário: {tweet.user.screen_name} - Tweet: {tweet.text}')"
      ],
      "execution_count": 0,
      "outputs": []
    },
    {
      "cell_type": "markdown",
      "metadata": {
        "id": "n5gKuiDbmtb1",
        "colab_type": "text"
      },
      "source": [
        "# Filtrando os Dados"
      ]
    },
    {
      "cell_type": "code",
      "metadata": {
        "id": "jp0J0rDRnd-T",
        "colab_type": "code",
        "colab": {}
      },
      "source": [
        "#Visualizando as propriedades que um tweet contém\n",
        "tweet._json"
      ],
      "execution_count": 0,
      "outputs": []
    },
    {
      "cell_type": "code",
      "metadata": {
        "id": "KRhClx25ocTl",
        "colab_type": "code",
        "colab": {}
      },
      "source": [
        "#Definindo query de busca.\n",
        "query_busca = \"#covid\" + \"-filter:retweets\""
      ],
      "execution_count": 0,
      "outputs": []
    },
    {
      "cell_type": "code",
      "metadata": {
        "id": "s9W-EZ79nxxq",
        "colab_type": "code",
        "colab": {}
      },
      "source": [
        "#Criando Cursor para a busca\n",
        "cursor_tweets = tp.Cursor(twitter.search, q=query_busca).items(30)"
      ],
      "execution_count": 0,
      "outputs": []
    },
    {
      "cell_type": "code",
      "metadata": {
        "id": "0KFKXGbhoimI",
        "colab_type": "code",
        "colab": {}
      },
      "source": [
        "for tweet in cursor_tweets:\n",
        "  print(f'Usuário: {tweet.user.screen_name}')\n",
        "  print(f'Tweet: {tweet.text}')\n",
        "  print(f'Data: {tweet.created_at}')"
      ],
      "execution_count": 0,
      "outputs": []
    },
    {
      "cell_type": "code",
      "metadata": {
        "id": "-wGLIAr-pXch",
        "colab_type": "code",
        "colab": {}
      },
      "source": [
        ""
      ],
      "execution_count": 0,
      "outputs": []
    },
    {
      "cell_type": "markdown",
      "metadata": {
        "id": "-oSpb1Aymxfj",
        "colab_type": "text"
      },
      "source": [
        "# Armazenando os Dados em um Data Frame"
      ]
    },
    {
      "cell_type": "code",
      "metadata": {
        "id": "w4XBLZcAqbY9",
        "colab_type": "code",
        "colab": {
          "base_uri": "https://localhost:8080/",
          "height": 54
        },
        "outputId": "53bea95a-1848-4545-dc92-f877bd5d96f7"
      },
      "source": [
        "#Visualizando as propriedades de um Tweet\n",
        "tweet._json.keys()"
      ],
      "execution_count": 45,
      "outputs": [
        {
          "output_type": "execute_result",
          "data": {
            "text/plain": [
              "dict_keys(['created_at', 'id', 'id_str', 'text', 'truncated', 'entities', 'metadata', 'source', 'in_reply_to_status_id', 'in_reply_to_status_id_str', 'in_reply_to_user_id', 'in_reply_to_user_id_str', 'in_reply_to_screen_name', 'user', 'geo', 'coordinates', 'place', 'contributors', 'is_quote_status', 'retweet_count', 'favorite_count', 'favorited', 'retweeted', 'lang'])"
            ]
          },
          "metadata": {
            "tags": []
          },
          "execution_count": 45
        }
      ]
    },
    {
      "cell_type": "code",
      "metadata": {
        "id": "-8Yjj_NKq1KA",
        "colab_type": "code",
        "colab": {}
      },
      "source": [
        "tweets_dict = {}\n",
        "tweets_dict = tweets_dict.fromkeys(['created_at', 'id', 'text', 'user', 'lang'])"
      ],
      "execution_count": 0,
      "outputs": []
    },
    {
      "cell_type": "code",
      "metadata": {
        "id": "gZXhZm2vq4tI",
        "colab_type": "code",
        "colab": {
          "base_uri": "https://localhost:8080/",
          "height": 34
        },
        "outputId": "6cf23cd0-77a3-48c2-ec71-373ecb421b21"
      },
      "source": [
        "tweets_dict"
      ],
      "execution_count": 51,
      "outputs": [
        {
          "output_type": "execute_result",
          "data": {
            "text/plain": [
              "{'created_at': None, 'id': None, 'lang': None, 'text': None, 'user': None}"
            ]
          },
          "metadata": {
            "tags": []
          },
          "execution_count": 51
        }
      ]
    },
    {
      "cell_type": "code",
      "metadata": {
        "id": "VqNV8Ew8ulvh",
        "colab_type": "code",
        "colab": {}
      },
      "source": [
        "#Definindo query de busca\n",
        "query_busca = \"#covid\" + \"-filter:retweets\""
      ],
      "execution_count": 0,
      "outputs": []
    },
    {
      "cell_type": "code",
      "metadata": {
        "id": "I2oHfGuMumUN",
        "colab_type": "code",
        "colab": {}
      },
      "source": [
        "#Armazenando os tweets que resultaram da busca\n",
        "cursor_tweets = tp.Cursor(twitter.search, q=query_busca).items(2000)"
      ],
      "execution_count": 0,
      "outputs": []
    },
    {
      "cell_type": "code",
      "metadata": {
        "id": "jNYZeIxVrbDj",
        "colab_type": "code",
        "colab": {}
      },
      "source": [
        "#Percorrer as chaves do meu tweet, para a lista de tweets e capturar os valores.\n",
        "#Tratamento de exceções para valores vazios (nulos)\n",
        "for tweet in cursor_tweets:\n",
        "    for key in tweets_dict.keys():\n",
        "        try:\n",
        "            twvalue = tweet._json[key]\n",
        "            tweets_dict[key].append(twvalue)\n",
        "        except KeyError:\n",
        "            twvalue = \"\"\n",
        "            if(tweets_dict[key] is None):\n",
        "                tweets_dict[key] = [twvalue]\n",
        "            else:\n",
        "                tweets_dict[key].append(twvalue)\n",
        "        except:\n",
        "            tweets_dict[key] = [twvalue]"
      ],
      "execution_count": 0,
      "outputs": []
    },
    {
      "cell_type": "code",
      "metadata": {
        "id": "E6BC1x86ssWw",
        "colab_type": "code",
        "colab": {}
      },
      "source": [
        "#Importar biblioteca Pandas\n",
        "import pandas as pd"
      ],
      "execution_count": 0,
      "outputs": []
    },
    {
      "cell_type": "code",
      "metadata": {
        "id": "k__P3Krxsa6z",
        "colab_type": "code",
        "colab": {}
      },
      "source": [
        "#Método Pandas para criar Data Frame a partir de um Dicionário\n",
        "df = pd.DataFrame.from_dict(tweets_dict)"
      ],
      "execution_count": 0,
      "outputs": []
    },
    {
      "cell_type": "code",
      "metadata": {
        "id": "CXWh-QpBsrFO",
        "colab_type": "code",
        "colab": {
          "base_uri": "https://localhost:8080/",
          "height": 359
        },
        "outputId": "5261ea5a-2248-4437-94ef-44f78f50f8c5"
      },
      "source": [
        "#Visualizando os dados \n",
        "df.head(10)"
      ],
      "execution_count": 67,
      "outputs": [
        {
          "output_type": "execute_result",
          "data": {
            "text/html": [
              "<div>\n",
              "<style scoped>\n",
              "    .dataframe tbody tr th:only-of-type {\n",
              "        vertical-align: middle;\n",
              "    }\n",
              "\n",
              "    .dataframe tbody tr th {\n",
              "        vertical-align: top;\n",
              "    }\n",
              "\n",
              "    .dataframe thead th {\n",
              "        text-align: right;\n",
              "    }\n",
              "</style>\n",
              "<table border=\"1\" class=\"dataframe\">\n",
              "  <thead>\n",
              "    <tr style=\"text-align: right;\">\n",
              "      <th></th>\n",
              "      <th>created_at</th>\n",
              "      <th>id</th>\n",
              "      <th>text</th>\n",
              "      <th>user</th>\n",
              "      <th>lang</th>\n",
              "    </tr>\n",
              "  </thead>\n",
              "  <tbody>\n",
              "    <tr>\n",
              "      <th>0</th>\n",
              "      <td>Mon May 18 17:00:22 +0000 2020</td>\n",
              "      <td>1262427822238208002</td>\n",
              "      <td>@GovInslee OMG! Mt. St. Helen's is a public he...</td>\n",
              "      <td>{'id': 1092543614729674752, 'id_str': '1092543...</td>\n",
              "      <td>en</td>\n",
              "    </tr>\n",
              "    <tr>\n",
              "      <th>1</th>\n",
              "      <td>Mon May 18 17:00:21 +0000 2020</td>\n",
              "      <td>1262427819314778112</td>\n",
              "      <td>What does resilience look like during the #COV...</td>\n",
              "      <td>{'id': 2361423116, 'id_str': '2361423116', 'na...</td>\n",
              "      <td>en</td>\n",
              "    </tr>\n",
              "    <tr>\n",
              "      <th>2</th>\n",
              "      <td>Mon May 18 17:00:19 +0000 2020</td>\n",
              "      <td>1262427809500270593</td>\n",
              "      <td>#ZeeNewsSealKaro Zee न्यूज़ स्टूडियो में कोरोन...</td>\n",
              "      <td>{'id': 1252773731287601154, 'id_str': '1252773...</td>\n",
              "      <td>hi</td>\n",
              "    </tr>\n",
              "    <tr>\n",
              "      <th>3</th>\n",
              "      <td>Mon May 18 17:00:18 +0000 2020</td>\n",
              "      <td>1262427807277187072</td>\n",
              "      <td>Mark your calendars! This Thursday 5/21 @ 7pm ...</td>\n",
              "      <td>{'id': 14847256, 'id_str': '14847256', 'name':...</td>\n",
              "      <td>en</td>\n",
              "    </tr>\n",
              "    <tr>\n",
              "      <th>4</th>\n",
              "      <td>Mon May 18 17:00:16 +0000 2020</td>\n",
              "      <td>1262427799643709447</td>\n",
              "      <td>@Elysee @EmmanuelMacron L’#UE n’existe plus ! ...</td>\n",
              "      <td>{'id': 833377111222124544, 'id_str': '83337711...</td>\n",
              "      <td>fr</td>\n",
              "    </tr>\n",
              "    <tr>\n",
              "      <th>5</th>\n",
              "      <td>Mon May 18 17:00:14 +0000 2020</td>\n",
              "      <td>1262427790940438531</td>\n",
              "      <td>Population-Based Estimates of Chronic Conditio...</td>\n",
              "      <td>{'id': 75639425, 'id_str': '75639425', 'name':...</td>\n",
              "      <td>en</td>\n",
              "    </tr>\n",
              "    <tr>\n",
              "      <th>6</th>\n",
              "      <td>Mon May 18 17:00:12 +0000 2020</td>\n",
              "      <td>1262427781251633152</td>\n",
              "      <td>Master Lock's Magnum® Padlock -- enhanced secu...</td>\n",
              "      <td>{'id': 1072555320378048513, 'id_str': '1072555...</td>\n",
              "      <td>en</td>\n",
              "    </tr>\n",
              "    <tr>\n",
              "      <th>7</th>\n",
              "      <td>Mon May 18 17:00:12 +0000 2020</td>\n",
              "      <td>1262427780270231555</td>\n",
              "      <td>Jetzt beginnt die #Lesung mit #Katja #Riemann!...</td>\n",
              "      <td>{'id': 39470694, 'id_str': '39470694', 'name':...</td>\n",
              "      <td>de</td>\n",
              "    </tr>\n",
              "    <tr>\n",
              "      <th>8</th>\n",
              "      <td>Mon May 18 17:00:09 +0000 2020</td>\n",
              "      <td>1262427769977405440</td>\n",
              "      <td>Our webinar, Understanding the Implications of...</td>\n",
              "      <td>{'id': 1704118050, 'id_str': '1704118050', 'na...</td>\n",
              "      <td>en</td>\n",
              "    </tr>\n",
              "    <tr>\n",
              "      <th>9</th>\n",
              "      <td>Mon May 18 17:00:08 +0000 2020</td>\n",
              "      <td>1262427766391099392</td>\n",
              "      <td>Can your FIRE dreams get past the covid-19 imp...</td>\n",
              "      <td>{'id': 1695798859, 'id_str': '1695798859', 'na...</td>\n",
              "      <td>en</td>\n",
              "    </tr>\n",
              "  </tbody>\n",
              "</table>\n",
              "</div>"
            ],
            "text/plain": [
              "                       created_at  ...  lang\n",
              "0  Mon May 18 17:00:22 +0000 2020  ...    en\n",
              "1  Mon May 18 17:00:21 +0000 2020  ...    en\n",
              "2  Mon May 18 17:00:19 +0000 2020  ...    hi\n",
              "3  Mon May 18 17:00:18 +0000 2020  ...    en\n",
              "4  Mon May 18 17:00:16 +0000 2020  ...    fr\n",
              "5  Mon May 18 17:00:14 +0000 2020  ...    en\n",
              "6  Mon May 18 17:00:12 +0000 2020  ...    en\n",
              "7  Mon May 18 17:00:12 +0000 2020  ...    de\n",
              "8  Mon May 18 17:00:09 +0000 2020  ...    en\n",
              "9  Mon May 18 17:00:08 +0000 2020  ...    en\n",
              "\n",
              "[10 rows x 5 columns]"
            ]
          },
          "metadata": {
            "tags": []
          },
          "execution_count": 67
        }
      ]
    },
    {
      "cell_type": "code",
      "metadata": {
        "id": "cKAdeGqCu5dz",
        "colab_type": "code",
        "colab": {
          "base_uri": "https://localhost:8080/",
          "height": 34
        },
        "outputId": "cba9c163-52a1-4542-bca2-a201f4082c5e"
      },
      "source": [
        "#Visualizando a estrutura do DataFrame\n",
        "df.shape"
      ],
      "execution_count": 68,
      "outputs": [
        {
          "output_type": "execute_result",
          "data": {
            "text/plain": [
              "(2030, 5)"
            ]
          },
          "metadata": {
            "tags": []
          },
          "execution_count": 68
        }
      ]
    },
    {
      "cell_type": "code",
      "metadata": {
        "id": "1vneBE1QvaYe",
        "colab_type": "code",
        "colab": {}
      },
      "source": [
        "#Filtrando tweets em inglês\n",
        "tweets_en = df.loc[df.lang == 'en', :]"
      ],
      "execution_count": 0,
      "outputs": []
    },
    {
      "cell_type": "code",
      "metadata": {
        "id": "ReKQgRXcvlKL",
        "colab_type": "code",
        "colab": {}
      },
      "source": [
        "#Filtrando tweets em português\n",
        "tweets_pt = df.loc[df.lang == 'pt', :]"
      ],
      "execution_count": 0,
      "outputs": []
    },
    {
      "cell_type": "code",
      "metadata": {
        "id": "-HWh5aHIwF1s",
        "colab_type": "code",
        "colab": {
          "base_uri": "https://localhost:8080/",
          "height": 51
        },
        "outputId": "eb65ba9d-3718-4519-b438-974f97d166fc"
      },
      "source": [
        "#Verificando a quantidade de tweets em inglês\n",
        "tweets_en['lang'].value_counts()"
      ],
      "execution_count": 78,
      "outputs": [
        {
          "output_type": "execute_result",
          "data": {
            "text/plain": [
              "en    1233\n",
              "Name: lang, dtype: int64"
            ]
          },
          "metadata": {
            "tags": []
          },
          "execution_count": 78
        }
      ]
    },
    {
      "cell_type": "code",
      "metadata": {
        "id": "q1IDN5C3wJTN",
        "colab_type": "code",
        "colab": {
          "base_uri": "https://localhost:8080/",
          "height": 51
        },
        "outputId": "c6a78e51-8165-47a3-f2f1-c0981c853e85"
      },
      "source": [
        "#Verificando a quantidade de tweets em português\n",
        "tweets_pt['lang'].value_counts()"
      ],
      "execution_count": 79,
      "outputs": [
        {
          "output_type": "execute_result",
          "data": {
            "text/plain": [
              "pt    46\n",
              "Name: lang, dtype: int64"
            ]
          },
          "metadata": {
            "tags": []
          },
          "execution_count": 79
        }
      ]
    }
  ]
}