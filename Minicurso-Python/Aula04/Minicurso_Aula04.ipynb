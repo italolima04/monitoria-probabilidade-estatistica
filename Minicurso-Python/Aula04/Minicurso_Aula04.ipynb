{
  "nbformat": 4,
  "nbformat_minor": 0,
  "metadata": {
    "colab": {
      "name": "Minicurso_Aula04.ipynb",
      "provenance": [],
      "collapsed_sections": [],
      "authorship_tag": "ABX9TyPQPr1UApEhC6iYo0QDnRzl",
      "include_colab_link": true
    },
    "kernelspec": {
      "name": "python3",
      "display_name": "Python 3"
    }
  },
  "cells": [
    {
      "cell_type": "markdown",
      "metadata": {
        "id": "view-in-github",
        "colab_type": "text"
      },
      "source": [
        "<a href=\"https://colab.research.google.com/github/italolima04/monitoria-probabilidade-estatistica/blob/master/Minicurso-Python/Aula04/Minicurso_Aula04.ipynb\" target=\"_parent\"><img src=\"https://colab.research.google.com/assets/colab-badge.svg\" alt=\"Open In Colab\"/></a>"
      ]
    },
    {
      "cell_type": "markdown",
      "metadata": {
        "id": "uECWFWH4RiGc",
        "colab_type": "text"
      },
      "source": [
        "# Importando Biblioteca e Dados"
      ]
    },
    {
      "cell_type": "code",
      "metadata": {
        "id": "Aq88U70hPTQM",
        "colab_type": "code",
        "colab": {}
      },
      "source": [
        "import pandas as pd\n",
        "import matplotlib.pyplot as plt\n",
        "import seaborn as sns"
      ],
      "execution_count": 0,
      "outputs": []
    },
    {
      "cell_type": "code",
      "metadata": {
        "id": "ebDKt-TpQHkd",
        "colab_type": "code",
        "colab": {}
      },
      "source": [
        "#Carregando dataset da biblioteca Seaborn\n",
        "tips = sns.load_dataset('tips')"
      ],
      "execution_count": 0,
      "outputs": []
    },
    {
      "cell_type": "markdown",
      "metadata": {
        "id": "whUcSHLzg7JD",
        "colab_type": "text"
      },
      "source": [
        "# Descrevendo os Dados"
      ]
    },
    {
      "cell_type": "markdown",
      "metadata": {
        "id": "BxsdunQWRpRI",
        "colab_type": "text"
      },
      "source": [
        "**Estes dados representam uma amostra de dados coletados por um restaurante**"
      ]
    },
    {
      "cell_type": "code",
      "metadata": {
        "id": "eyjfnNdtQOCY",
        "colab_type": "code",
        "outputId": "f0d7aa4e-0c91-4f92-ffcf-1238df4df411",
        "colab": {
          "base_uri": "https://localhost:8080/",
          "height": 195
        }
      },
      "source": [
        "#Visualizar as 5 primeiras linhas do meu Dataset\n",
        "tips.head()"
      ],
      "execution_count": 0,
      "outputs": [
        {
          "output_type": "execute_result",
          "data": {
            "text/html": [
              "<div>\n",
              "<style scoped>\n",
              "    .dataframe tbody tr th:only-of-type {\n",
              "        vertical-align: middle;\n",
              "    }\n",
              "\n",
              "    .dataframe tbody tr th {\n",
              "        vertical-align: top;\n",
              "    }\n",
              "\n",
              "    .dataframe thead th {\n",
              "        text-align: right;\n",
              "    }\n",
              "</style>\n",
              "<table border=\"1\" class=\"dataframe\">\n",
              "  <thead>\n",
              "    <tr style=\"text-align: right;\">\n",
              "      <th></th>\n",
              "      <th>total_bill</th>\n",
              "      <th>tip</th>\n",
              "      <th>sex</th>\n",
              "      <th>smoker</th>\n",
              "      <th>day</th>\n",
              "      <th>time</th>\n",
              "      <th>size</th>\n",
              "    </tr>\n",
              "  </thead>\n",
              "  <tbody>\n",
              "    <tr>\n",
              "      <th>0</th>\n",
              "      <td>16.99</td>\n",
              "      <td>1.01</td>\n",
              "      <td>Female</td>\n",
              "      <td>No</td>\n",
              "      <td>Sun</td>\n",
              "      <td>Dinner</td>\n",
              "      <td>2</td>\n",
              "    </tr>\n",
              "    <tr>\n",
              "      <th>1</th>\n",
              "      <td>10.34</td>\n",
              "      <td>1.66</td>\n",
              "      <td>Male</td>\n",
              "      <td>No</td>\n",
              "      <td>Sun</td>\n",
              "      <td>Dinner</td>\n",
              "      <td>3</td>\n",
              "    </tr>\n",
              "    <tr>\n",
              "      <th>2</th>\n",
              "      <td>21.01</td>\n",
              "      <td>3.50</td>\n",
              "      <td>Male</td>\n",
              "      <td>No</td>\n",
              "      <td>Sun</td>\n",
              "      <td>Dinner</td>\n",
              "      <td>3</td>\n",
              "    </tr>\n",
              "    <tr>\n",
              "      <th>3</th>\n",
              "      <td>23.68</td>\n",
              "      <td>3.31</td>\n",
              "      <td>Male</td>\n",
              "      <td>No</td>\n",
              "      <td>Sun</td>\n",
              "      <td>Dinner</td>\n",
              "      <td>2</td>\n",
              "    </tr>\n",
              "    <tr>\n",
              "      <th>4</th>\n",
              "      <td>24.59</td>\n",
              "      <td>3.61</td>\n",
              "      <td>Female</td>\n",
              "      <td>No</td>\n",
              "      <td>Sun</td>\n",
              "      <td>Dinner</td>\n",
              "      <td>4</td>\n",
              "    </tr>\n",
              "  </tbody>\n",
              "</table>\n",
              "</div>"
            ],
            "text/plain": [
              "   total_bill   tip     sex smoker  day    time  size\n",
              "0       16.99  1.01  Female     No  Sun  Dinner     2\n",
              "1       10.34  1.66    Male     No  Sun  Dinner     3\n",
              "2       21.01  3.50    Male     No  Sun  Dinner     3\n",
              "3       23.68  3.31    Male     No  Sun  Dinner     2\n",
              "4       24.59  3.61  Female     No  Sun  Dinner     4"
            ]
          },
          "metadata": {
            "tags": []
          },
          "execution_count": 28
        }
      ]
    },
    {
      "cell_type": "markdown",
      "metadata": {
        "id": "zdryEIjZQj8V",
        "colab_type": "text"
      },
      "source": [
        "**Descrição dos Dados**\n",
        "\n",
        "Este é um dataset que a própria biblioteca fornece, o mesmo contém alguns registros de clientes de um restaurante.\n",
        "\n",
        "Total_bill: Custo total da refeição em dólares.\n",
        "\n",
        "Tip: Valor da gorjeta em dólares.\n",
        "\n",
        "Sex: Sexo (Feminino / Masculino).\n",
        "\n",
        "Smoker: Se a área escolhida era para fumantes ou não.\n",
        "\n",
        "Day: Dia da semana.\n",
        "\n",
        "Time: Almoço (Lunch) ou jantar (Dinner).\n",
        "\n",
        "Size: Tamanho da refeição.\n",
        "\n"
      ]
    },
    {
      "cell_type": "code",
      "metadata": {
        "id": "rxcJz9BYQPs_",
        "colab_type": "code",
        "outputId": "72e96b26-7b30-4bb9-dc36-fff38a363360",
        "colab": {
          "base_uri": "https://localhost:8080/",
          "height": 34
        }
      },
      "source": [
        "#Verificar a estrutura do DataFrame\n",
        "tips.shape"
      ],
      "execution_count": 0,
      "outputs": [
        {
          "output_type": "execute_result",
          "data": {
            "text/plain": [
              "(244, 7)"
            ]
          },
          "metadata": {
            "tags": []
          },
          "execution_count": 29
        }
      ]
    },
    {
      "cell_type": "code",
      "metadata": {
        "id": "BT4lVQCJQ4WV",
        "colab_type": "code",
        "outputId": "1eaf4148-9828-4a8f-c30a-bdc59faeadaa",
        "colab": {
          "base_uri": "https://localhost:8080/",
          "height": 284
        }
      },
      "source": [
        "#Verificando a descrição estatística dos dados, com 2 casas decimais\n",
        "tips.describe().round(2)"
      ],
      "execution_count": 0,
      "outputs": [
        {
          "output_type": "execute_result",
          "data": {
            "text/html": [
              "<div>\n",
              "<style scoped>\n",
              "    .dataframe tbody tr th:only-of-type {\n",
              "        vertical-align: middle;\n",
              "    }\n",
              "\n",
              "    .dataframe tbody tr th {\n",
              "        vertical-align: top;\n",
              "    }\n",
              "\n",
              "    .dataframe thead th {\n",
              "        text-align: right;\n",
              "    }\n",
              "</style>\n",
              "<table border=\"1\" class=\"dataframe\">\n",
              "  <thead>\n",
              "    <tr style=\"text-align: right;\">\n",
              "      <th></th>\n",
              "      <th>total_bill</th>\n",
              "      <th>tip</th>\n",
              "      <th>size</th>\n",
              "    </tr>\n",
              "  </thead>\n",
              "  <tbody>\n",
              "    <tr>\n",
              "      <th>count</th>\n",
              "      <td>244.00</td>\n",
              "      <td>244.00</td>\n",
              "      <td>244.00</td>\n",
              "    </tr>\n",
              "    <tr>\n",
              "      <th>mean</th>\n",
              "      <td>19.79</td>\n",
              "      <td>3.00</td>\n",
              "      <td>2.57</td>\n",
              "    </tr>\n",
              "    <tr>\n",
              "      <th>std</th>\n",
              "      <td>8.90</td>\n",
              "      <td>1.38</td>\n",
              "      <td>0.95</td>\n",
              "    </tr>\n",
              "    <tr>\n",
              "      <th>min</th>\n",
              "      <td>3.07</td>\n",
              "      <td>1.00</td>\n",
              "      <td>1.00</td>\n",
              "    </tr>\n",
              "    <tr>\n",
              "      <th>25%</th>\n",
              "      <td>13.35</td>\n",
              "      <td>2.00</td>\n",
              "      <td>2.00</td>\n",
              "    </tr>\n",
              "    <tr>\n",
              "      <th>50%</th>\n",
              "      <td>17.80</td>\n",
              "      <td>2.90</td>\n",
              "      <td>2.00</td>\n",
              "    </tr>\n",
              "    <tr>\n",
              "      <th>75%</th>\n",
              "      <td>24.13</td>\n",
              "      <td>3.56</td>\n",
              "      <td>3.00</td>\n",
              "    </tr>\n",
              "    <tr>\n",
              "      <th>max</th>\n",
              "      <td>50.81</td>\n",
              "      <td>10.00</td>\n",
              "      <td>6.00</td>\n",
              "    </tr>\n",
              "  </tbody>\n",
              "</table>\n",
              "</div>"
            ],
            "text/plain": [
              "       total_bill     tip    size\n",
              "count      244.00  244.00  244.00\n",
              "mean        19.79    3.00    2.57\n",
              "std          8.90    1.38    0.95\n",
              "min          3.07    1.00    1.00\n",
              "25%         13.35    2.00    2.00\n",
              "50%         17.80    2.90    2.00\n",
              "75%         24.13    3.56    3.00\n",
              "max         50.81   10.00    6.00"
            ]
          },
          "metadata": {
            "tags": []
          },
          "execution_count": 30
        }
      ]
    },
    {
      "cell_type": "code",
      "metadata": {
        "id": "79FCAJtjQRWf",
        "colab_type": "code",
        "outputId": "dee94d55-41ea-4691-9a8b-1830426d3b60",
        "colab": {
          "base_uri": "https://localhost:8080/",
          "height": 67
        }
      },
      "source": [
        "#Verificar o número de Homens e Mulheres na Amostra\n",
        "tips['sex'].value_counts()"
      ],
      "execution_count": 0,
      "outputs": [
        {
          "output_type": "execute_result",
          "data": {
            "text/plain": [
              "Male      157\n",
              "Female     87\n",
              "Name: sex, dtype: int64"
            ]
          },
          "metadata": {
            "tags": []
          },
          "execution_count": 31
        }
      ]
    },
    {
      "cell_type": "code",
      "metadata": {
        "id": "sYAt-WplQwHo",
        "colab_type": "code",
        "outputId": "eb7b3e95-5c35-4b25-903f-843bd2ac74f0",
        "colab": {
          "base_uri": "https://localhost:8080/",
          "height": 67
        }
      },
      "source": [
        "#Verificar a porcentagem de Homens e Mulheres na Amostra\n",
        "tips['sex'].value_counts(normalize=True)"
      ],
      "execution_count": 0,
      "outputs": [
        {
          "output_type": "execute_result",
          "data": {
            "text/plain": [
              "Male      0.643443\n",
              "Female    0.356557\n",
              "Name: sex, dtype: float64"
            ]
          },
          "metadata": {
            "tags": []
          },
          "execution_count": 32
        }
      ]
    },
    {
      "cell_type": "markdown",
      "metadata": {
        "id": "GkATK_j1XSEV",
        "colab_type": "text"
      },
      "source": [
        "# Visualizando e Configurando Gráficos"
      ]
    },
    {
      "cell_type": "markdown",
      "metadata": {
        "id": "oCluQPDDaREV",
        "colab_type": "text"
      },
      "source": [
        "  **Gráfico de Barras**"
      ]
    },
    {
      "cell_type": "code",
      "metadata": {
        "id": "P-RzSsNNSBvA",
        "colab_type": "code",
        "outputId": "4f76f54a-c91d-47eb-b6f2-753d9c1e64d8",
        "colab": {
          "base_uri": "https://localhost:8080/",
          "height": 430
        }
      },
      "source": [
        "#Aumentar o tamanho da figura\n",
        "plt.figure(figsize=(10, 6))\n",
        "\n",
        "#Setar uma cor para cada coluna exibida\n",
        "tips['sex'].value_counts().plot(kind='bar', color='pink')\n",
        "\n",
        "#Definir um título para o Gráfico\n",
        "plt.title('Gráfico de Barras para os Clientes de um Restaurante')\n",
        "\n",
        "#Nomear os eixos do Gráfico\n",
        "plt.xlabel('Gêneros')\n",
        "plt.ylabel('Frequência')\n",
        "\n",
        "#Exibir o Gráfico\n",
        "plt.show()\n"
      ],
      "execution_count": 0,
      "outputs": [
        {
          "output_type": "display_data",
          "data": {
            "image/png": "[encoded data removed]",
            "text/plain": [
              "<Figure size 720x432 with 1 Axes>"
            ]
          },
          "metadata": {
            "tags": []
          }
        }
      ]
    },
    {
      "cell_type": "code",
      "metadata": {
        "id": "WGtALxXzX4wH",
        "colab_type": "code",
        "outputId": "5cc55009-4aa4-4347-eb53-8e8e46e081e4",
        "colab": {
          "base_uri": "https://localhost:8080/",
          "height": 414
        }
      },
      "source": [
        "plt.figure(figsize=(10, 6))\n",
        "\n",
        "tips['smoker'].value_counts().plot(kind='bar', color=['cyan', 'black'])\n",
        "\n",
        "plt.title('Gráfico de Barras para os Clientes que Escolheram a Área de Fumantes em um Restaurante')\n",
        "\n",
        "plt.xlabel('Fumante')\n",
        "plt.ylabel('Frequência')\n",
        "\n",
        "#Rotacionar os ticks\n",
        "plt.xticks(rotation=45)\n",
        "\n",
        "plt.show()"
      ],
      "execution_count": 0,
      "outputs": [
        {
          "output_type": "display_data",
          "data": {
            "image/png": "[encoded data removed]",
            "text/plain": [
              "<Figure size 720x432 with 1 Axes>"
            ]
          },
          "metadata": {
            "tags": []
          }
        }
      ]
    },
    {
      "cell_type": "markdown",
      "metadata": {
        "id": "gFSmGrFEYhTI",
        "colab_type": "text"
      },
      "source": [
        "**Distribuição de Frequências**\n",
        "\n"
      ]
    },
    {
      "cell_type": "code",
      "metadata": {
        "id": "Cfjaan6VYZ7v",
        "colab_type": "code",
        "outputId": "f397b7d1-2829-4025-a57d-801a43b9cdbc",
        "colab": {
          "base_uri": "https://localhost:8080/",
          "height": 404
        }
      },
      "source": [
        "plt.figure(figsize=(10, 6))\n",
        "\n",
        "tips['total_bill'].plot(kind='hist', color='orange')\n",
        "\n",
        "plt.title('Distribuição de Frequência dos Valores Gastos pelos Clientes')\n",
        "\n",
        "plt.xlabel('Valor em Dólar')\n",
        "plt.ylabel('Frequência')\n",
        "\n",
        "plt.show()"
      ],
      "execution_count": 0,
      "outputs": [
        {
          "output_type": "display_data",
          "data": {
            "image/png": "[encoded data removed]",
            "text/plain": [
              "<Figure size 720x432 with 1 Axes>"
            ]
          },
          "metadata": {
            "tags": []
          }
        }
      ]
    },
    {
      "cell_type": "code",
      "metadata": {
        "id": "Mq74vlVKYQNp",
        "colab_type": "code",
        "outputId": "b89b6538-0e9d-4b6b-93b0-c18c8cd59f3c",
        "colab": {
          "base_uri": "https://localhost:8080/",
          "height": 404
        }
      },
      "source": [
        "plt.figure(figsize=(10, 6))\n",
        "\n",
        "tips['tip'].plot(kind='hist', color='green')\n",
        "\n",
        "plt.title('Distribuição de Frequência das Gorjetas ofertadas pelos Clientes')\n",
        "\n",
        "plt.xlabel('Valor em Dólar')\n",
        "plt.ylabel('Frequência')\n",
        "\n",
        "plt.show()"
      ],
      "execution_count": 0,
      "outputs": [
        {
          "output_type": "display_data",
          "data": {
            "image/png": "[encoded data removed]",
            "text/plain": [
              "<Figure size 720x432 with 1 Axes>"
            ]
          },
          "metadata": {
            "tags": []
          }
        }
      ]
    },
    {
      "cell_type": "markdown",
      "metadata": {
        "id": "GiVkvKBPWpOr",
        "colab_type": "text"
      },
      "source": [
        "**Scatter Plot**"
      ]
    },
    {
      "cell_type": "markdown",
      "metadata": {
        "id": "28mkAltydnhB",
        "colab_type": "text"
      },
      "source": [
        "É um gráfico de dispersão que representa o comportamento de duas ou mais variáveis nos nossos dados."
      ]
    },
    {
      "cell_type": "code",
      "metadata": {
        "id": "6Y1u2__nU_cL",
        "colab_type": "code",
        "outputId": "98723517-57f9-4f5d-bb11-209a4388e88c",
        "colab": {
          "base_uri": "https://localhost:8080/",
          "height": 297
        }
      },
      "source": [
        "tips.plot(x='total_bill', y='tip', kind='scatter')"
      ],
      "execution_count": 0,
      "outputs": [
        {
          "output_type": "execute_result",
          "data": {
            "text/plain": [
              "<matplotlib.axes._subplots.AxesSubplot at 0x7f54de916048>"
            ]
          },
          "metadata": {
            "tags": []
          },
          "execution_count": 37
        },
        {
          "output_type": "display_data",
          "data": {
            "image/png": "[encoded data removed]",
            "text/plain": [
              "<Figure size 432x288 with 1 Axes>"
            ]
          },
          "metadata": {
            "tags": []
          }
        }
      ]
    },
    {
      "cell_type": "markdown",
      "metadata": {
        "id": "YMJ4zfwTW3hG",
        "colab_type": "text"
      },
      "source": [
        "**Alterando as Propriedades do Scatter Plot**"
      ]
    },
    {
      "cell_type": "markdown",
      "metadata": {
        "id": "7LyROxiMW9UE",
        "colab_type": "text"
      },
      "source": [
        "Por padrão, a cor vem azul e o marcador vem como um ponto com tamanho pré definido. Podemos alterar isto."
      ]
    },
    {
      "cell_type": "code",
      "metadata": {
        "id": "0fDcQP_IWYlQ",
        "colab_type": "code",
        "outputId": "3d13ec8f-2553-4481-b133-27ec7fb00ff0",
        "colab": {
          "base_uri": "https://localhost:8080/",
          "height": 280
        }
      },
      "source": [
        "#Sobrescrevendo as propriedades color, marker e size.\n",
        "tips.plot(x='total_bill', y='tip', kind='scatter', color='cyan', marker='h', s=130);"
      ],
      "execution_count": 0,
      "outputs": [
        {
          "output_type": "display_data",
          "data": {
            "image/png": "[encoded data removed]",
            "text/plain": [
              "<Figure size 432x288 with 1 Axes>"
            ]
          },
          "metadata": {
            "tags": []
          }
        }
      ]
    },
    {
      "cell_type": "markdown",
      "metadata": {
        "id": "aOZQa0BralIv",
        "colab_type": "text"
      },
      "source": [
        "**Gráfico de Pizza**"
      ]
    },
    {
      "cell_type": "markdown",
      "metadata": {
        "id": "t72XP2pqeCne",
        "colab_type": "text"
      },
      "source": [
        "Filtrando todos os Fumantes."
      ]
    },
    {
      "cell_type": "code",
      "metadata": {
        "id": "4tEui8ykhsjR",
        "colab_type": "code",
        "outputId": "f9b4fd6d-98e3-4d36-adb2-6655d43e8f67",
        "colab": {
          "base_uri": "https://localhost:8080/",
          "height": 34
        }
      },
      "source": [
        "fumantes = tips.loc[tips.smoker == 'Yes']\n",
        "fumantes = fumantes['smoker'].count()\n",
        "fumantes"
      ],
      "execution_count": 0,
      "outputs": [
        {
          "output_type": "execute_result",
          "data": {
            "text/plain": [
              "93"
            ]
          },
          "metadata": {
            "tags": []
          },
          "execution_count": 39
        }
      ]
    },
    {
      "cell_type": "markdown",
      "metadata": {
        "id": "oi0Gy7DieIPI",
        "colab_type": "text"
      },
      "source": [
        "Filtrando todos os Não Fumantes."
      ]
    },
    {
      "cell_type": "code",
      "metadata": {
        "id": "zKTxwPc7iFT5",
        "colab_type": "code",
        "outputId": "f0172965-ddb3-47cb-c485-3711d1f65d68",
        "colab": {
          "base_uri": "https://localhost:8080/",
          "height": 34
        }
      },
      "source": [
        "nao_fumantes = tips.loc[tips.smoker == 'No']\n",
        "nao_fumantes = nao_fumantes['smoker'].count()\n",
        "nao_fumantes"
      ],
      "execution_count": 0,
      "outputs": [
        {
          "output_type": "execute_result",
          "data": {
            "text/plain": [
              "151"
            ]
          },
          "metadata": {
            "tags": []
          },
          "execution_count": 40
        }
      ]
    },
    {
      "cell_type": "code",
      "metadata": {
        "id": "uPMloYGCeair",
        "colab_type": "code",
        "outputId": "947f057d-6aad-4019-c71e-6be3cb4a9aab",
        "colab": {
          "base_uri": "https://localhost:8080/",
          "height": 264
        }
      },
      "source": [
        "#Labels e Valores correspondentes\n",
        "labels = ['Fumante', 'Não Fumante']\n",
        "sizes = [fumantes, nao_fumantes]\n",
        "\n",
        "#Criar a Área da Figura\n",
        "fig1, ax1 = plt.subplots()\n",
        "\n",
        "#Definir Função de Explosão, no Gráfico\n",
        "explode = (0.1, 0)\n",
        "\n",
        "#Criar o Gráfico de Pizza\n",
        "ax1.pie(sizes, labels=labels, explode=explode, autopct='%1.1f%%', shadow=True, startangle=90, colors=['gold', 'green'])\n",
        "\n",
        "plt.title('Gráfico de Pizza - Fumantes / Não Fumantes')\n",
        "\n",
        "#Deixando o Gráfico Redondo\n",
        "ax1.axis('equal')\n",
        "\n",
        "plt.show()"
      ],
      "execution_count": 0,
      "outputs": [
        {
          "output_type": "display_data",
          "data": {
            "image/png": "[encoded data removed]",
            "text/plain": [
              "<Figure size 432x288 with 1 Axes>"
            ]
          },
          "metadata": {
            "tags": []
          }
        }
      ]
    },
    {
      "cell_type": "markdown",
      "metadata": {
        "id": "BTbu1Of0eXCC",
        "colab_type": "text"
      },
      "source": [
        "Filtrando os homens que são Fumantes."
      ]
    },
    {
      "cell_type": "code",
      "metadata": {
        "id": "ST22mpWUmkRa",
        "colab_type": "code",
        "outputId": "66cf72b1-9612-436c-f53b-22b27945b81d",
        "colab": {
          "base_uri": "https://localhost:8080/",
          "height": 34
        }
      },
      "source": [
        "fumantes_masc = tips.loc[tips.sex == 'Male']\n",
        "fumantes_masc = fumantes_masc.loc[fumantes_masc.smoker == 'Yes']\n",
        "fumantes_masc = fumantes_masc['smoker'].count()\n",
        "fumantes_masc"
      ],
      "execution_count": 0,
      "outputs": [
        {
          "output_type": "execute_result",
          "data": {
            "text/plain": [
              "60"
            ]
          },
          "metadata": {
            "tags": []
          },
          "execution_count": 42
        }
      ]
    },
    {
      "cell_type": "markdown",
      "metadata": {
        "id": "KfIrptfxedWK",
        "colab_type": "text"
      },
      "source": [
        "Filtrando os homens que não são Fumantes."
      ]
    },
    {
      "cell_type": "code",
      "metadata": {
        "id": "QAy8w14vnHNy",
        "colab_type": "code",
        "outputId": "c2071f16-533f-412f-f3d7-dd2fae783272",
        "colab": {
          "base_uri": "https://localhost:8080/",
          "height": 34
        }
      },
      "source": [
        "nao_fumantes_masc = tips.loc[tips.sex == 'Male']\n",
        "nao_fumantes_masc = nao_fumantes_masc.loc[nao_fumantes_masc.smoker == 'No']\n",
        "nao_fumantes_masc = nao_fumantes_masc['smoker'].count()\n",
        "nao_fumantes_masc"
      ],
      "execution_count": 0,
      "outputs": [
        {
          "output_type": "execute_result",
          "data": {
            "text/plain": [
              "97"
            ]
          },
          "metadata": {
            "tags": []
          },
          "execution_count": 43
        }
      ]
    },
    {
      "cell_type": "code",
      "metadata": {
        "id": "VAh5fDSynDGj",
        "colab_type": "code",
        "outputId": "b5c891ee-7664-4033-a9aa-b5bea1d0a49c",
        "colab": {
          "base_uri": "https://localhost:8080/",
          "height": 264
        }
      },
      "source": [
        "labels = ['Fumante', 'Não Fumante']\n",
        "sizes = [fumantes_masc, nao_fumantes_masc]\n",
        "\n",
        "#Criar a Área da Figura\n",
        "fig1, ax1 = plt.subplots()\n",
        "\n",
        "#Criar o Gráfico de Pizza\n",
        "ax1.pie(sizes, labels=labels, autopct='%1.2f%%', shadow=True, startangle=90, colors=['gold', 'grey'])\n",
        "\n",
        "plt.title('Gráfico de Pizza para os Homens - Fumantes / Não Fumantes')\n",
        "\n",
        "ax1.axis('equal')\n",
        "\n",
        "plt.show()"
      ],
      "execution_count": 0,
      "outputs": [
        {
          "output_type": "display_data",
          "data": {
            "image/png": "[encoded data removed]",
            "text/plain": [
              "<Figure size 432x288 with 1 Axes>"
            ]
          },
          "metadata": {
            "tags": []
          }
        }
      ]
    },
    {
      "cell_type": "markdown",
      "metadata": {
        "id": "7CKUPyFVeqZa",
        "colab_type": "text"
      },
      "source": [
        "Filtrando as mulheres que são Fumantes."
      ]
    },
    {
      "cell_type": "code",
      "metadata": {
        "id": "dks2m21wm8pQ",
        "colab_type": "code",
        "outputId": "cca7959e-aa55-417d-e0ac-8ef8a3675281",
        "colab": {
          "base_uri": "https://localhost:8080/",
          "height": 34
        }
      },
      "source": [
        "fumantes_fem = tips.loc[tips.sex == 'Female']\n",
        "fumantes_fem = fumantes_fem.loc[fumantes_fem.smoker == 'Yes']\n",
        "fumantes_fem = fumantes_fem['smoker'].count()\n",
        "fumantes_fem"
      ],
      "execution_count": 0,
      "outputs": [
        {
          "output_type": "execute_result",
          "data": {
            "text/plain": [
              "33"
            ]
          },
          "metadata": {
            "tags": []
          },
          "execution_count": 45
        }
      ]
    },
    {
      "cell_type": "markdown",
      "metadata": {
        "id": "n1m-Dj_detoI",
        "colab_type": "text"
      },
      "source": [
        "Filtrando as mulheres que não são Fumantes."
      ]
    },
    {
      "cell_type": "code",
      "metadata": {
        "id": "GGL0GlfAneUJ",
        "colab_type": "code",
        "outputId": "271acda4-77f5-426a-ce0a-fc67df63e80e",
        "colab": {
          "base_uri": "https://localhost:8080/",
          "height": 34
        }
      },
      "source": [
        "nao_fumantes_fem = tips.loc[tips.sex == 'Female']\n",
        "nao_fumantes_fem = nao_fumantes_fem.loc[nao_fumantes_fem.smoker == 'No']\n",
        "nao_fumantes_fem = nao_fumantes_fem['smoker'].count()\n",
        "nao_fumantes_fem"
      ],
      "execution_count": 0,
      "outputs": [
        {
          "output_type": "execute_result",
          "data": {
            "text/plain": [
              "54"
            ]
          },
          "metadata": {
            "tags": []
          },
          "execution_count": 46
        }
      ]
    },
    {
      "cell_type": "code",
      "metadata": {
        "id": "N2Qidhhonp7r",
        "colab_type": "code",
        "outputId": "5a77cb03-1dc6-4d48-c5b8-8746d7689e7a",
        "colab": {
          "base_uri": "https://localhost:8080/",
          "height": 264
        }
      },
      "source": [
        "labels = ['Fumante', 'Não Fumante']\n",
        "sizes = [fumantes_fem, nao_fumantes_fem]\n",
        "\n",
        "#Criar a Área da Figura\n",
        "fig1, ax1 = plt.subplots()\n",
        "\n",
        "#Criar o Gráfico de Pizza\n",
        "ax1.pie(sizes, labels=labels, autopct='%1.1f%%', shadow=True, startangle=90)\n",
        "\n",
        "plt.title('Gráfico de Pizza para os Homens - Fumantes / Não Fumantes')\n",
        "\n",
        "ax1.axis('equal')\n",
        "\n",
        "plt.show()"
      ],
      "execution_count": 0,
      "outputs": [
        {
          "output_type": "display_data",
          "data": {
            "image/png": "[encoded data removed]",
            "text/plain": [
              "<Figure size 432x288 with 1 Axes>"
            ]
          },
          "metadata": {
            "tags": []
          }
        }
      ]
    },
    {
      "cell_type": "markdown",
      "metadata": {
        "id": "7kd1nawfaAtN",
        "colab_type": "text"
      },
      "source": [
        "**Introdução a Seaborn**"
      ]
    },
    {
      "cell_type": "code",
      "metadata": {
        "id": "twTPmFjnSOCG",
        "colab_type": "code",
        "outputId": "26be9a89-62a5-43d2-e456-13eab70cfdcb",
        "colab": {
          "base_uri": "https://localhost:8080/",
          "height": 295
        }
      },
      "source": [
        "  tips['day'].value_counts().plot(kind='bar')"
      ],
      "execution_count": 0,
      "outputs": [
        {
          "output_type": "execute_result",
          "data": {
            "text/plain": [
              "<matplotlib.axes._subplots.AxesSubplot at 0x7f54dea75cf8>"
            ]
          },
          "metadata": {
            "tags": []
          },
          "execution_count": 48
        },
        {
          "output_type": "display_data",
          "data": {
            "image/png": "[encoded data removed]",
            "text/plain": [
              "<Figure size 432x288 with 1 Axes>"
            ]
          },
          "metadata": {
            "tags": []
          }
        }
      ]
    },
    {
      "cell_type": "code",
      "metadata": {
        "id": "nUzbotRJSmwZ",
        "colab_type": "code",
        "outputId": "bfb39822-5b5f-49fb-d395-a87467487baa",
        "colab": {
          "base_uri": "https://localhost:8080/",
          "height": 417
        }
      },
      "source": [
        "#Definindo o Estilo dos Gráficos\n",
        "sns.set_style('darkgrid')\n",
        "\n",
        "#Aumentando o tamanho da figura\n",
        "plt.figure(figsize=(8, 6))\n",
        "\n",
        "#Gerando um gráfico de Barras com Seaborn\n",
        "#Configurando exibição a partir de uma Paleta de Cores configurada\n",
        "sns.barplot(x=tips['day'].unique(), y=tips.day.value_counts(),\n",
        "            palette=sns.color_palette('GnBu_d'))\n",
        "\n",
        "plt.title('Gráfico de Barras para a frequência de Clientes a partir dos dias')\n",
        "\n",
        "plt.xlabel('Dia da Semana')\n",
        "plt.ylabel('Frequência')\n",
        "\n",
        "plt.xticks(rotation=90)\n",
        "\n",
        "#Exibir Gráfico\n",
        "plt.show()"
      ],
      "execution_count": 0,
      "outputs": [
        {
          "output_type": "display_data",
          "data": {
            "image/png": "[encoded data removed]",
            "text/plain": [
              "<Figure size 576x432 with 1 Axes>"
            ]
          },
          "metadata": {
            "tags": []
          }
        }
      ]
    },
    {
      "cell_type": "code",
      "metadata": {
        "id": "MocfuripfJD3",
        "colab_type": "code",
        "colab": {}
      },
      "source": [
        ""
      ],
      "execution_count": 0,
      "outputs": []
    }
  ]
}