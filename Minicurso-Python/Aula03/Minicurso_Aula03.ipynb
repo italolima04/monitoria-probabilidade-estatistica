{
  "nbformat": 4,
  "nbformat_minor": 0,
  "metadata": {
    "colab": {
      "name": "Minicurso_Aula02.ipynb",
      "provenance": [],
      "collapsed_sections": [],
      "authorship_tag": "ABX9TyNW2F3ZEoXhepK374fWk2RQ",
      "include_colab_link": true
    },
    "kernelspec": {
      "name": "python3",
      "display_name": "Python 3"
    }
  },
  "cells": [
    {
      "cell_type": "markdown",
      "metadata": {
        "id": "view-in-github",
        "colab_type": "text"
      },
      "source": [
        "<a href=\"https://colab.research.google.com/github/italolima04/monitoria-probabilidade-estatistica/blob/master/Minicurso-Python/Aula03/Minicurso_Aula03.ipynb\" target=\"_parent\"><img src=\"https://colab.research.google.com/assets/colab-badge.svg\" alt=\"Open In Colab\"/></a>"
      ]
    },
    {
      "cell_type": "markdown",
      "metadata": {
        "id": "-GEG7__gdsUm",
        "colab_type": "text"
      },
      "source": [
        "# Importando Bibliotecas e Dados"
      ]
    },
    {
      "cell_type": "code",
      "metadata": {
        "id": "Z1xLP0JBdqLY",
        "colab_type": "code",
        "colab": {}
      },
      "source": [
        "import pandas as pd\n",
        "import numpy as np \n",
        "import matplotlib.pyplot as plt"
      ],
      "execution_count": 0,
      "outputs": []
    },
    {
      "cell_type": "code",
      "metadata": {
        "id": "-yRLc46Wd1AP",
        "colab_type": "code",
        "outputId": "49357e20-82cf-4482-ca75-d4e4f4f6a543",
        "colab": {
          "base_uri": "https://localhost:8080/",
          "height": 348
        }
      },
      "source": [
        "df = pd.read_csv('https://raw.githubusercontent.com/alura-cursos/introducao-a-data-science/master/aula0/ml-latest-small/ratings.csv')\n",
        "df.head(10)"
      ],
      "execution_count": 0,
      "outputs": [
        {
          "output_type": "execute_result",
          "data": {
            "text/html": [
              "<div>\n",
              "<style scoped>\n",
              "    .dataframe tbody tr th:only-of-type {\n",
              "        vertical-align: middle;\n",
              "    }\n",
              "\n",
              "    .dataframe tbody tr th {\n",
              "        vertical-align: top;\n",
              "    }\n",
              "\n",
              "    .dataframe thead th {\n",
              "        text-align: right;\n",
              "    }\n",
              "</style>\n",
              "<table border=\"1\" class=\"dataframe\">\n",
              "  <thead>\n",
              "    <tr style=\"text-align: right;\">\n",
              "      <th></th>\n",
              "      <th>userId</th>\n",
              "      <th>movieId</th>\n",
              "      <th>rating</th>\n",
              "      <th>timestamp</th>\n",
              "    </tr>\n",
              "  </thead>\n",
              "  <tbody>\n",
              "    <tr>\n",
              "      <th>0</th>\n",
              "      <td>1</td>\n",
              "      <td>1</td>\n",
              "      <td>4.0</td>\n",
              "      <td>964982703</td>\n",
              "    </tr>\n",
              "    <tr>\n",
              "      <th>1</th>\n",
              "      <td>1</td>\n",
              "      <td>3</td>\n",
              "      <td>4.0</td>\n",
              "      <td>964981247</td>\n",
              "    </tr>\n",
              "    <tr>\n",
              "      <th>2</th>\n",
              "      <td>1</td>\n",
              "      <td>6</td>\n",
              "      <td>4.0</td>\n",
              "      <td>964982224</td>\n",
              "    </tr>\n",
              "    <tr>\n",
              "      <th>3</th>\n",
              "      <td>1</td>\n",
              "      <td>47</td>\n",
              "      <td>5.0</td>\n",
              "      <td>964983815</td>\n",
              "    </tr>\n",
              "    <tr>\n",
              "      <th>4</th>\n",
              "      <td>1</td>\n",
              "      <td>50</td>\n",
              "      <td>5.0</td>\n",
              "      <td>964982931</td>\n",
              "    </tr>\n",
              "    <tr>\n",
              "      <th>5</th>\n",
              "      <td>1</td>\n",
              "      <td>70</td>\n",
              "      <td>3.0</td>\n",
              "      <td>964982400</td>\n",
              "    </tr>\n",
              "    <tr>\n",
              "      <th>6</th>\n",
              "      <td>1</td>\n",
              "      <td>101</td>\n",
              "      <td>5.0</td>\n",
              "      <td>964980868</td>\n",
              "    </tr>\n",
              "    <tr>\n",
              "      <th>7</th>\n",
              "      <td>1</td>\n",
              "      <td>110</td>\n",
              "      <td>4.0</td>\n",
              "      <td>964982176</td>\n",
              "    </tr>\n",
              "    <tr>\n",
              "      <th>8</th>\n",
              "      <td>1</td>\n",
              "      <td>151</td>\n",
              "      <td>5.0</td>\n",
              "      <td>964984041</td>\n",
              "    </tr>\n",
              "    <tr>\n",
              "      <th>9</th>\n",
              "      <td>1</td>\n",
              "      <td>157</td>\n",
              "      <td>5.0</td>\n",
              "      <td>964984100</td>\n",
              "    </tr>\n",
              "  </tbody>\n",
              "</table>\n",
              "</div>"
            ],
            "text/plain": [
              "   userId  movieId  rating  timestamp\n",
              "0       1        1     4.0  964982703\n",
              "1       1        3     4.0  964981247\n",
              "2       1        6     4.0  964982224\n",
              "3       1       47     5.0  964983815\n",
              "4       1       50     5.0  964982931\n",
              "5       1       70     3.0  964982400\n",
              "6       1      101     5.0  964980868\n",
              "7       1      110     4.0  964982176\n",
              "8       1      151     5.0  964984041\n",
              "9       1      157     5.0  964984100"
            ]
          },
          "metadata": {
            "tags": []
          },
          "execution_count": 4
        }
      ]
    },
    {
      "cell_type": "code",
      "metadata": {
        "id": "FKFmbNDg1pVc",
        "colab_type": "code",
        "outputId": "ffa6972c-d234-4c17-9952-05e733bc7c02",
        "colab": {
          "base_uri": "https://localhost:8080/",
          "height": 168
        }
      },
      "source": [
        "df['rating'].describe()"
      ],
      "execution_count": 0,
      "outputs": [
        {
          "output_type": "execute_result",
          "data": {
            "text/plain": [
              "count    100836.000000\n",
              "mean          3.501557\n",
              "std           1.042529\n",
              "min           0.500000\n",
              "25%           3.000000\n",
              "50%           3.500000\n",
              "75%           4.000000\n",
              "max           5.000000\n",
              "Name: rating, dtype: float64"
            ]
          },
          "metadata": {
            "tags": []
          },
          "execution_count": 41
        }
      ]
    },
    {
      "cell_type": "markdown",
      "metadata": {
        "id": "LdmVGu10hwRW",
        "colab_type": "text"
      },
      "source": [
        "**A última medida estatística que vimos na aula passada foi a moda, podemos então construir um Data Frame baseado na sua visualização.**\n",
        "\n",
        "\n"
      ]
    },
    {
      "cell_type": "code",
      "metadata": {
        "id": "uno3Qr4dhklU",
        "colab_type": "code",
        "outputId": "cb0bef97-0569-4049-80ec-9163ba6ee559",
        "colab": {
          "base_uri": "https://localhost:8080/",
          "height": 348
        }
      },
      "source": [
        "#Criando um novo Data Frame\n",
        "notas = pd.DataFrame()\n",
        "#Utilizando o método concat do Pandas para concatenar as notas e as suas frequências respectivas\n",
        "notas = pd.concat([notas, df['rating'].value_counts()], ignore_index=False, axis=1).reset_index()\n",
        "#Renomenando as duas colunas do Data Frame\n",
        "notas.columns= ['notas', 'frequencia']\n",
        "notas"
      ],
      "execution_count": 0,
      "outputs": [
        {
          "output_type": "execute_result",
          "data": {
            "text/html": [
              "<div>\n",
              "<style scoped>\n",
              "    .dataframe tbody tr th:only-of-type {\n",
              "        vertical-align: middle;\n",
              "    }\n",
              "\n",
              "    .dataframe tbody tr th {\n",
              "        vertical-align: top;\n",
              "    }\n",
              "\n",
              "    .dataframe thead th {\n",
              "        text-align: right;\n",
              "    }\n",
              "</style>\n",
              "<table border=\"1\" class=\"dataframe\">\n",
              "  <thead>\n",
              "    <tr style=\"text-align: right;\">\n",
              "      <th></th>\n",
              "      <th>notas</th>\n",
              "      <th>frequencia</th>\n",
              "    </tr>\n",
              "  </thead>\n",
              "  <tbody>\n",
              "    <tr>\n",
              "      <th>0</th>\n",
              "      <td>4.0</td>\n",
              "      <td>26818</td>\n",
              "    </tr>\n",
              "    <tr>\n",
              "      <th>1</th>\n",
              "      <td>3.0</td>\n",
              "      <td>20047</td>\n",
              "    </tr>\n",
              "    <tr>\n",
              "      <th>2</th>\n",
              "      <td>5.0</td>\n",
              "      <td>13211</td>\n",
              "    </tr>\n",
              "    <tr>\n",
              "      <th>3</th>\n",
              "      <td>3.5</td>\n",
              "      <td>13136</td>\n",
              "    </tr>\n",
              "    <tr>\n",
              "      <th>4</th>\n",
              "      <td>4.5</td>\n",
              "      <td>8551</td>\n",
              "    </tr>\n",
              "    <tr>\n",
              "      <th>5</th>\n",
              "      <td>2.0</td>\n",
              "      <td>7551</td>\n",
              "    </tr>\n",
              "    <tr>\n",
              "      <th>6</th>\n",
              "      <td>2.5</td>\n",
              "      <td>5550</td>\n",
              "    </tr>\n",
              "    <tr>\n",
              "      <th>7</th>\n",
              "      <td>1.0</td>\n",
              "      <td>2811</td>\n",
              "    </tr>\n",
              "    <tr>\n",
              "      <th>8</th>\n",
              "      <td>1.5</td>\n",
              "      <td>1791</td>\n",
              "    </tr>\n",
              "    <tr>\n",
              "      <th>9</th>\n",
              "      <td>0.5</td>\n",
              "      <td>1370</td>\n",
              "    </tr>\n",
              "  </tbody>\n",
              "</table>\n",
              "</div>"
            ],
            "text/plain": [
              "   notas  frequencia\n",
              "0    4.0       26818\n",
              "1    3.0       20047\n",
              "2    5.0       13211\n",
              "3    3.5       13136\n",
              "4    4.5        8551\n",
              "5    2.0        7551\n",
              "6    2.5        5550\n",
              "7    1.0        2811\n",
              "8    1.5        1791\n",
              "9    0.5        1370"
            ]
          },
          "metadata": {
            "tags": []
          },
          "execution_count": 7
        }
      ]
    },
    {
      "cell_type": "markdown",
      "metadata": {
        "id": "bHwxJKS2eCrU",
        "colab_type": "text"
      },
      "source": [
        "# Visualizando os Dados Através de Gráficos"
      ]
    },
    {
      "cell_type": "markdown",
      "metadata": {
        "id": "MdS_dJYrtuJq",
        "colab_type": "text"
      },
      "source": [
        "**Histograma**"
      ]
    },
    {
      "cell_type": "code",
      "metadata": {
        "id": "gfDoj7Q3thRP",
        "colab_type": "code",
        "outputId": "fc03395a-eb00-4ea6-8343-e859b61ed919",
        "colab": {
          "base_uri": "https://localhost:8080/",
          "height": 283
        }
      },
      "source": [
        "df['rating'].plot(kind='hist')"
      ],
      "execution_count": 0,
      "outputs": [
        {
          "output_type": "execute_result",
          "data": {
            "text/plain": [
              "<matplotlib.axes._subplots.AxesSubplot at 0x7f7ccbe9b278>"
            ]
          },
          "metadata": {
            "tags": []
          },
          "execution_count": 8
        },
        {
          "output_type": "display_data",
          "data": {
            "image/png": "[encoded data removed]",
            "text/plain": [
              "<Figure size 432x288 with 1 Axes>"
            ]
          },
          "metadata": {
            "tags": [],
            "needs_background": "light"
          }
        }
      ]
    },
    {
      "cell_type": "markdown",
      "metadata": {
        "id": "6gzq0vgoJvZL",
        "colab_type": "text"
      },
      "source": [
        "**Gráfico de Barras Horizontal**"
      ]
    },
    {
      "cell_type": "code",
      "metadata": {
        "id": "FUbVMgh3J6eE",
        "colab_type": "code",
        "outputId": "8846b53b-f2a6-4459-c414-156348326630",
        "colab": {
          "base_uri": "https://localhost:8080/",
          "height": 283
        }
      },
      "source": [
        "  plt.barh(notas.notas, notas.frequencia)"
      ],
      "execution_count": 0,
      "outputs": [
        {
          "output_type": "execute_result",
          "data": {
            "text/plain": [
              "<BarContainer object of 10 artists>"
            ]
          },
          "metadata": {
            "tags": []
          },
          "execution_count": 9
        },
        {
          "output_type": "display_data",
          "data": {
            "image/png": "[encoded data removed]",
            "text/plain": [
              "<Figure size 432x288 with 1 Axes>"
            ]
          },
          "metadata": {
            "tags": [],
            "needs_background": "light"
          }
        }
      ]
    },
    {
      "cell_type": "markdown",
      "metadata": {
        "id": "AdBEMZ8ggNhi",
        "colab_type": "text"
      },
      "source": [
        "**Box-Plot**"
      ]
    },
    {
      "cell_type": "code",
      "metadata": {
        "id": "PCOjBuaWfnNJ",
        "colab_type": "code",
        "outputId": "6343c0d8-2971-4b20-fef2-d81834e71e62",
        "colab": {
          "base_uri": "https://localhost:8080/",
          "height": 410
        }
      },
      "source": [
        "plt.boxplot(df['rating'])"
      ],
      "execution_count": 0,
      "outputs": [
        {
          "output_type": "execute_result",
          "data": {
            "text/plain": [
              "{'boxes': [<matplotlib.lines.Line2D at 0x7f7ccb941a58>],\n",
              " 'caps': [<matplotlib.lines.Line2D at 0x7f7ccb8d04a8>,\n",
              "  <matplotlib.lines.Line2D at 0x7f7ccb8d0828>],\n",
              " 'fliers': [<matplotlib.lines.Line2D at 0x7f7ccb8d0f28>],\n",
              " 'means': [],\n",
              " 'medians': [<matplotlib.lines.Line2D at 0x7f7ccb8d0ba8>],\n",
              " 'whiskers': [<matplotlib.lines.Line2D at 0x7f7ccb941d68>,\n",
              "  <matplotlib.lines.Line2D at 0x7f7ccb8d0128>]}"
            ]
          },
          "metadata": {
            "tags": []
          },
          "execution_count": 10
        },
        {
          "output_type": "display_data",
          "data": {
            "image/png": "[encoded data removed]",
            "text/plain": [
              "<Figure size 432x288 with 1 Axes>"
            ]
          },
          "metadata": {
            "tags": [],
            "needs_background": "light"
          }
        }
      ]
    },
    {
      "cell_type": "markdown",
      "metadata": {
        "id": "jNSiQlDzgTun",
        "colab_type": "text"
      },
      "source": [
        "# Configurando os Gráficos"
      ]
    },
    {
      "cell_type": "markdown",
      "metadata": {
        "id": "GFyLXVK-gZqH",
        "colab_type": "text"
      },
      "source": [
        "Como pode-se observar, é fácil gerar gráficos com a biblioteca matplotlib, no entanto, os gráficos básicos são muito simples, pequenos, e visualmente \"feios\"."
      ]
    },
    {
      "cell_type": "markdown",
      "metadata": {
        "id": "1-7cRiXPgtQC",
        "colab_type": "text"
      },
      "source": [
        "**Podemos melhorar a exibição dos mesmos através de propriedades e métodos da própria biblioteca.**"
      ]
    },
    {
      "cell_type": "code",
      "metadata": {
        "id": "X8QGKiBWg2Tb",
        "colab_type": "code",
        "outputId": "9dba3c99-e95b-4118-d857-4d4c6b3b64eb",
        "colab": {
          "base_uri": "https://localhost:8080/",
          "height": 458
        }
      },
      "source": [
        "#Definir um tamanho para a figura\n",
        "plt.figure(figsize=(12, 7))\n",
        "\n",
        "#Criar o gráfico e alterando a cor padrão\n",
        "df['rating'].plot(kind='hist', color='green')\n",
        "\n",
        "#Atribuir um Título para o Gŕafico\n",
        "plt.title('Gráfico da distribuição de Frequência para as Notas do Site MovieLens')\n",
        "\n",
        "#Configurar os labels do eixo X e Y, respectivamente\n",
        "plt.xlabel('Notas do Site MovieLens')\n",
        "plt.ylabel('Frequência das Notas')\n",
        "\n",
        "#Exibir o Gráfico\n",
        "plt.show()"
      ],
      "execution_count": 0,
      "outputs": [
        {
          "output_type": "display_data",
          "data": {
            "image/png": "[encoded data removed]",
            "text/plain": [
              "<Figure size 864x504 with 1 Axes>"
            ]
          },
          "metadata": {
            "tags": [],
            "needs_background": "light"
          }
        }
      ]
    },
    {
      "cell_type": "code",
      "metadata": {
        "id": "fjLD7o9qhFHf",
        "colab_type": "code",
        "outputId": "c240229c-dd69-4cce-c5c8-3d56b5d75232",
        "colab": {
          "base_uri": "https://localhost:8080/",
          "height": 459
        }
      },
      "source": [
        "#Definir um tamanho para a figura\n",
        "plt.figure(figsize=(12, 7))\n",
        "\n",
        "#Criar o gráfico de barras e alterar a sua cor padrão\n",
        "plt.barh(notas.notas, notas.frequencia, color='orange')\n",
        "\n",
        "#Atribuir um Título para o Gŕafico\n",
        "plt.title('Gráfico de barras com Frequência para as Notas do Site MovieLens')\n",
        "\n",
        "#Configurar os labels do eixo X e Y, respectivamente\n",
        "plt.xlabel('Frequência das Notas')\n",
        "plt.ylabel('Notas do Site MovieLens')\n",
        "\n",
        "#Exibir o Gráfico\n",
        "plt.show()\n"
      ],
      "execution_count": 0,
      "outputs": [
        {
          "output_type": "display_data",
          "data": {
            "image/png": "[encoded data removed]",
            "text/plain": [
              "<Figure size 864x504 with 1 Axes>"
            ]
          },
          "metadata": {
            "tags": [],
            "needs_background": "light"
          }
        }
      ]
    },
    {
      "cell_type": "code",
      "metadata": {
        "id": "WE1piFNfiRX9",
        "colab_type": "code",
        "outputId": "e55b32a2-4d23-4466-c220-56b69bcf5f00",
        "colab": {
          "base_uri": "https://localhost:8080/",
          "height": 444
        }
      },
      "source": [
        "#Definir um tamanho para a figura\n",
        "plt.figure(figsize=(12, 7))\n",
        "\n",
        "#Criar o gráfico box-plot\n",
        "plt.boxplot(df['rating'])\n",
        "\n",
        "#Atribuir um Título para o Gŕafico\n",
        "plt.title('Box-Plot para as Notas do Site MovieLens')\n",
        "\n",
        "#Configurar o label do eixo Y\n",
        "plt.ylabel('Notas do Site MovieLens')\n",
        "\n",
        "#Exibir o Gráfico\n",
        "plt.show()\n"
      ],
      "execution_count": 0,
      "outputs": [
        {
          "output_type": "display_data",
          "data": {
            "image/png": "[encoded data removed]",
            "text/plain": [
              "<Figure size 864x504 with 1 Axes>"
            ]
          },
          "metadata": {
            "tags": [],
            "needs_background": "light"
          }
        }
      ]
    },
    {
      "cell_type": "code",
      "metadata": {
        "id": "-rwqtxKl5m5P",
        "colab_type": "code",
        "colab": {}
      },
      "source": [
        ""
      ],
      "execution_count": 0,
      "outputs": []
    }
  ]
}