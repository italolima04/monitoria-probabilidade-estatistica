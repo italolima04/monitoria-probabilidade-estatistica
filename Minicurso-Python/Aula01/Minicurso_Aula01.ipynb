{
  "nbformat": 4,
  "nbformat_minor": 0,
  "metadata": {
    "colab": {
      "name": "Minicurso_Aula01.ipynb",
      "provenance": [],
      "collapsed_sections": [],
      "authorship_tag": "ABX9TyNuhxis2jDIDXmgbcZeZDM5",
      "include_colab_link": true
    },
    "kernelspec": {
      "name": "python3",
      "display_name": "Python 3"
    }
  },
  "cells": [
    {
      "cell_type": "markdown",
      "metadata": {
        "id": "view-in-github",
        "colab_type": "text"
      },
      "source": [
        "<a href=\"https://colab.research.google.com/github/italolima04/monitoria-probabilidade-estatistica/blob/master/Minicurso-Python/Aula01/Minicurso_Aula01.ipynb\" target=\"_parent\"><img src=\"https://colab.research.google.com/assets/colab-badge.svg\" alt=\"Open In Colab\"/></a>"
      ]
    },
    {
      "cell_type": "markdown",
      "metadata": {
        "id": "LdAAUIGkiEZC",
        "colab_type": "text"
      },
      "source": [
        "# Importando Bibliotecas e Dados\n"
      ]
    },
    {
      "cell_type": "code",
      "metadata": {
        "id": "0BBEsMvSfJDK",
        "colab_type": "code",
        "colab": {}
      },
      "source": [
        "import pandas as pd\n",
        "import numpy as np "
      ],
      "execution_count": 0,
      "outputs": []
    },
    {
      "cell_type": "markdown",
      "metadata": {
        "id": "5pbRGuc3iMa9",
        "colab_type": "text"
      },
      "source": [
        "**Há duas formas de criar um Data Frame a partir de dados CSV**\n",
        "\n",
        "A primeira é mais indireta e detalhada, a segunda é mais direta."
      ]
    },
    {
      "cell_type": "code",
      "metadata": {
        "id": "GCR-fstFhzb4",
        "colab_type": "code",
        "colab": {}
      },
      "source": [
        "url = 'https://raw.githubusercontent.com/alura-cursos/introducao-a-data-science/master/aula0/ml-latest-small/ratings.csv'\n",
        "df = pd.DataFrame()\n",
        "df = pd.read_csv(url)"
      ],
      "execution_count": 0,
      "outputs": []
    },
    {
      "cell_type": "code",
      "metadata": {
        "id": "pBjFN2j_iA7t",
        "colab_type": "code",
        "colab": {}
      },
      "source": [
        "df = pd.read_csv('https://raw.githubusercontent.com/alura-cursos/introducao-a-data-science/master/aula0/ml-latest-small/ratings.csv')"
      ],
      "execution_count": 0,
      "outputs": []
    },
    {
      "cell_type": "markdown",
      "metadata": {
        "id": "v0AwG40sjxI-",
        "colab_type": "text"
      },
      "source": [
        "**Esse conjunto de dados foi disponibilizado pela Alura em um de seus cursos e a base de dados original pertence ao site MovieLens**\n",
        "\n",
        "https://movielens.org/"
      ]
    },
    {
      "cell_type": "markdown",
      "metadata": {
        "id": "ChouZI46icZP",
        "colab_type": "text"
      },
      "source": [
        "# Explorando os Dados"
      ]
    },
    {
      "cell_type": "markdown",
      "metadata": {
        "id": "28zujekiio6i",
        "colab_type": "text"
      },
      "source": [
        "**Para visualizar o Data Frame criado, basta digitar o nome do mesmo e executar a Célula**"
      ]
    },
    {
      "cell_type": "code",
      "metadata": {
        "id": "uESAtvTbigQG",
        "colab_type": "code",
        "outputId": "5408058e-45c0-4f58-f305-f9fa36722f2a",
        "colab": {
          "base_uri": "https://localhost:8080/",
          "height": 419
        }
      },
      "source": [
        "df"
      ],
      "execution_count": 4,
      "outputs": [
        {
          "output_type": "execute_result",
          "data": {
            "text/html": [
              "<div>\n",
              "<style scoped>\n",
              "    .dataframe tbody tr th:only-of-type {\n",
              "        vertical-align: middle;\n",
              "    }\n",
              "\n",
              "    .dataframe tbody tr th {\n",
              "        vertical-align: top;\n",
              "    }\n",
              "\n",
              "    .dataframe thead th {\n",
              "        text-align: right;\n",
              "    }\n",
              "</style>\n",
              "<table border=\"1\" class=\"dataframe\">\n",
              "  <thead>\n",
              "    <tr style=\"text-align: right;\">\n",
              "      <th></th>\n",
              "      <th>userId</th>\n",
              "      <th>movieId</th>\n",
              "      <th>rating</th>\n",
              "      <th>timestamp</th>\n",
              "    </tr>\n",
              "  </thead>\n",
              "  <tbody>\n",
              "    <tr>\n",
              "      <th>0</th>\n",
              "      <td>1</td>\n",
              "      <td>1</td>\n",
              "      <td>4.0</td>\n",
              "      <td>964982703</td>\n",
              "    </tr>\n",
              "    <tr>\n",
              "      <th>1</th>\n",
              "      <td>1</td>\n",
              "      <td>3</td>\n",
              "      <td>4.0</td>\n",
              "      <td>964981247</td>\n",
              "    </tr>\n",
              "    <tr>\n",
              "      <th>2</th>\n",
              "      <td>1</td>\n",
              "      <td>6</td>\n",
              "      <td>4.0</td>\n",
              "      <td>964982224</td>\n",
              "    </tr>\n",
              "    <tr>\n",
              "      <th>3</th>\n",
              "      <td>1</td>\n",
              "      <td>47</td>\n",
              "      <td>5.0</td>\n",
              "      <td>964983815</td>\n",
              "    </tr>\n",
              "    <tr>\n",
              "      <th>4</th>\n",
              "      <td>1</td>\n",
              "      <td>50</td>\n",
              "      <td>5.0</td>\n",
              "      <td>964982931</td>\n",
              "    </tr>\n",
              "    <tr>\n",
              "      <th>...</th>\n",
              "      <td>...</td>\n",
              "      <td>...</td>\n",
              "      <td>...</td>\n",
              "      <td>...</td>\n",
              "    </tr>\n",
              "    <tr>\n",
              "      <th>100831</th>\n",
              "      <td>610</td>\n",
              "      <td>166534</td>\n",
              "      <td>4.0</td>\n",
              "      <td>1493848402</td>\n",
              "    </tr>\n",
              "    <tr>\n",
              "      <th>100832</th>\n",
              "      <td>610</td>\n",
              "      <td>168248</td>\n",
              "      <td>5.0</td>\n",
              "      <td>1493850091</td>\n",
              "    </tr>\n",
              "    <tr>\n",
              "      <th>100833</th>\n",
              "      <td>610</td>\n",
              "      <td>168250</td>\n",
              "      <td>5.0</td>\n",
              "      <td>1494273047</td>\n",
              "    </tr>\n",
              "    <tr>\n",
              "      <th>100834</th>\n",
              "      <td>610</td>\n",
              "      <td>168252</td>\n",
              "      <td>5.0</td>\n",
              "      <td>1493846352</td>\n",
              "    </tr>\n",
              "    <tr>\n",
              "      <th>100835</th>\n",
              "      <td>610</td>\n",
              "      <td>170875</td>\n",
              "      <td>3.0</td>\n",
              "      <td>1493846415</td>\n",
              "    </tr>\n",
              "  </tbody>\n",
              "</table>\n",
              "<p>100836 rows × 4 columns</p>\n",
              "</div>"
            ],
            "text/plain": [
              "        userId  movieId  rating   timestamp\n",
              "0            1        1     4.0   964982703\n",
              "1            1        3     4.0   964981247\n",
              "2            1        6     4.0   964982224\n",
              "3            1       47     5.0   964983815\n",
              "4            1       50     5.0   964982931\n",
              "...        ...      ...     ...         ...\n",
              "100831     610   166534     4.0  1493848402\n",
              "100832     610   168248     5.0  1493850091\n",
              "100833     610   168250     5.0  1494273047\n",
              "100834     610   168252     5.0  1493846352\n",
              "100835     610   170875     3.0  1493846415\n",
              "\n",
              "[100836 rows x 4 columns]"
            ]
          },
          "metadata": {
            "tags": []
          },
          "execution_count": 4
        }
      ]
    },
    {
      "cell_type": "markdown",
      "metadata": {
        "id": "JnON_l13kYnd",
        "colab_type": "text"
      },
      "source": [
        "Esse Dataset é uma amostra de dados criada a partir de votos de usuários em filmes no site MovieLens"
      ]
    },
    {
      "cell_type": "markdown",
      "metadata": {
        "id": "856WLJLwixPs",
        "colab_type": "text"
      },
      "source": [
        "**É possível também visualizar apenas uma parte dos dados**\n",
        "\n",
        "O método head do Pandas retorna as 5 primeiras linhas do Data Frame"
      ]
    },
    {
      "cell_type": "code",
      "metadata": {
        "id": "z15ISlUJijjn",
        "colab_type": "code",
        "outputId": "ea5f09b9-ec9e-41f0-beb2-1545835db4e5",
        "colab": {
          "base_uri": "https://localhost:8080/",
          "height": 204
        }
      },
      "source": [
        "df.head()"
      ],
      "execution_count": 5,
      "outputs": [
        {
          "output_type": "execute_result",
          "data": {
            "text/html": [
              "<div>\n",
              "<style scoped>\n",
              "    .dataframe tbody tr th:only-of-type {\n",
              "        vertical-align: middle;\n",
              "    }\n",
              "\n",
              "    .dataframe tbody tr th {\n",
              "        vertical-align: top;\n",
              "    }\n",
              "\n",
              "    .dataframe thead th {\n",
              "        text-align: right;\n",
              "    }\n",
              "</style>\n",
              "<table border=\"1\" class=\"dataframe\">\n",
              "  <thead>\n",
              "    <tr style=\"text-align: right;\">\n",
              "      <th></th>\n",
              "      <th>userId</th>\n",
              "      <th>movieId</th>\n",
              "      <th>rating</th>\n",
              "      <th>timestamp</th>\n",
              "    </tr>\n",
              "  </thead>\n",
              "  <tbody>\n",
              "    <tr>\n",
              "      <th>0</th>\n",
              "      <td>1</td>\n",
              "      <td>1</td>\n",
              "      <td>4.0</td>\n",
              "      <td>964982703</td>\n",
              "    </tr>\n",
              "    <tr>\n",
              "      <th>1</th>\n",
              "      <td>1</td>\n",
              "      <td>3</td>\n",
              "      <td>4.0</td>\n",
              "      <td>964981247</td>\n",
              "    </tr>\n",
              "    <tr>\n",
              "      <th>2</th>\n",
              "      <td>1</td>\n",
              "      <td>6</td>\n",
              "      <td>4.0</td>\n",
              "      <td>964982224</td>\n",
              "    </tr>\n",
              "    <tr>\n",
              "      <th>3</th>\n",
              "      <td>1</td>\n",
              "      <td>47</td>\n",
              "      <td>5.0</td>\n",
              "      <td>964983815</td>\n",
              "    </tr>\n",
              "    <tr>\n",
              "      <th>4</th>\n",
              "      <td>1</td>\n",
              "      <td>50</td>\n",
              "      <td>5.0</td>\n",
              "      <td>964982931</td>\n",
              "    </tr>\n",
              "  </tbody>\n",
              "</table>\n",
              "</div>"
            ],
            "text/plain": [
              "   userId  movieId  rating  timestamp\n",
              "0       1        1     4.0  964982703\n",
              "1       1        3     4.0  964981247\n",
              "2       1        6     4.0  964982224\n",
              "3       1       47     5.0  964983815\n",
              "4       1       50     5.0  964982931"
            ]
          },
          "metadata": {
            "tags": []
          },
          "execution_count": 5
        }
      ]
    },
    {
      "cell_type": "markdown",
      "metadata": {
        "id": "yPzL5-Tmi6eR",
        "colab_type": "text"
      },
      "source": [
        "**É possível passar como parâmetro do método head a quantidade de linhas a serem exibidas**"
      ]
    },
    {
      "cell_type": "code",
      "metadata": {
        "id": "bSYn3O_0il_2",
        "colab_type": "code",
        "outputId": "3561f5f9-9309-4f04-e6e4-aed06c74ac50",
        "colab": {
          "base_uri": "https://localhost:8080/",
          "height": 359
        }
      },
      "source": [
        "df.head(10)"
      ],
      "execution_count": 6,
      "outputs": [
        {
          "output_type": "execute_result",
          "data": {
            "text/html": [
              "<div>\n",
              "<style scoped>\n",
              "    .dataframe tbody tr th:only-of-type {\n",
              "        vertical-align: middle;\n",
              "    }\n",
              "\n",
              "    .dataframe tbody tr th {\n",
              "        vertical-align: top;\n",
              "    }\n",
              "\n",
              "    .dataframe thead th {\n",
              "        text-align: right;\n",
              "    }\n",
              "</style>\n",
              "<table border=\"1\" class=\"dataframe\">\n",
              "  <thead>\n",
              "    <tr style=\"text-align: right;\">\n",
              "      <th></th>\n",
              "      <th>userId</th>\n",
              "      <th>movieId</th>\n",
              "      <th>rating</th>\n",
              "      <th>timestamp</th>\n",
              "    </tr>\n",
              "  </thead>\n",
              "  <tbody>\n",
              "    <tr>\n",
              "      <th>0</th>\n",
              "      <td>1</td>\n",
              "      <td>1</td>\n",
              "      <td>4.0</td>\n",
              "      <td>964982703</td>\n",
              "    </tr>\n",
              "    <tr>\n",
              "      <th>1</th>\n",
              "      <td>1</td>\n",
              "      <td>3</td>\n",
              "      <td>4.0</td>\n",
              "      <td>964981247</td>\n",
              "    </tr>\n",
              "    <tr>\n",
              "      <th>2</th>\n",
              "      <td>1</td>\n",
              "      <td>6</td>\n",
              "      <td>4.0</td>\n",
              "      <td>964982224</td>\n",
              "    </tr>\n",
              "    <tr>\n",
              "      <th>3</th>\n",
              "      <td>1</td>\n",
              "      <td>47</td>\n",
              "      <td>5.0</td>\n",
              "      <td>964983815</td>\n",
              "    </tr>\n",
              "    <tr>\n",
              "      <th>4</th>\n",
              "      <td>1</td>\n",
              "      <td>50</td>\n",
              "      <td>5.0</td>\n",
              "      <td>964982931</td>\n",
              "    </tr>\n",
              "    <tr>\n",
              "      <th>5</th>\n",
              "      <td>1</td>\n",
              "      <td>70</td>\n",
              "      <td>3.0</td>\n",
              "      <td>964982400</td>\n",
              "    </tr>\n",
              "    <tr>\n",
              "      <th>6</th>\n",
              "      <td>1</td>\n",
              "      <td>101</td>\n",
              "      <td>5.0</td>\n",
              "      <td>964980868</td>\n",
              "    </tr>\n",
              "    <tr>\n",
              "      <th>7</th>\n",
              "      <td>1</td>\n",
              "      <td>110</td>\n",
              "      <td>4.0</td>\n",
              "      <td>964982176</td>\n",
              "    </tr>\n",
              "    <tr>\n",
              "      <th>8</th>\n",
              "      <td>1</td>\n",
              "      <td>151</td>\n",
              "      <td>5.0</td>\n",
              "      <td>964984041</td>\n",
              "    </tr>\n",
              "    <tr>\n",
              "      <th>9</th>\n",
              "      <td>1</td>\n",
              "      <td>157</td>\n",
              "      <td>5.0</td>\n",
              "      <td>964984100</td>\n",
              "    </tr>\n",
              "  </tbody>\n",
              "</table>\n",
              "</div>"
            ],
            "text/plain": [
              "   userId  movieId  rating  timestamp\n",
              "0       1        1     4.0  964982703\n",
              "1       1        3     4.0  964981247\n",
              "2       1        6     4.0  964982224\n",
              "3       1       47     5.0  964983815\n",
              "4       1       50     5.0  964982931\n",
              "5       1       70     3.0  964982400\n",
              "6       1      101     5.0  964980868\n",
              "7       1      110     4.0  964982176\n",
              "8       1      151     5.0  964984041\n",
              "9       1      157     5.0  964984100"
            ]
          },
          "metadata": {
            "tags": []
          },
          "execution_count": 6
        }
      ]
    },
    {
      "cell_type": "markdown",
      "metadata": {
        "id": "cV0iTLgyjEn8",
        "colab_type": "text"
      },
      "source": [
        "**Visualizando a estrutura do Data Frame**\n",
        "\n",
        "O método shape da biblioteca Pandas exibe a estrutura da nossa estrutura de dados bidimensional, ou seja, informa a quantidade de linhas e colunas do Data Frame, nessa ordem respectivamente."
      ]
    },
    {
      "cell_type": "code",
      "metadata": {
        "id": "6wItoYM9jJI_",
        "colab_type": "code",
        "outputId": "362e5498-1e17-4374-bdc7-4db587f9327e",
        "colab": {
          "base_uri": "https://localhost:8080/",
          "height": 34
        }
      },
      "source": [
        "df.shape"
      ],
      "execution_count": 7,
      "outputs": [
        {
          "output_type": "execute_result",
          "data": {
            "text/plain": [
              "(100836, 4)"
            ]
          },
          "metadata": {
            "tags": []
          },
          "execution_count": 7
        }
      ]
    },
    {
      "cell_type": "markdown",
      "metadata": {
        "id": "Z7fjJLuVjrCK",
        "colab_type": "text"
      },
      "source": [
        "# Manipulando os Dados"
      ]
    },
    {
      "cell_type": "markdown",
      "metadata": {
        "id": "sMgt9Xgqk6D8",
        "colab_type": "text"
      },
      "source": [
        "**Por se tratar de um dataset com votos para filmes, seria interessante conhecermos a escala utilizada para as notas**\n",
        "\n",
        "Podemos começar descobrindo a nota máxima e a mínima."
      ]
    },
    {
      "cell_type": "markdown",
      "metadata": {
        "id": "GMWYYLGno1M0",
        "colab_type": "text"
      },
      "source": [
        "**Os [ ] são utilizados para desestruturar o Data Frame, ou seja, assim acessamos apenas alguma(s) coluna(s) em específico**\n"
      ]
    },
    {
      "cell_type": "code",
      "metadata": {
        "id": "M4w5_DH8juij",
        "colab_type": "code",
        "outputId": "ee67fe9a-dc94-4b4a-bbbb-c9245d20a653",
        "colab": {
          "base_uri": "https://localhost:8080/",
          "height": 34
        }
      },
      "source": [
        "#O método max() da biblioteca Numpy retorna o maior valor de uma Series\n",
        "df['rating'].max()"
      ],
      "execution_count": 8,
      "outputs": [
        {
          "output_type": "execute_result",
          "data": {
            "text/plain": [
              "5.0"
            ]
          },
          "metadata": {
            "tags": []
          },
          "execution_count": 8
        }
      ]
    },
    {
      "cell_type": "code",
      "metadata": {
        "id": "rtRlsMRYlY9V",
        "colab_type": "code",
        "outputId": "06c13879-04ca-4375-c516-af08d15915e3",
        "colab": {
          "base_uri": "https://localhost:8080/",
          "height": 34
        }
      },
      "source": [
        "#O método min() da biblioteca Numpy retorna o menor valor de uma Series\n",
        "df['rating'].min()"
      ],
      "execution_count": 9,
      "outputs": [
        {
          "output_type": "execute_result",
          "data": {
            "text/plain": [
              "0.5"
            ]
          },
          "metadata": {
            "tags": []
          },
          "execution_count": 9
        }
      ]
    },
    {
      "cell_type": "markdown",
      "metadata": {
        "id": "amzbzMr7l6Rt",
        "colab_type": "text"
      },
      "source": [
        "Agora já conhecemos a maior e menor nota, no entanto, não sabemos quais são as notas únicas que um usuário pode atribuir."
      ]
    },
    {
      "cell_type": "code",
      "metadata": {
        "id": "OJ4-BjhNmPFq",
        "colab_type": "code",
        "outputId": "e3e245ab-e93c-4a03-9193-e52a72111ea4",
        "colab": {
          "base_uri": "https://localhost:8080/",
          "height": 34
        }
      },
      "source": [
        "#O método unique() do Pandas retorna os valores únicos para uma Series\n",
        "df['rating'].unique()"
      ],
      "execution_count": 10,
      "outputs": [
        {
          "output_type": "execute_result",
          "data": {
            "text/plain": [
              "array([4. , 5. , 3. , 2. , 1. , 4.5, 3.5, 2.5, 0.5, 1.5])"
            ]
          },
          "metadata": {
            "tags": []
          },
          "execution_count": 10
        }
      ]
    },
    {
      "cell_type": "markdown",
      "metadata": {
        "id": "mneDDfUdmkdY",
        "colab_type": "text"
      },
      "source": [
        "# Aplicando Conceitos de Estatística\n"
      ]
    },
    {
      "cell_type": "markdown",
      "metadata": {
        "id": "3aQPU93FnDF4",
        "colab_type": "text"
      },
      "source": [
        "**Podemos observar algumas medidas de tendência central e de posição**"
      ]
    },
    {
      "cell_type": "markdown",
      "metadata": {
        "id": "plh0F41lnSpn",
        "colab_type": "text"
      },
      "source": [
        "A partir das notas, podemos visualizar a média, mediana, desvio padrão e os quartis. "
      ]
    },
    {
      "cell_type": "code",
      "metadata": {
        "id": "LoI27xMKmqFc",
        "colab_type": "code",
        "outputId": "da3f4761-db73-4072-b5d6-7464ee88a4f7",
        "colab": {
          "base_uri": "https://localhost:8080/",
          "height": 170
        }
      },
      "source": [
        "#Método do Pandas para descrição estatística dos dados\n",
        "df['rating'].describe()"
      ],
      "execution_count": 11,
      "outputs": [
        {
          "output_type": "execute_result",
          "data": {
            "text/plain": [
              "count    100836.000000\n",
              "mean          3.501557\n",
              "std           1.042529\n",
              "min           0.500000\n",
              "25%           3.000000\n",
              "50%           3.500000\n",
              "75%           4.000000\n",
              "max           5.000000\n",
              "Name: rating, dtype: float64"
            ]
          },
          "metadata": {
            "tags": []
          },
          "execution_count": 11
        }
      ]
    },
    {
      "cell_type": "markdown",
      "metadata": {
        "id": "66K1ZukVnsnX",
        "colab_type": "text"
      },
      "source": [
        "**count** = Quantidade de linhas da coluna 'rating'.\n",
        "\n",
        "**mean** = Média de todas as notas.\n",
        "\n",
        "**std** = Desvio padrão para todas as notas.\n",
        "\n",
        "**min** = Entrada miníma, ou seja: menor nota atribuída.\n",
        "\n",
        "**25**% = 1º Quartil dos dados.\n",
        "\n",
        "**50**% = 2º Quartil dos dados e respectivamente a mediana.\n",
        "\n",
        "**75**% = 3º Quartil dos dados.\n",
        "\n",
        "**max** = Entrada máxima, ou seja: maior nota atribuída."
      ]
    },
    {
      "cell_type": "markdown",
      "metadata": {
        "id": "LCGjYRFuHFk3",
        "colab_type": "text"
      },
      "source": [
        "**Uma primeira possível observação que podemos fazer é que os nossos dados apresentam uma \"baixa\" variação, destacada pelo valor desvio padrão.**"
      ]
    },
    {
      "cell_type": "markdown",
      "metadata": {
        "id": "R0j5H-T-HR2v",
        "colab_type": "text"
      },
      "source": [
        "Uma possível explicação é que o site apresenta uma escala delimitada e relativamente pequena (0.5 - 5)"
      ]
    },
    {
      "cell_type": "markdown",
      "metadata": {
        "id": "1JROuyNppJOu",
        "colab_type": "text"
      },
      "source": [
        "**Temos a média e a mediana, é possível descobrir a moda ?**"
      ]
    },
    {
      "cell_type": "code",
      "metadata": {
        "id": "K0a-TNeasbks",
        "colab_type": "code",
        "outputId": "71ef2ed5-12d7-407f-fb1e-f7c68d9a42ff",
        "colab": {
          "base_uri": "https://localhost:8080/",
          "height": 204
        }
      },
      "source": [
        "#Utilizando o método value_counts para retornar a frequência na qual cada nota aparece.\n",
        "df['rating'].value_counts()"
      ],
      "execution_count": 12,
      "outputs": [
        {
          "output_type": "execute_result",
          "data": {
            "text/plain": [
              "4.0    26818\n",
              "3.0    20047\n",
              "5.0    13211\n",
              "3.5    13136\n",
              "4.5     8551\n",
              "2.0     7551\n",
              "2.5     5550\n",
              "1.0     2811\n",
              "1.5     1791\n",
              "0.5     1370\n",
              "Name: rating, dtype: int64"
            ]
          },
          "metadata": {
            "tags": []
          },
          "execution_count": 12
        }
      ]
    },
    {
      "cell_type": "markdown",
      "metadata": {
        "id": "pl7rxrWDs8xf",
        "colab_type": "text"
      },
      "source": [
        "**Assim, percebemos que a nota 4 foi a que apareceu mais vezes, portanto é a moda para esses dados**"
      ]
    },
    {
      "cell_type": "markdown",
      "metadata": {
        "id": "iZqUodLgthGa",
        "colab_type": "text"
      },
      "source": [
        "# Visualizando os dados através de Gráficos"
      ]
    },
    {
      "cell_type": "markdown",
      "metadata": {
        "id": "MdS_dJYrtuJq",
        "colab_type": "text"
      },
      "source": [
        "**Histograma**"
      ]
    },
    {
      "cell_type": "code",
      "metadata": {
        "id": "gfDoj7Q3thRP",
        "colab_type": "code",
        "outputId": "f3ac287f-5d38-4da3-fe56-acd7ed8739c8",
        "colab": {
          "base_uri": "https://localhost:8080/",
          "height": 282
        }
      },
      "source": [
        "df['rating'].plot(kind='hist')"
      ],
      "execution_count": 13,
      "outputs": [
        {
          "output_type": "execute_result",
          "data": {
            "text/plain": [
              "<matplotlib.axes._subplots.AxesSubplot at 0x7ffb920ebf28>"
            ]
          },
          "metadata": {
            "tags": []
          },
          "execution_count": 13
        },
        {
          "output_type": "display_data",
          "data": {
            "image/png": "[encoded data removed]",
            "text/plain": [
              "<Figure size 432x288 with 1 Axes>"
            ]
          },
          "metadata": {
            "tags": [],
            "needs_background": "light"
          }
        }
      ]
    },
    {
      "cell_type": "code",
      "metadata": {
        "id": "26JFzzT7vFjI",
        "colab_type": "code",
        "outputId": "df8f5f20-e9cb-4314-facf-87c51e002bc3",
        "colab": {
          "base_uri": "https://localhost:8080/",
          "height": 359
        }
      },
      "source": [
        "#Criando um novo Data Frame\n",
        "notas = pd.DataFrame()\n",
        "#Utilizando o método concat do Pandas para concatenar as notas e as suas frequências respectivas\n",
        "notas = pd.concat([notas, df['rating'].value_counts()], ignore_index=False, axis=1).reset_index()\n",
        "#Renomenando as duas colunas do Data Frame\n",
        "notas.columns= ['notas', 'frequencia']\n",
        "notas"
      ],
      "execution_count": 14,
      "outputs": [
        {
          "output_type": "execute_result",
          "data": {
            "text/html": [
              "<div>\n",
              "<style scoped>\n",
              "    .dataframe tbody tr th:only-of-type {\n",
              "        vertical-align: middle;\n",
              "    }\n",
              "\n",
              "    .dataframe tbody tr th {\n",
              "        vertical-align: top;\n",
              "    }\n",
              "\n",
              "    .dataframe thead th {\n",
              "        text-align: right;\n",
              "    }\n",
              "</style>\n",
              "<table border=\"1\" class=\"dataframe\">\n",
              "  <thead>\n",
              "    <tr style=\"text-align: right;\">\n",
              "      <th></th>\n",
              "      <th>notas</th>\n",
              "      <th>frequencia</th>\n",
              "    </tr>\n",
              "  </thead>\n",
              "  <tbody>\n",
              "    <tr>\n",
              "      <th>0</th>\n",
              "      <td>4.0</td>\n",
              "      <td>26818</td>\n",
              "    </tr>\n",
              "    <tr>\n",
              "      <th>1</th>\n",
              "      <td>3.0</td>\n",
              "      <td>20047</td>\n",
              "    </tr>\n",
              "    <tr>\n",
              "      <th>2</th>\n",
              "      <td>5.0</td>\n",
              "      <td>13211</td>\n",
              "    </tr>\n",
              "    <tr>\n",
              "      <th>3</th>\n",
              "      <td>3.5</td>\n",
              "      <td>13136</td>\n",
              "    </tr>\n",
              "    <tr>\n",
              "      <th>4</th>\n",
              "      <td>4.5</td>\n",
              "      <td>8551</td>\n",
              "    </tr>\n",
              "    <tr>\n",
              "      <th>5</th>\n",
              "      <td>2.0</td>\n",
              "      <td>7551</td>\n",
              "    </tr>\n",
              "    <tr>\n",
              "      <th>6</th>\n",
              "      <td>2.5</td>\n",
              "      <td>5550</td>\n",
              "    </tr>\n",
              "    <tr>\n",
              "      <th>7</th>\n",
              "      <td>1.0</td>\n",
              "      <td>2811</td>\n",
              "    </tr>\n",
              "    <tr>\n",
              "      <th>8</th>\n",
              "      <td>1.5</td>\n",
              "      <td>1791</td>\n",
              "    </tr>\n",
              "    <tr>\n",
              "      <th>9</th>\n",
              "      <td>0.5</td>\n",
              "      <td>1370</td>\n",
              "    </tr>\n",
              "  </tbody>\n",
              "</table>\n",
              "</div>"
            ],
            "text/plain": [
              "   notas  frequencia\n",
              "0    4.0       26818\n",
              "1    3.0       20047\n",
              "2    5.0       13211\n",
              "3    3.5       13136\n",
              "4    4.5        8551\n",
              "5    2.0        7551\n",
              "6    2.5        5550\n",
              "7    1.0        2811\n",
              "8    1.5        1791\n",
              "9    0.5        1370"
            ]
          },
          "metadata": {
            "tags": []
          },
          "execution_count": 14
        }
      ]
    },
    {
      "cell_type": "markdown",
      "metadata": {
        "id": "6gzq0vgoJvZL",
        "colab_type": "text"
      },
      "source": [
        "**Gráfico de Barras Horizontal**"
      ]
    },
    {
      "cell_type": "markdown",
      "metadata": {
        "id": "Fe-EulFXKtxI",
        "colab_type": "text"
      },
      "source": [
        "Podemos utilizar uma outra biblioteca do Python, esta é focada na visualização de dados."
      ]
    },
    {
      "cell_type": "code",
      "metadata": {
        "id": "9WxyYqbY3-P7",
        "colab_type": "code",
        "colab": {}
      },
      "source": [
        "#Importando biblitoecas Matplotlib\n",
        "import matplotlib.pyplot as plt\n"
      ],
      "execution_count": 0,
      "outputs": []
    },
    {
      "cell_type": "code",
      "metadata": {
        "id": "FUbVMgh3J6eE",
        "colab_type": "code",
        "colab": {
          "base_uri": "https://localhost:8080/",
          "height": 282
        },
        "outputId": "e0221db8-1a49-46b2-e9f1-441234b21d1a"
      },
      "source": [
        "plt.barh(notas.notas, notas.frequencia)"
      ],
      "execution_count": 22,
      "outputs": [
        {
          "output_type": "execute_result",
          "data": {
            "text/plain": [
              "<BarContainer object of 10 artists>"
            ]
          },
          "metadata": {
            "tags": []
          },
          "execution_count": 22
        },
        {
          "output_type": "display_data",
          "data": {
            "image/png": "[encoded data removed]",
            "text/plain": [
              "<Figure size 432x288 with 1 Axes>"
            ]
          },
          "metadata": {
            "tags": [],
            "needs_background": "light"
          }
        }
      ]
    },
    {
      "cell_type": "markdown",
      "metadata": {
        "id": "ytyIUtzXK7RZ",
        "colab_type": "text"
      },
      "source": [
        "Repare que, os gráficos acima apesar de fáceis de plotar não possuem uma visualização tão límpida por uma série de fatores, com a biblioteca matplotlib podemos melhorar e detalhar essa visualização."
      ]
    },
    {
      "cell_type": "markdown",
      "metadata": {
        "id": "Gklkww2LLL7C",
        "colab_type": "text"
      },
      "source": [
        "**Configurando Gráfico com Matplotlib**"
      ]
    },
    {
      "cell_type": "markdown",
      "metadata": {
        "id": "DrZ8v5WjLjiE",
        "colab_type": "text"
      },
      "source": [
        "Como exemplo, iremos utilizar o histograma, já apresentado acima."
      ]
    },
    {
      "cell_type": "code",
      "metadata": {
        "id": "hTGTFJ9JKIFC",
        "colab_type": "code",
        "colab": {
          "base_uri": "https://localhost:8080/",
          "height": 513
        },
        "outputId": "db20a644-82e2-4ab7-80c1-45a5e5a0b43f"
      },
      "source": [
        "#Definir um tamanho para a figura\n",
        "plt.figure(figsize=(14,8))\n",
        "\n",
        "#Criar o gráfico e alterando a cor padrão\n",
        "df['rating'].plot(kind='hist', color='green')\n",
        "\n",
        "#Atribuir um Título para o Gŕafico\n",
        "plt.title('Gráfico da distribuição de Frequência para as Notas do Site MovieLens')\n",
        "\n",
        "#Configurar os labels do eixo X e Y, respectivamente\n",
        "plt.xlabel('Notas do Site MovieLens')\n",
        "plt.ylabel('Frequência das Notas')\n",
        "\n",
        "#Exibir o Gráfico\n",
        "plt.show()"
      ],
      "execution_count": 30,
      "outputs": [
        {
          "output_type": "display_data",
          "data": {
            "image/png": "[encoded data removed]",
            "text/plain": [
              "<Figure size 1008x576 with 1 Axes>"
            ]
          },
          "metadata": {
            "tags": [],
            "needs_background": "light"
          }
        }
      ]
    }
  ]
}